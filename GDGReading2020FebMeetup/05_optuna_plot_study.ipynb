{
 "cells": [
  {
   "cell_type": "markdown",
   "metadata": {
    "colab_type": "text",
    "id": "view-in-github"
   },
   "source": [
    "<a href=\"https://colab.research.google.com/github/optuna/optuna/blob/master/examples/visualization/plot_study.ipynb\" target=\"_parent\"><img src=\"https://colab.research.google.com/assets/colab-badge.svg\" alt=\"Open In Colab\"/></a>"
   ]
  },
  {
   "cell_type": "markdown",
   "metadata": {
    "colab_type": "text",
    "id": "-YU0qvAUUoPD"
   },
   "source": [
    "Notebook cloned from Optuna repository\n",
    "\n",
    "# Visualizing High-dimensional Parameter Relationships\n",
    "\n",
    "This notebook demonstrates various visualizations of studies in Optuna.\n",
    "The hyperparameters of a neural network trained to classify images are optimized and the resulting study is then visualized using these features.\n",
    "\n",
    "**Note:** If a parameter contains missing values, a trial with missing values is not plotted."
   ]
  },
  {
   "cell_type": "code",
   "execution_count": 2,
   "metadata": {
    "colab": {},
    "colab_type": "code",
    "id": "M3Nw2LeUUoPG"
   },
   "outputs": [],
   "source": [
    "# If you run this notebook on Google Colaboratory, uncomment the below to install Optuna.\n",
    "! pip install --quiet optuna"
   ]
  },
  {
   "cell_type": "markdown",
   "metadata": {
    "colab_type": "text",
    "id": "MuXQ4o1IUoPI"
   },
   "source": [
    "## Preparing the Dataset"
   ]
  },
  {
   "cell_type": "code",
   "execution_count": 3,
   "metadata": {
    "colab": {},
    "colab_type": "code",
    "id": "Rd6d39oiUoPJ"
   },
   "outputs": [],
   "source": [
    "from sklearn.datasets import fetch_openml\n",
    "from sklearn.model_selection import train_test_split\n",
    "\n",
    "mnist = fetch_openml(name='Fashion-MNIST', version=1)\n",
    "classes = list(set(mnist.target))\n",
    "\n",
    "# For demonstrational purpose, only use a subset of the dataset.\n",
    "n_samples = 4000\n",
    "data = mnist.data[:n_samples]\n",
    "target = mnist.target[:n_samples]\n",
    "\n",
    "x_train, x_test, y_train, y_test = train_test_split(data, target)"
   ]
  },
  {
   "cell_type": "markdown",
   "metadata": {
    "colab_type": "text",
    "id": "TLAXcsikUoPL"
   },
   "source": [
    "## Defining the Objective Function"
   ]
  },
  {
   "cell_type": "code",
   "execution_count": 4,
   "metadata": {
    "colab": {},
    "colab_type": "code",
    "id": "muYLe1cnUoPL"
   },
   "outputs": [],
   "source": [
    "from sklearn.neural_network import MLPClassifier\n",
    "\n",
    "def objective(trial):\n",
    "    \n",
    "    clf = MLPClassifier(\n",
    "        hidden_layer_sizes=tuple([trial.suggest_int(f'n_units_l{i}', 32, 64) for i in range(3)]),\n",
    "        learning_rate_init=trial.suggest_loguniform('lr_init', 1e-5, 1e-1),\n",
    "    )\n",
    "\n",
    "    for step in range(100):\n",
    "        clf.partial_fit(x_train, y_train, classes=classes)\n",
    "        value = clf.score(x_test, y_test)  \n",
    "        \n",
    "        # Report intermediate objective value.\n",
    "        trial.report(value, step)\n",
    "\n",
    "        # Handle pruning based on the intermediate value.\n",
    "        if trial.should_prune(step):\n",
    "            raise optuna.exceptions.TrialPruned()  \n",
    "\n",
    "    return value"
   ]
  },
  {
   "cell_type": "markdown",
   "metadata": {
    "colab_type": "text",
    "id": "LiOUN44QUoPN"
   },
   "source": [
    "## Running the Optimization"
   ]
  },
  {
   "cell_type": "code",
   "execution_count": 5,
   "metadata": {
    "colab": {},
    "colab_type": "code",
    "id": "S4uHKpGBUoPO"
   },
   "outputs": [],
   "source": [
    "import optuna\n",
    "\n",
    "optuna.logging.set_verbosity(optuna.logging.WARNING)  # This verbosity change is just to simplify the notebook output.\n",
    "\n",
    "study = optuna.create_study(direction='maximize', pruner=optuna.pruners.MedianPruner())\n",
    "study.optimize(objective, n_trials=100)"
   ]
  },
  {
   "cell_type": "markdown",
   "metadata": {
    "colab_type": "text",
    "id": "xVaPfRIvUoPP"
   },
   "source": [
    "## Visualizing the Optimization History"
   ]
  },
  {
   "cell_type": "code",
   "execution_count": 7,
   "metadata": {
    "colab": {},
    "colab_type": "code",
    "id": "3CrP76NHUoPQ"
   },
   "outputs": [
    {
     "data": {
      "application/vnd.plotly.v1+json": {
       "config": {
        "plotlyServerURL": "https://plot.ly"
       },
       "data": [
        {
         "mode": "markers",
         "name": "Objective Value",
         "type": "scatter",
         "x": [
          0,
          1,
          2,
          3,
          4,
          6,
          8,
          9,
          11,
          12,
          15,
          20,
          21,
          22,
          29,
          31,
          35,
          43,
          65,
          68,
          77,
          81,
          84,
          85,
          86,
          96
         ],
         "y": [
          0.77,
          0.697,
          0.724,
          0.286,
          0.749,
          0.758,
          0.802,
          0.765,
          0.801,
          0.796,
          0.781,
          0.781,
          0.779,
          0.771,
          0.752,
          0.787,
          0.814,
          0.79,
          0.806,
          0.797,
          0.788,
          0.781,
          0.793,
          0.787,
          0.779,
          0.764
         ]
        },
        {
         "name": "Best Value",
         "type": "scatter",
         "x": [
          0,
          1,
          2,
          3,
          4,
          6,
          8,
          9,
          11,
          12,
          15,
          20,
          21,
          22,
          29,
          31,
          35,
          43,
          65,
          68,
          77,
          81,
          84,
          85,
          86,
          96
         ],
         "y": [
          0.77,
          0.77,
          0.77,
          0.77,
          0.77,
          0.77,
          0.802,
          0.802,
          0.802,
          0.802,
          0.802,
          0.802,
          0.802,
          0.802,
          0.802,
          0.802,
          0.814,
          0.814,
          0.814,
          0.814,
          0.814,
          0.814,
          0.814,
          0.814,
          0.814,
          0.814
         ]
        }
       ],
       "layout": {
        "template": {
         "data": {
          "bar": [
           {
            "error_x": {
             "color": "#2a3f5f"
            },
            "error_y": {
             "color": "#2a3f5f"
            },
            "marker": {
             "line": {
              "color": "#E5ECF6",
              "width": 0.5
             }
            },
            "type": "bar"
           }
          ],
          "barpolar": [
           {
            "marker": {
             "line": {
              "color": "#E5ECF6",
              "width": 0.5
             }
            },
            "type": "barpolar"
           }
          ],
          "carpet": [
           {
            "aaxis": {
             "endlinecolor": "#2a3f5f",
             "gridcolor": "white",
             "linecolor": "white",
             "minorgridcolor": "white",
             "startlinecolor": "#2a3f5f"
            },
            "baxis": {
             "endlinecolor": "#2a3f5f",
             "gridcolor": "white",
             "linecolor": "white",
             "minorgridcolor": "white",
             "startlinecolor": "#2a3f5f"
            },
            "type": "carpet"
           }
          ],
          "choropleth": [
           {
            "colorbar": {
             "outlinewidth": 0,
             "ticks": ""
            },
            "type": "choropleth"
           }
          ],
          "contour": [
           {
            "colorbar": {
             "outlinewidth": 0,
             "ticks": ""
            },
            "colorscale": [
             [
              0,
              "#0d0887"
             ],
             [
              0.1111111111111111,
              "#46039f"
             ],
             [
              0.2222222222222222,
              "#7201a8"
             ],
             [
              0.3333333333333333,
              "#9c179e"
             ],
             [
              0.4444444444444444,
              "#bd3786"
             ],
             [
              0.5555555555555556,
              "#d8576b"
             ],
             [
              0.6666666666666666,
              "#ed7953"
             ],
             [
              0.7777777777777778,
              "#fb9f3a"
             ],
             [
              0.8888888888888888,
              "#fdca26"
             ],
             [
              1,
              "#f0f921"
             ]
            ],
            "type": "contour"
           }
          ],
          "contourcarpet": [
           {
            "colorbar": {
             "outlinewidth": 0,
             "ticks": ""
            },
            "type": "contourcarpet"
           }
          ],
          "heatmap": [
           {
            "colorbar": {
             "outlinewidth": 0,
             "ticks": ""
            },
            "colorscale": [
             [
              0,
              "#0d0887"
             ],
             [
              0.1111111111111111,
              "#46039f"
             ],
             [
              0.2222222222222222,
              "#7201a8"
             ],
             [
              0.3333333333333333,
              "#9c179e"
             ],
             [
              0.4444444444444444,
              "#bd3786"
             ],
             [
              0.5555555555555556,
              "#d8576b"
             ],
             [
              0.6666666666666666,
              "#ed7953"
             ],
             [
              0.7777777777777778,
              "#fb9f3a"
             ],
             [
              0.8888888888888888,
              "#fdca26"
             ],
             [
              1,
              "#f0f921"
             ]
            ],
            "type": "heatmap"
           }
          ],
          "heatmapgl": [
           {
            "colorbar": {
             "outlinewidth": 0,
             "ticks": ""
            },
            "colorscale": [
             [
              0,
              "#0d0887"
             ],
             [
              0.1111111111111111,
              "#46039f"
             ],
             [
              0.2222222222222222,
              "#7201a8"
             ],
             [
              0.3333333333333333,
              "#9c179e"
             ],
             [
              0.4444444444444444,
              "#bd3786"
             ],
             [
              0.5555555555555556,
              "#d8576b"
             ],
             [
              0.6666666666666666,
              "#ed7953"
             ],
             [
              0.7777777777777778,
              "#fb9f3a"
             ],
             [
              0.8888888888888888,
              "#fdca26"
             ],
             [
              1,
              "#f0f921"
             ]
            ],
            "type": "heatmapgl"
           }
          ],
          "histogram": [
           {
            "marker": {
             "colorbar": {
              "outlinewidth": 0,
              "ticks": ""
             }
            },
            "type": "histogram"
           }
          ],
          "histogram2d": [
           {
            "colorbar": {
             "outlinewidth": 0,
             "ticks": ""
            },
            "colorscale": [
             [
              0,
              "#0d0887"
             ],
             [
              0.1111111111111111,
              "#46039f"
             ],
             [
              0.2222222222222222,
              "#7201a8"
             ],
             [
              0.3333333333333333,
              "#9c179e"
             ],
             [
              0.4444444444444444,
              "#bd3786"
             ],
             [
              0.5555555555555556,
              "#d8576b"
             ],
             [
              0.6666666666666666,
              "#ed7953"
             ],
             [
              0.7777777777777778,
              "#fb9f3a"
             ],
             [
              0.8888888888888888,
              "#fdca26"
             ],
             [
              1,
              "#f0f921"
             ]
            ],
            "type": "histogram2d"
           }
          ],
          "histogram2dcontour": [
           {
            "colorbar": {
             "outlinewidth": 0,
             "ticks": ""
            },
            "colorscale": [
             [
              0,
              "#0d0887"
             ],
             [
              0.1111111111111111,
              "#46039f"
             ],
             [
              0.2222222222222222,
              "#7201a8"
             ],
             [
              0.3333333333333333,
              "#9c179e"
             ],
             [
              0.4444444444444444,
              "#bd3786"
             ],
             [
              0.5555555555555556,
              "#d8576b"
             ],
             [
              0.6666666666666666,
              "#ed7953"
             ],
             [
              0.7777777777777778,
              "#fb9f3a"
             ],
             [
              0.8888888888888888,
              "#fdca26"
             ],
             [
              1,
              "#f0f921"
             ]
            ],
            "type": "histogram2dcontour"
           }
          ],
          "mesh3d": [
           {
            "colorbar": {
             "outlinewidth": 0,
             "ticks": ""
            },
            "type": "mesh3d"
           }
          ],
          "parcoords": [
           {
            "line": {
             "colorbar": {
              "outlinewidth": 0,
              "ticks": ""
             }
            },
            "type": "parcoords"
           }
          ],
          "pie": [
           {
            "automargin": true,
            "type": "pie"
           }
          ],
          "scatter": [
           {
            "marker": {
             "colorbar": {
              "outlinewidth": 0,
              "ticks": ""
             }
            },
            "type": "scatter"
           }
          ],
          "scatter3d": [
           {
            "line": {
             "colorbar": {
              "outlinewidth": 0,
              "ticks": ""
             }
            },
            "marker": {
             "colorbar": {
              "outlinewidth": 0,
              "ticks": ""
             }
            },
            "type": "scatter3d"
           }
          ],
          "scattercarpet": [
           {
            "marker": {
             "colorbar": {
              "outlinewidth": 0,
              "ticks": ""
             }
            },
            "type": "scattercarpet"
           }
          ],
          "scattergeo": [
           {
            "marker": {
             "colorbar": {
              "outlinewidth": 0,
              "ticks": ""
             }
            },
            "type": "scattergeo"
           }
          ],
          "scattergl": [
           {
            "marker": {
             "colorbar": {
              "outlinewidth": 0,
              "ticks": ""
             }
            },
            "type": "scattergl"
           }
          ],
          "scattermapbox": [
           {
            "marker": {
             "colorbar": {
              "outlinewidth": 0,
              "ticks": ""
             }
            },
            "type": "scattermapbox"
           }
          ],
          "scatterpolar": [
           {
            "marker": {
             "colorbar": {
              "outlinewidth": 0,
              "ticks": ""
             }
            },
            "type": "scatterpolar"
           }
          ],
          "scatterpolargl": [
           {
            "marker": {
             "colorbar": {
              "outlinewidth": 0,
              "ticks": ""
             }
            },
            "type": "scatterpolargl"
           }
          ],
          "scatterternary": [
           {
            "marker": {
             "colorbar": {
              "outlinewidth": 0,
              "ticks": ""
             }
            },
            "type": "scatterternary"
           }
          ],
          "surface": [
           {
            "colorbar": {
             "outlinewidth": 0,
             "ticks": ""
            },
            "colorscale": [
             [
              0,
              "#0d0887"
             ],
             [
              0.1111111111111111,
              "#46039f"
             ],
             [
              0.2222222222222222,
              "#7201a8"
             ],
             [
              0.3333333333333333,
              "#9c179e"
             ],
             [
              0.4444444444444444,
              "#bd3786"
             ],
             [
              0.5555555555555556,
              "#d8576b"
             ],
             [
              0.6666666666666666,
              "#ed7953"
             ],
             [
              0.7777777777777778,
              "#fb9f3a"
             ],
             [
              0.8888888888888888,
              "#fdca26"
             ],
             [
              1,
              "#f0f921"
             ]
            ],
            "type": "surface"
           }
          ],
          "table": [
           {
            "cells": {
             "fill": {
              "color": "#EBF0F8"
             },
             "line": {
              "color": "white"
             }
            },
            "header": {
             "fill": {
              "color": "#C8D4E3"
             },
             "line": {
              "color": "white"
             }
            },
            "type": "table"
           }
          ]
         },
         "layout": {
          "annotationdefaults": {
           "arrowcolor": "#2a3f5f",
           "arrowhead": 0,
           "arrowwidth": 1
          },
          "coloraxis": {
           "colorbar": {
            "outlinewidth": 0,
            "ticks": ""
           }
          },
          "colorscale": {
           "diverging": [
            [
             0,
             "#8e0152"
            ],
            [
             0.1,
             "#c51b7d"
            ],
            [
             0.2,
             "#de77ae"
            ],
            [
             0.3,
             "#f1b6da"
            ],
            [
             0.4,
             "#fde0ef"
            ],
            [
             0.5,
             "#f7f7f7"
            ],
            [
             0.6,
             "#e6f5d0"
            ],
            [
             0.7,
             "#b8e186"
            ],
            [
             0.8,
             "#7fbc41"
            ],
            [
             0.9,
             "#4d9221"
            ],
            [
             1,
             "#276419"
            ]
           ],
           "sequential": [
            [
             0,
             "#0d0887"
            ],
            [
             0.1111111111111111,
             "#46039f"
            ],
            [
             0.2222222222222222,
             "#7201a8"
            ],
            [
             0.3333333333333333,
             "#9c179e"
            ],
            [
             0.4444444444444444,
             "#bd3786"
            ],
            [
             0.5555555555555556,
             "#d8576b"
            ],
            [
             0.6666666666666666,
             "#ed7953"
            ],
            [
             0.7777777777777778,
             "#fb9f3a"
            ],
            [
             0.8888888888888888,
             "#fdca26"
            ],
            [
             1,
             "#f0f921"
            ]
           ],
           "sequentialminus": [
            [
             0,
             "#0d0887"
            ],
            [
             0.1111111111111111,
             "#46039f"
            ],
            [
             0.2222222222222222,
             "#7201a8"
            ],
            [
             0.3333333333333333,
             "#9c179e"
            ],
            [
             0.4444444444444444,
             "#bd3786"
            ],
            [
             0.5555555555555556,
             "#d8576b"
            ],
            [
             0.6666666666666666,
             "#ed7953"
            ],
            [
             0.7777777777777778,
             "#fb9f3a"
            ],
            [
             0.8888888888888888,
             "#fdca26"
            ],
            [
             1,
             "#f0f921"
            ]
           ]
          },
          "colorway": [
           "#636efa",
           "#EF553B",
           "#00cc96",
           "#ab63fa",
           "#FFA15A",
           "#19d3f3",
           "#FF6692",
           "#B6E880",
           "#FF97FF",
           "#FECB52"
          ],
          "font": {
           "color": "#2a3f5f"
          },
          "geo": {
           "bgcolor": "white",
           "lakecolor": "white",
           "landcolor": "#E5ECF6",
           "showlakes": true,
           "showland": true,
           "subunitcolor": "white"
          },
          "hoverlabel": {
           "align": "left"
          },
          "hovermode": "closest",
          "mapbox": {
           "style": "light"
          },
          "paper_bgcolor": "white",
          "plot_bgcolor": "#E5ECF6",
          "polar": {
           "angularaxis": {
            "gridcolor": "white",
            "linecolor": "white",
            "ticks": ""
           },
           "bgcolor": "#E5ECF6",
           "radialaxis": {
            "gridcolor": "white",
            "linecolor": "white",
            "ticks": ""
           }
          },
          "scene": {
           "xaxis": {
            "backgroundcolor": "#E5ECF6",
            "gridcolor": "white",
            "gridwidth": 2,
            "linecolor": "white",
            "showbackground": true,
            "ticks": "",
            "zerolinecolor": "white"
           },
           "yaxis": {
            "backgroundcolor": "#E5ECF6",
            "gridcolor": "white",
            "gridwidth": 2,
            "linecolor": "white",
            "showbackground": true,
            "ticks": "",
            "zerolinecolor": "white"
           },
           "zaxis": {
            "backgroundcolor": "#E5ECF6",
            "gridcolor": "white",
            "gridwidth": 2,
            "linecolor": "white",
            "showbackground": true,
            "ticks": "",
            "zerolinecolor": "white"
           }
          },
          "shapedefaults": {
           "line": {
            "color": "#2a3f5f"
           }
          },
          "ternary": {
           "aaxis": {
            "gridcolor": "white",
            "linecolor": "white",
            "ticks": ""
           },
           "baxis": {
            "gridcolor": "white",
            "linecolor": "white",
            "ticks": ""
           },
           "bgcolor": "#E5ECF6",
           "caxis": {
            "gridcolor": "white",
            "linecolor": "white",
            "ticks": ""
           }
          },
          "title": {
           "x": 0.05
          },
          "xaxis": {
           "automargin": true,
           "gridcolor": "white",
           "linecolor": "white",
           "ticks": "",
           "title": {
            "standoff": 15
           },
           "zerolinecolor": "white",
           "zerolinewidth": 2
          },
          "yaxis": {
           "automargin": true,
           "gridcolor": "white",
           "linecolor": "white",
           "ticks": "",
           "title": {
            "standoff": 15
           },
           "zerolinecolor": "white",
           "zerolinewidth": 2
          }
         }
        },
        "title": {
         "text": "Optimization History Plot"
        },
        "xaxis": {
         "title": {
          "text": "#Trials"
         }
        },
        "yaxis": {
         "title": {
          "text": "Objective Value"
         }
        }
       }
      },
      "text/html": [
       "<div>\n",
       "        \n",
       "        \n",
       "            <div id=\"e2ae984d-090c-4599-9c0e-915bf7ec4dd0\" class=\"plotly-graph-div\" style=\"height:525px; width:100%;\"></div>\n",
       "            <script type=\"text/javascript\">\n",
       "                require([\"plotly\"], function(Plotly) {\n",
       "                    window.PLOTLYENV=window.PLOTLYENV || {};\n",
       "                    \n",
       "                if (document.getElementById(\"e2ae984d-090c-4599-9c0e-915bf7ec4dd0\")) {\n",
       "                    Plotly.newPlot(\n",
       "                        'e2ae984d-090c-4599-9c0e-915bf7ec4dd0',\n",
       "                        [{\"mode\": \"markers\", \"name\": \"Objective Value\", \"type\": \"scatter\", \"x\": [0, 1, 2, 3, 4, 6, 8, 9, 11, 12, 15, 20, 21, 22, 29, 31, 35, 43, 65, 68, 77, 81, 84, 85, 86, 96], \"y\": [0.77, 0.697, 0.724, 0.286, 0.749, 0.758, 0.802, 0.765, 0.801, 0.796, 0.781, 0.781, 0.779, 0.771, 0.752, 0.787, 0.814, 0.79, 0.806, 0.797, 0.788, 0.781, 0.793, 0.787, 0.779, 0.764]}, {\"name\": \"Best Value\", \"type\": \"scatter\", \"x\": [0, 1, 2, 3, 4, 6, 8, 9, 11, 12, 15, 20, 21, 22, 29, 31, 35, 43, 65, 68, 77, 81, 84, 85, 86, 96], \"y\": [0.77, 0.77, 0.77, 0.77, 0.77, 0.77, 0.802, 0.802, 0.802, 0.802, 0.802, 0.802, 0.802, 0.802, 0.802, 0.802, 0.814, 0.814, 0.814, 0.814, 0.814, 0.814, 0.814, 0.814, 0.814, 0.814]}],\n",
       "                        {\"template\": {\"data\": {\"bar\": [{\"error_x\": {\"color\": \"#2a3f5f\"}, \"error_y\": {\"color\": \"#2a3f5f\"}, \"marker\": {\"line\": {\"color\": \"#E5ECF6\", \"width\": 0.5}}, \"type\": \"bar\"}], \"barpolar\": [{\"marker\": {\"line\": {\"color\": \"#E5ECF6\", \"width\": 0.5}}, \"type\": \"barpolar\"}], \"carpet\": [{\"aaxis\": {\"endlinecolor\": \"#2a3f5f\", \"gridcolor\": \"white\", \"linecolor\": \"white\", \"minorgridcolor\": \"white\", \"startlinecolor\": \"#2a3f5f\"}, \"baxis\": {\"endlinecolor\": \"#2a3f5f\", \"gridcolor\": \"white\", \"linecolor\": \"white\", \"minorgridcolor\": \"white\", \"startlinecolor\": \"#2a3f5f\"}, \"type\": \"carpet\"}], \"choropleth\": [{\"colorbar\": {\"outlinewidth\": 0, \"ticks\": \"\"}, \"type\": \"choropleth\"}], \"contour\": [{\"colorbar\": {\"outlinewidth\": 0, \"ticks\": \"\"}, \"colorscale\": [[0.0, \"#0d0887\"], [0.1111111111111111, \"#46039f\"], [0.2222222222222222, \"#7201a8\"], [0.3333333333333333, \"#9c179e\"], [0.4444444444444444, \"#bd3786\"], [0.5555555555555556, \"#d8576b\"], [0.6666666666666666, \"#ed7953\"], [0.7777777777777778, \"#fb9f3a\"], [0.8888888888888888, \"#fdca26\"], [1.0, \"#f0f921\"]], \"type\": \"contour\"}], \"contourcarpet\": [{\"colorbar\": {\"outlinewidth\": 0, \"ticks\": \"\"}, \"type\": \"contourcarpet\"}], \"heatmap\": [{\"colorbar\": {\"outlinewidth\": 0, \"ticks\": \"\"}, \"colorscale\": [[0.0, \"#0d0887\"], [0.1111111111111111, \"#46039f\"], [0.2222222222222222, \"#7201a8\"], [0.3333333333333333, \"#9c179e\"], [0.4444444444444444, \"#bd3786\"], [0.5555555555555556, \"#d8576b\"], [0.6666666666666666, \"#ed7953\"], [0.7777777777777778, \"#fb9f3a\"], [0.8888888888888888, \"#fdca26\"], [1.0, \"#f0f921\"]], \"type\": \"heatmap\"}], \"heatmapgl\": [{\"colorbar\": {\"outlinewidth\": 0, \"ticks\": \"\"}, \"colorscale\": [[0.0, \"#0d0887\"], [0.1111111111111111, \"#46039f\"], [0.2222222222222222, \"#7201a8\"], [0.3333333333333333, \"#9c179e\"], [0.4444444444444444, \"#bd3786\"], [0.5555555555555556, \"#d8576b\"], [0.6666666666666666, \"#ed7953\"], [0.7777777777777778, \"#fb9f3a\"], [0.8888888888888888, \"#fdca26\"], [1.0, \"#f0f921\"]], \"type\": \"heatmapgl\"}], \"histogram\": [{\"marker\": {\"colorbar\": {\"outlinewidth\": 0, \"ticks\": \"\"}}, \"type\": \"histogram\"}], \"histogram2d\": [{\"colorbar\": {\"outlinewidth\": 0, \"ticks\": \"\"}, \"colorscale\": [[0.0, \"#0d0887\"], [0.1111111111111111, \"#46039f\"], [0.2222222222222222, \"#7201a8\"], [0.3333333333333333, \"#9c179e\"], [0.4444444444444444, \"#bd3786\"], [0.5555555555555556, \"#d8576b\"], [0.6666666666666666, \"#ed7953\"], [0.7777777777777778, \"#fb9f3a\"], [0.8888888888888888, \"#fdca26\"], [1.0, \"#f0f921\"]], \"type\": \"histogram2d\"}], \"histogram2dcontour\": [{\"colorbar\": {\"outlinewidth\": 0, \"ticks\": \"\"}, \"colorscale\": [[0.0, \"#0d0887\"], [0.1111111111111111, \"#46039f\"], [0.2222222222222222, \"#7201a8\"], [0.3333333333333333, \"#9c179e\"], [0.4444444444444444, \"#bd3786\"], [0.5555555555555556, \"#d8576b\"], [0.6666666666666666, \"#ed7953\"], [0.7777777777777778, \"#fb9f3a\"], [0.8888888888888888, \"#fdca26\"], [1.0, \"#f0f921\"]], \"type\": \"histogram2dcontour\"}], \"mesh3d\": [{\"colorbar\": {\"outlinewidth\": 0, \"ticks\": \"\"}, \"type\": \"mesh3d\"}], \"parcoords\": [{\"line\": {\"colorbar\": {\"outlinewidth\": 0, \"ticks\": \"\"}}, \"type\": \"parcoords\"}], \"pie\": [{\"automargin\": true, \"type\": \"pie\"}], \"scatter\": [{\"marker\": {\"colorbar\": {\"outlinewidth\": 0, \"ticks\": \"\"}}, \"type\": \"scatter\"}], \"scatter3d\": [{\"line\": {\"colorbar\": {\"outlinewidth\": 0, \"ticks\": \"\"}}, \"marker\": {\"colorbar\": {\"outlinewidth\": 0, \"ticks\": \"\"}}, \"type\": \"scatter3d\"}], \"scattercarpet\": [{\"marker\": {\"colorbar\": {\"outlinewidth\": 0, \"ticks\": \"\"}}, \"type\": \"scattercarpet\"}], \"scattergeo\": [{\"marker\": {\"colorbar\": {\"outlinewidth\": 0, \"ticks\": \"\"}}, \"type\": \"scattergeo\"}], \"scattergl\": [{\"marker\": {\"colorbar\": {\"outlinewidth\": 0, \"ticks\": \"\"}}, \"type\": \"scattergl\"}], \"scattermapbox\": [{\"marker\": {\"colorbar\": {\"outlinewidth\": 0, \"ticks\": \"\"}}, \"type\": \"scattermapbox\"}], \"scatterpolar\": [{\"marker\": {\"colorbar\": {\"outlinewidth\": 0, \"ticks\": \"\"}}, \"type\": \"scatterpolar\"}], \"scatterpolargl\": [{\"marker\": {\"colorbar\": {\"outlinewidth\": 0, \"ticks\": \"\"}}, \"type\": \"scatterpolargl\"}], \"scatterternary\": [{\"marker\": {\"colorbar\": {\"outlinewidth\": 0, \"ticks\": \"\"}}, \"type\": \"scatterternary\"}], \"surface\": [{\"colorbar\": {\"outlinewidth\": 0, \"ticks\": \"\"}, \"colorscale\": [[0.0, \"#0d0887\"], [0.1111111111111111, \"#46039f\"], [0.2222222222222222, \"#7201a8\"], [0.3333333333333333, \"#9c179e\"], [0.4444444444444444, \"#bd3786\"], [0.5555555555555556, \"#d8576b\"], [0.6666666666666666, \"#ed7953\"], [0.7777777777777778, \"#fb9f3a\"], [0.8888888888888888, \"#fdca26\"], [1.0, \"#f0f921\"]], \"type\": \"surface\"}], \"table\": [{\"cells\": {\"fill\": {\"color\": \"#EBF0F8\"}, \"line\": {\"color\": \"white\"}}, \"header\": {\"fill\": {\"color\": \"#C8D4E3\"}, \"line\": {\"color\": \"white\"}}, \"type\": \"table\"}]}, \"layout\": {\"annotationdefaults\": {\"arrowcolor\": \"#2a3f5f\", \"arrowhead\": 0, \"arrowwidth\": 1}, \"coloraxis\": {\"colorbar\": {\"outlinewidth\": 0, \"ticks\": \"\"}}, \"colorscale\": {\"diverging\": [[0, \"#8e0152\"], [0.1, \"#c51b7d\"], [0.2, \"#de77ae\"], [0.3, \"#f1b6da\"], [0.4, \"#fde0ef\"], [0.5, \"#f7f7f7\"], [0.6, \"#e6f5d0\"], [0.7, \"#b8e186\"], [0.8, \"#7fbc41\"], [0.9, \"#4d9221\"], [1, \"#276419\"]], \"sequential\": [[0.0, \"#0d0887\"], [0.1111111111111111, \"#46039f\"], [0.2222222222222222, \"#7201a8\"], [0.3333333333333333, \"#9c179e\"], [0.4444444444444444, \"#bd3786\"], [0.5555555555555556, \"#d8576b\"], [0.6666666666666666, \"#ed7953\"], [0.7777777777777778, \"#fb9f3a\"], [0.8888888888888888, \"#fdca26\"], [1.0, \"#f0f921\"]], \"sequentialminus\": [[0.0, \"#0d0887\"], [0.1111111111111111, \"#46039f\"], [0.2222222222222222, \"#7201a8\"], [0.3333333333333333, \"#9c179e\"], [0.4444444444444444, \"#bd3786\"], [0.5555555555555556, \"#d8576b\"], [0.6666666666666666, \"#ed7953\"], [0.7777777777777778, \"#fb9f3a\"], [0.8888888888888888, \"#fdca26\"], [1.0, \"#f0f921\"]]}, \"colorway\": [\"#636efa\", \"#EF553B\", \"#00cc96\", \"#ab63fa\", \"#FFA15A\", \"#19d3f3\", \"#FF6692\", \"#B6E880\", \"#FF97FF\", \"#FECB52\"], \"font\": {\"color\": \"#2a3f5f\"}, \"geo\": {\"bgcolor\": \"white\", \"lakecolor\": \"white\", \"landcolor\": \"#E5ECF6\", \"showlakes\": true, \"showland\": true, \"subunitcolor\": \"white\"}, \"hoverlabel\": {\"align\": \"left\"}, \"hovermode\": \"closest\", \"mapbox\": {\"style\": \"light\"}, \"paper_bgcolor\": \"white\", \"plot_bgcolor\": \"#E5ECF6\", \"polar\": {\"angularaxis\": {\"gridcolor\": \"white\", \"linecolor\": \"white\", \"ticks\": \"\"}, \"bgcolor\": \"#E5ECF6\", \"radialaxis\": {\"gridcolor\": \"white\", \"linecolor\": \"white\", \"ticks\": \"\"}}, \"scene\": {\"xaxis\": {\"backgroundcolor\": \"#E5ECF6\", \"gridcolor\": \"white\", \"gridwidth\": 2, \"linecolor\": \"white\", \"showbackground\": true, \"ticks\": \"\", \"zerolinecolor\": \"white\"}, \"yaxis\": {\"backgroundcolor\": \"#E5ECF6\", \"gridcolor\": \"white\", \"gridwidth\": 2, \"linecolor\": \"white\", \"showbackground\": true, \"ticks\": \"\", \"zerolinecolor\": \"white\"}, \"zaxis\": {\"backgroundcolor\": \"#E5ECF6\", \"gridcolor\": \"white\", \"gridwidth\": 2, \"linecolor\": \"white\", \"showbackground\": true, \"ticks\": \"\", \"zerolinecolor\": \"white\"}}, \"shapedefaults\": {\"line\": {\"color\": \"#2a3f5f\"}}, \"ternary\": {\"aaxis\": {\"gridcolor\": \"white\", \"linecolor\": \"white\", \"ticks\": \"\"}, \"baxis\": {\"gridcolor\": \"white\", \"linecolor\": \"white\", \"ticks\": \"\"}, \"bgcolor\": \"#E5ECF6\", \"caxis\": {\"gridcolor\": \"white\", \"linecolor\": \"white\", \"ticks\": \"\"}}, \"title\": {\"x\": 0.05}, \"xaxis\": {\"automargin\": true, \"gridcolor\": \"white\", \"linecolor\": \"white\", \"ticks\": \"\", \"title\": {\"standoff\": 15}, \"zerolinecolor\": \"white\", \"zerolinewidth\": 2}, \"yaxis\": {\"automargin\": true, \"gridcolor\": \"white\", \"linecolor\": \"white\", \"ticks\": \"\", \"title\": {\"standoff\": 15}, \"zerolinecolor\": \"white\", \"zerolinewidth\": 2}}}, \"title\": {\"text\": \"Optimization History Plot\"}, \"xaxis\": {\"title\": {\"text\": \"#Trials\"}}, \"yaxis\": {\"title\": {\"text\": \"Objective Value\"}}},\n",
       "                        {\"responsive\": true}\n",
       "                    ).then(function(){\n",
       "                            \n",
       "var gd = document.getElementById('e2ae984d-090c-4599-9c0e-915bf7ec4dd0');\n",
       "var x = new MutationObserver(function (mutations, observer) {{\n",
       "        var display = window.getComputedStyle(gd).display;\n",
       "        if (!display || display === 'none') {{\n",
       "            console.log([gd, 'removed!']);\n",
       "            Plotly.purge(gd);\n",
       "            observer.disconnect();\n",
       "        }}\n",
       "}});\n",
       "\n",
       "// Listen for the removal of the full notebook cells\n",
       "var notebookContainer = gd.closest('#notebook-container');\n",
       "if (notebookContainer) {{\n",
       "    x.observe(notebookContainer, {childList: true});\n",
       "}}\n",
       "\n",
       "// Listen for the clearing of the current output cell\n",
       "var outputEl = gd.closest('.output');\n",
       "if (outputEl) {{\n",
       "    x.observe(outputEl, {childList: true});\n",
       "}}\n",
       "\n",
       "                        })\n",
       "                };\n",
       "                });\n",
       "            </script>\n",
       "        </div>"
      ]
     },
     "metadata": {},
     "output_type": "display_data"
    }
   ],
   "source": [
    "from optuna.visualization import plot_optimization_history\n",
    "\n",
    "plot_optimization_history(study)"
   ]
  },
  {
   "cell_type": "markdown",
   "metadata": {
    "colab_type": "text",
    "id": "OJKHKl40UoPR"
   },
   "source": [
    "## Visualizing the Learning Curves of the Trials"
   ]
  },
  {
   "cell_type": "code",
   "execution_count": 8,
   "metadata": {
    "colab": {},
    "colab_type": "code",
    "id": "i3CiV88pUoPS"
   },
   "outputs": [
    {
     "data": {
      "application/vnd.plotly.v1+json": {
       "config": {
        "plotlyServerURL": "https://plot.ly"
       },
       "data": [
        {
         "marker": {
          "maxdisplayed": 10
         },
         "mode": "lines+markers",
         "name": "Trial0",
         "type": "scatter",
         "x": [
          0,
          1,
          2,
          3,
          4,
          5,
          6,
          7,
          8,
          9,
          10,
          11,
          12,
          13,
          14,
          15,
          16,
          17,
          18,
          19,
          20,
          21,
          22,
          23,
          24,
          25,
          26,
          27,
          28,
          29,
          30,
          31,
          32,
          33,
          34,
          35,
          36,
          37,
          38,
          39,
          40,
          41,
          42,
          43,
          44,
          45,
          46,
          47,
          48,
          49,
          50,
          51,
          52,
          53,
          54,
          55,
          56,
          57,
          58,
          59,
          60,
          61,
          62,
          63,
          64,
          65,
          66,
          67,
          68,
          69,
          70,
          71,
          72,
          73,
          74,
          75,
          76,
          77,
          78,
          79,
          80,
          81,
          82,
          83,
          84,
          85,
          86,
          87,
          88,
          89,
          90,
          91,
          92,
          93,
          94,
          95,
          96,
          97,
          98,
          99
         ],
         "y": [
          0.504,
          0.633,
          0.624,
          0.653,
          0.664,
          0.68,
          0.698,
          0.699,
          0.706,
          0.703,
          0.69,
          0.708,
          0.716,
          0.732,
          0.722,
          0.73,
          0.728,
          0.731,
          0.746,
          0.743,
          0.724,
          0.745,
          0.738,
          0.753,
          0.753,
          0.734,
          0.745,
          0.745,
          0.76,
          0.759,
          0.755,
          0.755,
          0.722,
          0.745,
          0.762,
          0.762,
          0.766,
          0.747,
          0.751,
          0.764,
          0.763,
          0.762,
          0.764,
          0.746,
          0.761,
          0.76,
          0.759,
          0.754,
          0.752,
          0.762,
          0.764,
          0.78,
          0.766,
          0.757,
          0.758,
          0.77,
          0.748,
          0.771,
          0.768,
          0.764,
          0.766,
          0.759,
          0.767,
          0.765,
          0.765,
          0.754,
          0.766,
          0.768,
          0.765,
          0.766,
          0.764,
          0.764,
          0.769,
          0.752,
          0.756,
          0.753,
          0.758,
          0.762,
          0.751,
          0.775,
          0.771,
          0.773,
          0.773,
          0.771,
          0.756,
          0.755,
          0.762,
          0.762,
          0.762,
          0.759,
          0.764,
          0.764,
          0.772,
          0.769,
          0.761,
          0.764,
          0.779,
          0.769,
          0.767,
          0.77
         ]
        },
        {
         "marker": {
          "maxdisplayed": 10
         },
         "mode": "lines+markers",
         "name": "Trial1",
         "type": "scatter",
         "x": [
          0,
          1,
          2,
          3,
          4,
          5,
          6,
          7,
          8,
          9,
          10,
          11,
          12,
          13,
          14,
          15,
          16,
          17,
          18,
          19,
          20,
          21,
          22,
          23,
          24,
          25,
          26,
          27,
          28,
          29,
          30,
          31,
          32,
          33,
          34,
          35,
          36,
          37,
          38,
          39,
          40,
          41,
          42,
          43,
          44,
          45,
          46,
          47,
          48,
          49,
          50,
          51,
          52,
          53,
          54,
          55,
          56,
          57,
          58,
          59,
          60,
          61,
          62,
          63,
          64,
          65,
          66,
          67,
          68,
          69,
          70,
          71,
          72,
          73,
          74,
          75,
          76,
          77,
          78,
          79,
          80,
          81,
          82,
          83,
          84,
          85,
          86,
          87,
          88,
          89,
          90,
          91,
          92,
          93,
          94,
          95,
          96,
          97,
          98,
          99
         ],
         "y": [
          0.126,
          0.158,
          0.146,
          0.195,
          0.278,
          0.328,
          0.357,
          0.379,
          0.404,
          0.431,
          0.453,
          0.464,
          0.475,
          0.485,
          0.492,
          0.503,
          0.5,
          0.52,
          0.522,
          0.535,
          0.539,
          0.543,
          0.549,
          0.559,
          0.565,
          0.572,
          0.576,
          0.587,
          0.591,
          0.6,
          0.604,
          0.61,
          0.613,
          0.61,
          0.616,
          0.622,
          0.621,
          0.618,
          0.624,
          0.626,
          0.629,
          0.628,
          0.635,
          0.633,
          0.641,
          0.642,
          0.641,
          0.642,
          0.647,
          0.646,
          0.648,
          0.652,
          0.651,
          0.653,
          0.655,
          0.659,
          0.66,
          0.659,
          0.662,
          0.662,
          0.663,
          0.669,
          0.67,
          0.671,
          0.672,
          0.679,
          0.674,
          0.679,
          0.68,
          0.679,
          0.676,
          0.681,
          0.682,
          0.682,
          0.68,
          0.681,
          0.68,
          0.68,
          0.683,
          0.684,
          0.683,
          0.687,
          0.683,
          0.683,
          0.688,
          0.688,
          0.692,
          0.689,
          0.689,
          0.691,
          0.692,
          0.691,
          0.688,
          0.69,
          0.691,
          0.696,
          0.695,
          0.693,
          0.694,
          0.697
         ]
        },
        {
         "marker": {
          "maxdisplayed": 10
         },
         "mode": "lines+markers",
         "name": "Trial2",
         "type": "scatter",
         "x": [
          0,
          1,
          2,
          3,
          4,
          5,
          6,
          7,
          8,
          9,
          10,
          11,
          12,
          13,
          14,
          15,
          16,
          17,
          18,
          19,
          20,
          21,
          22,
          23,
          24,
          25,
          26,
          27,
          28,
          29,
          30,
          31,
          32,
          33,
          34,
          35,
          36,
          37,
          38,
          39,
          40,
          41,
          42,
          43,
          44,
          45,
          46,
          47,
          48,
          49,
          50,
          51,
          52,
          53,
          54,
          55,
          56,
          57,
          58,
          59,
          60,
          61,
          62,
          63,
          64,
          65,
          66,
          67,
          68,
          69,
          70,
          71,
          72,
          73,
          74,
          75,
          76,
          77,
          78,
          79,
          80,
          81,
          82,
          83,
          84,
          85,
          86,
          87,
          88,
          89,
          90,
          91,
          92,
          93,
          94,
          95,
          96,
          97,
          98,
          99
         ],
         "y": [
          0.319,
          0.287,
          0.394,
          0.416,
          0.44,
          0.465,
          0.503,
          0.555,
          0.544,
          0.538,
          0.555,
          0.565,
          0.584,
          0.596,
          0.585,
          0.616,
          0.591,
          0.6,
          0.654,
          0.656,
          0.632,
          0.677,
          0.677,
          0.661,
          0.692,
          0.675,
          0.699,
          0.696,
          0.688,
          0.695,
          0.698,
          0.693,
          0.704,
          0.658,
          0.7,
          0.679,
          0.591,
          0.643,
          0.607,
          0.658,
          0.68,
          0.698,
          0.707,
          0.71,
          0.701,
          0.715,
          0.684,
          0.654,
          0.69,
          0.705,
          0.705,
          0.673,
          0.703,
          0.705,
          0.707,
          0.706,
          0.711,
          0.698,
          0.694,
          0.706,
          0.69,
          0.694,
          0.703,
          0.708,
          0.711,
          0.722,
          0.699,
          0.7,
          0.701,
          0.714,
          0.721,
          0.712,
          0.731,
          0.722,
          0.708,
          0.564,
          0.672,
          0.647,
          0.7,
          0.705,
          0.705,
          0.727,
          0.731,
          0.726,
          0.717,
          0.72,
          0.731,
          0.715,
          0.729,
          0.709,
          0.731,
          0.715,
          0.729,
          0.726,
          0.735,
          0.724,
          0.727,
          0.734,
          0.718,
          0.724
         ]
        },
        {
         "marker": {
          "maxdisplayed": 10
         },
         "mode": "lines+markers",
         "name": "Trial3",
         "type": "scatter",
         "x": [
          0,
          1,
          2,
          3,
          4,
          5,
          6,
          7,
          8,
          9,
          10,
          11,
          12,
          13,
          14,
          15,
          16,
          17,
          18,
          19,
          20,
          21,
          22,
          23,
          24,
          25,
          26,
          27,
          28,
          29,
          30,
          31,
          32,
          33,
          34,
          35,
          36,
          37,
          38,
          39,
          40,
          41,
          42,
          43,
          44,
          45,
          46,
          47,
          48,
          49,
          50,
          51,
          52,
          53,
          54,
          55,
          56,
          57,
          58,
          59,
          60,
          61,
          62,
          63,
          64,
          65,
          66,
          67,
          68,
          69,
          70,
          71,
          72,
          73,
          74,
          75,
          76,
          77,
          78,
          79,
          80,
          81,
          82,
          83,
          84,
          85,
          86,
          87,
          88,
          89,
          90,
          91,
          92,
          93,
          94,
          95,
          96,
          97,
          98,
          99
         ],
         "y": [
          0.198,
          0.144,
          0.137,
          0.169,
          0.193,
          0.192,
          0.188,
          0.192,
          0.204,
          0.209,
          0.212,
          0.219,
          0.084,
          0.099,
          0.142,
          0.182,
          0.204,
          0.209,
          0.209,
          0.208,
          0.213,
          0.206,
          0.211,
          0.204,
          0.213,
          0.218,
          0.226,
          0.228,
          0.149,
          0.237,
          0.26,
          0.266,
          0.234,
          0.263,
          0.264,
          0.255,
          0.201,
          0.233,
          0.262,
          0.269,
          0.283,
          0.271,
          0.27,
          0.233,
          0.284,
          0.278,
          0.298,
          0.273,
          0.29,
          0.286,
          0.265,
          0.273,
          0.289,
          0.3,
          0.302,
          0.269,
          0.294,
          0.286,
          0.301,
          0.306,
          0.309,
          0.305,
          0.29,
          0.22,
          0.273,
          0.299,
          0.249,
          0.236,
          0.258,
          0.274,
          0.276,
          0.249,
          0.26,
          0.284,
          0.313,
          0.313,
          0.261,
          0.291,
          0.303,
          0.31,
          0.308,
          0.294,
          0.299,
          0.315,
          0.306,
          0.284,
          0.3,
          0.286,
          0.257,
          0.286,
          0.305,
          0.297,
          0.269,
          0.302,
          0.292,
          0.27,
          0.274,
          0.309,
          0.311,
          0.286
         ]
        },
        {
         "marker": {
          "maxdisplayed": 10
         },
         "mode": "lines+markers",
         "name": "Trial4",
         "type": "scatter",
         "x": [
          0,
          1,
          2,
          3,
          4,
          5,
          6,
          7,
          8,
          9,
          10,
          11,
          12,
          13,
          14,
          15,
          16,
          17,
          18,
          19,
          20,
          21,
          22,
          23,
          24,
          25,
          26,
          27,
          28,
          29,
          30,
          31,
          32,
          33,
          34,
          35,
          36,
          37,
          38,
          39,
          40,
          41,
          42,
          43,
          44,
          45,
          46,
          47,
          48,
          49,
          50,
          51,
          52,
          53,
          54,
          55,
          56,
          57,
          58,
          59,
          60,
          61,
          62,
          63,
          64,
          65,
          66,
          67,
          68,
          69,
          70,
          71,
          72,
          73,
          74,
          75,
          76,
          77,
          78,
          79,
          80,
          81,
          82,
          83,
          84,
          85,
          86,
          87,
          88,
          89,
          90,
          91,
          92,
          93,
          94,
          95,
          96,
          97,
          98,
          99
         ],
         "y": [
          0.362,
          0.48,
          0.494,
          0.577,
          0.537,
          0.573,
          0.636,
          0.596,
          0.633,
          0.655,
          0.609,
          0.648,
          0.648,
          0.66,
          0.656,
          0.685,
          0.666,
          0.706,
          0.687,
          0.678,
          0.698,
          0.697,
          0.706,
          0.719,
          0.713,
          0.722,
          0.715,
          0.73,
          0.673,
          0.733,
          0.722,
          0.73,
          0.713,
          0.747,
          0.706,
          0.744,
          0.737,
          0.732,
          0.728,
          0.724,
          0.739,
          0.728,
          0.732,
          0.738,
          0.735,
          0.75,
          0.731,
          0.724,
          0.753,
          0.744,
          0.748,
          0.757,
          0.746,
          0.72,
          0.753,
          0.756,
          0.738,
          0.754,
          0.733,
          0.757,
          0.753,
          0.756,
          0.746,
          0.75,
          0.727,
          0.739,
          0.748,
          0.735,
          0.748,
          0.759,
          0.748,
          0.762,
          0.75,
          0.751,
          0.758,
          0.716,
          0.745,
          0.757,
          0.761,
          0.751,
          0.753,
          0.761,
          0.759,
          0.752,
          0.762,
          0.759,
          0.76,
          0.778,
          0.761,
          0.762,
          0.766,
          0.762,
          0.784,
          0.771,
          0.768,
          0.772,
          0.756,
          0.756,
          0.764,
          0.749
         ]
        },
        {
         "marker": {
          "maxdisplayed": 10
         },
         "mode": "lines+markers",
         "name": "Trial5",
         "type": "scatter",
         "x": [
          0,
          1
         ],
         "y": [
          0.129,
          0.1
         ]
        },
        {
         "marker": {
          "maxdisplayed": 10
         },
         "mode": "lines+markers",
         "name": "Trial6",
         "type": "scatter",
         "x": [
          0,
          1,
          2,
          3,
          4,
          5,
          6,
          7,
          8,
          9,
          10,
          11,
          12,
          13,
          14,
          15,
          16,
          17,
          18,
          19,
          20,
          21,
          22,
          23,
          24,
          25,
          26,
          27,
          28,
          29,
          30,
          31,
          32,
          33,
          34,
          35,
          36,
          37,
          38,
          39,
          40,
          41,
          42,
          43,
          44,
          45,
          46,
          47,
          48,
          49,
          50,
          51,
          52,
          53,
          54,
          55,
          56,
          57,
          58,
          59,
          60,
          61,
          62,
          63,
          64,
          65,
          66,
          67,
          68,
          69,
          70,
          71,
          72,
          73,
          74,
          75,
          76,
          77,
          78,
          79,
          80,
          81,
          82,
          83,
          84,
          85,
          86,
          87,
          88,
          89,
          90,
          91,
          92,
          93,
          94,
          95,
          96,
          97,
          98,
          99
         ],
         "y": [
          0.301,
          0.492,
          0.57,
          0.615,
          0.622,
          0.65,
          0.663,
          0.668,
          0.671,
          0.678,
          0.685,
          0.7,
          0.692,
          0.7,
          0.695,
          0.696,
          0.695,
          0.72,
          0.709,
          0.706,
          0.715,
          0.71,
          0.717,
          0.717,
          0.723,
          0.726,
          0.722,
          0.725,
          0.718,
          0.726,
          0.738,
          0.72,
          0.735,
          0.73,
          0.737,
          0.734,
          0.729,
          0.737,
          0.727,
          0.742,
          0.735,
          0.736,
          0.739,
          0.744,
          0.74,
          0.735,
          0.741,
          0.742,
          0.734,
          0.745,
          0.743,
          0.74,
          0.748,
          0.743,
          0.736,
          0.739,
          0.742,
          0.74,
          0.736,
          0.741,
          0.75,
          0.744,
          0.746,
          0.742,
          0.742,
          0.74,
          0.751,
          0.746,
          0.746,
          0.746,
          0.745,
          0.746,
          0.737,
          0.749,
          0.742,
          0.748,
          0.746,
          0.749,
          0.752,
          0.743,
          0.751,
          0.753,
          0.76,
          0.749,
          0.76,
          0.751,
          0.753,
          0.75,
          0.751,
          0.755,
          0.747,
          0.753,
          0.751,
          0.751,
          0.75,
          0.751,
          0.749,
          0.75,
          0.746,
          0.758
         ]
        },
        {
         "marker": {
          "maxdisplayed": 10
         },
         "mode": "lines+markers",
         "name": "Trial7",
         "type": "scatter",
         "x": [
          0,
          1
         ],
         "y": [
          0.115,
          0.116
         ]
        },
        {
         "marker": {
          "maxdisplayed": 10
         },
         "mode": "lines+markers",
         "name": "Trial8",
         "type": "scatter",
         "x": [
          0,
          1,
          2,
          3,
          4,
          5,
          6,
          7,
          8,
          9,
          10,
          11,
          12,
          13,
          14,
          15,
          16,
          17,
          18,
          19,
          20,
          21,
          22,
          23,
          24,
          25,
          26,
          27,
          28,
          29,
          30,
          31,
          32,
          33,
          34,
          35,
          36,
          37,
          38,
          39,
          40,
          41,
          42,
          43,
          44,
          45,
          46,
          47,
          48,
          49,
          50,
          51,
          52,
          53,
          54,
          55,
          56,
          57,
          58,
          59,
          60,
          61,
          62,
          63,
          64,
          65,
          66,
          67,
          68,
          69,
          70,
          71,
          72,
          73,
          74,
          75,
          76,
          77,
          78,
          79,
          80,
          81,
          82,
          83,
          84,
          85,
          86,
          87,
          88,
          89,
          90,
          91,
          92,
          93,
          94,
          95,
          96,
          97,
          98,
          99
         ],
         "y": [
          0.459,
          0.587,
          0.635,
          0.669,
          0.657,
          0.739,
          0.72,
          0.747,
          0.743,
          0.766,
          0.743,
          0.746,
          0.748,
          0.758,
          0.767,
          0.767,
          0.769,
          0.771,
          0.775,
          0.771,
          0.768,
          0.79,
          0.77,
          0.783,
          0.788,
          0.782,
          0.789,
          0.783,
          0.79,
          0.789,
          0.789,
          0.786,
          0.789,
          0.763,
          0.767,
          0.799,
          0.805,
          0.787,
          0.773,
          0.787,
          0.791,
          0.803,
          0.793,
          0.798,
          0.794,
          0.8,
          0.792,
          0.8,
          0.783,
          0.801,
          0.792,
          0.778,
          0.792,
          0.8,
          0.802,
          0.81,
          0.788,
          0.794,
          0.791,
          0.773,
          0.789,
          0.782,
          0.783,
          0.754,
          0.801,
          0.788,
          0.793,
          0.789,
          0.794,
          0.813,
          0.788,
          0.818,
          0.803,
          0.798,
          0.8,
          0.798,
          0.796,
          0.805,
          0.812,
          0.805,
          0.796,
          0.803,
          0.801,
          0.796,
          0.804,
          0.792,
          0.799,
          0.801,
          0.797,
          0.807,
          0.798,
          0.793,
          0.802,
          0.793,
          0.807,
          0.781,
          0.787,
          0.807,
          0.801,
          0.802
         ]
        },
        {
         "marker": {
          "maxdisplayed": 10
         },
         "mode": "lines+markers",
         "name": "Trial9",
         "type": "scatter",
         "x": [
          0,
          1,
          2,
          3,
          4,
          5,
          6,
          7,
          8,
          9,
          10,
          11,
          12,
          13,
          14,
          15,
          16,
          17,
          18,
          19,
          20,
          21,
          22,
          23,
          24,
          25,
          26,
          27,
          28,
          29,
          30,
          31,
          32,
          33,
          34,
          35,
          36,
          37,
          38,
          39,
          40,
          41,
          42,
          43,
          44,
          45,
          46,
          47,
          48,
          49,
          50,
          51,
          52,
          53,
          54,
          55,
          56,
          57,
          58,
          59,
          60,
          61,
          62,
          63,
          64,
          65,
          66,
          67,
          68,
          69,
          70,
          71,
          72,
          73,
          74,
          75,
          76,
          77,
          78,
          79,
          80,
          81,
          82,
          83,
          84,
          85,
          86,
          87,
          88,
          89,
          90,
          91,
          92,
          93,
          94,
          95,
          96,
          97,
          98,
          99
         ],
         "y": [
          0.395,
          0.53,
          0.594,
          0.624,
          0.639,
          0.66,
          0.663,
          0.657,
          0.673,
          0.681,
          0.694,
          0.695,
          0.701,
          0.693,
          0.71,
          0.704,
          0.697,
          0.712,
          0.715,
          0.712,
          0.717,
          0.717,
          0.72,
          0.718,
          0.724,
          0.715,
          0.715,
          0.725,
          0.718,
          0.743,
          0.72,
          0.733,
          0.736,
          0.728,
          0.732,
          0.743,
          0.741,
          0.742,
          0.728,
          0.731,
          0.728,
          0.733,
          0.742,
          0.748,
          0.755,
          0.747,
          0.75,
          0.754,
          0.752,
          0.754,
          0.754,
          0.758,
          0.744,
          0.749,
          0.751,
          0.746,
          0.754,
          0.748,
          0.747,
          0.751,
          0.765,
          0.75,
          0.75,
          0.754,
          0.736,
          0.749,
          0.754,
          0.76,
          0.76,
          0.767,
          0.752,
          0.761,
          0.767,
          0.763,
          0.763,
          0.76,
          0.746,
          0.767,
          0.757,
          0.768,
          0.759,
          0.748,
          0.75,
          0.761,
          0.759,
          0.752,
          0.771,
          0.753,
          0.763,
          0.759,
          0.754,
          0.755,
          0.756,
          0.756,
          0.761,
          0.771,
          0.763,
          0.752,
          0.753,
          0.765
         ]
        },
        {
         "marker": {
          "maxdisplayed": 10
         },
         "mode": "lines+markers",
         "name": "Trial10",
         "type": "scatter",
         "x": [
          0,
          1
         ],
         "y": [
          0.16,
          0.247
         ]
        },
        {
         "marker": {
          "maxdisplayed": 10
         },
         "mode": "lines+markers",
         "name": "Trial11",
         "type": "scatter",
         "x": [
          0,
          1,
          2,
          3,
          4,
          5,
          6,
          7,
          8,
          9,
          10,
          11,
          12,
          13,
          14,
          15,
          16,
          17,
          18,
          19,
          20,
          21,
          22,
          23,
          24,
          25,
          26,
          27,
          28,
          29,
          30,
          31,
          32,
          33,
          34,
          35,
          36,
          37,
          38,
          39,
          40,
          41,
          42,
          43,
          44,
          45,
          46,
          47,
          48,
          49,
          50,
          51,
          52,
          53,
          54,
          55,
          56,
          57,
          58,
          59,
          60,
          61,
          62,
          63,
          64,
          65,
          66,
          67,
          68,
          69,
          70,
          71,
          72,
          73,
          74,
          75,
          76,
          77,
          78,
          79,
          80,
          81,
          82,
          83,
          84,
          85,
          86,
          87,
          88,
          89,
          90,
          91,
          92,
          93,
          94,
          95,
          96,
          97,
          98,
          99
         ],
         "y": [
          0.483,
          0.62,
          0.677,
          0.691,
          0.705,
          0.708,
          0.739,
          0.734,
          0.734,
          0.75,
          0.739,
          0.75,
          0.75,
          0.753,
          0.775,
          0.771,
          0.763,
          0.785,
          0.751,
          0.773,
          0.763,
          0.75,
          0.785,
          0.784,
          0.775,
          0.754,
          0.751,
          0.785,
          0.783,
          0.772,
          0.785,
          0.784,
          0.774,
          0.796,
          0.788,
          0.783,
          0.784,
          0.786,
          0.787,
          0.785,
          0.789,
          0.797,
          0.794,
          0.792,
          0.786,
          0.784,
          0.793,
          0.806,
          0.784,
          0.77,
          0.782,
          0.788,
          0.781,
          0.795,
          0.787,
          0.789,
          0.776,
          0.791,
          0.796,
          0.795,
          0.781,
          0.803,
          0.797,
          0.786,
          0.799,
          0.798,
          0.754,
          0.787,
          0.792,
          0.791,
          0.777,
          0.784,
          0.799,
          0.796,
          0.792,
          0.797,
          0.803,
          0.807,
          0.814,
          0.814,
          0.817,
          0.789,
          0.788,
          0.807,
          0.799,
          0.785,
          0.801,
          0.801,
          0.8,
          0.797,
          0.787,
          0.787,
          0.78,
          0.78,
          0.785,
          0.786,
          0.788,
          0.795,
          0.803,
          0.801
         ]
        },
        {
         "marker": {
          "maxdisplayed": 10
         },
         "mode": "lines+markers",
         "name": "Trial12",
         "type": "scatter",
         "x": [
          0,
          1,
          2,
          3,
          4,
          5,
          6,
          7,
          8,
          9,
          10,
          11,
          12,
          13,
          14,
          15,
          16,
          17,
          18,
          19,
          20,
          21,
          22,
          23,
          24,
          25,
          26,
          27,
          28,
          29,
          30,
          31,
          32,
          33,
          34,
          35,
          36,
          37,
          38,
          39,
          40,
          41,
          42,
          43,
          44,
          45,
          46,
          47,
          48,
          49,
          50,
          51,
          52,
          53,
          54,
          55,
          56,
          57,
          58,
          59,
          60,
          61,
          62,
          63,
          64,
          65,
          66,
          67,
          68,
          69,
          70,
          71,
          72,
          73,
          74,
          75,
          76,
          77,
          78,
          79,
          80,
          81,
          82,
          83,
          84,
          85,
          86,
          87,
          88,
          89,
          90,
          91,
          92,
          93,
          94,
          95,
          96,
          97,
          98,
          99
         ],
         "y": [
          0.427,
          0.619,
          0.659,
          0.708,
          0.725,
          0.718,
          0.725,
          0.753,
          0.748,
          0.733,
          0.755,
          0.759,
          0.769,
          0.758,
          0.763,
          0.761,
          0.769,
          0.746,
          0.778,
          0.779,
          0.782,
          0.775,
          0.79,
          0.777,
          0.776,
          0.777,
          0.771,
          0.775,
          0.777,
          0.782,
          0.79,
          0.772,
          0.779,
          0.773,
          0.767,
          0.786,
          0.796,
          0.785,
          0.798,
          0.795,
          0.788,
          0.799,
          0.796,
          0.796,
          0.794,
          0.795,
          0.793,
          0.792,
          0.802,
          0.797,
          0.794,
          0.78,
          0.793,
          0.799,
          0.804,
          0.801,
          0.794,
          0.788,
          0.781,
          0.782,
          0.799,
          0.795,
          0.792,
          0.787,
          0.798,
          0.781,
          0.787,
          0.794,
          0.784,
          0.779,
          0.748,
          0.734,
          0.778,
          0.783,
          0.778,
          0.785,
          0.791,
          0.788,
          0.796,
          0.792,
          0.784,
          0.783,
          0.795,
          0.784,
          0.775,
          0.776,
          0.782,
          0.756,
          0.788,
          0.799,
          0.792,
          0.796,
          0.787,
          0.806,
          0.798,
          0.781,
          0.791,
          0.796,
          0.796,
          0.796
         ]
        },
        {
         "marker": {
          "maxdisplayed": 10
         },
         "mode": "lines+markers",
         "name": "Trial13",
         "type": "scatter",
         "x": [
          0,
          1
         ],
         "y": [
          0.293,
          0.503
         ]
        },
        {
         "marker": {
          "maxdisplayed": 10
         },
         "mode": "lines+markers",
         "name": "Trial14",
         "type": "scatter",
         "x": [
          0,
          1
         ],
         "y": [
          0.125,
          0.111
         ]
        },
        {
         "marker": {
          "maxdisplayed": 10
         },
         "mode": "lines+markers",
         "name": "Trial15",
         "type": "scatter",
         "x": [
          0,
          1,
          2,
          3,
          4,
          5,
          6,
          7,
          8,
          9,
          10,
          11,
          12,
          13,
          14,
          15,
          16,
          17,
          18,
          19,
          20,
          21,
          22,
          23,
          24,
          25,
          26,
          27,
          28,
          29,
          30,
          31,
          32,
          33,
          34,
          35,
          36,
          37,
          38,
          39,
          40,
          41,
          42,
          43,
          44,
          45,
          46,
          47,
          48,
          49,
          50,
          51,
          52,
          53,
          54,
          55,
          56,
          57,
          58,
          59,
          60,
          61,
          62,
          63,
          64,
          65,
          66,
          67,
          68,
          69,
          70,
          71,
          72,
          73,
          74,
          75,
          76,
          77,
          78,
          79,
          80,
          81,
          82,
          83,
          84,
          85,
          86,
          87,
          88,
          89,
          90,
          91,
          92,
          93,
          94,
          95,
          96,
          97,
          98,
          99
         ],
         "y": [
          0.551,
          0.627,
          0.647,
          0.673,
          0.715,
          0.708,
          0.716,
          0.714,
          0.708,
          0.711,
          0.734,
          0.731,
          0.735,
          0.743,
          0.749,
          0.753,
          0.743,
          0.758,
          0.76,
          0.754,
          0.754,
          0.748,
          0.761,
          0.778,
          0.761,
          0.763,
          0.765,
          0.761,
          0.756,
          0.746,
          0.769,
          0.753,
          0.75,
          0.756,
          0.777,
          0.77,
          0.769,
          0.748,
          0.778,
          0.771,
          0.759,
          0.77,
          0.776,
          0.777,
          0.764,
          0.768,
          0.766,
          0.753,
          0.72,
          0.764,
          0.751,
          0.762,
          0.774,
          0.744,
          0.756,
          0.776,
          0.78,
          0.776,
          0.772,
          0.777,
          0.779,
          0.765,
          0.76,
          0.775,
          0.769,
          0.782,
          0.777,
          0.75,
          0.785,
          0.757,
          0.77,
          0.762,
          0.777,
          0.753,
          0.767,
          0.752,
          0.772,
          0.765,
          0.753,
          0.758,
          0.778,
          0.772,
          0.768,
          0.775,
          0.773,
          0.777,
          0.775,
          0.772,
          0.761,
          0.778,
          0.773,
          0.764,
          0.788,
          0.774,
          0.767,
          0.778,
          0.781,
          0.781,
          0.793,
          0.781
         ]
        },
        {
         "marker": {
          "maxdisplayed": 10
         },
         "mode": "lines+markers",
         "name": "Trial16",
         "type": "scatter",
         "x": [
          0,
          1
         ],
         "y": [
          0.276,
          0.411
         ]
        },
        {
         "marker": {
          "maxdisplayed": 10
         },
         "mode": "lines+markers",
         "name": "Trial17",
         "type": "scatter",
         "x": [
          0,
          1
         ],
         "y": [
          0.321,
          0.525
         ]
        },
        {
         "marker": {
          "maxdisplayed": 10
         },
         "mode": "lines+markers",
         "name": "Trial18",
         "type": "scatter",
         "x": [
          0,
          1
         ],
         "y": [
          0.497,
          0.527
         ]
        },
        {
         "marker": {
          "maxdisplayed": 10
         },
         "mode": "lines+markers",
         "name": "Trial19",
         "type": "scatter",
         "x": [
          0,
          1
         ],
         "y": [
          0.221,
          0.216
         ]
        },
        {
         "marker": {
          "maxdisplayed": 10
         },
         "mode": "lines+markers",
         "name": "Trial20",
         "type": "scatter",
         "x": [
          0,
          1,
          2,
          3,
          4,
          5,
          6,
          7,
          8,
          9,
          10,
          11,
          12,
          13,
          14,
          15,
          16,
          17,
          18,
          19,
          20,
          21,
          22,
          23,
          24,
          25,
          26,
          27,
          28,
          29,
          30,
          31,
          32,
          33,
          34,
          35,
          36,
          37,
          38,
          39,
          40,
          41,
          42,
          43,
          44,
          45,
          46,
          47,
          48,
          49,
          50,
          51,
          52,
          53,
          54,
          55,
          56,
          57,
          58,
          59,
          60,
          61,
          62,
          63,
          64,
          65,
          66,
          67,
          68,
          69,
          70,
          71,
          72,
          73,
          74,
          75,
          76,
          77,
          78,
          79,
          80,
          81,
          82,
          83,
          84,
          85,
          86,
          87,
          88,
          89,
          90,
          91,
          92,
          93,
          94,
          95,
          96,
          97,
          98,
          99
         ],
         "y": [
          0.425,
          0.577,
          0.673,
          0.673,
          0.674,
          0.677,
          0.698,
          0.677,
          0.663,
          0.672,
          0.706,
          0.652,
          0.719,
          0.718,
          0.733,
          0.723,
          0.739,
          0.72,
          0.749,
          0.746,
          0.757,
          0.757,
          0.759,
          0.763,
          0.755,
          0.758,
          0.744,
          0.77,
          0.741,
          0.763,
          0.777,
          0.768,
          0.743,
          0.768,
          0.756,
          0.771,
          0.746,
          0.755,
          0.768,
          0.776,
          0.769,
          0.768,
          0.761,
          0.768,
          0.767,
          0.768,
          0.76,
          0.773,
          0.744,
          0.764,
          0.771,
          0.765,
          0.77,
          0.783,
          0.775,
          0.771,
          0.776,
          0.773,
          0.767,
          0.782,
          0.767,
          0.774,
          0.751,
          0.742,
          0.764,
          0.735,
          0.746,
          0.761,
          0.765,
          0.77,
          0.772,
          0.784,
          0.77,
          0.777,
          0.788,
          0.75,
          0.745,
          0.78,
          0.783,
          0.788,
          0.784,
          0.782,
          0.779,
          0.754,
          0.78,
          0.778,
          0.755,
          0.775,
          0.778,
          0.78,
          0.796,
          0.783,
          0.769,
          0.749,
          0.777,
          0.775,
          0.782,
          0.769,
          0.776,
          0.781
         ]
        },
        {
         "marker": {
          "maxdisplayed": 10
         },
         "mode": "lines+markers",
         "name": "Trial21",
         "type": "scatter",
         "x": [
          0,
          1,
          2,
          3,
          4,
          5,
          6,
          7,
          8,
          9,
          10,
          11,
          12,
          13,
          14,
          15,
          16,
          17,
          18,
          19,
          20,
          21,
          22,
          23,
          24,
          25,
          26,
          27,
          28,
          29,
          30,
          31,
          32,
          33,
          34,
          35,
          36,
          37,
          38,
          39,
          40,
          41,
          42,
          43,
          44,
          45,
          46,
          47,
          48,
          49,
          50,
          51,
          52,
          53,
          54,
          55,
          56,
          57,
          58,
          59,
          60,
          61,
          62,
          63,
          64,
          65,
          66,
          67,
          68,
          69,
          70,
          71,
          72,
          73,
          74,
          75,
          76,
          77,
          78,
          79,
          80,
          81,
          82,
          83,
          84,
          85,
          86,
          87,
          88,
          89,
          90,
          91,
          92,
          93,
          94,
          95,
          96,
          97,
          98,
          99
         ],
         "y": [
          0.501,
          0.606,
          0.687,
          0.719,
          0.691,
          0.746,
          0.719,
          0.751,
          0.749,
          0.729,
          0.756,
          0.742,
          0.762,
          0.769,
          0.741,
          0.743,
          0.751,
          0.754,
          0.723,
          0.751,
          0.765,
          0.748,
          0.76,
          0.757,
          0.769,
          0.769,
          0.774,
          0.767,
          0.764,
          0.769,
          0.77,
          0.765,
          0.768,
          0.771,
          0.759,
          0.767,
          0.763,
          0.767,
          0.773,
          0.759,
          0.766,
          0.756,
          0.774,
          0.764,
          0.766,
          0.747,
          0.757,
          0.767,
          0.753,
          0.772,
          0.756,
          0.749,
          0.766,
          0.759,
          0.77,
          0.76,
          0.776,
          0.757,
          0.775,
          0.762,
          0.769,
          0.751,
          0.76,
          0.757,
          0.761,
          0.769,
          0.772,
          0.771,
          0.766,
          0.782,
          0.781,
          0.752,
          0.773,
          0.778,
          0.779,
          0.767,
          0.774,
          0.762,
          0.762,
          0.759,
          0.765,
          0.732,
          0.742,
          0.747,
          0.732,
          0.783,
          0.771,
          0.776,
          0.777,
          0.772,
          0.794,
          0.784,
          0.769,
          0.784,
          0.789,
          0.773,
          0.774,
          0.793,
          0.78,
          0.779
         ]
        },
        {
         "marker": {
          "maxdisplayed": 10
         },
         "mode": "lines+markers",
         "name": "Trial22",
         "type": "scatter",
         "x": [
          0,
          1,
          2,
          3,
          4,
          5,
          6,
          7,
          8,
          9,
          10,
          11,
          12,
          13,
          14,
          15,
          16,
          17,
          18,
          19,
          20,
          21,
          22,
          23,
          24,
          25,
          26,
          27,
          28,
          29,
          30,
          31,
          32,
          33,
          34,
          35,
          36,
          37,
          38,
          39,
          40,
          41,
          42,
          43,
          44,
          45,
          46,
          47,
          48,
          49,
          50,
          51,
          52,
          53,
          54,
          55,
          56,
          57,
          58,
          59,
          60,
          61,
          62,
          63,
          64,
          65,
          66,
          67,
          68,
          69,
          70,
          71,
          72,
          73,
          74,
          75,
          76,
          77,
          78,
          79,
          80,
          81,
          82,
          83,
          84,
          85,
          86,
          87,
          88,
          89,
          90,
          91,
          92,
          93,
          94,
          95,
          96,
          97,
          98,
          99
         ],
         "y": [
          0.528,
          0.616,
          0.625,
          0.658,
          0.679,
          0.699,
          0.719,
          0.701,
          0.727,
          0.715,
          0.724,
          0.729,
          0.727,
          0.721,
          0.732,
          0.74,
          0.717,
          0.745,
          0.745,
          0.753,
          0.755,
          0.741,
          0.763,
          0.747,
          0.764,
          0.742,
          0.751,
          0.759,
          0.748,
          0.742,
          0.763,
          0.755,
          0.766,
          0.765,
          0.77,
          0.755,
          0.754,
          0.764,
          0.762,
          0.756,
          0.765,
          0.77,
          0.766,
          0.749,
          0.777,
          0.771,
          0.754,
          0.764,
          0.733,
          0.777,
          0.77,
          0.759,
          0.779,
          0.776,
          0.774,
          0.79,
          0.783,
          0.791,
          0.79,
          0.774,
          0.797,
          0.801,
          0.79,
          0.788,
          0.786,
          0.791,
          0.781,
          0.793,
          0.772,
          0.782,
          0.789,
          0.762,
          0.764,
          0.773,
          0.786,
          0.795,
          0.794,
          0.795,
          0.785,
          0.781,
          0.791,
          0.78,
          0.8,
          0.783,
          0.781,
          0.787,
          0.778,
          0.799,
          0.788,
          0.783,
          0.781,
          0.795,
          0.799,
          0.799,
          0.79,
          0.794,
          0.789,
          0.778,
          0.756,
          0.771
         ]
        },
        {
         "marker": {
          "maxdisplayed": 10
         },
         "mode": "lines+markers",
         "name": "Trial23",
         "type": "scatter",
         "x": [
          0,
          1
         ],
         "y": [
          0.406,
          0.508
         ]
        },
        {
         "marker": {
          "maxdisplayed": 10
         },
         "mode": "lines+markers",
         "name": "Trial24",
         "type": "scatter",
         "x": [
          0,
          1
         ],
         "y": [
          0.111,
          0.098
         ]
        },
        {
         "marker": {
          "maxdisplayed": 10
         },
         "mode": "lines+markers",
         "name": "Trial25",
         "type": "scatter",
         "x": [
          0,
          1,
          2
         ],
         "y": [
          0.479,
          0.583,
          0.623
         ]
        },
        {
         "marker": {
          "maxdisplayed": 10
         },
         "mode": "lines+markers",
         "name": "Trial26",
         "type": "scatter",
         "x": [
          0,
          1
         ],
         "y": [
          0.429,
          0.526
         ]
        },
        {
         "marker": {
          "maxdisplayed": 10
         },
         "mode": "lines+markers",
         "name": "Trial27",
         "type": "scatter",
         "x": [
          0,
          1
         ],
         "y": [
          0.239,
          0.474
         ]
        },
        {
         "marker": {
          "maxdisplayed": 10
         },
         "mode": "lines+markers",
         "name": "Trial28",
         "type": "scatter",
         "x": [
          0,
          1
         ],
         "y": [
          0.426,
          0.522
         ]
        },
        {
         "marker": {
          "maxdisplayed": 10
         },
         "mode": "lines+markers",
         "name": "Trial29",
         "type": "scatter",
         "x": [
          0,
          1,
          2,
          3,
          4,
          5,
          6,
          7,
          8,
          9,
          10,
          11,
          12,
          13,
          14,
          15,
          16,
          17,
          18,
          19,
          20,
          21,
          22,
          23,
          24,
          25,
          26,
          27,
          28,
          29,
          30,
          31,
          32,
          33,
          34,
          35,
          36,
          37,
          38,
          39,
          40,
          41,
          42,
          43,
          44,
          45,
          46,
          47,
          48,
          49,
          50,
          51,
          52,
          53,
          54,
          55,
          56,
          57,
          58,
          59,
          60,
          61,
          62,
          63,
          64,
          65,
          66,
          67,
          68,
          69,
          70,
          71,
          72,
          73,
          74,
          75,
          76,
          77,
          78,
          79,
          80,
          81,
          82,
          83,
          84,
          85,
          86,
          87,
          88,
          89,
          90,
          91,
          92,
          93,
          94,
          95,
          96,
          97,
          98,
          99
         ],
         "y": [
          0.573,
          0.669,
          0.698,
          0.704,
          0.725,
          0.728,
          0.741,
          0.73,
          0.722,
          0.751,
          0.755,
          0.743,
          0.748,
          0.757,
          0.759,
          0.763,
          0.751,
          0.765,
          0.753,
          0.757,
          0.769,
          0.754,
          0.773,
          0.734,
          0.769,
          0.767,
          0.763,
          0.744,
          0.752,
          0.757,
          0.773,
          0.743,
          0.769,
          0.756,
          0.765,
          0.754,
          0.774,
          0.77,
          0.741,
          0.773,
          0.765,
          0.764,
          0.768,
          0.759,
          0.769,
          0.771,
          0.774,
          0.761,
          0.734,
          0.759,
          0.767,
          0.766,
          0.761,
          0.759,
          0.752,
          0.763,
          0.742,
          0.753,
          0.76,
          0.758,
          0.77,
          0.767,
          0.766,
          0.765,
          0.763,
          0.76,
          0.76,
          0.768,
          0.767,
          0.763,
          0.766,
          0.763,
          0.762,
          0.76,
          0.769,
          0.769,
          0.776,
          0.76,
          0.755,
          0.764,
          0.747,
          0.754,
          0.752,
          0.748,
          0.745,
          0.772,
          0.772,
          0.763,
          0.775,
          0.778,
          0.778,
          0.772,
          0.767,
          0.781,
          0.777,
          0.781,
          0.788,
          0.77,
          0.757,
          0.752
         ]
        },
        {
         "marker": {
          "maxdisplayed": 10
         },
         "mode": "lines+markers",
         "name": "Trial30",
         "type": "scatter",
         "x": [
          0,
          1
         ],
         "y": [
          0.362,
          0.464
         ]
        },
        {
         "marker": {
          "maxdisplayed": 10
         },
         "mode": "lines+markers",
         "name": "Trial31",
         "type": "scatter",
         "x": [
          0,
          1,
          2,
          3,
          4,
          5,
          6,
          7,
          8,
          9,
          10,
          11,
          12,
          13,
          14,
          15,
          16,
          17,
          18,
          19,
          20,
          21,
          22,
          23,
          24,
          25,
          26,
          27,
          28,
          29,
          30,
          31,
          32,
          33,
          34,
          35,
          36,
          37,
          38,
          39,
          40,
          41,
          42,
          43,
          44,
          45,
          46,
          47,
          48,
          49,
          50,
          51,
          52,
          53,
          54,
          55,
          56,
          57,
          58,
          59,
          60,
          61,
          62,
          63,
          64,
          65,
          66,
          67,
          68,
          69,
          70,
          71,
          72,
          73,
          74,
          75,
          76,
          77,
          78,
          79,
          80,
          81,
          82,
          83,
          84,
          85,
          86,
          87,
          88,
          89,
          90,
          91,
          92,
          93,
          94,
          95,
          96,
          97,
          98,
          99
         ],
         "y": [
          0.475,
          0.619,
          0.673,
          0.701,
          0.723,
          0.719,
          0.727,
          0.734,
          0.724,
          0.721,
          0.724,
          0.718,
          0.726,
          0.748,
          0.746,
          0.752,
          0.753,
          0.765,
          0.76,
          0.753,
          0.764,
          0.758,
          0.776,
          0.77,
          0.768,
          0.772,
          0.769,
          0.737,
          0.772,
          0.766,
          0.771,
          0.776,
          0.773,
          0.773,
          0.763,
          0.766,
          0.77,
          0.763,
          0.776,
          0.766,
          0.79,
          0.766,
          0.781,
          0.771,
          0.765,
          0.781,
          0.778,
          0.78,
          0.772,
          0.784,
          0.757,
          0.772,
          0.744,
          0.779,
          0.775,
          0.779,
          0.779,
          0.779,
          0.771,
          0.785,
          0.771,
          0.79,
          0.779,
          0.756,
          0.772,
          0.779,
          0.773,
          0.778,
          0.771,
          0.757,
          0.764,
          0.782,
          0.781,
          0.769,
          0.789,
          0.78,
          0.78,
          0.792,
          0.792,
          0.785,
          0.79,
          0.791,
          0.792,
          0.789,
          0.79,
          0.79,
          0.792,
          0.789,
          0.795,
          0.796,
          0.782,
          0.753,
          0.77,
          0.744,
          0.798,
          0.743,
          0.775,
          0.796,
          0.769,
          0.787
         ]
        },
        {
         "marker": {
          "maxdisplayed": 10
         },
         "mode": "lines+markers",
         "name": "Trial32",
         "type": "scatter",
         "x": [
          0,
          1
         ],
         "y": [
          0.319,
          0.395
         ]
        },
        {
         "marker": {
          "maxdisplayed": 10
         },
         "mode": "lines+markers",
         "name": "Trial33",
         "type": "scatter",
         "x": [
          0,
          1,
          2,
          3
         ],
         "y": [
          0.474,
          0.616,
          0.649,
          0.656
         ]
        },
        {
         "marker": {
          "maxdisplayed": 10
         },
         "mode": "lines+markers",
         "name": "Trial34",
         "type": "scatter",
         "x": [
          0,
          1
         ],
         "y": [
          0.182,
          0.147
         ]
        },
        {
         "marker": {
          "maxdisplayed": 10
         },
         "mode": "lines+markers",
         "name": "Trial35",
         "type": "scatter",
         "x": [
          0,
          1,
          2,
          3,
          4,
          5,
          6,
          7,
          8,
          9,
          10,
          11,
          12,
          13,
          14,
          15,
          16,
          17,
          18,
          19,
          20,
          21,
          22,
          23,
          24,
          25,
          26,
          27,
          28,
          29,
          30,
          31,
          32,
          33,
          34,
          35,
          36,
          37,
          38,
          39,
          40,
          41,
          42,
          43,
          44,
          45,
          46,
          47,
          48,
          49,
          50,
          51,
          52,
          53,
          54,
          55,
          56,
          57,
          58,
          59,
          60,
          61,
          62,
          63,
          64,
          65,
          66,
          67,
          68,
          69,
          70,
          71,
          72,
          73,
          74,
          75,
          76,
          77,
          78,
          79,
          80,
          81,
          82,
          83,
          84,
          85,
          86,
          87,
          88,
          89,
          90,
          91,
          92,
          93,
          94,
          95,
          96,
          97,
          98,
          99
         ],
         "y": [
          0.539,
          0.664,
          0.648,
          0.7,
          0.748,
          0.7,
          0.756,
          0.756,
          0.715,
          0.768,
          0.767,
          0.779,
          0.77,
          0.775,
          0.776,
          0.79,
          0.753,
          0.767,
          0.787,
          0.779,
          0.785,
          0.799,
          0.794,
          0.787,
          0.792,
          0.786,
          0.784,
          0.81,
          0.781,
          0.791,
          0.799,
          0.801,
          0.801,
          0.785,
          0.799,
          0.789,
          0.799,
          0.799,
          0.79,
          0.788,
          0.786,
          0.775,
          0.801,
          0.799,
          0.805,
          0.805,
          0.817,
          0.794,
          0.812,
          0.813,
          0.792,
          0.794,
          0.79,
          0.775,
          0.799,
          0.776,
          0.809,
          0.788,
          0.805,
          0.81,
          0.806,
          0.807,
          0.81,
          0.816,
          0.812,
          0.808,
          0.795,
          0.805,
          0.801,
          0.784,
          0.8,
          0.786,
          0.792,
          0.763,
          0.77,
          0.792,
          0.805,
          0.787,
          0.788,
          0.809,
          0.787,
          0.811,
          0.802,
          0.819,
          0.789,
          0.803,
          0.803,
          0.815,
          0.794,
          0.82,
          0.779,
          0.801,
          0.813,
          0.81,
          0.799,
          0.803,
          0.815,
          0.801,
          0.797,
          0.814
         ]
        },
        {
         "marker": {
          "maxdisplayed": 10
         },
         "mode": "lines+markers",
         "name": "Trial36",
         "type": "scatter",
         "x": [
          0,
          1
         ],
         "y": [
          0.06,
          0.226
         ]
        },
        {
         "marker": {
          "maxdisplayed": 10
         },
         "mode": "lines+markers",
         "name": "Trial37",
         "type": "scatter",
         "x": [
          0,
          1
         ],
         "y": [
          0.479,
          0.539
         ]
        },
        {
         "marker": {
          "maxdisplayed": 10
         },
         "mode": "lines+markers",
         "name": "Trial38",
         "type": "scatter",
         "x": [
          0,
          1
         ],
         "y": [
          0.311,
          0.319
         ]
        },
        {
         "marker": {
          "maxdisplayed": 10
         },
         "mode": "lines+markers",
         "name": "Trial39",
         "type": "scatter",
         "x": [
          0,
          1
         ],
         "y": [
          0.458,
          0.533
         ]
        },
        {
         "marker": {
          "maxdisplayed": 10
         },
         "mode": "lines+markers",
         "name": "Trial40",
         "type": "scatter",
         "x": [
          0,
          1,
          2,
          3,
          4,
          5
         ],
         "y": [
          0.52,
          0.634,
          0.67,
          0.673,
          0.677,
          0.697
         ]
        },
        {
         "marker": {
          "maxdisplayed": 10
         },
         "mode": "lines+markers",
         "name": "Trial41",
         "type": "scatter",
         "x": [
          0,
          1
         ],
         "y": [
          0.433,
          0.565
         ]
        },
        {
         "marker": {
          "maxdisplayed": 10
         },
         "mode": "lines+markers",
         "name": "Trial42",
         "type": "scatter",
         "x": [
          0,
          1
         ],
         "y": [
          0.539,
          0.604
         ]
        },
        {
         "marker": {
          "maxdisplayed": 10
         },
         "mode": "lines+markers",
         "name": "Trial43",
         "type": "scatter",
         "x": [
          0,
          1,
          2,
          3,
          4,
          5,
          6,
          7,
          8,
          9,
          10,
          11,
          12,
          13,
          14,
          15,
          16,
          17,
          18,
          19,
          20,
          21,
          22,
          23,
          24,
          25,
          26,
          27,
          28,
          29,
          30,
          31,
          32,
          33,
          34,
          35,
          36,
          37,
          38,
          39,
          40,
          41,
          42,
          43,
          44,
          45,
          46,
          47,
          48,
          49,
          50,
          51,
          52,
          53,
          54,
          55,
          56,
          57,
          58,
          59,
          60,
          61,
          62,
          63,
          64,
          65,
          66,
          67,
          68,
          69,
          70,
          71,
          72,
          73,
          74,
          75,
          76,
          77,
          78,
          79,
          80,
          81,
          82,
          83,
          84,
          85,
          86,
          87,
          88,
          89,
          90,
          91,
          92,
          93,
          94,
          95,
          96,
          97,
          98,
          99
         ],
         "y": [
          0.569,
          0.624,
          0.662,
          0.703,
          0.69,
          0.706,
          0.753,
          0.732,
          0.754,
          0.757,
          0.768,
          0.761,
          0.73,
          0.732,
          0.769,
          0.766,
          0.775,
          0.78,
          0.778,
          0.781,
          0.784,
          0.79,
          0.79,
          0.777,
          0.793,
          0.783,
          0.779,
          0.791,
          0.777,
          0.786,
          0.782,
          0.774,
          0.773,
          0.789,
          0.794,
          0.785,
          0.787,
          0.794,
          0.796,
          0.788,
          0.786,
          0.795,
          0.793,
          0.781,
          0.783,
          0.758,
          0.759,
          0.765,
          0.782,
          0.776,
          0.796,
          0.786,
          0.78,
          0.766,
          0.772,
          0.783,
          0.789,
          0.773,
          0.791,
          0.784,
          0.786,
          0.785,
          0.778,
          0.767,
          0.791,
          0.778,
          0.782,
          0.789,
          0.78,
          0.777,
          0.784,
          0.78,
          0.782,
          0.774,
          0.772,
          0.795,
          0.79,
          0.786,
          0.78,
          0.785,
          0.79,
          0.792,
          0.79,
          0.776,
          0.797,
          0.795,
          0.794,
          0.762,
          0.804,
          0.79,
          0.773,
          0.785,
          0.767,
          0.778,
          0.772,
          0.778,
          0.769,
          0.798,
          0.792,
          0.79
         ]
        },
        {
         "marker": {
          "maxdisplayed": 10
         },
         "mode": "lines+markers",
         "name": "Trial44",
         "type": "scatter",
         "x": [
          0,
          1,
          2
         ],
         "y": [
          0.418,
          0.614,
          0.619
         ]
        },
        {
         "marker": {
          "maxdisplayed": 10
         },
         "mode": "lines+markers",
         "name": "Trial45",
         "type": "scatter",
         "x": [
          0,
          1
         ],
         "y": [
          0.532,
          0.607
         ]
        },
        {
         "marker": {
          "maxdisplayed": 10
         },
         "mode": "lines+markers",
         "name": "Trial46",
         "type": "scatter",
         "x": [
          0,
          1
         ],
         "y": [
          0.111,
          0.098
         ]
        },
        {
         "marker": {
          "maxdisplayed": 10
         },
         "mode": "lines+markers",
         "name": "Trial47",
         "type": "scatter",
         "x": [
          0,
          1
         ],
         "y": [
          0.508,
          0.531
         ]
        },
        {
         "marker": {
          "maxdisplayed": 10
         },
         "mode": "lines+markers",
         "name": "Trial48",
         "type": "scatter",
         "x": [
          0,
          1,
          2,
          3
         ],
         "y": [
          0.436,
          0.618,
          0.659,
          0.656
         ]
        },
        {
         "marker": {
          "maxdisplayed": 10
         },
         "mode": "lines+markers",
         "name": "Trial49",
         "type": "scatter",
         "x": [
          0,
          1
         ],
         "y": [
          0.314,
          0.371
         ]
        },
        {
         "marker": {
          "maxdisplayed": 10
         },
         "mode": "lines+markers",
         "name": "Trial50",
         "type": "scatter",
         "x": [
          0,
          1,
          2,
          3,
          4,
          5
         ],
         "y": [
          0.404,
          0.639,
          0.647,
          0.678,
          0.691,
          0.699
         ]
        },
        {
         "marker": {
          "maxdisplayed": 10
         },
         "mode": "lines+markers",
         "name": "Trial51",
         "type": "scatter",
         "x": [
          0,
          1
         ],
         "y": [
          0.51,
          0.591
         ]
        },
        {
         "marker": {
          "maxdisplayed": 10
         },
         "mode": "lines+markers",
         "name": "Trial52",
         "type": "scatter",
         "x": [
          0,
          1
         ],
         "y": [
          0.307,
          0.465
         ]
        },
        {
         "marker": {
          "maxdisplayed": 10
         },
         "mode": "lines+markers",
         "name": "Trial53",
         "type": "scatter",
         "x": [
          0,
          1
         ],
         "y": [
          0.418,
          0.601
         ]
        },
        {
         "marker": {
          "maxdisplayed": 10
         },
         "mode": "lines+markers",
         "name": "Trial54",
         "type": "scatter",
         "x": [
          0,
          1
         ],
         "y": [
          0.421,
          0.537
         ]
        },
        {
         "marker": {
          "maxdisplayed": 10
         },
         "mode": "lines+markers",
         "name": "Trial55",
         "type": "scatter",
         "x": [
          0,
          1,
          2
         ],
         "y": [
          0.447,
          0.629,
          0.627
         ]
        },
        {
         "marker": {
          "maxdisplayed": 10
         },
         "mode": "lines+markers",
         "name": "Trial56",
         "type": "scatter",
         "x": [
          0,
          1
         ],
         "y": [
          0.41,
          0.61
         ]
        },
        {
         "marker": {
          "maxdisplayed": 10
         },
         "mode": "lines+markers",
         "name": "Trial57",
         "type": "scatter",
         "x": [
          0,
          1
         ],
         "y": [
          0.449,
          0.584
         ]
        },
        {
         "marker": {
          "maxdisplayed": 10
         },
         "mode": "lines+markers",
         "name": "Trial58",
         "type": "scatter",
         "x": [
          0,
          1
         ],
         "y": [
          0.4,
          0.428
         ]
        },
        {
         "marker": {
          "maxdisplayed": 10
         },
         "mode": "lines+markers",
         "name": "Trial59",
         "type": "scatter",
         "x": [
          0,
          1
         ],
         "y": [
          0.27,
          0.37
         ]
        },
        {
         "marker": {
          "maxdisplayed": 10
         },
         "mode": "lines+markers",
         "name": "Trial60",
         "type": "scatter",
         "x": [
          0,
          1
         ],
         "y": [
          0.572,
          0.588
         ]
        },
        {
         "marker": {
          "maxdisplayed": 10
         },
         "mode": "lines+markers",
         "name": "Trial61",
         "type": "scatter",
         "x": [
          0,
          1,
          2,
          3
         ],
         "y": [
          0.352,
          0.614,
          0.644,
          0.635
         ]
        },
        {
         "marker": {
          "maxdisplayed": 10
         },
         "mode": "lines+markers",
         "name": "Trial62",
         "type": "scatter",
         "x": [
          0,
          1
         ],
         "y": [
          0.429,
          0.416
         ]
        },
        {
         "marker": {
          "maxdisplayed": 10
         },
         "mode": "lines+markers",
         "name": "Trial63",
         "type": "scatter",
         "x": [
          0,
          1
         ],
         "y": [
          0.368,
          0.391
         ]
        },
        {
         "marker": {
          "maxdisplayed": 10
         },
         "mode": "lines+markers",
         "name": "Trial64",
         "type": "scatter",
         "x": [
          0,
          1
         ],
         "y": [
          0.422,
          0.517
         ]
        },
        {
         "marker": {
          "maxdisplayed": 10
         },
         "mode": "lines+markers",
         "name": "Trial65",
         "type": "scatter",
         "x": [
          0,
          1,
          2,
          3,
          4,
          5,
          6,
          7,
          8,
          9,
          10,
          11,
          12,
          13,
          14,
          15,
          16,
          17,
          18,
          19,
          20,
          21,
          22,
          23,
          24,
          25,
          26,
          27,
          28,
          29,
          30,
          31,
          32,
          33,
          34,
          35,
          36,
          37,
          38,
          39,
          40,
          41,
          42,
          43,
          44,
          45,
          46,
          47,
          48,
          49,
          50,
          51,
          52,
          53,
          54,
          55,
          56,
          57,
          58,
          59,
          60,
          61,
          62,
          63,
          64,
          65,
          66,
          67,
          68,
          69,
          70,
          71,
          72,
          73,
          74,
          75,
          76,
          77,
          78,
          79,
          80,
          81,
          82,
          83,
          84,
          85,
          86,
          87,
          88,
          89,
          90,
          91,
          92,
          93,
          94,
          95,
          96,
          97,
          98,
          99
         ],
         "y": [
          0.557,
          0.612,
          0.666,
          0.746,
          0.74,
          0.715,
          0.743,
          0.757,
          0.771,
          0.76,
          0.751,
          0.772,
          0.774,
          0.779,
          0.789,
          0.769,
          0.769,
          0.782,
          0.767,
          0.779,
          0.78,
          0.792,
          0.775,
          0.788,
          0.786,
          0.784,
          0.78,
          0.791,
          0.775,
          0.794,
          0.784,
          0.798,
          0.794,
          0.793,
          0.792,
          0.795,
          0.771,
          0.783,
          0.774,
          0.795,
          0.793,
          0.797,
          0.775,
          0.798,
          0.787,
          0.774,
          0.791,
          0.804,
          0.797,
          0.791,
          0.786,
          0.796,
          0.792,
          0.79,
          0.784,
          0.78,
          0.791,
          0.787,
          0.791,
          0.788,
          0.794,
          0.793,
          0.785,
          0.79,
          0.8,
          0.759,
          0.788,
          0.789,
          0.791,
          0.792,
          0.795,
          0.785,
          0.789,
          0.793,
          0.781,
          0.789,
          0.766,
          0.785,
          0.789,
          0.786,
          0.775,
          0.782,
          0.785,
          0.767,
          0.801,
          0.801,
          0.795,
          0.77,
          0.79,
          0.804,
          0.794,
          0.789,
          0.783,
          0.801,
          0.802,
          0.792,
          0.795,
          0.798,
          0.796,
          0.806
         ]
        },
        {
         "marker": {
          "maxdisplayed": 10
         },
         "mode": "lines+markers",
         "name": "Trial66",
         "type": "scatter",
         "x": [
          0,
          1,
          2,
          3,
          4,
          5,
          6
         ],
         "y": [
          0.527,
          0.624,
          0.669,
          0.679,
          0.663,
          0.71,
          0.713
         ]
        },
        {
         "marker": {
          "maxdisplayed": 10
         },
         "mode": "lines+markers",
         "name": "Trial67",
         "type": "scatter",
         "x": [
          0,
          1
         ],
         "y": [
          0.524,
          0.606
         ]
        },
        {
         "marker": {
          "maxdisplayed": 10
         },
         "mode": "lines+markers",
         "name": "Trial68",
         "type": "scatter",
         "x": [
          0,
          1,
          2,
          3,
          4,
          5,
          6,
          7,
          8,
          9,
          10,
          11,
          12,
          13,
          14,
          15,
          16,
          17,
          18,
          19,
          20,
          21,
          22,
          23,
          24,
          25,
          26,
          27,
          28,
          29,
          30,
          31,
          32,
          33,
          34,
          35,
          36,
          37,
          38,
          39,
          40,
          41,
          42,
          43,
          44,
          45,
          46,
          47,
          48,
          49,
          50,
          51,
          52,
          53,
          54,
          55,
          56,
          57,
          58,
          59,
          60,
          61,
          62,
          63,
          64,
          65,
          66,
          67,
          68,
          69,
          70,
          71,
          72,
          73,
          74,
          75,
          76,
          77,
          78,
          79,
          80,
          81,
          82,
          83,
          84,
          85,
          86,
          87,
          88,
          89,
          90,
          91,
          92,
          93,
          94,
          95,
          96,
          97,
          98,
          99
         ],
         "y": [
          0.529,
          0.624,
          0.654,
          0.696,
          0.698,
          0.706,
          0.729,
          0.727,
          0.724,
          0.741,
          0.748,
          0.736,
          0.738,
          0.764,
          0.757,
          0.747,
          0.751,
          0.761,
          0.754,
          0.754,
          0.759,
          0.776,
          0.755,
          0.775,
          0.766,
          0.759,
          0.767,
          0.769,
          0.773,
          0.769,
          0.759,
          0.774,
          0.764,
          0.776,
          0.779,
          0.767,
          0.763,
          0.759,
          0.767,
          0.762,
          0.767,
          0.769,
          0.775,
          0.775,
          0.76,
          0.769,
          0.783,
          0.757,
          0.76,
          0.762,
          0.785,
          0.772,
          0.785,
          0.789,
          0.781,
          0.771,
          0.785,
          0.776,
          0.776,
          0.77,
          0.8,
          0.77,
          0.761,
          0.762,
          0.781,
          0.776,
          0.781,
          0.772,
          0.767,
          0.771,
          0.785,
          0.771,
          0.79,
          0.78,
          0.791,
          0.788,
          0.801,
          0.78,
          0.786,
          0.786,
          0.73,
          0.751,
          0.753,
          0.78,
          0.768,
          0.744,
          0.778,
          0.794,
          0.763,
          0.798,
          0.789,
          0.777,
          0.781,
          0.779,
          0.782,
          0.797,
          0.795,
          0.795,
          0.774,
          0.797
         ]
        },
        {
         "marker": {
          "maxdisplayed": 10
         },
         "mode": "lines+markers",
         "name": "Trial69",
         "type": "scatter",
         "x": [
          0,
          1
         ],
         "y": [
          0.129,
          0.141
         ]
        },
        {
         "marker": {
          "maxdisplayed": 10
         },
         "mode": "lines+markers",
         "name": "Trial70",
         "type": "scatter",
         "x": [
          0,
          1
         ],
         "y": [
          0.44,
          0.584
         ]
        },
        {
         "marker": {
          "maxdisplayed": 10
         },
         "mode": "lines+markers",
         "name": "Trial71",
         "type": "scatter",
         "x": [
          0,
          1
         ],
         "y": [
          0.439,
          0.602
         ]
        },
        {
         "marker": {
          "maxdisplayed": 10
         },
         "mode": "lines+markers",
         "name": "Trial72",
         "type": "scatter",
         "x": [
          0,
          1
         ],
         "y": [
          0.491,
          0.594
         ]
        },
        {
         "marker": {
          "maxdisplayed": 10
         },
         "mode": "lines+markers",
         "name": "Trial73",
         "type": "scatter",
         "x": [
          0,
          1
         ],
         "y": [
          0.473,
          0.602
         ]
        },
        {
         "marker": {
          "maxdisplayed": 10
         },
         "mode": "lines+markers",
         "name": "Trial74",
         "type": "scatter",
         "x": [
          0,
          1,
          2,
          3,
          4,
          5,
          6,
          7,
          8,
          9,
          10
         ],
         "y": [
          0.537,
          0.657,
          0.665,
          0.674,
          0.716,
          0.72,
          0.723,
          0.728,
          0.704,
          0.718,
          0.722
         ]
        },
        {
         "marker": {
          "maxdisplayed": 10
         },
         "mode": "lines+markers",
         "name": "Trial75",
         "type": "scatter",
         "x": [
          0,
          1,
          2,
          3,
          4,
          5,
          6,
          7,
          8,
          9,
          10,
          11,
          12,
          13,
          14
         ],
         "y": [
          0.58,
          0.627,
          0.683,
          0.664,
          0.698,
          0.726,
          0.711,
          0.706,
          0.74,
          0.711,
          0.716,
          0.743,
          0.737,
          0.719,
          0.717
         ]
        },
        {
         "marker": {
          "maxdisplayed": 10
         },
         "mode": "lines+markers",
         "name": "Trial76",
         "type": "scatter",
         "x": [
          0,
          1
         ],
         "y": [
          0.513,
          0.555
         ]
        },
        {
         "marker": {
          "maxdisplayed": 10
         },
         "mode": "lines+markers",
         "name": "Trial77",
         "type": "scatter",
         "x": [
          0,
          1,
          2,
          3,
          4,
          5,
          6,
          7,
          8,
          9,
          10,
          11,
          12,
          13,
          14,
          15,
          16,
          17,
          18,
          19,
          20,
          21,
          22,
          23,
          24,
          25,
          26,
          27,
          28,
          29,
          30,
          31,
          32,
          33,
          34,
          35,
          36,
          37,
          38,
          39,
          40,
          41,
          42,
          43,
          44,
          45,
          46,
          47,
          48,
          49,
          50,
          51,
          52,
          53,
          54,
          55,
          56,
          57,
          58,
          59,
          60,
          61,
          62,
          63,
          64,
          65,
          66,
          67,
          68,
          69,
          70,
          71,
          72,
          73,
          74,
          75,
          76,
          77,
          78,
          79,
          80,
          81,
          82,
          83,
          84,
          85,
          86,
          87,
          88,
          89,
          90,
          91,
          92,
          93,
          94,
          95,
          96,
          97,
          98,
          99
         ],
         "y": [
          0.53,
          0.639,
          0.652,
          0.707,
          0.721,
          0.721,
          0.745,
          0.743,
          0.739,
          0.763,
          0.758,
          0.762,
          0.78,
          0.759,
          0.773,
          0.763,
          0.77,
          0.76,
          0.779,
          0.774,
          0.777,
          0.761,
          0.764,
          0.777,
          0.769,
          0.768,
          0.796,
          0.783,
          0.788,
          0.76,
          0.774,
          0.763,
          0.788,
          0.784,
          0.787,
          0.783,
          0.778,
          0.798,
          0.801,
          0.787,
          0.779,
          0.784,
          0.792,
          0.786,
          0.791,
          0.778,
          0.785,
          0.799,
          0.791,
          0.765,
          0.774,
          0.763,
          0.786,
          0.771,
          0.795,
          0.787,
          0.785,
          0.786,
          0.791,
          0.792,
          0.769,
          0.783,
          0.781,
          0.788,
          0.783,
          0.774,
          0.782,
          0.793,
          0.776,
          0.785,
          0.757,
          0.783,
          0.792,
          0.789,
          0.768,
          0.781,
          0.796,
          0.793,
          0.794,
          0.797,
          0.789,
          0.793,
          0.787,
          0.794,
          0.79,
          0.787,
          0.77,
          0.784,
          0.798,
          0.789,
          0.775,
          0.787,
          0.739,
          0.785,
          0.752,
          0.786,
          0.794,
          0.785,
          0.792,
          0.788
         ]
        },
        {
         "marker": {
          "maxdisplayed": 10
         },
         "mode": "lines+markers",
         "name": "Trial78",
         "type": "scatter",
         "x": [
          0,
          1
         ],
         "y": [
          0.41,
          0.471
         ]
        },
        {
         "marker": {
          "maxdisplayed": 10
         },
         "mode": "lines+markers",
         "name": "Trial79",
         "type": "scatter",
         "x": [
          0,
          1
         ],
         "y": [
          0.201,
          0.255
         ]
        },
        {
         "marker": {
          "maxdisplayed": 10
         },
         "mode": "lines+markers",
         "name": "Trial80",
         "type": "scatter",
         "x": [
          0,
          1
         ],
         "y": [
          0.533,
          0.322
         ]
        },
        {
         "marker": {
          "maxdisplayed": 10
         },
         "mode": "lines+markers",
         "name": "Trial81",
         "type": "scatter",
         "x": [
          0,
          1,
          2,
          3,
          4,
          5,
          6,
          7,
          8,
          9,
          10,
          11,
          12,
          13,
          14,
          15,
          16,
          17,
          18,
          19,
          20,
          21,
          22,
          23,
          24,
          25,
          26,
          27,
          28,
          29,
          30,
          31,
          32,
          33,
          34,
          35,
          36,
          37,
          38,
          39,
          40,
          41,
          42,
          43,
          44,
          45,
          46,
          47,
          48,
          49,
          50,
          51,
          52,
          53,
          54,
          55,
          56,
          57,
          58,
          59,
          60,
          61,
          62,
          63,
          64,
          65,
          66,
          67,
          68,
          69,
          70,
          71,
          72,
          73,
          74,
          75,
          76,
          77,
          78,
          79,
          80,
          81,
          82,
          83,
          84,
          85,
          86,
          87,
          88,
          89,
          90,
          91,
          92,
          93,
          94,
          95,
          96,
          97,
          98,
          99
         ],
         "y": [
          0.45,
          0.664,
          0.69,
          0.708,
          0.712,
          0.739,
          0.756,
          0.756,
          0.742,
          0.751,
          0.76,
          0.769,
          0.769,
          0.774,
          0.762,
          0.784,
          0.782,
          0.761,
          0.789,
          0.784,
          0.796,
          0.781,
          0.789,
          0.793,
          0.794,
          0.779,
          0.788,
          0.794,
          0.786,
          0.767,
          0.797,
          0.79,
          0.78,
          0.79,
          0.787,
          0.769,
          0.775,
          0.77,
          0.776,
          0.796,
          0.787,
          0.794,
          0.792,
          0.79,
          0.779,
          0.787,
          0.804,
          0.779,
          0.804,
          0.804,
          0.787,
          0.801,
          0.81,
          0.799,
          0.788,
          0.793,
          0.792,
          0.786,
          0.782,
          0.782,
          0.8,
          0.802,
          0.777,
          0.782,
          0.788,
          0.81,
          0.796,
          0.788,
          0.8,
          0.778,
          0.794,
          0.788,
          0.786,
          0.788,
          0.806,
          0.794,
          0.79,
          0.795,
          0.799,
          0.803,
          0.785,
          0.773,
          0.79,
          0.785,
          0.774,
          0.768,
          0.774,
          0.77,
          0.743,
          0.788,
          0.784,
          0.795,
          0.765,
          0.777,
          0.796,
          0.772,
          0.788,
          0.792,
          0.778,
          0.781
         ]
        },
        {
         "marker": {
          "maxdisplayed": 10
         },
         "mode": "lines+markers",
         "name": "Trial82",
         "type": "scatter",
         "x": [
          0,
          1,
          2,
          3
         ],
         "y": [
          0.529,
          0.621,
          0.657,
          0.673
         ]
        },
        {
         "marker": {
          "maxdisplayed": 10
         },
         "mode": "lines+markers",
         "name": "Trial83",
         "type": "scatter",
         "x": [
          0,
          1,
          2
         ],
         "y": [
          0.558,
          0.648,
          0.635
         ]
        },
        {
         "marker": {
          "maxdisplayed": 10
         },
         "mode": "lines+markers",
         "name": "Trial84",
         "type": "scatter",
         "x": [
          0,
          1,
          2,
          3,
          4,
          5,
          6,
          7,
          8,
          9,
          10,
          11,
          12,
          13,
          14,
          15,
          16,
          17,
          18,
          19,
          20,
          21,
          22,
          23,
          24,
          25,
          26,
          27,
          28,
          29,
          30,
          31,
          32,
          33,
          34,
          35,
          36,
          37,
          38,
          39,
          40,
          41,
          42,
          43,
          44,
          45,
          46,
          47,
          48,
          49,
          50,
          51,
          52,
          53,
          54,
          55,
          56,
          57,
          58,
          59,
          60,
          61,
          62,
          63,
          64,
          65,
          66,
          67,
          68,
          69,
          70,
          71,
          72,
          73,
          74,
          75,
          76,
          77,
          78,
          79,
          80,
          81,
          82,
          83,
          84,
          85,
          86,
          87,
          88,
          89,
          90,
          91,
          92,
          93,
          94,
          95,
          96,
          97,
          98,
          99
         ],
         "y": [
          0.404,
          0.62,
          0.659,
          0.701,
          0.682,
          0.72,
          0.703,
          0.735,
          0.754,
          0.767,
          0.726,
          0.769,
          0.757,
          0.77,
          0.757,
          0.768,
          0.777,
          0.761,
          0.776,
          0.78,
          0.774,
          0.772,
          0.764,
          0.779,
          0.775,
          0.787,
          0.773,
          0.771,
          0.781,
          0.772,
          0.777,
          0.784,
          0.784,
          0.793,
          0.786,
          0.779,
          0.786,
          0.787,
          0.782,
          0.775,
          0.786,
          0.779,
          0.788,
          0.79,
          0.777,
          0.792,
          0.782,
          0.788,
          0.786,
          0.794,
          0.785,
          0.786,
          0.792,
          0.791,
          0.796,
          0.79,
          0.795,
          0.783,
          0.79,
          0.784,
          0.795,
          0.788,
          0.775,
          0.783,
          0.776,
          0.783,
          0.797,
          0.787,
          0.79,
          0.782,
          0.778,
          0.756,
          0.792,
          0.791,
          0.785,
          0.776,
          0.771,
          0.784,
          0.784,
          0.788,
          0.782,
          0.773,
          0.776,
          0.768,
          0.797,
          0.793,
          0.804,
          0.785,
          0.769,
          0.787,
          0.792,
          0.786,
          0.799,
          0.79,
          0.788,
          0.791,
          0.803,
          0.791,
          0.792,
          0.793
         ]
        },
        {
         "marker": {
          "maxdisplayed": 10
         },
         "mode": "lines+markers",
         "name": "Trial85",
         "type": "scatter",
         "x": [
          0,
          1,
          2,
          3,
          4,
          5,
          6,
          7,
          8,
          9,
          10,
          11,
          12,
          13,
          14,
          15,
          16,
          17,
          18,
          19,
          20,
          21,
          22,
          23,
          24,
          25,
          26,
          27,
          28,
          29,
          30,
          31,
          32,
          33,
          34,
          35,
          36,
          37,
          38,
          39,
          40,
          41,
          42,
          43,
          44,
          45,
          46,
          47,
          48,
          49,
          50,
          51,
          52,
          53,
          54,
          55,
          56,
          57,
          58,
          59,
          60,
          61,
          62,
          63,
          64,
          65,
          66,
          67,
          68,
          69,
          70,
          71,
          72,
          73,
          74,
          75,
          76,
          77,
          78,
          79,
          80,
          81,
          82,
          83,
          84,
          85,
          86,
          87,
          88,
          89,
          90,
          91,
          92,
          93,
          94,
          95,
          96,
          97,
          98,
          99
         ],
         "y": [
          0.473,
          0.64,
          0.663,
          0.696,
          0.704,
          0.747,
          0.707,
          0.715,
          0.743,
          0.771,
          0.747,
          0.755,
          0.756,
          0.764,
          0.766,
          0.764,
          0.764,
          0.771,
          0.776,
          0.783,
          0.781,
          0.775,
          0.769,
          0.771,
          0.743,
          0.788,
          0.776,
          0.745,
          0.779,
          0.781,
          0.784,
          0.767,
          0.764,
          0.782,
          0.781,
          0.779,
          0.773,
          0.773,
          0.77,
          0.782,
          0.774,
          0.769,
          0.75,
          0.764,
          0.792,
          0.784,
          0.788,
          0.79,
          0.787,
          0.781,
          0.772,
          0.795,
          0.8,
          0.795,
          0.78,
          0.788,
          0.774,
          0.763,
          0.782,
          0.795,
          0.777,
          0.78,
          0.778,
          0.786,
          0.778,
          0.779,
          0.771,
          0.783,
          0.78,
          0.792,
          0.784,
          0.782,
          0.76,
          0.778,
          0.784,
          0.77,
          0.772,
          0.744,
          0.778,
          0.742,
          0.782,
          0.764,
          0.791,
          0.802,
          0.803,
          0.807,
          0.802,
          0.79,
          0.796,
          0.798,
          0.796,
          0.785,
          0.782,
          0.781,
          0.787,
          0.792,
          0.791,
          0.766,
          0.77,
          0.787
         ]
        },
        {
         "marker": {
          "maxdisplayed": 10
         },
         "mode": "lines+markers",
         "name": "Trial86",
         "type": "scatter",
         "x": [
          0,
          1,
          2,
          3,
          4,
          5,
          6,
          7,
          8,
          9,
          10,
          11,
          12,
          13,
          14,
          15,
          16,
          17,
          18,
          19,
          20,
          21,
          22,
          23,
          24,
          25,
          26,
          27,
          28,
          29,
          30,
          31,
          32,
          33,
          34,
          35,
          36,
          37,
          38,
          39,
          40,
          41,
          42,
          43,
          44,
          45,
          46,
          47,
          48,
          49,
          50,
          51,
          52,
          53,
          54,
          55,
          56,
          57,
          58,
          59,
          60,
          61,
          62,
          63,
          64,
          65,
          66,
          67,
          68,
          69,
          70,
          71,
          72,
          73,
          74,
          75,
          76,
          77,
          78,
          79,
          80,
          81,
          82,
          83,
          84,
          85,
          86,
          87,
          88,
          89,
          90,
          91,
          92,
          93,
          94,
          95,
          96,
          97,
          98,
          99
         ],
         "y": [
          0.539,
          0.673,
          0.67,
          0.702,
          0.74,
          0.736,
          0.757,
          0.737,
          0.722,
          0.723,
          0.733,
          0.758,
          0.738,
          0.777,
          0.773,
          0.747,
          0.774,
          0.78,
          0.746,
          0.776,
          0.776,
          0.787,
          0.774,
          0.794,
          0.784,
          0.778,
          0.779,
          0.782,
          0.782,
          0.769,
          0.786,
          0.778,
          0.78,
          0.792,
          0.781,
          0.785,
          0.797,
          0.775,
          0.79,
          0.778,
          0.768,
          0.787,
          0.777,
          0.768,
          0.793,
          0.789,
          0.791,
          0.795,
          0.792,
          0.784,
          0.8,
          0.776,
          0.791,
          0.777,
          0.768,
          0.79,
          0.793,
          0.787,
          0.8,
          0.791,
          0.798,
          0.806,
          0.791,
          0.792,
          0.79,
          0.796,
          0.793,
          0.793,
          0.789,
          0.784,
          0.785,
          0.8,
          0.797,
          0.793,
          0.797,
          0.789,
          0.791,
          0.795,
          0.788,
          0.794,
          0.789,
          0.778,
          0.787,
          0.789,
          0.785,
          0.781,
          0.752,
          0.79,
          0.786,
          0.784,
          0.774,
          0.79,
          0.773,
          0.777,
          0.798,
          0.798,
          0.796,
          0.808,
          0.798,
          0.779
         ]
        },
        {
         "marker": {
          "maxdisplayed": 10
         },
         "mode": "lines+markers",
         "name": "Trial87",
         "type": "scatter",
         "x": [
          0,
          1,
          2
         ],
         "y": [
          0.606,
          0.648,
          0.639
         ]
        },
        {
         "marker": {
          "maxdisplayed": 10
         },
         "mode": "lines+markers",
         "name": "Trial88",
         "type": "scatter",
         "x": [
          0,
          1
         ],
         "y": [
          0.451,
          0.527
         ]
        },
        {
         "marker": {
          "maxdisplayed": 10
         },
         "mode": "lines+markers",
         "name": "Trial89",
         "type": "scatter",
         "x": [
          0,
          1
         ],
         "y": [
          0.405,
          0.558
         ]
        },
        {
         "marker": {
          "maxdisplayed": 10
         },
         "mode": "lines+markers",
         "name": "Trial90",
         "type": "scatter",
         "x": [
          0,
          1
         ],
         "y": [
          0.277,
          0.567
         ]
        },
        {
         "marker": {
          "maxdisplayed": 10
         },
         "mode": "lines+markers",
         "name": "Trial91",
         "type": "scatter",
         "x": [
          0,
          1,
          2
         ],
         "y": [
          0.465,
          0.633,
          0.632
         ]
        },
        {
         "marker": {
          "maxdisplayed": 10
         },
         "mode": "lines+markers",
         "name": "Trial92",
         "type": "scatter",
         "x": [
          0,
          1,
          2,
          3,
          4,
          5,
          6,
          7
         ],
         "y": [
          0.608,
          0.719,
          0.677,
          0.708,
          0.729,
          0.703,
          0.718,
          0.723
         ]
        },
        {
         "marker": {
          "maxdisplayed": 10
         },
         "mode": "lines+markers",
         "name": "Trial93",
         "type": "scatter",
         "x": [
          0,
          1
         ],
         "y": [
          0.495,
          0.58
         ]
        },
        {
         "marker": {
          "maxdisplayed": 10
         },
         "mode": "lines+markers",
         "name": "Trial94",
         "type": "scatter",
         "x": [
          0,
          1
         ],
         "y": [
          0.555,
          0.571
         ]
        },
        {
         "marker": {
          "maxdisplayed": 10
         },
         "mode": "lines+markers",
         "name": "Trial95",
         "type": "scatter",
         "x": [
          0,
          1
         ],
         "y": [
          0.46,
          0.584
         ]
        },
        {
         "marker": {
          "maxdisplayed": 10
         },
         "mode": "lines+markers",
         "name": "Trial96",
         "type": "scatter",
         "x": [
          0,
          1,
          2,
          3,
          4,
          5,
          6,
          7,
          8,
          9,
          10,
          11,
          12,
          13,
          14,
          15,
          16,
          17,
          18,
          19,
          20,
          21,
          22,
          23,
          24,
          25,
          26,
          27,
          28,
          29,
          30,
          31,
          32,
          33,
          34,
          35,
          36,
          37,
          38,
          39,
          40,
          41,
          42,
          43,
          44,
          45,
          46,
          47,
          48,
          49,
          50,
          51,
          52,
          53,
          54,
          55,
          56,
          57,
          58,
          59,
          60,
          61,
          62,
          63,
          64,
          65,
          66,
          67,
          68,
          69,
          70,
          71,
          72,
          73,
          74,
          75,
          76,
          77,
          78,
          79,
          80,
          81,
          82,
          83,
          84,
          85,
          86,
          87,
          88,
          89,
          90,
          91,
          92,
          93,
          94,
          95,
          96,
          97,
          98,
          99
         ],
         "y": [
          0.521,
          0.665,
          0.692,
          0.698,
          0.731,
          0.73,
          0.752,
          0.741,
          0.754,
          0.732,
          0.761,
          0.757,
          0.748,
          0.743,
          0.74,
          0.767,
          0.753,
          0.757,
          0.74,
          0.759,
          0.756,
          0.774,
          0.759,
          0.729,
          0.78,
          0.754,
          0.75,
          0.744,
          0.777,
          0.763,
          0.764,
          0.771,
          0.775,
          0.779,
          0.78,
          0.778,
          0.749,
          0.783,
          0.778,
          0.774,
          0.785,
          0.784,
          0.783,
          0.765,
          0.792,
          0.771,
          0.773,
          0.778,
          0.779,
          0.773,
          0.783,
          0.785,
          0.777,
          0.781,
          0.784,
          0.778,
          0.77,
          0.776,
          0.791,
          0.779,
          0.775,
          0.744,
          0.775,
          0.767,
          0.778,
          0.79,
          0.787,
          0.762,
          0.765,
          0.772,
          0.795,
          0.784,
          0.775,
          0.798,
          0.779,
          0.793,
          0.793,
          0.775,
          0.777,
          0.772,
          0.783,
          0.783,
          0.788,
          0.777,
          0.791,
          0.793,
          0.783,
          0.782,
          0.778,
          0.766,
          0.791,
          0.789,
          0.792,
          0.788,
          0.788,
          0.789,
          0.797,
          0.78,
          0.773,
          0.764
         ]
        },
        {
         "marker": {
          "maxdisplayed": 10
         },
         "mode": "lines+markers",
         "name": "Trial97",
         "type": "scatter",
         "x": [
          0,
          1,
          2
         ],
         "y": [
          0.486,
          0.63,
          0.655
         ]
        },
        {
         "marker": {
          "maxdisplayed": 10
         },
         "mode": "lines+markers",
         "name": "Trial98",
         "type": "scatter",
         "x": [
          0,
          1,
          2
         ],
         "y": [
          0.356,
          0.622,
          0.625
         ]
        },
        {
         "marker": {
          "maxdisplayed": 10
         },
         "mode": "lines+markers",
         "name": "Trial99",
         "type": "scatter",
         "x": [
          0,
          1,
          2,
          3
         ],
         "y": [
          0.329,
          0.637,
          0.663,
          0.63
         ]
        }
       ],
       "layout": {
        "showlegend": false,
        "template": {
         "data": {
          "bar": [
           {
            "error_x": {
             "color": "#2a3f5f"
            },
            "error_y": {
             "color": "#2a3f5f"
            },
            "marker": {
             "line": {
              "color": "#E5ECF6",
              "width": 0.5
             }
            },
            "type": "bar"
           }
          ],
          "barpolar": [
           {
            "marker": {
             "line": {
              "color": "#E5ECF6",
              "width": 0.5
             }
            },
            "type": "barpolar"
           }
          ],
          "carpet": [
           {
            "aaxis": {
             "endlinecolor": "#2a3f5f",
             "gridcolor": "white",
             "linecolor": "white",
             "minorgridcolor": "white",
             "startlinecolor": "#2a3f5f"
            },
            "baxis": {
             "endlinecolor": "#2a3f5f",
             "gridcolor": "white",
             "linecolor": "white",
             "minorgridcolor": "white",
             "startlinecolor": "#2a3f5f"
            },
            "type": "carpet"
           }
          ],
          "choropleth": [
           {
            "colorbar": {
             "outlinewidth": 0,
             "ticks": ""
            },
            "type": "choropleth"
           }
          ],
          "contour": [
           {
            "colorbar": {
             "outlinewidth": 0,
             "ticks": ""
            },
            "colorscale": [
             [
              0,
              "#0d0887"
             ],
             [
              0.1111111111111111,
              "#46039f"
             ],
             [
              0.2222222222222222,
              "#7201a8"
             ],
             [
              0.3333333333333333,
              "#9c179e"
             ],
             [
              0.4444444444444444,
              "#bd3786"
             ],
             [
              0.5555555555555556,
              "#d8576b"
             ],
             [
              0.6666666666666666,
              "#ed7953"
             ],
             [
              0.7777777777777778,
              "#fb9f3a"
             ],
             [
              0.8888888888888888,
              "#fdca26"
             ],
             [
              1,
              "#f0f921"
             ]
            ],
            "type": "contour"
           }
          ],
          "contourcarpet": [
           {
            "colorbar": {
             "outlinewidth": 0,
             "ticks": ""
            },
            "type": "contourcarpet"
           }
          ],
          "heatmap": [
           {
            "colorbar": {
             "outlinewidth": 0,
             "ticks": ""
            },
            "colorscale": [
             [
              0,
              "#0d0887"
             ],
             [
              0.1111111111111111,
              "#46039f"
             ],
             [
              0.2222222222222222,
              "#7201a8"
             ],
             [
              0.3333333333333333,
              "#9c179e"
             ],
             [
              0.4444444444444444,
              "#bd3786"
             ],
             [
              0.5555555555555556,
              "#d8576b"
             ],
             [
              0.6666666666666666,
              "#ed7953"
             ],
             [
              0.7777777777777778,
              "#fb9f3a"
             ],
             [
              0.8888888888888888,
              "#fdca26"
             ],
             [
              1,
              "#f0f921"
             ]
            ],
            "type": "heatmap"
           }
          ],
          "heatmapgl": [
           {
            "colorbar": {
             "outlinewidth": 0,
             "ticks": ""
            },
            "colorscale": [
             [
              0,
              "#0d0887"
             ],
             [
              0.1111111111111111,
              "#46039f"
             ],
             [
              0.2222222222222222,
              "#7201a8"
             ],
             [
              0.3333333333333333,
              "#9c179e"
             ],
             [
              0.4444444444444444,
              "#bd3786"
             ],
             [
              0.5555555555555556,
              "#d8576b"
             ],
             [
              0.6666666666666666,
              "#ed7953"
             ],
             [
              0.7777777777777778,
              "#fb9f3a"
             ],
             [
              0.8888888888888888,
              "#fdca26"
             ],
             [
              1,
              "#f0f921"
             ]
            ],
            "type": "heatmapgl"
           }
          ],
          "histogram": [
           {
            "marker": {
             "colorbar": {
              "outlinewidth": 0,
              "ticks": ""
             }
            },
            "type": "histogram"
           }
          ],
          "histogram2d": [
           {
            "colorbar": {
             "outlinewidth": 0,
             "ticks": ""
            },
            "colorscale": [
             [
              0,
              "#0d0887"
             ],
             [
              0.1111111111111111,
              "#46039f"
             ],
             [
              0.2222222222222222,
              "#7201a8"
             ],
             [
              0.3333333333333333,
              "#9c179e"
             ],
             [
              0.4444444444444444,
              "#bd3786"
             ],
             [
              0.5555555555555556,
              "#d8576b"
             ],
             [
              0.6666666666666666,
              "#ed7953"
             ],
             [
              0.7777777777777778,
              "#fb9f3a"
             ],
             [
              0.8888888888888888,
              "#fdca26"
             ],
             [
              1,
              "#f0f921"
             ]
            ],
            "type": "histogram2d"
           }
          ],
          "histogram2dcontour": [
           {
            "colorbar": {
             "outlinewidth": 0,
             "ticks": ""
            },
            "colorscale": [
             [
              0,
              "#0d0887"
             ],
             [
              0.1111111111111111,
              "#46039f"
             ],
             [
              0.2222222222222222,
              "#7201a8"
             ],
             [
              0.3333333333333333,
              "#9c179e"
             ],
             [
              0.4444444444444444,
              "#bd3786"
             ],
             [
              0.5555555555555556,
              "#d8576b"
             ],
             [
              0.6666666666666666,
              "#ed7953"
             ],
             [
              0.7777777777777778,
              "#fb9f3a"
             ],
             [
              0.8888888888888888,
              "#fdca26"
             ],
             [
              1,
              "#f0f921"
             ]
            ],
            "type": "histogram2dcontour"
           }
          ],
          "mesh3d": [
           {
            "colorbar": {
             "outlinewidth": 0,
             "ticks": ""
            },
            "type": "mesh3d"
           }
          ],
          "parcoords": [
           {
            "line": {
             "colorbar": {
              "outlinewidth": 0,
              "ticks": ""
             }
            },
            "type": "parcoords"
           }
          ],
          "pie": [
           {
            "automargin": true,
            "type": "pie"
           }
          ],
          "scatter": [
           {
            "marker": {
             "colorbar": {
              "outlinewidth": 0,
              "ticks": ""
             }
            },
            "type": "scatter"
           }
          ],
          "scatter3d": [
           {
            "line": {
             "colorbar": {
              "outlinewidth": 0,
              "ticks": ""
             }
            },
            "marker": {
             "colorbar": {
              "outlinewidth": 0,
              "ticks": ""
             }
            },
            "type": "scatter3d"
           }
          ],
          "scattercarpet": [
           {
            "marker": {
             "colorbar": {
              "outlinewidth": 0,
              "ticks": ""
             }
            },
            "type": "scattercarpet"
           }
          ],
          "scattergeo": [
           {
            "marker": {
             "colorbar": {
              "outlinewidth": 0,
              "ticks": ""
             }
            },
            "type": "scattergeo"
           }
          ],
          "scattergl": [
           {
            "marker": {
             "colorbar": {
              "outlinewidth": 0,
              "ticks": ""
             }
            },
            "type": "scattergl"
           }
          ],
          "scattermapbox": [
           {
            "marker": {
             "colorbar": {
              "outlinewidth": 0,
              "ticks": ""
             }
            },
            "type": "scattermapbox"
           }
          ],
          "scatterpolar": [
           {
            "marker": {
             "colorbar": {
              "outlinewidth": 0,
              "ticks": ""
             }
            },
            "type": "scatterpolar"
           }
          ],
          "scatterpolargl": [
           {
            "marker": {
             "colorbar": {
              "outlinewidth": 0,
              "ticks": ""
             }
            },
            "type": "scatterpolargl"
           }
          ],
          "scatterternary": [
           {
            "marker": {
             "colorbar": {
              "outlinewidth": 0,
              "ticks": ""
             }
            },
            "type": "scatterternary"
           }
          ],
          "surface": [
           {
            "colorbar": {
             "outlinewidth": 0,
             "ticks": ""
            },
            "colorscale": [
             [
              0,
              "#0d0887"
             ],
             [
              0.1111111111111111,
              "#46039f"
             ],
             [
              0.2222222222222222,
              "#7201a8"
             ],
             [
              0.3333333333333333,
              "#9c179e"
             ],
             [
              0.4444444444444444,
              "#bd3786"
             ],
             [
              0.5555555555555556,
              "#d8576b"
             ],
             [
              0.6666666666666666,
              "#ed7953"
             ],
             [
              0.7777777777777778,
              "#fb9f3a"
             ],
             [
              0.8888888888888888,
              "#fdca26"
             ],
             [
              1,
              "#f0f921"
             ]
            ],
            "type": "surface"
           }
          ],
          "table": [
           {
            "cells": {
             "fill": {
              "color": "#EBF0F8"
             },
             "line": {
              "color": "white"
             }
            },
            "header": {
             "fill": {
              "color": "#C8D4E3"
             },
             "line": {
              "color": "white"
             }
            },
            "type": "table"
           }
          ]
         },
         "layout": {
          "annotationdefaults": {
           "arrowcolor": "#2a3f5f",
           "arrowhead": 0,
           "arrowwidth": 1
          },
          "coloraxis": {
           "colorbar": {
            "outlinewidth": 0,
            "ticks": ""
           }
          },
          "colorscale": {
           "diverging": [
            [
             0,
             "#8e0152"
            ],
            [
             0.1,
             "#c51b7d"
            ],
            [
             0.2,
             "#de77ae"
            ],
            [
             0.3,
             "#f1b6da"
            ],
            [
             0.4,
             "#fde0ef"
            ],
            [
             0.5,
             "#f7f7f7"
            ],
            [
             0.6,
             "#e6f5d0"
            ],
            [
             0.7,
             "#b8e186"
            ],
            [
             0.8,
             "#7fbc41"
            ],
            [
             0.9,
             "#4d9221"
            ],
            [
             1,
             "#276419"
            ]
           ],
           "sequential": [
            [
             0,
             "#0d0887"
            ],
            [
             0.1111111111111111,
             "#46039f"
            ],
            [
             0.2222222222222222,
             "#7201a8"
            ],
            [
             0.3333333333333333,
             "#9c179e"
            ],
            [
             0.4444444444444444,
             "#bd3786"
            ],
            [
             0.5555555555555556,
             "#d8576b"
            ],
            [
             0.6666666666666666,
             "#ed7953"
            ],
            [
             0.7777777777777778,
             "#fb9f3a"
            ],
            [
             0.8888888888888888,
             "#fdca26"
            ],
            [
             1,
             "#f0f921"
            ]
           ],
           "sequentialminus": [
            [
             0,
             "#0d0887"
            ],
            [
             0.1111111111111111,
             "#46039f"
            ],
            [
             0.2222222222222222,
             "#7201a8"
            ],
            [
             0.3333333333333333,
             "#9c179e"
            ],
            [
             0.4444444444444444,
             "#bd3786"
            ],
            [
             0.5555555555555556,
             "#d8576b"
            ],
            [
             0.6666666666666666,
             "#ed7953"
            ],
            [
             0.7777777777777778,
             "#fb9f3a"
            ],
            [
             0.8888888888888888,
             "#fdca26"
            ],
            [
             1,
             "#f0f921"
            ]
           ]
          },
          "colorway": [
           "#636efa",
           "#EF553B",
           "#00cc96",
           "#ab63fa",
           "#FFA15A",
           "#19d3f3",
           "#FF6692",
           "#B6E880",
           "#FF97FF",
           "#FECB52"
          ],
          "font": {
           "color": "#2a3f5f"
          },
          "geo": {
           "bgcolor": "white",
           "lakecolor": "white",
           "landcolor": "#E5ECF6",
           "showlakes": true,
           "showland": true,
           "subunitcolor": "white"
          },
          "hoverlabel": {
           "align": "left"
          },
          "hovermode": "closest",
          "mapbox": {
           "style": "light"
          },
          "paper_bgcolor": "white",
          "plot_bgcolor": "#E5ECF6",
          "polar": {
           "angularaxis": {
            "gridcolor": "white",
            "linecolor": "white",
            "ticks": ""
           },
           "bgcolor": "#E5ECF6",
           "radialaxis": {
            "gridcolor": "white",
            "linecolor": "white",
            "ticks": ""
           }
          },
          "scene": {
           "xaxis": {
            "backgroundcolor": "#E5ECF6",
            "gridcolor": "white",
            "gridwidth": 2,
            "linecolor": "white",
            "showbackground": true,
            "ticks": "",
            "zerolinecolor": "white"
           },
           "yaxis": {
            "backgroundcolor": "#E5ECF6",
            "gridcolor": "white",
            "gridwidth": 2,
            "linecolor": "white",
            "showbackground": true,
            "ticks": "",
            "zerolinecolor": "white"
           },
           "zaxis": {
            "backgroundcolor": "#E5ECF6",
            "gridcolor": "white",
            "gridwidth": 2,
            "linecolor": "white",
            "showbackground": true,
            "ticks": "",
            "zerolinecolor": "white"
           }
          },
          "shapedefaults": {
           "line": {
            "color": "#2a3f5f"
           }
          },
          "ternary": {
           "aaxis": {
            "gridcolor": "white",
            "linecolor": "white",
            "ticks": ""
           },
           "baxis": {
            "gridcolor": "white",
            "linecolor": "white",
            "ticks": ""
           },
           "bgcolor": "#E5ECF6",
           "caxis": {
            "gridcolor": "white",
            "linecolor": "white",
            "ticks": ""
           }
          },
          "title": {
           "x": 0.05
          },
          "xaxis": {
           "automargin": true,
           "gridcolor": "white",
           "linecolor": "white",
           "ticks": "",
           "title": {
            "standoff": 15
           },
           "zerolinecolor": "white",
           "zerolinewidth": 2
          },
          "yaxis": {
           "automargin": true,
           "gridcolor": "white",
           "linecolor": "white",
           "ticks": "",
           "title": {
            "standoff": 15
           },
           "zerolinecolor": "white",
           "zerolinewidth": 2
          }
         }
        },
        "title": {
         "text": "Intermediate Values Plot"
        },
        "xaxis": {
         "title": {
          "text": "Step"
         }
        },
        "yaxis": {
         "title": {
          "text": "Intermediate Value"
         }
        }
       }
      },
      "text/html": [
       "<div>\n",
       "        \n",
       "        \n",
       "            <div id=\"98bfa569-6e38-453d-a640-0401e7fb3581\" class=\"plotly-graph-div\" style=\"height:525px; width:100%;\"></div>\n",
       "            <script type=\"text/javascript\">\n",
       "                require([\"plotly\"], function(Plotly) {\n",
       "                    window.PLOTLYENV=window.PLOTLYENV || {};\n",
       "                    \n",
       "                if (document.getElementById(\"98bfa569-6e38-453d-a640-0401e7fb3581\")) {\n",
       "                    Plotly.newPlot(\n",
       "                        '98bfa569-6e38-453d-a640-0401e7fb3581',\n",
       "                        [{\"marker\": {\"maxdisplayed\": 10}, \"mode\": \"lines+markers\", \"name\": \"Trial0\", \"type\": \"scatter\", \"x\": [0, 1, 2, 3, 4, 5, 6, 7, 8, 9, 10, 11, 12, 13, 14, 15, 16, 17, 18, 19, 20, 21, 22, 23, 24, 25, 26, 27, 28, 29, 30, 31, 32, 33, 34, 35, 36, 37, 38, 39, 40, 41, 42, 43, 44, 45, 46, 47, 48, 49, 50, 51, 52, 53, 54, 55, 56, 57, 58, 59, 60, 61, 62, 63, 64, 65, 66, 67, 68, 69, 70, 71, 72, 73, 74, 75, 76, 77, 78, 79, 80, 81, 82, 83, 84, 85, 86, 87, 88, 89, 90, 91, 92, 93, 94, 95, 96, 97, 98, 99], \"y\": [0.504, 0.633, 0.624, 0.653, 0.664, 0.68, 0.698, 0.699, 0.706, 0.703, 0.69, 0.708, 0.716, 0.732, 0.722, 0.73, 0.728, 0.731, 0.746, 0.743, 0.724, 0.745, 0.738, 0.753, 0.753, 0.734, 0.745, 0.745, 0.76, 0.759, 0.755, 0.755, 0.722, 0.745, 0.762, 0.762, 0.766, 0.747, 0.751, 0.764, 0.763, 0.762, 0.764, 0.746, 0.761, 0.76, 0.759, 0.754, 0.752, 0.762, 0.764, 0.78, 0.766, 0.757, 0.758, 0.77, 0.748, 0.771, 0.768, 0.764, 0.766, 0.759, 0.767, 0.765, 0.765, 0.754, 0.766, 0.768, 0.765, 0.766, 0.764, 0.764, 0.769, 0.752, 0.756, 0.753, 0.758, 0.762, 0.751, 0.775, 0.771, 0.773, 0.773, 0.771, 0.756, 0.755, 0.762, 0.762, 0.762, 0.759, 0.764, 0.764, 0.772, 0.769, 0.761, 0.764, 0.779, 0.769, 0.767, 0.77]}, {\"marker\": {\"maxdisplayed\": 10}, \"mode\": \"lines+markers\", \"name\": \"Trial1\", \"type\": \"scatter\", \"x\": [0, 1, 2, 3, 4, 5, 6, 7, 8, 9, 10, 11, 12, 13, 14, 15, 16, 17, 18, 19, 20, 21, 22, 23, 24, 25, 26, 27, 28, 29, 30, 31, 32, 33, 34, 35, 36, 37, 38, 39, 40, 41, 42, 43, 44, 45, 46, 47, 48, 49, 50, 51, 52, 53, 54, 55, 56, 57, 58, 59, 60, 61, 62, 63, 64, 65, 66, 67, 68, 69, 70, 71, 72, 73, 74, 75, 76, 77, 78, 79, 80, 81, 82, 83, 84, 85, 86, 87, 88, 89, 90, 91, 92, 93, 94, 95, 96, 97, 98, 99], \"y\": [0.126, 0.158, 0.146, 0.195, 0.278, 0.328, 0.357, 0.379, 0.404, 0.431, 0.453, 0.464, 0.475, 0.485, 0.492, 0.503, 0.5, 0.52, 0.522, 0.535, 0.539, 0.543, 0.549, 0.559, 0.565, 0.572, 0.576, 0.587, 0.591, 0.6, 0.604, 0.61, 0.613, 0.61, 0.616, 0.622, 0.621, 0.618, 0.624, 0.626, 0.629, 0.628, 0.635, 0.633, 0.641, 0.642, 0.641, 0.642, 0.647, 0.646, 0.648, 0.652, 0.651, 0.653, 0.655, 0.659, 0.66, 0.659, 0.662, 0.662, 0.663, 0.669, 0.67, 0.671, 0.672, 0.679, 0.674, 0.679, 0.68, 0.679, 0.676, 0.681, 0.682, 0.682, 0.68, 0.681, 0.68, 0.68, 0.683, 0.684, 0.683, 0.687, 0.683, 0.683, 0.688, 0.688, 0.692, 0.689, 0.689, 0.691, 0.692, 0.691, 0.688, 0.69, 0.691, 0.696, 0.695, 0.693, 0.694, 0.697]}, {\"marker\": {\"maxdisplayed\": 10}, \"mode\": \"lines+markers\", \"name\": \"Trial2\", \"type\": \"scatter\", \"x\": [0, 1, 2, 3, 4, 5, 6, 7, 8, 9, 10, 11, 12, 13, 14, 15, 16, 17, 18, 19, 20, 21, 22, 23, 24, 25, 26, 27, 28, 29, 30, 31, 32, 33, 34, 35, 36, 37, 38, 39, 40, 41, 42, 43, 44, 45, 46, 47, 48, 49, 50, 51, 52, 53, 54, 55, 56, 57, 58, 59, 60, 61, 62, 63, 64, 65, 66, 67, 68, 69, 70, 71, 72, 73, 74, 75, 76, 77, 78, 79, 80, 81, 82, 83, 84, 85, 86, 87, 88, 89, 90, 91, 92, 93, 94, 95, 96, 97, 98, 99], \"y\": [0.319, 0.287, 0.394, 0.416, 0.44, 0.465, 0.503, 0.555, 0.544, 0.538, 0.555, 0.565, 0.584, 0.596, 0.585, 0.616, 0.591, 0.6, 0.654, 0.656, 0.632, 0.677, 0.677, 0.661, 0.692, 0.675, 0.699, 0.696, 0.688, 0.695, 0.698, 0.693, 0.704, 0.658, 0.7, 0.679, 0.591, 0.643, 0.607, 0.658, 0.68, 0.698, 0.707, 0.71, 0.701, 0.715, 0.684, 0.654, 0.69, 0.705, 0.705, 0.673, 0.703, 0.705, 0.707, 0.706, 0.711, 0.698, 0.694, 0.706, 0.69, 0.694, 0.703, 0.708, 0.711, 0.722, 0.699, 0.7, 0.701, 0.714, 0.721, 0.712, 0.731, 0.722, 0.708, 0.564, 0.672, 0.647, 0.7, 0.705, 0.705, 0.727, 0.731, 0.726, 0.717, 0.72, 0.731, 0.715, 0.729, 0.709, 0.731, 0.715, 0.729, 0.726, 0.735, 0.724, 0.727, 0.734, 0.718, 0.724]}, {\"marker\": {\"maxdisplayed\": 10}, \"mode\": \"lines+markers\", \"name\": \"Trial3\", \"type\": \"scatter\", \"x\": [0, 1, 2, 3, 4, 5, 6, 7, 8, 9, 10, 11, 12, 13, 14, 15, 16, 17, 18, 19, 20, 21, 22, 23, 24, 25, 26, 27, 28, 29, 30, 31, 32, 33, 34, 35, 36, 37, 38, 39, 40, 41, 42, 43, 44, 45, 46, 47, 48, 49, 50, 51, 52, 53, 54, 55, 56, 57, 58, 59, 60, 61, 62, 63, 64, 65, 66, 67, 68, 69, 70, 71, 72, 73, 74, 75, 76, 77, 78, 79, 80, 81, 82, 83, 84, 85, 86, 87, 88, 89, 90, 91, 92, 93, 94, 95, 96, 97, 98, 99], \"y\": [0.198, 0.144, 0.137, 0.169, 0.193, 0.192, 0.188, 0.192, 0.204, 0.209, 0.212, 0.219, 0.084, 0.099, 0.142, 0.182, 0.204, 0.209, 0.209, 0.208, 0.213, 0.206, 0.211, 0.204, 0.213, 0.218, 0.226, 0.228, 0.149, 0.237, 0.26, 0.266, 0.234, 0.263, 0.264, 0.255, 0.201, 0.233, 0.262, 0.269, 0.283, 0.271, 0.27, 0.233, 0.284, 0.278, 0.298, 0.273, 0.29, 0.286, 0.265, 0.273, 0.289, 0.3, 0.302, 0.269, 0.294, 0.286, 0.301, 0.306, 0.309, 0.305, 0.29, 0.22, 0.273, 0.299, 0.249, 0.236, 0.258, 0.274, 0.276, 0.249, 0.26, 0.284, 0.313, 0.313, 0.261, 0.291, 0.303, 0.31, 0.308, 0.294, 0.299, 0.315, 0.306, 0.284, 0.3, 0.286, 0.257, 0.286, 0.305, 0.297, 0.269, 0.302, 0.292, 0.27, 0.274, 0.309, 0.311, 0.286]}, {\"marker\": {\"maxdisplayed\": 10}, \"mode\": \"lines+markers\", \"name\": \"Trial4\", \"type\": \"scatter\", \"x\": [0, 1, 2, 3, 4, 5, 6, 7, 8, 9, 10, 11, 12, 13, 14, 15, 16, 17, 18, 19, 20, 21, 22, 23, 24, 25, 26, 27, 28, 29, 30, 31, 32, 33, 34, 35, 36, 37, 38, 39, 40, 41, 42, 43, 44, 45, 46, 47, 48, 49, 50, 51, 52, 53, 54, 55, 56, 57, 58, 59, 60, 61, 62, 63, 64, 65, 66, 67, 68, 69, 70, 71, 72, 73, 74, 75, 76, 77, 78, 79, 80, 81, 82, 83, 84, 85, 86, 87, 88, 89, 90, 91, 92, 93, 94, 95, 96, 97, 98, 99], \"y\": [0.362, 0.48, 0.494, 0.577, 0.537, 0.573, 0.636, 0.596, 0.633, 0.655, 0.609, 0.648, 0.648, 0.66, 0.656, 0.685, 0.666, 0.706, 0.687, 0.678, 0.698, 0.697, 0.706, 0.719, 0.713, 0.722, 0.715, 0.73, 0.673, 0.733, 0.722, 0.73, 0.713, 0.747, 0.706, 0.744, 0.737, 0.732, 0.728, 0.724, 0.739, 0.728, 0.732, 0.738, 0.735, 0.75, 0.731, 0.724, 0.753, 0.744, 0.748, 0.757, 0.746, 0.72, 0.753, 0.756, 0.738, 0.754, 0.733, 0.757, 0.753, 0.756, 0.746, 0.75, 0.727, 0.739, 0.748, 0.735, 0.748, 0.759, 0.748, 0.762, 0.75, 0.751, 0.758, 0.716, 0.745, 0.757, 0.761, 0.751, 0.753, 0.761, 0.759, 0.752, 0.762, 0.759, 0.76, 0.778, 0.761, 0.762, 0.766, 0.762, 0.784, 0.771, 0.768, 0.772, 0.756, 0.756, 0.764, 0.749]}, {\"marker\": {\"maxdisplayed\": 10}, \"mode\": \"lines+markers\", \"name\": \"Trial5\", \"type\": \"scatter\", \"x\": [0, 1], \"y\": [0.129, 0.1]}, {\"marker\": {\"maxdisplayed\": 10}, \"mode\": \"lines+markers\", \"name\": \"Trial6\", \"type\": \"scatter\", \"x\": [0, 1, 2, 3, 4, 5, 6, 7, 8, 9, 10, 11, 12, 13, 14, 15, 16, 17, 18, 19, 20, 21, 22, 23, 24, 25, 26, 27, 28, 29, 30, 31, 32, 33, 34, 35, 36, 37, 38, 39, 40, 41, 42, 43, 44, 45, 46, 47, 48, 49, 50, 51, 52, 53, 54, 55, 56, 57, 58, 59, 60, 61, 62, 63, 64, 65, 66, 67, 68, 69, 70, 71, 72, 73, 74, 75, 76, 77, 78, 79, 80, 81, 82, 83, 84, 85, 86, 87, 88, 89, 90, 91, 92, 93, 94, 95, 96, 97, 98, 99], \"y\": [0.301, 0.492, 0.57, 0.615, 0.622, 0.65, 0.663, 0.668, 0.671, 0.678, 0.685, 0.7, 0.692, 0.7, 0.695, 0.696, 0.695, 0.72, 0.709, 0.706, 0.715, 0.71, 0.717, 0.717, 0.723, 0.726, 0.722, 0.725, 0.718, 0.726, 0.738, 0.72, 0.735, 0.73, 0.737, 0.734, 0.729, 0.737, 0.727, 0.742, 0.735, 0.736, 0.739, 0.744, 0.74, 0.735, 0.741, 0.742, 0.734, 0.745, 0.743, 0.74, 0.748, 0.743, 0.736, 0.739, 0.742, 0.74, 0.736, 0.741, 0.75, 0.744, 0.746, 0.742, 0.742, 0.74, 0.751, 0.746, 0.746, 0.746, 0.745, 0.746, 0.737, 0.749, 0.742, 0.748, 0.746, 0.749, 0.752, 0.743, 0.751, 0.753, 0.76, 0.749, 0.76, 0.751, 0.753, 0.75, 0.751, 0.755, 0.747, 0.753, 0.751, 0.751, 0.75, 0.751, 0.749, 0.75, 0.746, 0.758]}, {\"marker\": {\"maxdisplayed\": 10}, \"mode\": \"lines+markers\", \"name\": \"Trial7\", \"type\": \"scatter\", \"x\": [0, 1], \"y\": [0.115, 0.116]}, {\"marker\": {\"maxdisplayed\": 10}, \"mode\": \"lines+markers\", \"name\": \"Trial8\", \"type\": \"scatter\", \"x\": [0, 1, 2, 3, 4, 5, 6, 7, 8, 9, 10, 11, 12, 13, 14, 15, 16, 17, 18, 19, 20, 21, 22, 23, 24, 25, 26, 27, 28, 29, 30, 31, 32, 33, 34, 35, 36, 37, 38, 39, 40, 41, 42, 43, 44, 45, 46, 47, 48, 49, 50, 51, 52, 53, 54, 55, 56, 57, 58, 59, 60, 61, 62, 63, 64, 65, 66, 67, 68, 69, 70, 71, 72, 73, 74, 75, 76, 77, 78, 79, 80, 81, 82, 83, 84, 85, 86, 87, 88, 89, 90, 91, 92, 93, 94, 95, 96, 97, 98, 99], \"y\": [0.459, 0.587, 0.635, 0.669, 0.657, 0.739, 0.72, 0.747, 0.743, 0.766, 0.743, 0.746, 0.748, 0.758, 0.767, 0.767, 0.769, 0.771, 0.775, 0.771, 0.768, 0.79, 0.77, 0.783, 0.788, 0.782, 0.789, 0.783, 0.79, 0.789, 0.789, 0.786, 0.789, 0.763, 0.767, 0.799, 0.805, 0.787, 0.773, 0.787, 0.791, 0.803, 0.793, 0.798, 0.794, 0.8, 0.792, 0.8, 0.783, 0.801, 0.792, 0.778, 0.792, 0.8, 0.802, 0.81, 0.788, 0.794, 0.791, 0.773, 0.789, 0.782, 0.783, 0.754, 0.801, 0.788, 0.793, 0.789, 0.794, 0.813, 0.788, 0.818, 0.803, 0.798, 0.8, 0.798, 0.796, 0.805, 0.812, 0.805, 0.796, 0.803, 0.801, 0.796, 0.804, 0.792, 0.799, 0.801, 0.797, 0.807, 0.798, 0.793, 0.802, 0.793, 0.807, 0.781, 0.787, 0.807, 0.801, 0.802]}, {\"marker\": {\"maxdisplayed\": 10}, \"mode\": \"lines+markers\", \"name\": \"Trial9\", \"type\": \"scatter\", \"x\": [0, 1, 2, 3, 4, 5, 6, 7, 8, 9, 10, 11, 12, 13, 14, 15, 16, 17, 18, 19, 20, 21, 22, 23, 24, 25, 26, 27, 28, 29, 30, 31, 32, 33, 34, 35, 36, 37, 38, 39, 40, 41, 42, 43, 44, 45, 46, 47, 48, 49, 50, 51, 52, 53, 54, 55, 56, 57, 58, 59, 60, 61, 62, 63, 64, 65, 66, 67, 68, 69, 70, 71, 72, 73, 74, 75, 76, 77, 78, 79, 80, 81, 82, 83, 84, 85, 86, 87, 88, 89, 90, 91, 92, 93, 94, 95, 96, 97, 98, 99], \"y\": [0.395, 0.53, 0.594, 0.624, 0.639, 0.66, 0.663, 0.657, 0.673, 0.681, 0.694, 0.695, 0.701, 0.693, 0.71, 0.704, 0.697, 0.712, 0.715, 0.712, 0.717, 0.717, 0.72, 0.718, 0.724, 0.715, 0.715, 0.725, 0.718, 0.743, 0.72, 0.733, 0.736, 0.728, 0.732, 0.743, 0.741, 0.742, 0.728, 0.731, 0.728, 0.733, 0.742, 0.748, 0.755, 0.747, 0.75, 0.754, 0.752, 0.754, 0.754, 0.758, 0.744, 0.749, 0.751, 0.746, 0.754, 0.748, 0.747, 0.751, 0.765, 0.75, 0.75, 0.754, 0.736, 0.749, 0.754, 0.76, 0.76, 0.767, 0.752, 0.761, 0.767, 0.763, 0.763, 0.76, 0.746, 0.767, 0.757, 0.768, 0.759, 0.748, 0.75, 0.761, 0.759, 0.752, 0.771, 0.753, 0.763, 0.759, 0.754, 0.755, 0.756, 0.756, 0.761, 0.771, 0.763, 0.752, 0.753, 0.765]}, {\"marker\": {\"maxdisplayed\": 10}, \"mode\": \"lines+markers\", \"name\": \"Trial10\", \"type\": \"scatter\", \"x\": [0, 1], \"y\": [0.16, 0.247]}, {\"marker\": {\"maxdisplayed\": 10}, \"mode\": \"lines+markers\", \"name\": \"Trial11\", \"type\": \"scatter\", \"x\": [0, 1, 2, 3, 4, 5, 6, 7, 8, 9, 10, 11, 12, 13, 14, 15, 16, 17, 18, 19, 20, 21, 22, 23, 24, 25, 26, 27, 28, 29, 30, 31, 32, 33, 34, 35, 36, 37, 38, 39, 40, 41, 42, 43, 44, 45, 46, 47, 48, 49, 50, 51, 52, 53, 54, 55, 56, 57, 58, 59, 60, 61, 62, 63, 64, 65, 66, 67, 68, 69, 70, 71, 72, 73, 74, 75, 76, 77, 78, 79, 80, 81, 82, 83, 84, 85, 86, 87, 88, 89, 90, 91, 92, 93, 94, 95, 96, 97, 98, 99], \"y\": [0.483, 0.62, 0.677, 0.691, 0.705, 0.708, 0.739, 0.734, 0.734, 0.75, 0.739, 0.75, 0.75, 0.753, 0.775, 0.771, 0.763, 0.785, 0.751, 0.773, 0.763, 0.75, 0.785, 0.784, 0.775, 0.754, 0.751, 0.785, 0.783, 0.772, 0.785, 0.784, 0.774, 0.796, 0.788, 0.783, 0.784, 0.786, 0.787, 0.785, 0.789, 0.797, 0.794, 0.792, 0.786, 0.784, 0.793, 0.806, 0.784, 0.77, 0.782, 0.788, 0.781, 0.795, 0.787, 0.789, 0.776, 0.791, 0.796, 0.795, 0.781, 0.803, 0.797, 0.786, 0.799, 0.798, 0.754, 0.787, 0.792, 0.791, 0.777, 0.784, 0.799, 0.796, 0.792, 0.797, 0.803, 0.807, 0.814, 0.814, 0.817, 0.789, 0.788, 0.807, 0.799, 0.785, 0.801, 0.801, 0.8, 0.797, 0.787, 0.787, 0.78, 0.78, 0.785, 0.786, 0.788, 0.795, 0.803, 0.801]}, {\"marker\": {\"maxdisplayed\": 10}, \"mode\": \"lines+markers\", \"name\": \"Trial12\", \"type\": \"scatter\", \"x\": [0, 1, 2, 3, 4, 5, 6, 7, 8, 9, 10, 11, 12, 13, 14, 15, 16, 17, 18, 19, 20, 21, 22, 23, 24, 25, 26, 27, 28, 29, 30, 31, 32, 33, 34, 35, 36, 37, 38, 39, 40, 41, 42, 43, 44, 45, 46, 47, 48, 49, 50, 51, 52, 53, 54, 55, 56, 57, 58, 59, 60, 61, 62, 63, 64, 65, 66, 67, 68, 69, 70, 71, 72, 73, 74, 75, 76, 77, 78, 79, 80, 81, 82, 83, 84, 85, 86, 87, 88, 89, 90, 91, 92, 93, 94, 95, 96, 97, 98, 99], \"y\": [0.427, 0.619, 0.659, 0.708, 0.725, 0.718, 0.725, 0.753, 0.748, 0.733, 0.755, 0.759, 0.769, 0.758, 0.763, 0.761, 0.769, 0.746, 0.778, 0.779, 0.782, 0.775, 0.79, 0.777, 0.776, 0.777, 0.771, 0.775, 0.777, 0.782, 0.79, 0.772, 0.779, 0.773, 0.767, 0.786, 0.796, 0.785, 0.798, 0.795, 0.788, 0.799, 0.796, 0.796, 0.794, 0.795, 0.793, 0.792, 0.802, 0.797, 0.794, 0.78, 0.793, 0.799, 0.804, 0.801, 0.794, 0.788, 0.781, 0.782, 0.799, 0.795, 0.792, 0.787, 0.798, 0.781, 0.787, 0.794, 0.784, 0.779, 0.748, 0.734, 0.778, 0.783, 0.778, 0.785, 0.791, 0.788, 0.796, 0.792, 0.784, 0.783, 0.795, 0.784, 0.775, 0.776, 0.782, 0.756, 0.788, 0.799, 0.792, 0.796, 0.787, 0.806, 0.798, 0.781, 0.791, 0.796, 0.796, 0.796]}, {\"marker\": {\"maxdisplayed\": 10}, \"mode\": \"lines+markers\", \"name\": \"Trial13\", \"type\": \"scatter\", \"x\": [0, 1], \"y\": [0.293, 0.503]}, {\"marker\": {\"maxdisplayed\": 10}, \"mode\": \"lines+markers\", \"name\": \"Trial14\", \"type\": \"scatter\", \"x\": [0, 1], \"y\": [0.125, 0.111]}, {\"marker\": {\"maxdisplayed\": 10}, \"mode\": \"lines+markers\", \"name\": \"Trial15\", \"type\": \"scatter\", \"x\": [0, 1, 2, 3, 4, 5, 6, 7, 8, 9, 10, 11, 12, 13, 14, 15, 16, 17, 18, 19, 20, 21, 22, 23, 24, 25, 26, 27, 28, 29, 30, 31, 32, 33, 34, 35, 36, 37, 38, 39, 40, 41, 42, 43, 44, 45, 46, 47, 48, 49, 50, 51, 52, 53, 54, 55, 56, 57, 58, 59, 60, 61, 62, 63, 64, 65, 66, 67, 68, 69, 70, 71, 72, 73, 74, 75, 76, 77, 78, 79, 80, 81, 82, 83, 84, 85, 86, 87, 88, 89, 90, 91, 92, 93, 94, 95, 96, 97, 98, 99], \"y\": [0.551, 0.627, 0.647, 0.673, 0.715, 0.708, 0.716, 0.714, 0.708, 0.711, 0.734, 0.731, 0.735, 0.743, 0.749, 0.753, 0.743, 0.758, 0.76, 0.754, 0.754, 0.748, 0.761, 0.778, 0.761, 0.763, 0.765, 0.761, 0.756, 0.746, 0.769, 0.753, 0.75, 0.756, 0.777, 0.77, 0.769, 0.748, 0.778, 0.771, 0.759, 0.77, 0.776, 0.777, 0.764, 0.768, 0.766, 0.753, 0.72, 0.764, 0.751, 0.762, 0.774, 0.744, 0.756, 0.776, 0.78, 0.776, 0.772, 0.777, 0.779, 0.765, 0.76, 0.775, 0.769, 0.782, 0.777, 0.75, 0.785, 0.757, 0.77, 0.762, 0.777, 0.753, 0.767, 0.752, 0.772, 0.765, 0.753, 0.758, 0.778, 0.772, 0.768, 0.775, 0.773, 0.777, 0.775, 0.772, 0.761, 0.778, 0.773, 0.764, 0.788, 0.774, 0.767, 0.778, 0.781, 0.781, 0.793, 0.781]}, {\"marker\": {\"maxdisplayed\": 10}, \"mode\": \"lines+markers\", \"name\": \"Trial16\", \"type\": \"scatter\", \"x\": [0, 1], \"y\": [0.276, 0.411]}, {\"marker\": {\"maxdisplayed\": 10}, \"mode\": \"lines+markers\", \"name\": \"Trial17\", \"type\": \"scatter\", \"x\": [0, 1], \"y\": [0.321, 0.525]}, {\"marker\": {\"maxdisplayed\": 10}, \"mode\": \"lines+markers\", \"name\": \"Trial18\", \"type\": \"scatter\", \"x\": [0, 1], \"y\": [0.497, 0.527]}, {\"marker\": {\"maxdisplayed\": 10}, \"mode\": \"lines+markers\", \"name\": \"Trial19\", \"type\": \"scatter\", \"x\": [0, 1], \"y\": [0.221, 0.216]}, {\"marker\": {\"maxdisplayed\": 10}, \"mode\": \"lines+markers\", \"name\": \"Trial20\", \"type\": \"scatter\", \"x\": [0, 1, 2, 3, 4, 5, 6, 7, 8, 9, 10, 11, 12, 13, 14, 15, 16, 17, 18, 19, 20, 21, 22, 23, 24, 25, 26, 27, 28, 29, 30, 31, 32, 33, 34, 35, 36, 37, 38, 39, 40, 41, 42, 43, 44, 45, 46, 47, 48, 49, 50, 51, 52, 53, 54, 55, 56, 57, 58, 59, 60, 61, 62, 63, 64, 65, 66, 67, 68, 69, 70, 71, 72, 73, 74, 75, 76, 77, 78, 79, 80, 81, 82, 83, 84, 85, 86, 87, 88, 89, 90, 91, 92, 93, 94, 95, 96, 97, 98, 99], \"y\": [0.425, 0.577, 0.673, 0.673, 0.674, 0.677, 0.698, 0.677, 0.663, 0.672, 0.706, 0.652, 0.719, 0.718, 0.733, 0.723, 0.739, 0.72, 0.749, 0.746, 0.757, 0.757, 0.759, 0.763, 0.755, 0.758, 0.744, 0.77, 0.741, 0.763, 0.777, 0.768, 0.743, 0.768, 0.756, 0.771, 0.746, 0.755, 0.768, 0.776, 0.769, 0.768, 0.761, 0.768, 0.767, 0.768, 0.76, 0.773, 0.744, 0.764, 0.771, 0.765, 0.77, 0.783, 0.775, 0.771, 0.776, 0.773, 0.767, 0.782, 0.767, 0.774, 0.751, 0.742, 0.764, 0.735, 0.746, 0.761, 0.765, 0.77, 0.772, 0.784, 0.77, 0.777, 0.788, 0.75, 0.745, 0.78, 0.783, 0.788, 0.784, 0.782, 0.779, 0.754, 0.78, 0.778, 0.755, 0.775, 0.778, 0.78, 0.796, 0.783, 0.769, 0.749, 0.777, 0.775, 0.782, 0.769, 0.776, 0.781]}, {\"marker\": {\"maxdisplayed\": 10}, \"mode\": \"lines+markers\", \"name\": \"Trial21\", \"type\": \"scatter\", \"x\": [0, 1, 2, 3, 4, 5, 6, 7, 8, 9, 10, 11, 12, 13, 14, 15, 16, 17, 18, 19, 20, 21, 22, 23, 24, 25, 26, 27, 28, 29, 30, 31, 32, 33, 34, 35, 36, 37, 38, 39, 40, 41, 42, 43, 44, 45, 46, 47, 48, 49, 50, 51, 52, 53, 54, 55, 56, 57, 58, 59, 60, 61, 62, 63, 64, 65, 66, 67, 68, 69, 70, 71, 72, 73, 74, 75, 76, 77, 78, 79, 80, 81, 82, 83, 84, 85, 86, 87, 88, 89, 90, 91, 92, 93, 94, 95, 96, 97, 98, 99], \"y\": [0.501, 0.606, 0.687, 0.719, 0.691, 0.746, 0.719, 0.751, 0.749, 0.729, 0.756, 0.742, 0.762, 0.769, 0.741, 0.743, 0.751, 0.754, 0.723, 0.751, 0.765, 0.748, 0.76, 0.757, 0.769, 0.769, 0.774, 0.767, 0.764, 0.769, 0.77, 0.765, 0.768, 0.771, 0.759, 0.767, 0.763, 0.767, 0.773, 0.759, 0.766, 0.756, 0.774, 0.764, 0.766, 0.747, 0.757, 0.767, 0.753, 0.772, 0.756, 0.749, 0.766, 0.759, 0.77, 0.76, 0.776, 0.757, 0.775, 0.762, 0.769, 0.751, 0.76, 0.757, 0.761, 0.769, 0.772, 0.771, 0.766, 0.782, 0.781, 0.752, 0.773, 0.778, 0.779, 0.767, 0.774, 0.762, 0.762, 0.759, 0.765, 0.732, 0.742, 0.747, 0.732, 0.783, 0.771, 0.776, 0.777, 0.772, 0.794, 0.784, 0.769, 0.784, 0.789, 0.773, 0.774, 0.793, 0.78, 0.779]}, {\"marker\": {\"maxdisplayed\": 10}, \"mode\": \"lines+markers\", \"name\": \"Trial22\", \"type\": \"scatter\", \"x\": [0, 1, 2, 3, 4, 5, 6, 7, 8, 9, 10, 11, 12, 13, 14, 15, 16, 17, 18, 19, 20, 21, 22, 23, 24, 25, 26, 27, 28, 29, 30, 31, 32, 33, 34, 35, 36, 37, 38, 39, 40, 41, 42, 43, 44, 45, 46, 47, 48, 49, 50, 51, 52, 53, 54, 55, 56, 57, 58, 59, 60, 61, 62, 63, 64, 65, 66, 67, 68, 69, 70, 71, 72, 73, 74, 75, 76, 77, 78, 79, 80, 81, 82, 83, 84, 85, 86, 87, 88, 89, 90, 91, 92, 93, 94, 95, 96, 97, 98, 99], \"y\": [0.528, 0.616, 0.625, 0.658, 0.679, 0.699, 0.719, 0.701, 0.727, 0.715, 0.724, 0.729, 0.727, 0.721, 0.732, 0.74, 0.717, 0.745, 0.745, 0.753, 0.755, 0.741, 0.763, 0.747, 0.764, 0.742, 0.751, 0.759, 0.748, 0.742, 0.763, 0.755, 0.766, 0.765, 0.77, 0.755, 0.754, 0.764, 0.762, 0.756, 0.765, 0.77, 0.766, 0.749, 0.777, 0.771, 0.754, 0.764, 0.733, 0.777, 0.77, 0.759, 0.779, 0.776, 0.774, 0.79, 0.783, 0.791, 0.79, 0.774, 0.797, 0.801, 0.79, 0.788, 0.786, 0.791, 0.781, 0.793, 0.772, 0.782, 0.789, 0.762, 0.764, 0.773, 0.786, 0.795, 0.794, 0.795, 0.785, 0.781, 0.791, 0.78, 0.8, 0.783, 0.781, 0.787, 0.778, 0.799, 0.788, 0.783, 0.781, 0.795, 0.799, 0.799, 0.79, 0.794, 0.789, 0.778, 0.756, 0.771]}, {\"marker\": {\"maxdisplayed\": 10}, \"mode\": \"lines+markers\", \"name\": \"Trial23\", \"type\": \"scatter\", \"x\": [0, 1], \"y\": [0.406, 0.508]}, {\"marker\": {\"maxdisplayed\": 10}, \"mode\": \"lines+markers\", \"name\": \"Trial24\", \"type\": \"scatter\", \"x\": [0, 1], \"y\": [0.111, 0.098]}, {\"marker\": {\"maxdisplayed\": 10}, \"mode\": \"lines+markers\", \"name\": \"Trial25\", \"type\": \"scatter\", \"x\": [0, 1, 2], \"y\": [0.479, 0.583, 0.623]}, {\"marker\": {\"maxdisplayed\": 10}, \"mode\": \"lines+markers\", \"name\": \"Trial26\", \"type\": \"scatter\", \"x\": [0, 1], \"y\": [0.429, 0.526]}, {\"marker\": {\"maxdisplayed\": 10}, \"mode\": \"lines+markers\", \"name\": \"Trial27\", \"type\": \"scatter\", \"x\": [0, 1], \"y\": [0.239, 0.474]}, {\"marker\": {\"maxdisplayed\": 10}, \"mode\": \"lines+markers\", \"name\": \"Trial28\", \"type\": \"scatter\", \"x\": [0, 1], \"y\": [0.426, 0.522]}, {\"marker\": {\"maxdisplayed\": 10}, \"mode\": \"lines+markers\", \"name\": \"Trial29\", \"type\": \"scatter\", \"x\": [0, 1, 2, 3, 4, 5, 6, 7, 8, 9, 10, 11, 12, 13, 14, 15, 16, 17, 18, 19, 20, 21, 22, 23, 24, 25, 26, 27, 28, 29, 30, 31, 32, 33, 34, 35, 36, 37, 38, 39, 40, 41, 42, 43, 44, 45, 46, 47, 48, 49, 50, 51, 52, 53, 54, 55, 56, 57, 58, 59, 60, 61, 62, 63, 64, 65, 66, 67, 68, 69, 70, 71, 72, 73, 74, 75, 76, 77, 78, 79, 80, 81, 82, 83, 84, 85, 86, 87, 88, 89, 90, 91, 92, 93, 94, 95, 96, 97, 98, 99], \"y\": [0.573, 0.669, 0.698, 0.704, 0.725, 0.728, 0.741, 0.73, 0.722, 0.751, 0.755, 0.743, 0.748, 0.757, 0.759, 0.763, 0.751, 0.765, 0.753, 0.757, 0.769, 0.754, 0.773, 0.734, 0.769, 0.767, 0.763, 0.744, 0.752, 0.757, 0.773, 0.743, 0.769, 0.756, 0.765, 0.754, 0.774, 0.77, 0.741, 0.773, 0.765, 0.764, 0.768, 0.759, 0.769, 0.771, 0.774, 0.761, 0.734, 0.759, 0.767, 0.766, 0.761, 0.759, 0.752, 0.763, 0.742, 0.753, 0.76, 0.758, 0.77, 0.767, 0.766, 0.765, 0.763, 0.76, 0.76, 0.768, 0.767, 0.763, 0.766, 0.763, 0.762, 0.76, 0.769, 0.769, 0.776, 0.76, 0.755, 0.764, 0.747, 0.754, 0.752, 0.748, 0.745, 0.772, 0.772, 0.763, 0.775, 0.778, 0.778, 0.772, 0.767, 0.781, 0.777, 0.781, 0.788, 0.77, 0.757, 0.752]}, {\"marker\": {\"maxdisplayed\": 10}, \"mode\": \"lines+markers\", \"name\": \"Trial30\", \"type\": \"scatter\", \"x\": [0, 1], \"y\": [0.362, 0.464]}, {\"marker\": {\"maxdisplayed\": 10}, \"mode\": \"lines+markers\", \"name\": \"Trial31\", \"type\": \"scatter\", \"x\": [0, 1, 2, 3, 4, 5, 6, 7, 8, 9, 10, 11, 12, 13, 14, 15, 16, 17, 18, 19, 20, 21, 22, 23, 24, 25, 26, 27, 28, 29, 30, 31, 32, 33, 34, 35, 36, 37, 38, 39, 40, 41, 42, 43, 44, 45, 46, 47, 48, 49, 50, 51, 52, 53, 54, 55, 56, 57, 58, 59, 60, 61, 62, 63, 64, 65, 66, 67, 68, 69, 70, 71, 72, 73, 74, 75, 76, 77, 78, 79, 80, 81, 82, 83, 84, 85, 86, 87, 88, 89, 90, 91, 92, 93, 94, 95, 96, 97, 98, 99], \"y\": [0.475, 0.619, 0.673, 0.701, 0.723, 0.719, 0.727, 0.734, 0.724, 0.721, 0.724, 0.718, 0.726, 0.748, 0.746, 0.752, 0.753, 0.765, 0.76, 0.753, 0.764, 0.758, 0.776, 0.77, 0.768, 0.772, 0.769, 0.737, 0.772, 0.766, 0.771, 0.776, 0.773, 0.773, 0.763, 0.766, 0.77, 0.763, 0.776, 0.766, 0.79, 0.766, 0.781, 0.771, 0.765, 0.781, 0.778, 0.78, 0.772, 0.784, 0.757, 0.772, 0.744, 0.779, 0.775, 0.779, 0.779, 0.779, 0.771, 0.785, 0.771, 0.79, 0.779, 0.756, 0.772, 0.779, 0.773, 0.778, 0.771, 0.757, 0.764, 0.782, 0.781, 0.769, 0.789, 0.78, 0.78, 0.792, 0.792, 0.785, 0.79, 0.791, 0.792, 0.789, 0.79, 0.79, 0.792, 0.789, 0.795, 0.796, 0.782, 0.753, 0.77, 0.744, 0.798, 0.743, 0.775, 0.796, 0.769, 0.787]}, {\"marker\": {\"maxdisplayed\": 10}, \"mode\": \"lines+markers\", \"name\": \"Trial32\", \"type\": \"scatter\", \"x\": [0, 1], \"y\": [0.319, 0.395]}, {\"marker\": {\"maxdisplayed\": 10}, \"mode\": \"lines+markers\", \"name\": \"Trial33\", \"type\": \"scatter\", \"x\": [0, 1, 2, 3], \"y\": [0.474, 0.616, 0.649, 0.656]}, {\"marker\": {\"maxdisplayed\": 10}, \"mode\": \"lines+markers\", \"name\": \"Trial34\", \"type\": \"scatter\", \"x\": [0, 1], \"y\": [0.182, 0.147]}, {\"marker\": {\"maxdisplayed\": 10}, \"mode\": \"lines+markers\", \"name\": \"Trial35\", \"type\": \"scatter\", \"x\": [0, 1, 2, 3, 4, 5, 6, 7, 8, 9, 10, 11, 12, 13, 14, 15, 16, 17, 18, 19, 20, 21, 22, 23, 24, 25, 26, 27, 28, 29, 30, 31, 32, 33, 34, 35, 36, 37, 38, 39, 40, 41, 42, 43, 44, 45, 46, 47, 48, 49, 50, 51, 52, 53, 54, 55, 56, 57, 58, 59, 60, 61, 62, 63, 64, 65, 66, 67, 68, 69, 70, 71, 72, 73, 74, 75, 76, 77, 78, 79, 80, 81, 82, 83, 84, 85, 86, 87, 88, 89, 90, 91, 92, 93, 94, 95, 96, 97, 98, 99], \"y\": [0.539, 0.664, 0.648, 0.7, 0.748, 0.7, 0.756, 0.756, 0.715, 0.768, 0.767, 0.779, 0.77, 0.775, 0.776, 0.79, 0.753, 0.767, 0.787, 0.779, 0.785, 0.799, 0.794, 0.787, 0.792, 0.786, 0.784, 0.81, 0.781, 0.791, 0.799, 0.801, 0.801, 0.785, 0.799, 0.789, 0.799, 0.799, 0.79, 0.788, 0.786, 0.775, 0.801, 0.799, 0.805, 0.805, 0.817, 0.794, 0.812, 0.813, 0.792, 0.794, 0.79, 0.775, 0.799, 0.776, 0.809, 0.788, 0.805, 0.81, 0.806, 0.807, 0.81, 0.816, 0.812, 0.808, 0.795, 0.805, 0.801, 0.784, 0.8, 0.786, 0.792, 0.763, 0.77, 0.792, 0.805, 0.787, 0.788, 0.809, 0.787, 0.811, 0.802, 0.819, 0.789, 0.803, 0.803, 0.815, 0.794, 0.82, 0.779, 0.801, 0.813, 0.81, 0.799, 0.803, 0.815, 0.801, 0.797, 0.814]}, {\"marker\": {\"maxdisplayed\": 10}, \"mode\": \"lines+markers\", \"name\": \"Trial36\", \"type\": \"scatter\", \"x\": [0, 1], \"y\": [0.06, 0.226]}, {\"marker\": {\"maxdisplayed\": 10}, \"mode\": \"lines+markers\", \"name\": \"Trial37\", \"type\": \"scatter\", \"x\": [0, 1], \"y\": [0.479, 0.539]}, {\"marker\": {\"maxdisplayed\": 10}, \"mode\": \"lines+markers\", \"name\": \"Trial38\", \"type\": \"scatter\", \"x\": [0, 1], \"y\": [0.311, 0.319]}, {\"marker\": {\"maxdisplayed\": 10}, \"mode\": \"lines+markers\", \"name\": \"Trial39\", \"type\": \"scatter\", \"x\": [0, 1], \"y\": [0.458, 0.533]}, {\"marker\": {\"maxdisplayed\": 10}, \"mode\": \"lines+markers\", \"name\": \"Trial40\", \"type\": \"scatter\", \"x\": [0, 1, 2, 3, 4, 5], \"y\": [0.52, 0.634, 0.67, 0.673, 0.677, 0.697]}, {\"marker\": {\"maxdisplayed\": 10}, \"mode\": \"lines+markers\", \"name\": \"Trial41\", \"type\": \"scatter\", \"x\": [0, 1], \"y\": [0.433, 0.565]}, {\"marker\": {\"maxdisplayed\": 10}, \"mode\": \"lines+markers\", \"name\": \"Trial42\", \"type\": \"scatter\", \"x\": [0, 1], \"y\": [0.539, 0.604]}, {\"marker\": {\"maxdisplayed\": 10}, \"mode\": \"lines+markers\", \"name\": \"Trial43\", \"type\": \"scatter\", \"x\": [0, 1, 2, 3, 4, 5, 6, 7, 8, 9, 10, 11, 12, 13, 14, 15, 16, 17, 18, 19, 20, 21, 22, 23, 24, 25, 26, 27, 28, 29, 30, 31, 32, 33, 34, 35, 36, 37, 38, 39, 40, 41, 42, 43, 44, 45, 46, 47, 48, 49, 50, 51, 52, 53, 54, 55, 56, 57, 58, 59, 60, 61, 62, 63, 64, 65, 66, 67, 68, 69, 70, 71, 72, 73, 74, 75, 76, 77, 78, 79, 80, 81, 82, 83, 84, 85, 86, 87, 88, 89, 90, 91, 92, 93, 94, 95, 96, 97, 98, 99], \"y\": [0.569, 0.624, 0.662, 0.703, 0.69, 0.706, 0.753, 0.732, 0.754, 0.757, 0.768, 0.761, 0.73, 0.732, 0.769, 0.766, 0.775, 0.78, 0.778, 0.781, 0.784, 0.79, 0.79, 0.777, 0.793, 0.783, 0.779, 0.791, 0.777, 0.786, 0.782, 0.774, 0.773, 0.789, 0.794, 0.785, 0.787, 0.794, 0.796, 0.788, 0.786, 0.795, 0.793, 0.781, 0.783, 0.758, 0.759, 0.765, 0.782, 0.776, 0.796, 0.786, 0.78, 0.766, 0.772, 0.783, 0.789, 0.773, 0.791, 0.784, 0.786, 0.785, 0.778, 0.767, 0.791, 0.778, 0.782, 0.789, 0.78, 0.777, 0.784, 0.78, 0.782, 0.774, 0.772, 0.795, 0.79, 0.786, 0.78, 0.785, 0.79, 0.792, 0.79, 0.776, 0.797, 0.795, 0.794, 0.762, 0.804, 0.79, 0.773, 0.785, 0.767, 0.778, 0.772, 0.778, 0.769, 0.798, 0.792, 0.79]}, {\"marker\": {\"maxdisplayed\": 10}, \"mode\": \"lines+markers\", \"name\": \"Trial44\", \"type\": \"scatter\", \"x\": [0, 1, 2], \"y\": [0.418, 0.614, 0.619]}, {\"marker\": {\"maxdisplayed\": 10}, \"mode\": \"lines+markers\", \"name\": \"Trial45\", \"type\": \"scatter\", \"x\": [0, 1], \"y\": [0.532, 0.607]}, {\"marker\": {\"maxdisplayed\": 10}, \"mode\": \"lines+markers\", \"name\": \"Trial46\", \"type\": \"scatter\", \"x\": [0, 1], \"y\": [0.111, 0.098]}, {\"marker\": {\"maxdisplayed\": 10}, \"mode\": \"lines+markers\", \"name\": \"Trial47\", \"type\": \"scatter\", \"x\": [0, 1], \"y\": [0.508, 0.531]}, {\"marker\": {\"maxdisplayed\": 10}, \"mode\": \"lines+markers\", \"name\": \"Trial48\", \"type\": \"scatter\", \"x\": [0, 1, 2, 3], \"y\": [0.436, 0.618, 0.659, 0.656]}, {\"marker\": {\"maxdisplayed\": 10}, \"mode\": \"lines+markers\", \"name\": \"Trial49\", \"type\": \"scatter\", \"x\": [0, 1], \"y\": [0.314, 0.371]}, {\"marker\": {\"maxdisplayed\": 10}, \"mode\": \"lines+markers\", \"name\": \"Trial50\", \"type\": \"scatter\", \"x\": [0, 1, 2, 3, 4, 5], \"y\": [0.404, 0.639, 0.647, 0.678, 0.691, 0.699]}, {\"marker\": {\"maxdisplayed\": 10}, \"mode\": \"lines+markers\", \"name\": \"Trial51\", \"type\": \"scatter\", \"x\": [0, 1], \"y\": [0.51, 0.591]}, {\"marker\": {\"maxdisplayed\": 10}, \"mode\": \"lines+markers\", \"name\": \"Trial52\", \"type\": \"scatter\", \"x\": [0, 1], \"y\": [0.307, 0.465]}, {\"marker\": {\"maxdisplayed\": 10}, \"mode\": \"lines+markers\", \"name\": \"Trial53\", \"type\": \"scatter\", \"x\": [0, 1], \"y\": [0.418, 0.601]}, {\"marker\": {\"maxdisplayed\": 10}, \"mode\": \"lines+markers\", \"name\": \"Trial54\", \"type\": \"scatter\", \"x\": [0, 1], \"y\": [0.421, 0.537]}, {\"marker\": {\"maxdisplayed\": 10}, \"mode\": \"lines+markers\", \"name\": \"Trial55\", \"type\": \"scatter\", \"x\": [0, 1, 2], \"y\": [0.447, 0.629, 0.627]}, {\"marker\": {\"maxdisplayed\": 10}, \"mode\": \"lines+markers\", \"name\": \"Trial56\", \"type\": \"scatter\", \"x\": [0, 1], \"y\": [0.41, 0.61]}, {\"marker\": {\"maxdisplayed\": 10}, \"mode\": \"lines+markers\", \"name\": \"Trial57\", \"type\": \"scatter\", \"x\": [0, 1], \"y\": [0.449, 0.584]}, {\"marker\": {\"maxdisplayed\": 10}, \"mode\": \"lines+markers\", \"name\": \"Trial58\", \"type\": \"scatter\", \"x\": [0, 1], \"y\": [0.4, 0.428]}, {\"marker\": {\"maxdisplayed\": 10}, \"mode\": \"lines+markers\", \"name\": \"Trial59\", \"type\": \"scatter\", \"x\": [0, 1], \"y\": [0.27, 0.37]}, {\"marker\": {\"maxdisplayed\": 10}, \"mode\": \"lines+markers\", \"name\": \"Trial60\", \"type\": \"scatter\", \"x\": [0, 1], \"y\": [0.572, 0.588]}, {\"marker\": {\"maxdisplayed\": 10}, \"mode\": \"lines+markers\", \"name\": \"Trial61\", \"type\": \"scatter\", \"x\": [0, 1, 2, 3], \"y\": [0.352, 0.614, 0.644, 0.635]}, {\"marker\": {\"maxdisplayed\": 10}, \"mode\": \"lines+markers\", \"name\": \"Trial62\", \"type\": \"scatter\", \"x\": [0, 1], \"y\": [0.429, 0.416]}, {\"marker\": {\"maxdisplayed\": 10}, \"mode\": \"lines+markers\", \"name\": \"Trial63\", \"type\": \"scatter\", \"x\": [0, 1], \"y\": [0.368, 0.391]}, {\"marker\": {\"maxdisplayed\": 10}, \"mode\": \"lines+markers\", \"name\": \"Trial64\", \"type\": \"scatter\", \"x\": [0, 1], \"y\": [0.422, 0.517]}, {\"marker\": {\"maxdisplayed\": 10}, \"mode\": \"lines+markers\", \"name\": \"Trial65\", \"type\": \"scatter\", \"x\": [0, 1, 2, 3, 4, 5, 6, 7, 8, 9, 10, 11, 12, 13, 14, 15, 16, 17, 18, 19, 20, 21, 22, 23, 24, 25, 26, 27, 28, 29, 30, 31, 32, 33, 34, 35, 36, 37, 38, 39, 40, 41, 42, 43, 44, 45, 46, 47, 48, 49, 50, 51, 52, 53, 54, 55, 56, 57, 58, 59, 60, 61, 62, 63, 64, 65, 66, 67, 68, 69, 70, 71, 72, 73, 74, 75, 76, 77, 78, 79, 80, 81, 82, 83, 84, 85, 86, 87, 88, 89, 90, 91, 92, 93, 94, 95, 96, 97, 98, 99], \"y\": [0.557, 0.612, 0.666, 0.746, 0.74, 0.715, 0.743, 0.757, 0.771, 0.76, 0.751, 0.772, 0.774, 0.779, 0.789, 0.769, 0.769, 0.782, 0.767, 0.779, 0.78, 0.792, 0.775, 0.788, 0.786, 0.784, 0.78, 0.791, 0.775, 0.794, 0.784, 0.798, 0.794, 0.793, 0.792, 0.795, 0.771, 0.783, 0.774, 0.795, 0.793, 0.797, 0.775, 0.798, 0.787, 0.774, 0.791, 0.804, 0.797, 0.791, 0.786, 0.796, 0.792, 0.79, 0.784, 0.78, 0.791, 0.787, 0.791, 0.788, 0.794, 0.793, 0.785, 0.79, 0.8, 0.759, 0.788, 0.789, 0.791, 0.792, 0.795, 0.785, 0.789, 0.793, 0.781, 0.789, 0.766, 0.785, 0.789, 0.786, 0.775, 0.782, 0.785, 0.767, 0.801, 0.801, 0.795, 0.77, 0.79, 0.804, 0.794, 0.789, 0.783, 0.801, 0.802, 0.792, 0.795, 0.798, 0.796, 0.806]}, {\"marker\": {\"maxdisplayed\": 10}, \"mode\": \"lines+markers\", \"name\": \"Trial66\", \"type\": \"scatter\", \"x\": [0, 1, 2, 3, 4, 5, 6], \"y\": [0.527, 0.624, 0.669, 0.679, 0.663, 0.71, 0.713]}, {\"marker\": {\"maxdisplayed\": 10}, \"mode\": \"lines+markers\", \"name\": \"Trial67\", \"type\": \"scatter\", \"x\": [0, 1], \"y\": [0.524, 0.606]}, {\"marker\": {\"maxdisplayed\": 10}, \"mode\": \"lines+markers\", \"name\": \"Trial68\", \"type\": \"scatter\", \"x\": [0, 1, 2, 3, 4, 5, 6, 7, 8, 9, 10, 11, 12, 13, 14, 15, 16, 17, 18, 19, 20, 21, 22, 23, 24, 25, 26, 27, 28, 29, 30, 31, 32, 33, 34, 35, 36, 37, 38, 39, 40, 41, 42, 43, 44, 45, 46, 47, 48, 49, 50, 51, 52, 53, 54, 55, 56, 57, 58, 59, 60, 61, 62, 63, 64, 65, 66, 67, 68, 69, 70, 71, 72, 73, 74, 75, 76, 77, 78, 79, 80, 81, 82, 83, 84, 85, 86, 87, 88, 89, 90, 91, 92, 93, 94, 95, 96, 97, 98, 99], \"y\": [0.529, 0.624, 0.654, 0.696, 0.698, 0.706, 0.729, 0.727, 0.724, 0.741, 0.748, 0.736, 0.738, 0.764, 0.757, 0.747, 0.751, 0.761, 0.754, 0.754, 0.759, 0.776, 0.755, 0.775, 0.766, 0.759, 0.767, 0.769, 0.773, 0.769, 0.759, 0.774, 0.764, 0.776, 0.779, 0.767, 0.763, 0.759, 0.767, 0.762, 0.767, 0.769, 0.775, 0.775, 0.76, 0.769, 0.783, 0.757, 0.76, 0.762, 0.785, 0.772, 0.785, 0.789, 0.781, 0.771, 0.785, 0.776, 0.776, 0.77, 0.8, 0.77, 0.761, 0.762, 0.781, 0.776, 0.781, 0.772, 0.767, 0.771, 0.785, 0.771, 0.79, 0.78, 0.791, 0.788, 0.801, 0.78, 0.786, 0.786, 0.73, 0.751, 0.753, 0.78, 0.768, 0.744, 0.778, 0.794, 0.763, 0.798, 0.789, 0.777, 0.781, 0.779, 0.782, 0.797, 0.795, 0.795, 0.774, 0.797]}, {\"marker\": {\"maxdisplayed\": 10}, \"mode\": \"lines+markers\", \"name\": \"Trial69\", \"type\": \"scatter\", \"x\": [0, 1], \"y\": [0.129, 0.141]}, {\"marker\": {\"maxdisplayed\": 10}, \"mode\": \"lines+markers\", \"name\": \"Trial70\", \"type\": \"scatter\", \"x\": [0, 1], \"y\": [0.44, 0.584]}, {\"marker\": {\"maxdisplayed\": 10}, \"mode\": \"lines+markers\", \"name\": \"Trial71\", \"type\": \"scatter\", \"x\": [0, 1], \"y\": [0.439, 0.602]}, {\"marker\": {\"maxdisplayed\": 10}, \"mode\": \"lines+markers\", \"name\": \"Trial72\", \"type\": \"scatter\", \"x\": [0, 1], \"y\": [0.491, 0.594]}, {\"marker\": {\"maxdisplayed\": 10}, \"mode\": \"lines+markers\", \"name\": \"Trial73\", \"type\": \"scatter\", \"x\": [0, 1], \"y\": [0.473, 0.602]}, {\"marker\": {\"maxdisplayed\": 10}, \"mode\": \"lines+markers\", \"name\": \"Trial74\", \"type\": \"scatter\", \"x\": [0, 1, 2, 3, 4, 5, 6, 7, 8, 9, 10], \"y\": [0.537, 0.657, 0.665, 0.674, 0.716, 0.72, 0.723, 0.728, 0.704, 0.718, 0.722]}, {\"marker\": {\"maxdisplayed\": 10}, \"mode\": \"lines+markers\", \"name\": \"Trial75\", \"type\": \"scatter\", \"x\": [0, 1, 2, 3, 4, 5, 6, 7, 8, 9, 10, 11, 12, 13, 14], \"y\": [0.58, 0.627, 0.683, 0.664, 0.698, 0.726, 0.711, 0.706, 0.74, 0.711, 0.716, 0.743, 0.737, 0.719, 0.717]}, {\"marker\": {\"maxdisplayed\": 10}, \"mode\": \"lines+markers\", \"name\": \"Trial76\", \"type\": \"scatter\", \"x\": [0, 1], \"y\": [0.513, 0.555]}, {\"marker\": {\"maxdisplayed\": 10}, \"mode\": \"lines+markers\", \"name\": \"Trial77\", \"type\": \"scatter\", \"x\": [0, 1, 2, 3, 4, 5, 6, 7, 8, 9, 10, 11, 12, 13, 14, 15, 16, 17, 18, 19, 20, 21, 22, 23, 24, 25, 26, 27, 28, 29, 30, 31, 32, 33, 34, 35, 36, 37, 38, 39, 40, 41, 42, 43, 44, 45, 46, 47, 48, 49, 50, 51, 52, 53, 54, 55, 56, 57, 58, 59, 60, 61, 62, 63, 64, 65, 66, 67, 68, 69, 70, 71, 72, 73, 74, 75, 76, 77, 78, 79, 80, 81, 82, 83, 84, 85, 86, 87, 88, 89, 90, 91, 92, 93, 94, 95, 96, 97, 98, 99], \"y\": [0.53, 0.639, 0.652, 0.707, 0.721, 0.721, 0.745, 0.743, 0.739, 0.763, 0.758, 0.762, 0.78, 0.759, 0.773, 0.763, 0.77, 0.76, 0.779, 0.774, 0.777, 0.761, 0.764, 0.777, 0.769, 0.768, 0.796, 0.783, 0.788, 0.76, 0.774, 0.763, 0.788, 0.784, 0.787, 0.783, 0.778, 0.798, 0.801, 0.787, 0.779, 0.784, 0.792, 0.786, 0.791, 0.778, 0.785, 0.799, 0.791, 0.765, 0.774, 0.763, 0.786, 0.771, 0.795, 0.787, 0.785, 0.786, 0.791, 0.792, 0.769, 0.783, 0.781, 0.788, 0.783, 0.774, 0.782, 0.793, 0.776, 0.785, 0.757, 0.783, 0.792, 0.789, 0.768, 0.781, 0.796, 0.793, 0.794, 0.797, 0.789, 0.793, 0.787, 0.794, 0.79, 0.787, 0.77, 0.784, 0.798, 0.789, 0.775, 0.787, 0.739, 0.785, 0.752, 0.786, 0.794, 0.785, 0.792, 0.788]}, {\"marker\": {\"maxdisplayed\": 10}, \"mode\": \"lines+markers\", \"name\": \"Trial78\", \"type\": \"scatter\", \"x\": [0, 1], \"y\": [0.41, 0.471]}, {\"marker\": {\"maxdisplayed\": 10}, \"mode\": \"lines+markers\", \"name\": \"Trial79\", \"type\": \"scatter\", \"x\": [0, 1], \"y\": [0.201, 0.255]}, {\"marker\": {\"maxdisplayed\": 10}, \"mode\": \"lines+markers\", \"name\": \"Trial80\", \"type\": \"scatter\", \"x\": [0, 1], \"y\": [0.533, 0.322]}, {\"marker\": {\"maxdisplayed\": 10}, \"mode\": \"lines+markers\", \"name\": \"Trial81\", \"type\": \"scatter\", \"x\": [0, 1, 2, 3, 4, 5, 6, 7, 8, 9, 10, 11, 12, 13, 14, 15, 16, 17, 18, 19, 20, 21, 22, 23, 24, 25, 26, 27, 28, 29, 30, 31, 32, 33, 34, 35, 36, 37, 38, 39, 40, 41, 42, 43, 44, 45, 46, 47, 48, 49, 50, 51, 52, 53, 54, 55, 56, 57, 58, 59, 60, 61, 62, 63, 64, 65, 66, 67, 68, 69, 70, 71, 72, 73, 74, 75, 76, 77, 78, 79, 80, 81, 82, 83, 84, 85, 86, 87, 88, 89, 90, 91, 92, 93, 94, 95, 96, 97, 98, 99], \"y\": [0.45, 0.664, 0.69, 0.708, 0.712, 0.739, 0.756, 0.756, 0.742, 0.751, 0.76, 0.769, 0.769, 0.774, 0.762, 0.784, 0.782, 0.761, 0.789, 0.784, 0.796, 0.781, 0.789, 0.793, 0.794, 0.779, 0.788, 0.794, 0.786, 0.767, 0.797, 0.79, 0.78, 0.79, 0.787, 0.769, 0.775, 0.77, 0.776, 0.796, 0.787, 0.794, 0.792, 0.79, 0.779, 0.787, 0.804, 0.779, 0.804, 0.804, 0.787, 0.801, 0.81, 0.799, 0.788, 0.793, 0.792, 0.786, 0.782, 0.782, 0.8, 0.802, 0.777, 0.782, 0.788, 0.81, 0.796, 0.788, 0.8, 0.778, 0.794, 0.788, 0.786, 0.788, 0.806, 0.794, 0.79, 0.795, 0.799, 0.803, 0.785, 0.773, 0.79, 0.785, 0.774, 0.768, 0.774, 0.77, 0.743, 0.788, 0.784, 0.795, 0.765, 0.777, 0.796, 0.772, 0.788, 0.792, 0.778, 0.781]}, {\"marker\": {\"maxdisplayed\": 10}, \"mode\": \"lines+markers\", \"name\": \"Trial82\", \"type\": \"scatter\", \"x\": [0, 1, 2, 3], \"y\": [0.529, 0.621, 0.657, 0.673]}, {\"marker\": {\"maxdisplayed\": 10}, \"mode\": \"lines+markers\", \"name\": \"Trial83\", \"type\": \"scatter\", \"x\": [0, 1, 2], \"y\": [0.558, 0.648, 0.635]}, {\"marker\": {\"maxdisplayed\": 10}, \"mode\": \"lines+markers\", \"name\": \"Trial84\", \"type\": \"scatter\", \"x\": [0, 1, 2, 3, 4, 5, 6, 7, 8, 9, 10, 11, 12, 13, 14, 15, 16, 17, 18, 19, 20, 21, 22, 23, 24, 25, 26, 27, 28, 29, 30, 31, 32, 33, 34, 35, 36, 37, 38, 39, 40, 41, 42, 43, 44, 45, 46, 47, 48, 49, 50, 51, 52, 53, 54, 55, 56, 57, 58, 59, 60, 61, 62, 63, 64, 65, 66, 67, 68, 69, 70, 71, 72, 73, 74, 75, 76, 77, 78, 79, 80, 81, 82, 83, 84, 85, 86, 87, 88, 89, 90, 91, 92, 93, 94, 95, 96, 97, 98, 99], \"y\": [0.404, 0.62, 0.659, 0.701, 0.682, 0.72, 0.703, 0.735, 0.754, 0.767, 0.726, 0.769, 0.757, 0.77, 0.757, 0.768, 0.777, 0.761, 0.776, 0.78, 0.774, 0.772, 0.764, 0.779, 0.775, 0.787, 0.773, 0.771, 0.781, 0.772, 0.777, 0.784, 0.784, 0.793, 0.786, 0.779, 0.786, 0.787, 0.782, 0.775, 0.786, 0.779, 0.788, 0.79, 0.777, 0.792, 0.782, 0.788, 0.786, 0.794, 0.785, 0.786, 0.792, 0.791, 0.796, 0.79, 0.795, 0.783, 0.79, 0.784, 0.795, 0.788, 0.775, 0.783, 0.776, 0.783, 0.797, 0.787, 0.79, 0.782, 0.778, 0.756, 0.792, 0.791, 0.785, 0.776, 0.771, 0.784, 0.784, 0.788, 0.782, 0.773, 0.776, 0.768, 0.797, 0.793, 0.804, 0.785, 0.769, 0.787, 0.792, 0.786, 0.799, 0.79, 0.788, 0.791, 0.803, 0.791, 0.792, 0.793]}, {\"marker\": {\"maxdisplayed\": 10}, \"mode\": \"lines+markers\", \"name\": \"Trial85\", \"type\": \"scatter\", \"x\": [0, 1, 2, 3, 4, 5, 6, 7, 8, 9, 10, 11, 12, 13, 14, 15, 16, 17, 18, 19, 20, 21, 22, 23, 24, 25, 26, 27, 28, 29, 30, 31, 32, 33, 34, 35, 36, 37, 38, 39, 40, 41, 42, 43, 44, 45, 46, 47, 48, 49, 50, 51, 52, 53, 54, 55, 56, 57, 58, 59, 60, 61, 62, 63, 64, 65, 66, 67, 68, 69, 70, 71, 72, 73, 74, 75, 76, 77, 78, 79, 80, 81, 82, 83, 84, 85, 86, 87, 88, 89, 90, 91, 92, 93, 94, 95, 96, 97, 98, 99], \"y\": [0.473, 0.64, 0.663, 0.696, 0.704, 0.747, 0.707, 0.715, 0.743, 0.771, 0.747, 0.755, 0.756, 0.764, 0.766, 0.764, 0.764, 0.771, 0.776, 0.783, 0.781, 0.775, 0.769, 0.771, 0.743, 0.788, 0.776, 0.745, 0.779, 0.781, 0.784, 0.767, 0.764, 0.782, 0.781, 0.779, 0.773, 0.773, 0.77, 0.782, 0.774, 0.769, 0.75, 0.764, 0.792, 0.784, 0.788, 0.79, 0.787, 0.781, 0.772, 0.795, 0.8, 0.795, 0.78, 0.788, 0.774, 0.763, 0.782, 0.795, 0.777, 0.78, 0.778, 0.786, 0.778, 0.779, 0.771, 0.783, 0.78, 0.792, 0.784, 0.782, 0.76, 0.778, 0.784, 0.77, 0.772, 0.744, 0.778, 0.742, 0.782, 0.764, 0.791, 0.802, 0.803, 0.807, 0.802, 0.79, 0.796, 0.798, 0.796, 0.785, 0.782, 0.781, 0.787, 0.792, 0.791, 0.766, 0.77, 0.787]}, {\"marker\": {\"maxdisplayed\": 10}, \"mode\": \"lines+markers\", \"name\": \"Trial86\", \"type\": \"scatter\", \"x\": [0, 1, 2, 3, 4, 5, 6, 7, 8, 9, 10, 11, 12, 13, 14, 15, 16, 17, 18, 19, 20, 21, 22, 23, 24, 25, 26, 27, 28, 29, 30, 31, 32, 33, 34, 35, 36, 37, 38, 39, 40, 41, 42, 43, 44, 45, 46, 47, 48, 49, 50, 51, 52, 53, 54, 55, 56, 57, 58, 59, 60, 61, 62, 63, 64, 65, 66, 67, 68, 69, 70, 71, 72, 73, 74, 75, 76, 77, 78, 79, 80, 81, 82, 83, 84, 85, 86, 87, 88, 89, 90, 91, 92, 93, 94, 95, 96, 97, 98, 99], \"y\": [0.539, 0.673, 0.67, 0.702, 0.74, 0.736, 0.757, 0.737, 0.722, 0.723, 0.733, 0.758, 0.738, 0.777, 0.773, 0.747, 0.774, 0.78, 0.746, 0.776, 0.776, 0.787, 0.774, 0.794, 0.784, 0.778, 0.779, 0.782, 0.782, 0.769, 0.786, 0.778, 0.78, 0.792, 0.781, 0.785, 0.797, 0.775, 0.79, 0.778, 0.768, 0.787, 0.777, 0.768, 0.793, 0.789, 0.791, 0.795, 0.792, 0.784, 0.8, 0.776, 0.791, 0.777, 0.768, 0.79, 0.793, 0.787, 0.8, 0.791, 0.798, 0.806, 0.791, 0.792, 0.79, 0.796, 0.793, 0.793, 0.789, 0.784, 0.785, 0.8, 0.797, 0.793, 0.797, 0.789, 0.791, 0.795, 0.788, 0.794, 0.789, 0.778, 0.787, 0.789, 0.785, 0.781, 0.752, 0.79, 0.786, 0.784, 0.774, 0.79, 0.773, 0.777, 0.798, 0.798, 0.796, 0.808, 0.798, 0.779]}, {\"marker\": {\"maxdisplayed\": 10}, \"mode\": \"lines+markers\", \"name\": \"Trial87\", \"type\": \"scatter\", \"x\": [0, 1, 2], \"y\": [0.606, 0.648, 0.639]}, {\"marker\": {\"maxdisplayed\": 10}, \"mode\": \"lines+markers\", \"name\": \"Trial88\", \"type\": \"scatter\", \"x\": [0, 1], \"y\": [0.451, 0.527]}, {\"marker\": {\"maxdisplayed\": 10}, \"mode\": \"lines+markers\", \"name\": \"Trial89\", \"type\": \"scatter\", \"x\": [0, 1], \"y\": [0.405, 0.558]}, {\"marker\": {\"maxdisplayed\": 10}, \"mode\": \"lines+markers\", \"name\": \"Trial90\", \"type\": \"scatter\", \"x\": [0, 1], \"y\": [0.277, 0.567]}, {\"marker\": {\"maxdisplayed\": 10}, \"mode\": \"lines+markers\", \"name\": \"Trial91\", \"type\": \"scatter\", \"x\": [0, 1, 2], \"y\": [0.465, 0.633, 0.632]}, {\"marker\": {\"maxdisplayed\": 10}, \"mode\": \"lines+markers\", \"name\": \"Trial92\", \"type\": \"scatter\", \"x\": [0, 1, 2, 3, 4, 5, 6, 7], \"y\": [0.608, 0.719, 0.677, 0.708, 0.729, 0.703, 0.718, 0.723]}, {\"marker\": {\"maxdisplayed\": 10}, \"mode\": \"lines+markers\", \"name\": \"Trial93\", \"type\": \"scatter\", \"x\": [0, 1], \"y\": [0.495, 0.58]}, {\"marker\": {\"maxdisplayed\": 10}, \"mode\": \"lines+markers\", \"name\": \"Trial94\", \"type\": \"scatter\", \"x\": [0, 1], \"y\": [0.555, 0.571]}, {\"marker\": {\"maxdisplayed\": 10}, \"mode\": \"lines+markers\", \"name\": \"Trial95\", \"type\": \"scatter\", \"x\": [0, 1], \"y\": [0.46, 0.584]}, {\"marker\": {\"maxdisplayed\": 10}, \"mode\": \"lines+markers\", \"name\": \"Trial96\", \"type\": \"scatter\", \"x\": [0, 1, 2, 3, 4, 5, 6, 7, 8, 9, 10, 11, 12, 13, 14, 15, 16, 17, 18, 19, 20, 21, 22, 23, 24, 25, 26, 27, 28, 29, 30, 31, 32, 33, 34, 35, 36, 37, 38, 39, 40, 41, 42, 43, 44, 45, 46, 47, 48, 49, 50, 51, 52, 53, 54, 55, 56, 57, 58, 59, 60, 61, 62, 63, 64, 65, 66, 67, 68, 69, 70, 71, 72, 73, 74, 75, 76, 77, 78, 79, 80, 81, 82, 83, 84, 85, 86, 87, 88, 89, 90, 91, 92, 93, 94, 95, 96, 97, 98, 99], \"y\": [0.521, 0.665, 0.692, 0.698, 0.731, 0.73, 0.752, 0.741, 0.754, 0.732, 0.761, 0.757, 0.748, 0.743, 0.74, 0.767, 0.753, 0.757, 0.74, 0.759, 0.756, 0.774, 0.759, 0.729, 0.78, 0.754, 0.75, 0.744, 0.777, 0.763, 0.764, 0.771, 0.775, 0.779, 0.78, 0.778, 0.749, 0.783, 0.778, 0.774, 0.785, 0.784, 0.783, 0.765, 0.792, 0.771, 0.773, 0.778, 0.779, 0.773, 0.783, 0.785, 0.777, 0.781, 0.784, 0.778, 0.77, 0.776, 0.791, 0.779, 0.775, 0.744, 0.775, 0.767, 0.778, 0.79, 0.787, 0.762, 0.765, 0.772, 0.795, 0.784, 0.775, 0.798, 0.779, 0.793, 0.793, 0.775, 0.777, 0.772, 0.783, 0.783, 0.788, 0.777, 0.791, 0.793, 0.783, 0.782, 0.778, 0.766, 0.791, 0.789, 0.792, 0.788, 0.788, 0.789, 0.797, 0.78, 0.773, 0.764]}, {\"marker\": {\"maxdisplayed\": 10}, \"mode\": \"lines+markers\", \"name\": \"Trial97\", \"type\": \"scatter\", \"x\": [0, 1, 2], \"y\": [0.486, 0.63, 0.655]}, {\"marker\": {\"maxdisplayed\": 10}, \"mode\": \"lines+markers\", \"name\": \"Trial98\", \"type\": \"scatter\", \"x\": [0, 1, 2], \"y\": [0.356, 0.622, 0.625]}, {\"marker\": {\"maxdisplayed\": 10}, \"mode\": \"lines+markers\", \"name\": \"Trial99\", \"type\": \"scatter\", \"x\": [0, 1, 2, 3], \"y\": [0.329, 0.637, 0.663, 0.63]}],\n",
       "                        {\"showlegend\": false, \"template\": {\"data\": {\"bar\": [{\"error_x\": {\"color\": \"#2a3f5f\"}, \"error_y\": {\"color\": \"#2a3f5f\"}, \"marker\": {\"line\": {\"color\": \"#E5ECF6\", \"width\": 0.5}}, \"type\": \"bar\"}], \"barpolar\": [{\"marker\": {\"line\": {\"color\": \"#E5ECF6\", \"width\": 0.5}}, \"type\": \"barpolar\"}], \"carpet\": [{\"aaxis\": {\"endlinecolor\": \"#2a3f5f\", \"gridcolor\": \"white\", \"linecolor\": \"white\", \"minorgridcolor\": \"white\", \"startlinecolor\": \"#2a3f5f\"}, \"baxis\": {\"endlinecolor\": \"#2a3f5f\", \"gridcolor\": \"white\", \"linecolor\": \"white\", \"minorgridcolor\": \"white\", \"startlinecolor\": \"#2a3f5f\"}, \"type\": \"carpet\"}], \"choropleth\": [{\"colorbar\": {\"outlinewidth\": 0, \"ticks\": \"\"}, \"type\": \"choropleth\"}], \"contour\": [{\"colorbar\": {\"outlinewidth\": 0, \"ticks\": \"\"}, \"colorscale\": [[0.0, \"#0d0887\"], [0.1111111111111111, \"#46039f\"], [0.2222222222222222, \"#7201a8\"], [0.3333333333333333, \"#9c179e\"], [0.4444444444444444, \"#bd3786\"], [0.5555555555555556, \"#d8576b\"], [0.6666666666666666, \"#ed7953\"], [0.7777777777777778, \"#fb9f3a\"], [0.8888888888888888, \"#fdca26\"], [1.0, \"#f0f921\"]], \"type\": \"contour\"}], \"contourcarpet\": [{\"colorbar\": {\"outlinewidth\": 0, \"ticks\": \"\"}, \"type\": \"contourcarpet\"}], \"heatmap\": [{\"colorbar\": {\"outlinewidth\": 0, \"ticks\": \"\"}, \"colorscale\": [[0.0, \"#0d0887\"], [0.1111111111111111, \"#46039f\"], [0.2222222222222222, \"#7201a8\"], [0.3333333333333333, \"#9c179e\"], [0.4444444444444444, \"#bd3786\"], [0.5555555555555556, \"#d8576b\"], [0.6666666666666666, \"#ed7953\"], [0.7777777777777778, \"#fb9f3a\"], [0.8888888888888888, \"#fdca26\"], [1.0, \"#f0f921\"]], \"type\": \"heatmap\"}], \"heatmapgl\": [{\"colorbar\": {\"outlinewidth\": 0, \"ticks\": \"\"}, \"colorscale\": [[0.0, \"#0d0887\"], [0.1111111111111111, \"#46039f\"], [0.2222222222222222, \"#7201a8\"], [0.3333333333333333, \"#9c179e\"], [0.4444444444444444, \"#bd3786\"], [0.5555555555555556, \"#d8576b\"], [0.6666666666666666, \"#ed7953\"], [0.7777777777777778, \"#fb9f3a\"], [0.8888888888888888, \"#fdca26\"], [1.0, \"#f0f921\"]], \"type\": \"heatmapgl\"}], \"histogram\": [{\"marker\": {\"colorbar\": {\"outlinewidth\": 0, \"ticks\": \"\"}}, \"type\": \"histogram\"}], \"histogram2d\": [{\"colorbar\": {\"outlinewidth\": 0, \"ticks\": \"\"}, \"colorscale\": [[0.0, \"#0d0887\"], [0.1111111111111111, \"#46039f\"], [0.2222222222222222, \"#7201a8\"], [0.3333333333333333, \"#9c179e\"], [0.4444444444444444, \"#bd3786\"], [0.5555555555555556, \"#d8576b\"], [0.6666666666666666, \"#ed7953\"], [0.7777777777777778, \"#fb9f3a\"], [0.8888888888888888, \"#fdca26\"], [1.0, \"#f0f921\"]], \"type\": \"histogram2d\"}], \"histogram2dcontour\": [{\"colorbar\": {\"outlinewidth\": 0, \"ticks\": \"\"}, \"colorscale\": [[0.0, \"#0d0887\"], [0.1111111111111111, \"#46039f\"], [0.2222222222222222, \"#7201a8\"], [0.3333333333333333, \"#9c179e\"], [0.4444444444444444, \"#bd3786\"], [0.5555555555555556, \"#d8576b\"], [0.6666666666666666, \"#ed7953\"], [0.7777777777777778, \"#fb9f3a\"], [0.8888888888888888, \"#fdca26\"], [1.0, \"#f0f921\"]], \"type\": \"histogram2dcontour\"}], \"mesh3d\": [{\"colorbar\": {\"outlinewidth\": 0, \"ticks\": \"\"}, \"type\": \"mesh3d\"}], \"parcoords\": [{\"line\": {\"colorbar\": {\"outlinewidth\": 0, \"ticks\": \"\"}}, \"type\": \"parcoords\"}], \"pie\": [{\"automargin\": true, \"type\": \"pie\"}], \"scatter\": [{\"marker\": {\"colorbar\": {\"outlinewidth\": 0, \"ticks\": \"\"}}, \"type\": \"scatter\"}], \"scatter3d\": [{\"line\": {\"colorbar\": {\"outlinewidth\": 0, \"ticks\": \"\"}}, \"marker\": {\"colorbar\": {\"outlinewidth\": 0, \"ticks\": \"\"}}, \"type\": \"scatter3d\"}], \"scattercarpet\": [{\"marker\": {\"colorbar\": {\"outlinewidth\": 0, \"ticks\": \"\"}}, \"type\": \"scattercarpet\"}], \"scattergeo\": [{\"marker\": {\"colorbar\": {\"outlinewidth\": 0, \"ticks\": \"\"}}, \"type\": \"scattergeo\"}], \"scattergl\": [{\"marker\": {\"colorbar\": {\"outlinewidth\": 0, \"ticks\": \"\"}}, \"type\": \"scattergl\"}], \"scattermapbox\": [{\"marker\": {\"colorbar\": {\"outlinewidth\": 0, \"ticks\": \"\"}}, \"type\": \"scattermapbox\"}], \"scatterpolar\": [{\"marker\": {\"colorbar\": {\"outlinewidth\": 0, \"ticks\": \"\"}}, \"type\": \"scatterpolar\"}], \"scatterpolargl\": [{\"marker\": {\"colorbar\": {\"outlinewidth\": 0, \"ticks\": \"\"}}, \"type\": \"scatterpolargl\"}], \"scatterternary\": [{\"marker\": {\"colorbar\": {\"outlinewidth\": 0, \"ticks\": \"\"}}, \"type\": \"scatterternary\"}], \"surface\": [{\"colorbar\": {\"outlinewidth\": 0, \"ticks\": \"\"}, \"colorscale\": [[0.0, \"#0d0887\"], [0.1111111111111111, \"#46039f\"], [0.2222222222222222, \"#7201a8\"], [0.3333333333333333, \"#9c179e\"], [0.4444444444444444, \"#bd3786\"], [0.5555555555555556, \"#d8576b\"], [0.6666666666666666, \"#ed7953\"], [0.7777777777777778, \"#fb9f3a\"], [0.8888888888888888, \"#fdca26\"], [1.0, \"#f0f921\"]], \"type\": \"surface\"}], \"table\": [{\"cells\": {\"fill\": {\"color\": \"#EBF0F8\"}, \"line\": {\"color\": \"white\"}}, \"header\": {\"fill\": {\"color\": \"#C8D4E3\"}, \"line\": {\"color\": \"white\"}}, \"type\": \"table\"}]}, \"layout\": {\"annotationdefaults\": {\"arrowcolor\": \"#2a3f5f\", \"arrowhead\": 0, \"arrowwidth\": 1}, \"coloraxis\": {\"colorbar\": {\"outlinewidth\": 0, \"ticks\": \"\"}}, \"colorscale\": {\"diverging\": [[0, \"#8e0152\"], [0.1, \"#c51b7d\"], [0.2, \"#de77ae\"], [0.3, \"#f1b6da\"], [0.4, \"#fde0ef\"], [0.5, \"#f7f7f7\"], [0.6, \"#e6f5d0\"], [0.7, \"#b8e186\"], [0.8, \"#7fbc41\"], [0.9, \"#4d9221\"], [1, \"#276419\"]], \"sequential\": [[0.0, \"#0d0887\"], [0.1111111111111111, \"#46039f\"], [0.2222222222222222, \"#7201a8\"], [0.3333333333333333, \"#9c179e\"], [0.4444444444444444, \"#bd3786\"], [0.5555555555555556, \"#d8576b\"], [0.6666666666666666, \"#ed7953\"], [0.7777777777777778, \"#fb9f3a\"], [0.8888888888888888, \"#fdca26\"], [1.0, \"#f0f921\"]], \"sequentialminus\": [[0.0, \"#0d0887\"], [0.1111111111111111, \"#46039f\"], [0.2222222222222222, \"#7201a8\"], [0.3333333333333333, \"#9c179e\"], [0.4444444444444444, \"#bd3786\"], [0.5555555555555556, \"#d8576b\"], [0.6666666666666666, \"#ed7953\"], [0.7777777777777778, \"#fb9f3a\"], [0.8888888888888888, \"#fdca26\"], [1.0, \"#f0f921\"]]}, \"colorway\": [\"#636efa\", \"#EF553B\", \"#00cc96\", \"#ab63fa\", \"#FFA15A\", \"#19d3f3\", \"#FF6692\", \"#B6E880\", \"#FF97FF\", \"#FECB52\"], \"font\": {\"color\": \"#2a3f5f\"}, \"geo\": {\"bgcolor\": \"white\", \"lakecolor\": \"white\", \"landcolor\": \"#E5ECF6\", \"showlakes\": true, \"showland\": true, \"subunitcolor\": \"white\"}, \"hoverlabel\": {\"align\": \"left\"}, \"hovermode\": \"closest\", \"mapbox\": {\"style\": \"light\"}, \"paper_bgcolor\": \"white\", \"plot_bgcolor\": \"#E5ECF6\", \"polar\": {\"angularaxis\": {\"gridcolor\": \"white\", \"linecolor\": \"white\", \"ticks\": \"\"}, \"bgcolor\": \"#E5ECF6\", \"radialaxis\": {\"gridcolor\": \"white\", \"linecolor\": \"white\", \"ticks\": \"\"}}, \"scene\": {\"xaxis\": {\"backgroundcolor\": \"#E5ECF6\", \"gridcolor\": \"white\", \"gridwidth\": 2, \"linecolor\": \"white\", \"showbackground\": true, \"ticks\": \"\", \"zerolinecolor\": \"white\"}, \"yaxis\": {\"backgroundcolor\": \"#E5ECF6\", \"gridcolor\": \"white\", \"gridwidth\": 2, \"linecolor\": \"white\", \"showbackground\": true, \"ticks\": \"\", \"zerolinecolor\": \"white\"}, \"zaxis\": {\"backgroundcolor\": \"#E5ECF6\", \"gridcolor\": \"white\", \"gridwidth\": 2, \"linecolor\": \"white\", \"showbackground\": true, \"ticks\": \"\", \"zerolinecolor\": \"white\"}}, \"shapedefaults\": {\"line\": {\"color\": \"#2a3f5f\"}}, \"ternary\": {\"aaxis\": {\"gridcolor\": \"white\", \"linecolor\": \"white\", \"ticks\": \"\"}, \"baxis\": {\"gridcolor\": \"white\", \"linecolor\": \"white\", \"ticks\": \"\"}, \"bgcolor\": \"#E5ECF6\", \"caxis\": {\"gridcolor\": \"white\", \"linecolor\": \"white\", \"ticks\": \"\"}}, \"title\": {\"x\": 0.05}, \"xaxis\": {\"automargin\": true, \"gridcolor\": \"white\", \"linecolor\": \"white\", \"ticks\": \"\", \"title\": {\"standoff\": 15}, \"zerolinecolor\": \"white\", \"zerolinewidth\": 2}, \"yaxis\": {\"automargin\": true, \"gridcolor\": \"white\", \"linecolor\": \"white\", \"ticks\": \"\", \"title\": {\"standoff\": 15}, \"zerolinecolor\": \"white\", \"zerolinewidth\": 2}}}, \"title\": {\"text\": \"Intermediate Values Plot\"}, \"xaxis\": {\"title\": {\"text\": \"Step\"}}, \"yaxis\": {\"title\": {\"text\": \"Intermediate Value\"}}},\n",
       "                        {\"responsive\": true}\n",
       "                    ).then(function(){\n",
       "                            \n",
       "var gd = document.getElementById('98bfa569-6e38-453d-a640-0401e7fb3581');\n",
       "var x = new MutationObserver(function (mutations, observer) {{\n",
       "        var display = window.getComputedStyle(gd).display;\n",
       "        if (!display || display === 'none') {{\n",
       "            console.log([gd, 'removed!']);\n",
       "            Plotly.purge(gd);\n",
       "            observer.disconnect();\n",
       "        }}\n",
       "}});\n",
       "\n",
       "// Listen for the removal of the full notebook cells\n",
       "var notebookContainer = gd.closest('#notebook-container');\n",
       "if (notebookContainer) {{\n",
       "    x.observe(notebookContainer, {childList: true});\n",
       "}}\n",
       "\n",
       "// Listen for the clearing of the current output cell\n",
       "var outputEl = gd.closest('.output');\n",
       "if (outputEl) {{\n",
       "    x.observe(outputEl, {childList: true});\n",
       "}}\n",
       "\n",
       "                        })\n",
       "                };\n",
       "                });\n",
       "            </script>\n",
       "        </div>"
      ]
     },
     "metadata": {},
     "output_type": "display_data"
    }
   ],
   "source": [
    "from optuna.visualization import plot_intermediate_values\n",
    "\n",
    "plot_intermediate_values(study)"
   ]
  },
  {
   "cell_type": "markdown",
   "metadata": {
    "colab_type": "text",
    "id": "zgAqVidnUoPU"
   },
   "source": [
    "## Visualizing High-dimensional Parameter Relationships"
   ]
  },
  {
   "cell_type": "code",
   "execution_count": 9,
   "metadata": {
    "colab": {},
    "colab_type": "code",
    "id": "3k0c4Ts6UoPU"
   },
   "outputs": [
    {
     "data": {
      "application/vnd.plotly.v1+json": {
       "config": {
        "plotlyServerURL": "https://plot.ly"
       },
       "data": [
        {
         "dimensions": [
          {
           "label": "Objective Value",
           "range": [
            0.286,
            0.814
           ],
           "values": [
            0.77,
            0.697,
            0.724,
            0.286,
            0.749,
            0.758,
            0.802,
            0.765,
            0.801,
            0.796,
            0.781,
            0.781,
            0.779,
            0.771,
            0.752,
            0.787,
            0.814,
            0.79,
            0.806,
            0.797,
            0.788,
            0.781,
            0.793,
            0.787,
            0.779,
            0.764
           ]
          },
          {
           "label": "lr_init",
           "range": [
            4.150146894188187e-05,
            0.01742735341297762
           ],
           "values": [
            0.0016801561613554626,
            4.150146894188187e-05,
            0.01742735341297762,
            0.00836510120287843,
            0.005959544128320366,
            0.0006037049619939256,
            0.003699357433253755,
            0.0008290383644298195,
            0.0028366785551485136,
            0.0033378478466296823,
            0.0026023834468866763,
            0.004734701866521968,
            0.0032877429116842777,
            0.0022966733338897925,
            0.001934702484556159,
            0.002269914575227272,
            0.005296695095678726,
            0.0021667133974016873,
            0.0044025218905984695,
            0.0023311988429061095,
            0.003287877276090833,
            0.003453107696755918,
            0.004146112094892482,
            0.004629038062214431,
            0.0028223530220840426,
            0.00247686650609683
           ]
          },
          {
           "label": "n_units_l0",
           "range": [
            39,
            64
           ],
           "values": [
            60,
            59,
            58,
            40,
            39,
            44,
            55,
            53,
            64,
            53,
            52,
            62,
            54,
            48,
            62,
            52,
            59,
            57,
            61,
            58,
            56,
            56,
            55,
            57,
            61,
            50
           ]
          },
          {
           "label": "n_units_l1",
           "range": [
            35,
            64
           ],
           "values": [
            52,
            54,
            60,
            50,
            64,
            49,
            60,
            41,
            56,
            58,
            42,
            57,
            58,
            52,
            52,
            39,
            54,
            50,
            58,
            35,
            53,
            51,
            56,
            56,
            58,
            57
           ]
          },
          {
           "label": "n_units_l2",
           "range": [
            34,
            63
           ],
           "values": [
            52,
            46,
            58,
            47,
            63,
            51,
            55,
            34,
            54,
            55,
            59,
            42,
            55,
            54,
            52,
            60,
            60,
            59,
            45,
            46,
            61,
            57,
            60,
            60,
            56,
            50
           ]
          }
         ],
         "line": {
          "color": [
           0.77,
           0.697,
           0.724,
           0.286,
           0.749,
           0.758,
           0.802,
           0.765,
           0.801,
           0.796,
           0.781,
           0.781,
           0.779,
           0.771,
           0.752,
           0.787,
           0.814,
           0.79,
           0.806,
           0.797,
           0.788,
           0.781,
           0.793,
           0.787,
           0.779,
           0.764
          ],
          "colorbar": {
           "title": {
            "text": "Objective Value"
           }
          },
          "colorscale": [
           [
            0,
            "rgb(247,251,255)"
           ],
           [
            0.125,
            "rgb(222,235,247)"
           ],
           [
            0.25,
            "rgb(198,219,239)"
           ],
           [
            0.375,
            "rgb(158,202,225)"
           ],
           [
            0.5,
            "rgb(107,174,214)"
           ],
           [
            0.625,
            "rgb(66,146,198)"
           ],
           [
            0.75,
            "rgb(33,113,181)"
           ],
           [
            0.875,
            "rgb(8,81,156)"
           ],
           [
            1,
            "rgb(8,48,107)"
           ]
          ],
          "reversescale": false,
          "showscale": true
         },
         "type": "parcoords"
        }
       ],
       "layout": {
        "template": {
         "data": {
          "bar": [
           {
            "error_x": {
             "color": "#2a3f5f"
            },
            "error_y": {
             "color": "#2a3f5f"
            },
            "marker": {
             "line": {
              "color": "#E5ECF6",
              "width": 0.5
             }
            },
            "type": "bar"
           }
          ],
          "barpolar": [
           {
            "marker": {
             "line": {
              "color": "#E5ECF6",
              "width": 0.5
             }
            },
            "type": "barpolar"
           }
          ],
          "carpet": [
           {
            "aaxis": {
             "endlinecolor": "#2a3f5f",
             "gridcolor": "white",
             "linecolor": "white",
             "minorgridcolor": "white",
             "startlinecolor": "#2a3f5f"
            },
            "baxis": {
             "endlinecolor": "#2a3f5f",
             "gridcolor": "white",
             "linecolor": "white",
             "minorgridcolor": "white",
             "startlinecolor": "#2a3f5f"
            },
            "type": "carpet"
           }
          ],
          "choropleth": [
           {
            "colorbar": {
             "outlinewidth": 0,
             "ticks": ""
            },
            "type": "choropleth"
           }
          ],
          "contour": [
           {
            "colorbar": {
             "outlinewidth": 0,
             "ticks": ""
            },
            "colorscale": [
             [
              0,
              "#0d0887"
             ],
             [
              0.1111111111111111,
              "#46039f"
             ],
             [
              0.2222222222222222,
              "#7201a8"
             ],
             [
              0.3333333333333333,
              "#9c179e"
             ],
             [
              0.4444444444444444,
              "#bd3786"
             ],
             [
              0.5555555555555556,
              "#d8576b"
             ],
             [
              0.6666666666666666,
              "#ed7953"
             ],
             [
              0.7777777777777778,
              "#fb9f3a"
             ],
             [
              0.8888888888888888,
              "#fdca26"
             ],
             [
              1,
              "#f0f921"
             ]
            ],
            "type": "contour"
           }
          ],
          "contourcarpet": [
           {
            "colorbar": {
             "outlinewidth": 0,
             "ticks": ""
            },
            "type": "contourcarpet"
           }
          ],
          "heatmap": [
           {
            "colorbar": {
             "outlinewidth": 0,
             "ticks": ""
            },
            "colorscale": [
             [
              0,
              "#0d0887"
             ],
             [
              0.1111111111111111,
              "#46039f"
             ],
             [
              0.2222222222222222,
              "#7201a8"
             ],
             [
              0.3333333333333333,
              "#9c179e"
             ],
             [
              0.4444444444444444,
              "#bd3786"
             ],
             [
              0.5555555555555556,
              "#d8576b"
             ],
             [
              0.6666666666666666,
              "#ed7953"
             ],
             [
              0.7777777777777778,
              "#fb9f3a"
             ],
             [
              0.8888888888888888,
              "#fdca26"
             ],
             [
              1,
              "#f0f921"
             ]
            ],
            "type": "heatmap"
           }
          ],
          "heatmapgl": [
           {
            "colorbar": {
             "outlinewidth": 0,
             "ticks": ""
            },
            "colorscale": [
             [
              0,
              "#0d0887"
             ],
             [
              0.1111111111111111,
              "#46039f"
             ],
             [
              0.2222222222222222,
              "#7201a8"
             ],
             [
              0.3333333333333333,
              "#9c179e"
             ],
             [
              0.4444444444444444,
              "#bd3786"
             ],
             [
              0.5555555555555556,
              "#d8576b"
             ],
             [
              0.6666666666666666,
              "#ed7953"
             ],
             [
              0.7777777777777778,
              "#fb9f3a"
             ],
             [
              0.8888888888888888,
              "#fdca26"
             ],
             [
              1,
              "#f0f921"
             ]
            ],
            "type": "heatmapgl"
           }
          ],
          "histogram": [
           {
            "marker": {
             "colorbar": {
              "outlinewidth": 0,
              "ticks": ""
             }
            },
            "type": "histogram"
           }
          ],
          "histogram2d": [
           {
            "colorbar": {
             "outlinewidth": 0,
             "ticks": ""
            },
            "colorscale": [
             [
              0,
              "#0d0887"
             ],
             [
              0.1111111111111111,
              "#46039f"
             ],
             [
              0.2222222222222222,
              "#7201a8"
             ],
             [
              0.3333333333333333,
              "#9c179e"
             ],
             [
              0.4444444444444444,
              "#bd3786"
             ],
             [
              0.5555555555555556,
              "#d8576b"
             ],
             [
              0.6666666666666666,
              "#ed7953"
             ],
             [
              0.7777777777777778,
              "#fb9f3a"
             ],
             [
              0.8888888888888888,
              "#fdca26"
             ],
             [
              1,
              "#f0f921"
             ]
            ],
            "type": "histogram2d"
           }
          ],
          "histogram2dcontour": [
           {
            "colorbar": {
             "outlinewidth": 0,
             "ticks": ""
            },
            "colorscale": [
             [
              0,
              "#0d0887"
             ],
             [
              0.1111111111111111,
              "#46039f"
             ],
             [
              0.2222222222222222,
              "#7201a8"
             ],
             [
              0.3333333333333333,
              "#9c179e"
             ],
             [
              0.4444444444444444,
              "#bd3786"
             ],
             [
              0.5555555555555556,
              "#d8576b"
             ],
             [
              0.6666666666666666,
              "#ed7953"
             ],
             [
              0.7777777777777778,
              "#fb9f3a"
             ],
             [
              0.8888888888888888,
              "#fdca26"
             ],
             [
              1,
              "#f0f921"
             ]
            ],
            "type": "histogram2dcontour"
           }
          ],
          "mesh3d": [
           {
            "colorbar": {
             "outlinewidth": 0,
             "ticks": ""
            },
            "type": "mesh3d"
           }
          ],
          "parcoords": [
           {
            "line": {
             "colorbar": {
              "outlinewidth": 0,
              "ticks": ""
             }
            },
            "type": "parcoords"
           }
          ],
          "pie": [
           {
            "automargin": true,
            "type": "pie"
           }
          ],
          "scatter": [
           {
            "marker": {
             "colorbar": {
              "outlinewidth": 0,
              "ticks": ""
             }
            },
            "type": "scatter"
           }
          ],
          "scatter3d": [
           {
            "line": {
             "colorbar": {
              "outlinewidth": 0,
              "ticks": ""
             }
            },
            "marker": {
             "colorbar": {
              "outlinewidth": 0,
              "ticks": ""
             }
            },
            "type": "scatter3d"
           }
          ],
          "scattercarpet": [
           {
            "marker": {
             "colorbar": {
              "outlinewidth": 0,
              "ticks": ""
             }
            },
            "type": "scattercarpet"
           }
          ],
          "scattergeo": [
           {
            "marker": {
             "colorbar": {
              "outlinewidth": 0,
              "ticks": ""
             }
            },
            "type": "scattergeo"
           }
          ],
          "scattergl": [
           {
            "marker": {
             "colorbar": {
              "outlinewidth": 0,
              "ticks": ""
             }
            },
            "type": "scattergl"
           }
          ],
          "scattermapbox": [
           {
            "marker": {
             "colorbar": {
              "outlinewidth": 0,
              "ticks": ""
             }
            },
            "type": "scattermapbox"
           }
          ],
          "scatterpolar": [
           {
            "marker": {
             "colorbar": {
              "outlinewidth": 0,
              "ticks": ""
             }
            },
            "type": "scatterpolar"
           }
          ],
          "scatterpolargl": [
           {
            "marker": {
             "colorbar": {
              "outlinewidth": 0,
              "ticks": ""
             }
            },
            "type": "scatterpolargl"
           }
          ],
          "scatterternary": [
           {
            "marker": {
             "colorbar": {
              "outlinewidth": 0,
              "ticks": ""
             }
            },
            "type": "scatterternary"
           }
          ],
          "surface": [
           {
            "colorbar": {
             "outlinewidth": 0,
             "ticks": ""
            },
            "colorscale": [
             [
              0,
              "#0d0887"
             ],
             [
              0.1111111111111111,
              "#46039f"
             ],
             [
              0.2222222222222222,
              "#7201a8"
             ],
             [
              0.3333333333333333,
              "#9c179e"
             ],
             [
              0.4444444444444444,
              "#bd3786"
             ],
             [
              0.5555555555555556,
              "#d8576b"
             ],
             [
              0.6666666666666666,
              "#ed7953"
             ],
             [
              0.7777777777777778,
              "#fb9f3a"
             ],
             [
              0.8888888888888888,
              "#fdca26"
             ],
             [
              1,
              "#f0f921"
             ]
            ],
            "type": "surface"
           }
          ],
          "table": [
           {
            "cells": {
             "fill": {
              "color": "#EBF0F8"
             },
             "line": {
              "color": "white"
             }
            },
            "header": {
             "fill": {
              "color": "#C8D4E3"
             },
             "line": {
              "color": "white"
             }
            },
            "type": "table"
           }
          ]
         },
         "layout": {
          "annotationdefaults": {
           "arrowcolor": "#2a3f5f",
           "arrowhead": 0,
           "arrowwidth": 1
          },
          "coloraxis": {
           "colorbar": {
            "outlinewidth": 0,
            "ticks": ""
           }
          },
          "colorscale": {
           "diverging": [
            [
             0,
             "#8e0152"
            ],
            [
             0.1,
             "#c51b7d"
            ],
            [
             0.2,
             "#de77ae"
            ],
            [
             0.3,
             "#f1b6da"
            ],
            [
             0.4,
             "#fde0ef"
            ],
            [
             0.5,
             "#f7f7f7"
            ],
            [
             0.6,
             "#e6f5d0"
            ],
            [
             0.7,
             "#b8e186"
            ],
            [
             0.8,
             "#7fbc41"
            ],
            [
             0.9,
             "#4d9221"
            ],
            [
             1,
             "#276419"
            ]
           ],
           "sequential": [
            [
             0,
             "#0d0887"
            ],
            [
             0.1111111111111111,
             "#46039f"
            ],
            [
             0.2222222222222222,
             "#7201a8"
            ],
            [
             0.3333333333333333,
             "#9c179e"
            ],
            [
             0.4444444444444444,
             "#bd3786"
            ],
            [
             0.5555555555555556,
             "#d8576b"
            ],
            [
             0.6666666666666666,
             "#ed7953"
            ],
            [
             0.7777777777777778,
             "#fb9f3a"
            ],
            [
             0.8888888888888888,
             "#fdca26"
            ],
            [
             1,
             "#f0f921"
            ]
           ],
           "sequentialminus": [
            [
             0,
             "#0d0887"
            ],
            [
             0.1111111111111111,
             "#46039f"
            ],
            [
             0.2222222222222222,
             "#7201a8"
            ],
            [
             0.3333333333333333,
             "#9c179e"
            ],
            [
             0.4444444444444444,
             "#bd3786"
            ],
            [
             0.5555555555555556,
             "#d8576b"
            ],
            [
             0.6666666666666666,
             "#ed7953"
            ],
            [
             0.7777777777777778,
             "#fb9f3a"
            ],
            [
             0.8888888888888888,
             "#fdca26"
            ],
            [
             1,
             "#f0f921"
            ]
           ]
          },
          "colorway": [
           "#636efa",
           "#EF553B",
           "#00cc96",
           "#ab63fa",
           "#FFA15A",
           "#19d3f3",
           "#FF6692",
           "#B6E880",
           "#FF97FF",
           "#FECB52"
          ],
          "font": {
           "color": "#2a3f5f"
          },
          "geo": {
           "bgcolor": "white",
           "lakecolor": "white",
           "landcolor": "#E5ECF6",
           "showlakes": true,
           "showland": true,
           "subunitcolor": "white"
          },
          "hoverlabel": {
           "align": "left"
          },
          "hovermode": "closest",
          "mapbox": {
           "style": "light"
          },
          "paper_bgcolor": "white",
          "plot_bgcolor": "#E5ECF6",
          "polar": {
           "angularaxis": {
            "gridcolor": "white",
            "linecolor": "white",
            "ticks": ""
           },
           "bgcolor": "#E5ECF6",
           "radialaxis": {
            "gridcolor": "white",
            "linecolor": "white",
            "ticks": ""
           }
          },
          "scene": {
           "xaxis": {
            "backgroundcolor": "#E5ECF6",
            "gridcolor": "white",
            "gridwidth": 2,
            "linecolor": "white",
            "showbackground": true,
            "ticks": "",
            "zerolinecolor": "white"
           },
           "yaxis": {
            "backgroundcolor": "#E5ECF6",
            "gridcolor": "white",
            "gridwidth": 2,
            "linecolor": "white",
            "showbackground": true,
            "ticks": "",
            "zerolinecolor": "white"
           },
           "zaxis": {
            "backgroundcolor": "#E5ECF6",
            "gridcolor": "white",
            "gridwidth": 2,
            "linecolor": "white",
            "showbackground": true,
            "ticks": "",
            "zerolinecolor": "white"
           }
          },
          "shapedefaults": {
           "line": {
            "color": "#2a3f5f"
           }
          },
          "ternary": {
           "aaxis": {
            "gridcolor": "white",
            "linecolor": "white",
            "ticks": ""
           },
           "baxis": {
            "gridcolor": "white",
            "linecolor": "white",
            "ticks": ""
           },
           "bgcolor": "#E5ECF6",
           "caxis": {
            "gridcolor": "white",
            "linecolor": "white",
            "ticks": ""
           }
          },
          "title": {
           "x": 0.05
          },
          "xaxis": {
           "automargin": true,
           "gridcolor": "white",
           "linecolor": "white",
           "ticks": "",
           "title": {
            "standoff": 15
           },
           "zerolinecolor": "white",
           "zerolinewidth": 2
          },
          "yaxis": {
           "automargin": true,
           "gridcolor": "white",
           "linecolor": "white",
           "ticks": "",
           "title": {
            "standoff": 15
           },
           "zerolinecolor": "white",
           "zerolinewidth": 2
          }
         }
        },
        "title": {
         "text": "Parallel Coordinate Plot"
        }
       }
      },
      "text/html": [
       "<div>\n",
       "        \n",
       "        \n",
       "            <div id=\"73bad1b5-5e3d-4011-85ab-f32400f44c2c\" class=\"plotly-graph-div\" style=\"height:525px; width:100%;\"></div>\n",
       "            <script type=\"text/javascript\">\n",
       "                require([\"plotly\"], function(Plotly) {\n",
       "                    window.PLOTLYENV=window.PLOTLYENV || {};\n",
       "                    \n",
       "                if (document.getElementById(\"73bad1b5-5e3d-4011-85ab-f32400f44c2c\")) {\n",
       "                    Plotly.newPlot(\n",
       "                        '73bad1b5-5e3d-4011-85ab-f32400f44c2c',\n",
       "                        [{\"dimensions\": [{\"label\": \"Objective Value\", \"range\": [0.286, 0.814], \"values\": [0.77, 0.697, 0.724, 0.286, 0.749, 0.758, 0.802, 0.765, 0.801, 0.796, 0.781, 0.781, 0.779, 0.771, 0.752, 0.787, 0.814, 0.79, 0.806, 0.797, 0.788, 0.781, 0.793, 0.787, 0.779, 0.764]}, {\"label\": \"lr_init\", \"range\": [4.150146894188187e-05, 0.01742735341297762], \"values\": [0.0016801561613554626, 4.150146894188187e-05, 0.01742735341297762, 0.00836510120287843, 0.005959544128320366, 0.0006037049619939256, 0.003699357433253755, 0.0008290383644298195, 0.0028366785551485136, 0.0033378478466296823, 0.0026023834468866763, 0.004734701866521968, 0.0032877429116842777, 0.0022966733338897925, 0.001934702484556159, 0.002269914575227272, 0.005296695095678726, 0.0021667133974016873, 0.0044025218905984695, 0.0023311988429061095, 0.003287877276090833, 0.003453107696755918, 0.004146112094892482, 0.004629038062214431, 0.0028223530220840426, 0.00247686650609683]}, {\"label\": \"n_units_l0\", \"range\": [39, 64], \"values\": [60, 59, 58, 40, 39, 44, 55, 53, 64, 53, 52, 62, 54, 48, 62, 52, 59, 57, 61, 58, 56, 56, 55, 57, 61, 50]}, {\"label\": \"n_units_l1\", \"range\": [35, 64], \"values\": [52, 54, 60, 50, 64, 49, 60, 41, 56, 58, 42, 57, 58, 52, 52, 39, 54, 50, 58, 35, 53, 51, 56, 56, 58, 57]}, {\"label\": \"n_units_l2\", \"range\": [34, 63], \"values\": [52, 46, 58, 47, 63, 51, 55, 34, 54, 55, 59, 42, 55, 54, 52, 60, 60, 59, 45, 46, 61, 57, 60, 60, 56, 50]}], \"line\": {\"color\": [0.77, 0.697, 0.724, 0.286, 0.749, 0.758, 0.802, 0.765, 0.801, 0.796, 0.781, 0.781, 0.779, 0.771, 0.752, 0.787, 0.814, 0.79, 0.806, 0.797, 0.788, 0.781, 0.793, 0.787, 0.779, 0.764], \"colorbar\": {\"title\": {\"text\": \"Objective Value\"}}, \"colorscale\": [[0.0, \"rgb(247,251,255)\"], [0.125, \"rgb(222,235,247)\"], [0.25, \"rgb(198,219,239)\"], [0.375, \"rgb(158,202,225)\"], [0.5, \"rgb(107,174,214)\"], [0.625, \"rgb(66,146,198)\"], [0.75, \"rgb(33,113,181)\"], [0.875, \"rgb(8,81,156)\"], [1.0, \"rgb(8,48,107)\"]], \"reversescale\": false, \"showscale\": true}, \"type\": \"parcoords\"}],\n",
       "                        {\"template\": {\"data\": {\"bar\": [{\"error_x\": {\"color\": \"#2a3f5f\"}, \"error_y\": {\"color\": \"#2a3f5f\"}, \"marker\": {\"line\": {\"color\": \"#E5ECF6\", \"width\": 0.5}}, \"type\": \"bar\"}], \"barpolar\": [{\"marker\": {\"line\": {\"color\": \"#E5ECF6\", \"width\": 0.5}}, \"type\": \"barpolar\"}], \"carpet\": [{\"aaxis\": {\"endlinecolor\": \"#2a3f5f\", \"gridcolor\": \"white\", \"linecolor\": \"white\", \"minorgridcolor\": \"white\", \"startlinecolor\": \"#2a3f5f\"}, \"baxis\": {\"endlinecolor\": \"#2a3f5f\", \"gridcolor\": \"white\", \"linecolor\": \"white\", \"minorgridcolor\": \"white\", \"startlinecolor\": \"#2a3f5f\"}, \"type\": \"carpet\"}], \"choropleth\": [{\"colorbar\": {\"outlinewidth\": 0, \"ticks\": \"\"}, \"type\": \"choropleth\"}], \"contour\": [{\"colorbar\": {\"outlinewidth\": 0, \"ticks\": \"\"}, \"colorscale\": [[0.0, \"#0d0887\"], [0.1111111111111111, \"#46039f\"], [0.2222222222222222, \"#7201a8\"], [0.3333333333333333, \"#9c179e\"], [0.4444444444444444, \"#bd3786\"], [0.5555555555555556, \"#d8576b\"], [0.6666666666666666, \"#ed7953\"], [0.7777777777777778, \"#fb9f3a\"], [0.8888888888888888, \"#fdca26\"], [1.0, \"#f0f921\"]], \"type\": \"contour\"}], \"contourcarpet\": [{\"colorbar\": {\"outlinewidth\": 0, \"ticks\": \"\"}, \"type\": \"contourcarpet\"}], \"heatmap\": [{\"colorbar\": {\"outlinewidth\": 0, \"ticks\": \"\"}, \"colorscale\": [[0.0, \"#0d0887\"], [0.1111111111111111, \"#46039f\"], [0.2222222222222222, \"#7201a8\"], [0.3333333333333333, \"#9c179e\"], [0.4444444444444444, \"#bd3786\"], [0.5555555555555556, \"#d8576b\"], [0.6666666666666666, \"#ed7953\"], [0.7777777777777778, \"#fb9f3a\"], [0.8888888888888888, \"#fdca26\"], [1.0, \"#f0f921\"]], \"type\": \"heatmap\"}], \"heatmapgl\": [{\"colorbar\": {\"outlinewidth\": 0, \"ticks\": \"\"}, \"colorscale\": [[0.0, \"#0d0887\"], [0.1111111111111111, \"#46039f\"], [0.2222222222222222, \"#7201a8\"], [0.3333333333333333, \"#9c179e\"], [0.4444444444444444, \"#bd3786\"], [0.5555555555555556, \"#d8576b\"], [0.6666666666666666, \"#ed7953\"], [0.7777777777777778, \"#fb9f3a\"], [0.8888888888888888, \"#fdca26\"], [1.0, \"#f0f921\"]], \"type\": \"heatmapgl\"}], \"histogram\": [{\"marker\": {\"colorbar\": {\"outlinewidth\": 0, \"ticks\": \"\"}}, \"type\": \"histogram\"}], \"histogram2d\": [{\"colorbar\": {\"outlinewidth\": 0, \"ticks\": \"\"}, \"colorscale\": [[0.0, \"#0d0887\"], [0.1111111111111111, \"#46039f\"], [0.2222222222222222, \"#7201a8\"], [0.3333333333333333, \"#9c179e\"], [0.4444444444444444, \"#bd3786\"], [0.5555555555555556, \"#d8576b\"], [0.6666666666666666, \"#ed7953\"], [0.7777777777777778, \"#fb9f3a\"], [0.8888888888888888, \"#fdca26\"], [1.0, \"#f0f921\"]], \"type\": \"histogram2d\"}], \"histogram2dcontour\": [{\"colorbar\": {\"outlinewidth\": 0, \"ticks\": \"\"}, \"colorscale\": [[0.0, \"#0d0887\"], [0.1111111111111111, \"#46039f\"], [0.2222222222222222, \"#7201a8\"], [0.3333333333333333, \"#9c179e\"], [0.4444444444444444, \"#bd3786\"], [0.5555555555555556, \"#d8576b\"], [0.6666666666666666, \"#ed7953\"], [0.7777777777777778, \"#fb9f3a\"], [0.8888888888888888, \"#fdca26\"], [1.0, \"#f0f921\"]], \"type\": \"histogram2dcontour\"}], \"mesh3d\": [{\"colorbar\": {\"outlinewidth\": 0, \"ticks\": \"\"}, \"type\": \"mesh3d\"}], \"parcoords\": [{\"line\": {\"colorbar\": {\"outlinewidth\": 0, \"ticks\": \"\"}}, \"type\": \"parcoords\"}], \"pie\": [{\"automargin\": true, \"type\": \"pie\"}], \"scatter\": [{\"marker\": {\"colorbar\": {\"outlinewidth\": 0, \"ticks\": \"\"}}, \"type\": \"scatter\"}], \"scatter3d\": [{\"line\": {\"colorbar\": {\"outlinewidth\": 0, \"ticks\": \"\"}}, \"marker\": {\"colorbar\": {\"outlinewidth\": 0, \"ticks\": \"\"}}, \"type\": \"scatter3d\"}], \"scattercarpet\": [{\"marker\": {\"colorbar\": {\"outlinewidth\": 0, \"ticks\": \"\"}}, \"type\": \"scattercarpet\"}], \"scattergeo\": [{\"marker\": {\"colorbar\": {\"outlinewidth\": 0, \"ticks\": \"\"}}, \"type\": \"scattergeo\"}], \"scattergl\": [{\"marker\": {\"colorbar\": {\"outlinewidth\": 0, \"ticks\": \"\"}}, \"type\": \"scattergl\"}], \"scattermapbox\": [{\"marker\": {\"colorbar\": {\"outlinewidth\": 0, \"ticks\": \"\"}}, \"type\": \"scattermapbox\"}], \"scatterpolar\": [{\"marker\": {\"colorbar\": {\"outlinewidth\": 0, \"ticks\": \"\"}}, \"type\": \"scatterpolar\"}], \"scatterpolargl\": [{\"marker\": {\"colorbar\": {\"outlinewidth\": 0, \"ticks\": \"\"}}, \"type\": \"scatterpolargl\"}], \"scatterternary\": [{\"marker\": {\"colorbar\": {\"outlinewidth\": 0, \"ticks\": \"\"}}, \"type\": \"scatterternary\"}], \"surface\": [{\"colorbar\": {\"outlinewidth\": 0, \"ticks\": \"\"}, \"colorscale\": [[0.0, \"#0d0887\"], [0.1111111111111111, \"#46039f\"], [0.2222222222222222, \"#7201a8\"], [0.3333333333333333, \"#9c179e\"], [0.4444444444444444, \"#bd3786\"], [0.5555555555555556, \"#d8576b\"], [0.6666666666666666, \"#ed7953\"], [0.7777777777777778, \"#fb9f3a\"], [0.8888888888888888, \"#fdca26\"], [1.0, \"#f0f921\"]], \"type\": \"surface\"}], \"table\": [{\"cells\": {\"fill\": {\"color\": \"#EBF0F8\"}, \"line\": {\"color\": \"white\"}}, \"header\": {\"fill\": {\"color\": \"#C8D4E3\"}, \"line\": {\"color\": \"white\"}}, \"type\": \"table\"}]}, \"layout\": {\"annotationdefaults\": {\"arrowcolor\": \"#2a3f5f\", \"arrowhead\": 0, \"arrowwidth\": 1}, \"coloraxis\": {\"colorbar\": {\"outlinewidth\": 0, \"ticks\": \"\"}}, \"colorscale\": {\"diverging\": [[0, \"#8e0152\"], [0.1, \"#c51b7d\"], [0.2, \"#de77ae\"], [0.3, \"#f1b6da\"], [0.4, \"#fde0ef\"], [0.5, \"#f7f7f7\"], [0.6, \"#e6f5d0\"], [0.7, \"#b8e186\"], [0.8, \"#7fbc41\"], [0.9, \"#4d9221\"], [1, \"#276419\"]], \"sequential\": [[0.0, \"#0d0887\"], [0.1111111111111111, \"#46039f\"], [0.2222222222222222, \"#7201a8\"], [0.3333333333333333, \"#9c179e\"], [0.4444444444444444, \"#bd3786\"], [0.5555555555555556, \"#d8576b\"], [0.6666666666666666, \"#ed7953\"], [0.7777777777777778, \"#fb9f3a\"], [0.8888888888888888, \"#fdca26\"], [1.0, \"#f0f921\"]], \"sequentialminus\": [[0.0, \"#0d0887\"], [0.1111111111111111, \"#46039f\"], [0.2222222222222222, \"#7201a8\"], [0.3333333333333333, \"#9c179e\"], [0.4444444444444444, \"#bd3786\"], [0.5555555555555556, \"#d8576b\"], [0.6666666666666666, \"#ed7953\"], [0.7777777777777778, \"#fb9f3a\"], [0.8888888888888888, \"#fdca26\"], [1.0, \"#f0f921\"]]}, \"colorway\": [\"#636efa\", \"#EF553B\", \"#00cc96\", \"#ab63fa\", \"#FFA15A\", \"#19d3f3\", \"#FF6692\", \"#B6E880\", \"#FF97FF\", \"#FECB52\"], \"font\": {\"color\": \"#2a3f5f\"}, \"geo\": {\"bgcolor\": \"white\", \"lakecolor\": \"white\", \"landcolor\": \"#E5ECF6\", \"showlakes\": true, \"showland\": true, \"subunitcolor\": \"white\"}, \"hoverlabel\": {\"align\": \"left\"}, \"hovermode\": \"closest\", \"mapbox\": {\"style\": \"light\"}, \"paper_bgcolor\": \"white\", \"plot_bgcolor\": \"#E5ECF6\", \"polar\": {\"angularaxis\": {\"gridcolor\": \"white\", \"linecolor\": \"white\", \"ticks\": \"\"}, \"bgcolor\": \"#E5ECF6\", \"radialaxis\": {\"gridcolor\": \"white\", \"linecolor\": \"white\", \"ticks\": \"\"}}, \"scene\": {\"xaxis\": {\"backgroundcolor\": \"#E5ECF6\", \"gridcolor\": \"white\", \"gridwidth\": 2, \"linecolor\": \"white\", \"showbackground\": true, \"ticks\": \"\", \"zerolinecolor\": \"white\"}, \"yaxis\": {\"backgroundcolor\": \"#E5ECF6\", \"gridcolor\": \"white\", \"gridwidth\": 2, \"linecolor\": \"white\", \"showbackground\": true, \"ticks\": \"\", \"zerolinecolor\": \"white\"}, \"zaxis\": {\"backgroundcolor\": \"#E5ECF6\", \"gridcolor\": \"white\", \"gridwidth\": 2, \"linecolor\": \"white\", \"showbackground\": true, \"ticks\": \"\", \"zerolinecolor\": \"white\"}}, \"shapedefaults\": {\"line\": {\"color\": \"#2a3f5f\"}}, \"ternary\": {\"aaxis\": {\"gridcolor\": \"white\", \"linecolor\": \"white\", \"ticks\": \"\"}, \"baxis\": {\"gridcolor\": \"white\", \"linecolor\": \"white\", \"ticks\": \"\"}, \"bgcolor\": \"#E5ECF6\", \"caxis\": {\"gridcolor\": \"white\", \"linecolor\": \"white\", \"ticks\": \"\"}}, \"title\": {\"x\": 0.05}, \"xaxis\": {\"automargin\": true, \"gridcolor\": \"white\", \"linecolor\": \"white\", \"ticks\": \"\", \"title\": {\"standoff\": 15}, \"zerolinecolor\": \"white\", \"zerolinewidth\": 2}, \"yaxis\": {\"automargin\": true, \"gridcolor\": \"white\", \"linecolor\": \"white\", \"ticks\": \"\", \"title\": {\"standoff\": 15}, \"zerolinecolor\": \"white\", \"zerolinewidth\": 2}}}, \"title\": {\"text\": \"Parallel Coordinate Plot\"}},\n",
       "                        {\"responsive\": true}\n",
       "                    ).then(function(){\n",
       "                            \n",
       "var gd = document.getElementById('73bad1b5-5e3d-4011-85ab-f32400f44c2c');\n",
       "var x = new MutationObserver(function (mutations, observer) {{\n",
       "        var display = window.getComputedStyle(gd).display;\n",
       "        if (!display || display === 'none') {{\n",
       "            console.log([gd, 'removed!']);\n",
       "            Plotly.purge(gd);\n",
       "            observer.disconnect();\n",
       "        }}\n",
       "}});\n",
       "\n",
       "// Listen for the removal of the full notebook cells\n",
       "var notebookContainer = gd.closest('#notebook-container');\n",
       "if (notebookContainer) {{\n",
       "    x.observe(notebookContainer, {childList: true});\n",
       "}}\n",
       "\n",
       "// Listen for the clearing of the current output cell\n",
       "var outputEl = gd.closest('.output');\n",
       "if (outputEl) {{\n",
       "    x.observe(outputEl, {childList: true});\n",
       "}}\n",
       "\n",
       "                        })\n",
       "                };\n",
       "                });\n",
       "            </script>\n",
       "        </div>"
      ]
     },
     "metadata": {},
     "output_type": "display_data"
    }
   ],
   "source": [
    "from optuna.visualization import plot_parallel_coordinate\n",
    "\n",
    "plot_parallel_coordinate(study)"
   ]
  },
  {
   "cell_type": "markdown",
   "metadata": {
    "colab_type": "text",
    "id": "h2aog7OOUoPV"
   },
   "source": [
    "### Selecting Parameters to Visualize"
   ]
  },
  {
   "cell_type": "code",
   "execution_count": 10,
   "metadata": {
    "colab": {},
    "colab_type": "code",
    "id": "KgWhMGcSUoPW"
   },
   "outputs": [
    {
     "data": {
      "application/vnd.plotly.v1+json": {
       "config": {
        "plotlyServerURL": "https://plot.ly"
       },
       "data": [
        {
         "dimensions": [
          {
           "label": "Objective Value",
           "range": [
            0.286,
            0.814
           ],
           "values": [
            0.77,
            0.697,
            0.724,
            0.286,
            0.749,
            0.758,
            0.802,
            0.765,
            0.801,
            0.796,
            0.781,
            0.781,
            0.779,
            0.771,
            0.752,
            0.787,
            0.814,
            0.79,
            0.806,
            0.797,
            0.788,
            0.781,
            0.793,
            0.787,
            0.779,
            0.764
           ]
          },
          {
           "label": "lr_init",
           "range": [
            4.150146894188187e-05,
            0.01742735341297762
           ],
           "values": [
            0.0016801561613554626,
            4.150146894188187e-05,
            0.01742735341297762,
            0.00836510120287843,
            0.005959544128320366,
            0.0006037049619939256,
            0.003699357433253755,
            0.0008290383644298195,
            0.0028366785551485136,
            0.0033378478466296823,
            0.0026023834468866763,
            0.004734701866521968,
            0.0032877429116842777,
            0.0022966733338897925,
            0.001934702484556159,
            0.002269914575227272,
            0.005296695095678726,
            0.0021667133974016873,
            0.0044025218905984695,
            0.0023311988429061095,
            0.003287877276090833,
            0.003453107696755918,
            0.004146112094892482,
            0.004629038062214431,
            0.0028223530220840426,
            0.00247686650609683
           ]
          },
          {
           "label": "n_units_l0",
           "range": [
            39,
            64
           ],
           "values": [
            60,
            59,
            58,
            40,
            39,
            44,
            55,
            53,
            64,
            53,
            52,
            62,
            54,
            48,
            62,
            52,
            59,
            57,
            61,
            58,
            56,
            56,
            55,
            57,
            61,
            50
           ]
          }
         ],
         "line": {
          "color": [
           0.77,
           0.697,
           0.724,
           0.286,
           0.749,
           0.758,
           0.802,
           0.765,
           0.801,
           0.796,
           0.781,
           0.781,
           0.779,
           0.771,
           0.752,
           0.787,
           0.814,
           0.79,
           0.806,
           0.797,
           0.788,
           0.781,
           0.793,
           0.787,
           0.779,
           0.764
          ],
          "colorbar": {
           "title": {
            "text": "Objective Value"
           }
          },
          "colorscale": [
           [
            0,
            "rgb(247,251,255)"
           ],
           [
            0.125,
            "rgb(222,235,247)"
           ],
           [
            0.25,
            "rgb(198,219,239)"
           ],
           [
            0.375,
            "rgb(158,202,225)"
           ],
           [
            0.5,
            "rgb(107,174,214)"
           ],
           [
            0.625,
            "rgb(66,146,198)"
           ],
           [
            0.75,
            "rgb(33,113,181)"
           ],
           [
            0.875,
            "rgb(8,81,156)"
           ],
           [
            1,
            "rgb(8,48,107)"
           ]
          ],
          "reversescale": false,
          "showscale": true
         },
         "type": "parcoords"
        }
       ],
       "layout": {
        "template": {
         "data": {
          "bar": [
           {
            "error_x": {
             "color": "#2a3f5f"
            },
            "error_y": {
             "color": "#2a3f5f"
            },
            "marker": {
             "line": {
              "color": "#E5ECF6",
              "width": 0.5
             }
            },
            "type": "bar"
           }
          ],
          "barpolar": [
           {
            "marker": {
             "line": {
              "color": "#E5ECF6",
              "width": 0.5
             }
            },
            "type": "barpolar"
           }
          ],
          "carpet": [
           {
            "aaxis": {
             "endlinecolor": "#2a3f5f",
             "gridcolor": "white",
             "linecolor": "white",
             "minorgridcolor": "white",
             "startlinecolor": "#2a3f5f"
            },
            "baxis": {
             "endlinecolor": "#2a3f5f",
             "gridcolor": "white",
             "linecolor": "white",
             "minorgridcolor": "white",
             "startlinecolor": "#2a3f5f"
            },
            "type": "carpet"
           }
          ],
          "choropleth": [
           {
            "colorbar": {
             "outlinewidth": 0,
             "ticks": ""
            },
            "type": "choropleth"
           }
          ],
          "contour": [
           {
            "colorbar": {
             "outlinewidth": 0,
             "ticks": ""
            },
            "colorscale": [
             [
              0,
              "#0d0887"
             ],
             [
              0.1111111111111111,
              "#46039f"
             ],
             [
              0.2222222222222222,
              "#7201a8"
             ],
             [
              0.3333333333333333,
              "#9c179e"
             ],
             [
              0.4444444444444444,
              "#bd3786"
             ],
             [
              0.5555555555555556,
              "#d8576b"
             ],
             [
              0.6666666666666666,
              "#ed7953"
             ],
             [
              0.7777777777777778,
              "#fb9f3a"
             ],
             [
              0.8888888888888888,
              "#fdca26"
             ],
             [
              1,
              "#f0f921"
             ]
            ],
            "type": "contour"
           }
          ],
          "contourcarpet": [
           {
            "colorbar": {
             "outlinewidth": 0,
             "ticks": ""
            },
            "type": "contourcarpet"
           }
          ],
          "heatmap": [
           {
            "colorbar": {
             "outlinewidth": 0,
             "ticks": ""
            },
            "colorscale": [
             [
              0,
              "#0d0887"
             ],
             [
              0.1111111111111111,
              "#46039f"
             ],
             [
              0.2222222222222222,
              "#7201a8"
             ],
             [
              0.3333333333333333,
              "#9c179e"
             ],
             [
              0.4444444444444444,
              "#bd3786"
             ],
             [
              0.5555555555555556,
              "#d8576b"
             ],
             [
              0.6666666666666666,
              "#ed7953"
             ],
             [
              0.7777777777777778,
              "#fb9f3a"
             ],
             [
              0.8888888888888888,
              "#fdca26"
             ],
             [
              1,
              "#f0f921"
             ]
            ],
            "type": "heatmap"
           }
          ],
          "heatmapgl": [
           {
            "colorbar": {
             "outlinewidth": 0,
             "ticks": ""
            },
            "colorscale": [
             [
              0,
              "#0d0887"
             ],
             [
              0.1111111111111111,
              "#46039f"
             ],
             [
              0.2222222222222222,
              "#7201a8"
             ],
             [
              0.3333333333333333,
              "#9c179e"
             ],
             [
              0.4444444444444444,
              "#bd3786"
             ],
             [
              0.5555555555555556,
              "#d8576b"
             ],
             [
              0.6666666666666666,
              "#ed7953"
             ],
             [
              0.7777777777777778,
              "#fb9f3a"
             ],
             [
              0.8888888888888888,
              "#fdca26"
             ],
             [
              1,
              "#f0f921"
             ]
            ],
            "type": "heatmapgl"
           }
          ],
          "histogram": [
           {
            "marker": {
             "colorbar": {
              "outlinewidth": 0,
              "ticks": ""
             }
            },
            "type": "histogram"
           }
          ],
          "histogram2d": [
           {
            "colorbar": {
             "outlinewidth": 0,
             "ticks": ""
            },
            "colorscale": [
             [
              0,
              "#0d0887"
             ],
             [
              0.1111111111111111,
              "#46039f"
             ],
             [
              0.2222222222222222,
              "#7201a8"
             ],
             [
              0.3333333333333333,
              "#9c179e"
             ],
             [
              0.4444444444444444,
              "#bd3786"
             ],
             [
              0.5555555555555556,
              "#d8576b"
             ],
             [
              0.6666666666666666,
              "#ed7953"
             ],
             [
              0.7777777777777778,
              "#fb9f3a"
             ],
             [
              0.8888888888888888,
              "#fdca26"
             ],
             [
              1,
              "#f0f921"
             ]
            ],
            "type": "histogram2d"
           }
          ],
          "histogram2dcontour": [
           {
            "colorbar": {
             "outlinewidth": 0,
             "ticks": ""
            },
            "colorscale": [
             [
              0,
              "#0d0887"
             ],
             [
              0.1111111111111111,
              "#46039f"
             ],
             [
              0.2222222222222222,
              "#7201a8"
             ],
             [
              0.3333333333333333,
              "#9c179e"
             ],
             [
              0.4444444444444444,
              "#bd3786"
             ],
             [
              0.5555555555555556,
              "#d8576b"
             ],
             [
              0.6666666666666666,
              "#ed7953"
             ],
             [
              0.7777777777777778,
              "#fb9f3a"
             ],
             [
              0.8888888888888888,
              "#fdca26"
             ],
             [
              1,
              "#f0f921"
             ]
            ],
            "type": "histogram2dcontour"
           }
          ],
          "mesh3d": [
           {
            "colorbar": {
             "outlinewidth": 0,
             "ticks": ""
            },
            "type": "mesh3d"
           }
          ],
          "parcoords": [
           {
            "line": {
             "colorbar": {
              "outlinewidth": 0,
              "ticks": ""
             }
            },
            "type": "parcoords"
           }
          ],
          "pie": [
           {
            "automargin": true,
            "type": "pie"
           }
          ],
          "scatter": [
           {
            "marker": {
             "colorbar": {
              "outlinewidth": 0,
              "ticks": ""
             }
            },
            "type": "scatter"
           }
          ],
          "scatter3d": [
           {
            "line": {
             "colorbar": {
              "outlinewidth": 0,
              "ticks": ""
             }
            },
            "marker": {
             "colorbar": {
              "outlinewidth": 0,
              "ticks": ""
             }
            },
            "type": "scatter3d"
           }
          ],
          "scattercarpet": [
           {
            "marker": {
             "colorbar": {
              "outlinewidth": 0,
              "ticks": ""
             }
            },
            "type": "scattercarpet"
           }
          ],
          "scattergeo": [
           {
            "marker": {
             "colorbar": {
              "outlinewidth": 0,
              "ticks": ""
             }
            },
            "type": "scattergeo"
           }
          ],
          "scattergl": [
           {
            "marker": {
             "colorbar": {
              "outlinewidth": 0,
              "ticks": ""
             }
            },
            "type": "scattergl"
           }
          ],
          "scattermapbox": [
           {
            "marker": {
             "colorbar": {
              "outlinewidth": 0,
              "ticks": ""
             }
            },
            "type": "scattermapbox"
           }
          ],
          "scatterpolar": [
           {
            "marker": {
             "colorbar": {
              "outlinewidth": 0,
              "ticks": ""
             }
            },
            "type": "scatterpolar"
           }
          ],
          "scatterpolargl": [
           {
            "marker": {
             "colorbar": {
              "outlinewidth": 0,
              "ticks": ""
             }
            },
            "type": "scatterpolargl"
           }
          ],
          "scatterternary": [
           {
            "marker": {
             "colorbar": {
              "outlinewidth": 0,
              "ticks": ""
             }
            },
            "type": "scatterternary"
           }
          ],
          "surface": [
           {
            "colorbar": {
             "outlinewidth": 0,
             "ticks": ""
            },
            "colorscale": [
             [
              0,
              "#0d0887"
             ],
             [
              0.1111111111111111,
              "#46039f"
             ],
             [
              0.2222222222222222,
              "#7201a8"
             ],
             [
              0.3333333333333333,
              "#9c179e"
             ],
             [
              0.4444444444444444,
              "#bd3786"
             ],
             [
              0.5555555555555556,
              "#d8576b"
             ],
             [
              0.6666666666666666,
              "#ed7953"
             ],
             [
              0.7777777777777778,
              "#fb9f3a"
             ],
             [
              0.8888888888888888,
              "#fdca26"
             ],
             [
              1,
              "#f0f921"
             ]
            ],
            "type": "surface"
           }
          ],
          "table": [
           {
            "cells": {
             "fill": {
              "color": "#EBF0F8"
             },
             "line": {
              "color": "white"
             }
            },
            "header": {
             "fill": {
              "color": "#C8D4E3"
             },
             "line": {
              "color": "white"
             }
            },
            "type": "table"
           }
          ]
         },
         "layout": {
          "annotationdefaults": {
           "arrowcolor": "#2a3f5f",
           "arrowhead": 0,
           "arrowwidth": 1
          },
          "coloraxis": {
           "colorbar": {
            "outlinewidth": 0,
            "ticks": ""
           }
          },
          "colorscale": {
           "diverging": [
            [
             0,
             "#8e0152"
            ],
            [
             0.1,
             "#c51b7d"
            ],
            [
             0.2,
             "#de77ae"
            ],
            [
             0.3,
             "#f1b6da"
            ],
            [
             0.4,
             "#fde0ef"
            ],
            [
             0.5,
             "#f7f7f7"
            ],
            [
             0.6,
             "#e6f5d0"
            ],
            [
             0.7,
             "#b8e186"
            ],
            [
             0.8,
             "#7fbc41"
            ],
            [
             0.9,
             "#4d9221"
            ],
            [
             1,
             "#276419"
            ]
           ],
           "sequential": [
            [
             0,
             "#0d0887"
            ],
            [
             0.1111111111111111,
             "#46039f"
            ],
            [
             0.2222222222222222,
             "#7201a8"
            ],
            [
             0.3333333333333333,
             "#9c179e"
            ],
            [
             0.4444444444444444,
             "#bd3786"
            ],
            [
             0.5555555555555556,
             "#d8576b"
            ],
            [
             0.6666666666666666,
             "#ed7953"
            ],
            [
             0.7777777777777778,
             "#fb9f3a"
            ],
            [
             0.8888888888888888,
             "#fdca26"
            ],
            [
             1,
             "#f0f921"
            ]
           ],
           "sequentialminus": [
            [
             0,
             "#0d0887"
            ],
            [
             0.1111111111111111,
             "#46039f"
            ],
            [
             0.2222222222222222,
             "#7201a8"
            ],
            [
             0.3333333333333333,
             "#9c179e"
            ],
            [
             0.4444444444444444,
             "#bd3786"
            ],
            [
             0.5555555555555556,
             "#d8576b"
            ],
            [
             0.6666666666666666,
             "#ed7953"
            ],
            [
             0.7777777777777778,
             "#fb9f3a"
            ],
            [
             0.8888888888888888,
             "#fdca26"
            ],
            [
             1,
             "#f0f921"
            ]
           ]
          },
          "colorway": [
           "#636efa",
           "#EF553B",
           "#00cc96",
           "#ab63fa",
           "#FFA15A",
           "#19d3f3",
           "#FF6692",
           "#B6E880",
           "#FF97FF",
           "#FECB52"
          ],
          "font": {
           "color": "#2a3f5f"
          },
          "geo": {
           "bgcolor": "white",
           "lakecolor": "white",
           "landcolor": "#E5ECF6",
           "showlakes": true,
           "showland": true,
           "subunitcolor": "white"
          },
          "hoverlabel": {
           "align": "left"
          },
          "hovermode": "closest",
          "mapbox": {
           "style": "light"
          },
          "paper_bgcolor": "white",
          "plot_bgcolor": "#E5ECF6",
          "polar": {
           "angularaxis": {
            "gridcolor": "white",
            "linecolor": "white",
            "ticks": ""
           },
           "bgcolor": "#E5ECF6",
           "radialaxis": {
            "gridcolor": "white",
            "linecolor": "white",
            "ticks": ""
           }
          },
          "scene": {
           "xaxis": {
            "backgroundcolor": "#E5ECF6",
            "gridcolor": "white",
            "gridwidth": 2,
            "linecolor": "white",
            "showbackground": true,
            "ticks": "",
            "zerolinecolor": "white"
           },
           "yaxis": {
            "backgroundcolor": "#E5ECF6",
            "gridcolor": "white",
            "gridwidth": 2,
            "linecolor": "white",
            "showbackground": true,
            "ticks": "",
            "zerolinecolor": "white"
           },
           "zaxis": {
            "backgroundcolor": "#E5ECF6",
            "gridcolor": "white",
            "gridwidth": 2,
            "linecolor": "white",
            "showbackground": true,
            "ticks": "",
            "zerolinecolor": "white"
           }
          },
          "shapedefaults": {
           "line": {
            "color": "#2a3f5f"
           }
          },
          "ternary": {
           "aaxis": {
            "gridcolor": "white",
            "linecolor": "white",
            "ticks": ""
           },
           "baxis": {
            "gridcolor": "white",
            "linecolor": "white",
            "ticks": ""
           },
           "bgcolor": "#E5ECF6",
           "caxis": {
            "gridcolor": "white",
            "linecolor": "white",
            "ticks": ""
           }
          },
          "title": {
           "x": 0.05
          },
          "xaxis": {
           "automargin": true,
           "gridcolor": "white",
           "linecolor": "white",
           "ticks": "",
           "title": {
            "standoff": 15
           },
           "zerolinecolor": "white",
           "zerolinewidth": 2
          },
          "yaxis": {
           "automargin": true,
           "gridcolor": "white",
           "linecolor": "white",
           "ticks": "",
           "title": {
            "standoff": 15
           },
           "zerolinecolor": "white",
           "zerolinewidth": 2
          }
         }
        },
        "title": {
         "text": "Parallel Coordinate Plot"
        }
       }
      },
      "text/html": [
       "<div>\n",
       "        \n",
       "        \n",
       "            <div id=\"86c0a82b-5404-438b-b1c8-2ab401c72667\" class=\"plotly-graph-div\" style=\"height:525px; width:100%;\"></div>\n",
       "            <script type=\"text/javascript\">\n",
       "                require([\"plotly\"], function(Plotly) {\n",
       "                    window.PLOTLYENV=window.PLOTLYENV || {};\n",
       "                    \n",
       "                if (document.getElementById(\"86c0a82b-5404-438b-b1c8-2ab401c72667\")) {\n",
       "                    Plotly.newPlot(\n",
       "                        '86c0a82b-5404-438b-b1c8-2ab401c72667',\n",
       "                        [{\"dimensions\": [{\"label\": \"Objective Value\", \"range\": [0.286, 0.814], \"values\": [0.77, 0.697, 0.724, 0.286, 0.749, 0.758, 0.802, 0.765, 0.801, 0.796, 0.781, 0.781, 0.779, 0.771, 0.752, 0.787, 0.814, 0.79, 0.806, 0.797, 0.788, 0.781, 0.793, 0.787, 0.779, 0.764]}, {\"label\": \"lr_init\", \"range\": [4.150146894188187e-05, 0.01742735341297762], \"values\": [0.0016801561613554626, 4.150146894188187e-05, 0.01742735341297762, 0.00836510120287843, 0.005959544128320366, 0.0006037049619939256, 0.003699357433253755, 0.0008290383644298195, 0.0028366785551485136, 0.0033378478466296823, 0.0026023834468866763, 0.004734701866521968, 0.0032877429116842777, 0.0022966733338897925, 0.001934702484556159, 0.002269914575227272, 0.005296695095678726, 0.0021667133974016873, 0.0044025218905984695, 0.0023311988429061095, 0.003287877276090833, 0.003453107696755918, 0.004146112094892482, 0.004629038062214431, 0.0028223530220840426, 0.00247686650609683]}, {\"label\": \"n_units_l0\", \"range\": [39, 64], \"values\": [60, 59, 58, 40, 39, 44, 55, 53, 64, 53, 52, 62, 54, 48, 62, 52, 59, 57, 61, 58, 56, 56, 55, 57, 61, 50]}], \"line\": {\"color\": [0.77, 0.697, 0.724, 0.286, 0.749, 0.758, 0.802, 0.765, 0.801, 0.796, 0.781, 0.781, 0.779, 0.771, 0.752, 0.787, 0.814, 0.79, 0.806, 0.797, 0.788, 0.781, 0.793, 0.787, 0.779, 0.764], \"colorbar\": {\"title\": {\"text\": \"Objective Value\"}}, \"colorscale\": [[0.0, \"rgb(247,251,255)\"], [0.125, \"rgb(222,235,247)\"], [0.25, \"rgb(198,219,239)\"], [0.375, \"rgb(158,202,225)\"], [0.5, \"rgb(107,174,214)\"], [0.625, \"rgb(66,146,198)\"], [0.75, \"rgb(33,113,181)\"], [0.875, \"rgb(8,81,156)\"], [1.0, \"rgb(8,48,107)\"]], \"reversescale\": false, \"showscale\": true}, \"type\": \"parcoords\"}],\n",
       "                        {\"template\": {\"data\": {\"bar\": [{\"error_x\": {\"color\": \"#2a3f5f\"}, \"error_y\": {\"color\": \"#2a3f5f\"}, \"marker\": {\"line\": {\"color\": \"#E5ECF6\", \"width\": 0.5}}, \"type\": \"bar\"}], \"barpolar\": [{\"marker\": {\"line\": {\"color\": \"#E5ECF6\", \"width\": 0.5}}, \"type\": \"barpolar\"}], \"carpet\": [{\"aaxis\": {\"endlinecolor\": \"#2a3f5f\", \"gridcolor\": \"white\", \"linecolor\": \"white\", \"minorgridcolor\": \"white\", \"startlinecolor\": \"#2a3f5f\"}, \"baxis\": {\"endlinecolor\": \"#2a3f5f\", \"gridcolor\": \"white\", \"linecolor\": \"white\", \"minorgridcolor\": \"white\", \"startlinecolor\": \"#2a3f5f\"}, \"type\": \"carpet\"}], \"choropleth\": [{\"colorbar\": {\"outlinewidth\": 0, \"ticks\": \"\"}, \"type\": \"choropleth\"}], \"contour\": [{\"colorbar\": {\"outlinewidth\": 0, \"ticks\": \"\"}, \"colorscale\": [[0.0, \"#0d0887\"], [0.1111111111111111, \"#46039f\"], [0.2222222222222222, \"#7201a8\"], [0.3333333333333333, \"#9c179e\"], [0.4444444444444444, \"#bd3786\"], [0.5555555555555556, \"#d8576b\"], [0.6666666666666666, \"#ed7953\"], [0.7777777777777778, \"#fb9f3a\"], [0.8888888888888888, \"#fdca26\"], [1.0, \"#f0f921\"]], \"type\": \"contour\"}], \"contourcarpet\": [{\"colorbar\": {\"outlinewidth\": 0, \"ticks\": \"\"}, \"type\": \"contourcarpet\"}], \"heatmap\": [{\"colorbar\": {\"outlinewidth\": 0, \"ticks\": \"\"}, \"colorscale\": [[0.0, \"#0d0887\"], [0.1111111111111111, \"#46039f\"], [0.2222222222222222, \"#7201a8\"], [0.3333333333333333, \"#9c179e\"], [0.4444444444444444, \"#bd3786\"], [0.5555555555555556, \"#d8576b\"], [0.6666666666666666, \"#ed7953\"], [0.7777777777777778, \"#fb9f3a\"], [0.8888888888888888, \"#fdca26\"], [1.0, \"#f0f921\"]], \"type\": \"heatmap\"}], \"heatmapgl\": [{\"colorbar\": {\"outlinewidth\": 0, \"ticks\": \"\"}, \"colorscale\": [[0.0, \"#0d0887\"], [0.1111111111111111, \"#46039f\"], [0.2222222222222222, \"#7201a8\"], [0.3333333333333333, \"#9c179e\"], [0.4444444444444444, \"#bd3786\"], [0.5555555555555556, \"#d8576b\"], [0.6666666666666666, \"#ed7953\"], [0.7777777777777778, \"#fb9f3a\"], [0.8888888888888888, \"#fdca26\"], [1.0, \"#f0f921\"]], \"type\": \"heatmapgl\"}], \"histogram\": [{\"marker\": {\"colorbar\": {\"outlinewidth\": 0, \"ticks\": \"\"}}, \"type\": \"histogram\"}], \"histogram2d\": [{\"colorbar\": {\"outlinewidth\": 0, \"ticks\": \"\"}, \"colorscale\": [[0.0, \"#0d0887\"], [0.1111111111111111, \"#46039f\"], [0.2222222222222222, \"#7201a8\"], [0.3333333333333333, \"#9c179e\"], [0.4444444444444444, \"#bd3786\"], [0.5555555555555556, \"#d8576b\"], [0.6666666666666666, \"#ed7953\"], [0.7777777777777778, \"#fb9f3a\"], [0.8888888888888888, \"#fdca26\"], [1.0, \"#f0f921\"]], \"type\": \"histogram2d\"}], \"histogram2dcontour\": [{\"colorbar\": {\"outlinewidth\": 0, \"ticks\": \"\"}, \"colorscale\": [[0.0, \"#0d0887\"], [0.1111111111111111, \"#46039f\"], [0.2222222222222222, \"#7201a8\"], [0.3333333333333333, \"#9c179e\"], [0.4444444444444444, \"#bd3786\"], [0.5555555555555556, \"#d8576b\"], [0.6666666666666666, \"#ed7953\"], [0.7777777777777778, \"#fb9f3a\"], [0.8888888888888888, \"#fdca26\"], [1.0, \"#f0f921\"]], \"type\": \"histogram2dcontour\"}], \"mesh3d\": [{\"colorbar\": {\"outlinewidth\": 0, \"ticks\": \"\"}, \"type\": \"mesh3d\"}], \"parcoords\": [{\"line\": {\"colorbar\": {\"outlinewidth\": 0, \"ticks\": \"\"}}, \"type\": \"parcoords\"}], \"pie\": [{\"automargin\": true, \"type\": \"pie\"}], \"scatter\": [{\"marker\": {\"colorbar\": {\"outlinewidth\": 0, \"ticks\": \"\"}}, \"type\": \"scatter\"}], \"scatter3d\": [{\"line\": {\"colorbar\": {\"outlinewidth\": 0, \"ticks\": \"\"}}, \"marker\": {\"colorbar\": {\"outlinewidth\": 0, \"ticks\": \"\"}}, \"type\": \"scatter3d\"}], \"scattercarpet\": [{\"marker\": {\"colorbar\": {\"outlinewidth\": 0, \"ticks\": \"\"}}, \"type\": \"scattercarpet\"}], \"scattergeo\": [{\"marker\": {\"colorbar\": {\"outlinewidth\": 0, \"ticks\": \"\"}}, \"type\": \"scattergeo\"}], \"scattergl\": [{\"marker\": {\"colorbar\": {\"outlinewidth\": 0, \"ticks\": \"\"}}, \"type\": \"scattergl\"}], \"scattermapbox\": [{\"marker\": {\"colorbar\": {\"outlinewidth\": 0, \"ticks\": \"\"}}, \"type\": \"scattermapbox\"}], \"scatterpolar\": [{\"marker\": {\"colorbar\": {\"outlinewidth\": 0, \"ticks\": \"\"}}, \"type\": \"scatterpolar\"}], \"scatterpolargl\": [{\"marker\": {\"colorbar\": {\"outlinewidth\": 0, \"ticks\": \"\"}}, \"type\": \"scatterpolargl\"}], \"scatterternary\": [{\"marker\": {\"colorbar\": {\"outlinewidth\": 0, \"ticks\": \"\"}}, \"type\": \"scatterternary\"}], \"surface\": [{\"colorbar\": {\"outlinewidth\": 0, \"ticks\": \"\"}, \"colorscale\": [[0.0, \"#0d0887\"], [0.1111111111111111, \"#46039f\"], [0.2222222222222222, \"#7201a8\"], [0.3333333333333333, \"#9c179e\"], [0.4444444444444444, \"#bd3786\"], [0.5555555555555556, \"#d8576b\"], [0.6666666666666666, \"#ed7953\"], [0.7777777777777778, \"#fb9f3a\"], [0.8888888888888888, \"#fdca26\"], [1.0, \"#f0f921\"]], \"type\": \"surface\"}], \"table\": [{\"cells\": {\"fill\": {\"color\": \"#EBF0F8\"}, \"line\": {\"color\": \"white\"}}, \"header\": {\"fill\": {\"color\": \"#C8D4E3\"}, \"line\": {\"color\": \"white\"}}, \"type\": \"table\"}]}, \"layout\": {\"annotationdefaults\": {\"arrowcolor\": \"#2a3f5f\", \"arrowhead\": 0, \"arrowwidth\": 1}, \"coloraxis\": {\"colorbar\": {\"outlinewidth\": 0, \"ticks\": \"\"}}, \"colorscale\": {\"diverging\": [[0, \"#8e0152\"], [0.1, \"#c51b7d\"], [0.2, \"#de77ae\"], [0.3, \"#f1b6da\"], [0.4, \"#fde0ef\"], [0.5, \"#f7f7f7\"], [0.6, \"#e6f5d0\"], [0.7, \"#b8e186\"], [0.8, \"#7fbc41\"], [0.9, \"#4d9221\"], [1, \"#276419\"]], \"sequential\": [[0.0, \"#0d0887\"], [0.1111111111111111, \"#46039f\"], [0.2222222222222222, \"#7201a8\"], [0.3333333333333333, \"#9c179e\"], [0.4444444444444444, \"#bd3786\"], [0.5555555555555556, \"#d8576b\"], [0.6666666666666666, \"#ed7953\"], [0.7777777777777778, \"#fb9f3a\"], [0.8888888888888888, \"#fdca26\"], [1.0, \"#f0f921\"]], \"sequentialminus\": [[0.0, \"#0d0887\"], [0.1111111111111111, \"#46039f\"], [0.2222222222222222, \"#7201a8\"], [0.3333333333333333, \"#9c179e\"], [0.4444444444444444, \"#bd3786\"], [0.5555555555555556, \"#d8576b\"], [0.6666666666666666, \"#ed7953\"], [0.7777777777777778, \"#fb9f3a\"], [0.8888888888888888, \"#fdca26\"], [1.0, \"#f0f921\"]]}, \"colorway\": [\"#636efa\", \"#EF553B\", \"#00cc96\", \"#ab63fa\", \"#FFA15A\", \"#19d3f3\", \"#FF6692\", \"#B6E880\", \"#FF97FF\", \"#FECB52\"], \"font\": {\"color\": \"#2a3f5f\"}, \"geo\": {\"bgcolor\": \"white\", \"lakecolor\": \"white\", \"landcolor\": \"#E5ECF6\", \"showlakes\": true, \"showland\": true, \"subunitcolor\": \"white\"}, \"hoverlabel\": {\"align\": \"left\"}, \"hovermode\": \"closest\", \"mapbox\": {\"style\": \"light\"}, \"paper_bgcolor\": \"white\", \"plot_bgcolor\": \"#E5ECF6\", \"polar\": {\"angularaxis\": {\"gridcolor\": \"white\", \"linecolor\": \"white\", \"ticks\": \"\"}, \"bgcolor\": \"#E5ECF6\", \"radialaxis\": {\"gridcolor\": \"white\", \"linecolor\": \"white\", \"ticks\": \"\"}}, \"scene\": {\"xaxis\": {\"backgroundcolor\": \"#E5ECF6\", \"gridcolor\": \"white\", \"gridwidth\": 2, \"linecolor\": \"white\", \"showbackground\": true, \"ticks\": \"\", \"zerolinecolor\": \"white\"}, \"yaxis\": {\"backgroundcolor\": \"#E5ECF6\", \"gridcolor\": \"white\", \"gridwidth\": 2, \"linecolor\": \"white\", \"showbackground\": true, \"ticks\": \"\", \"zerolinecolor\": \"white\"}, \"zaxis\": {\"backgroundcolor\": \"#E5ECF6\", \"gridcolor\": \"white\", \"gridwidth\": 2, \"linecolor\": \"white\", \"showbackground\": true, \"ticks\": \"\", \"zerolinecolor\": \"white\"}}, \"shapedefaults\": {\"line\": {\"color\": \"#2a3f5f\"}}, \"ternary\": {\"aaxis\": {\"gridcolor\": \"white\", \"linecolor\": \"white\", \"ticks\": \"\"}, \"baxis\": {\"gridcolor\": \"white\", \"linecolor\": \"white\", \"ticks\": \"\"}, \"bgcolor\": \"#E5ECF6\", \"caxis\": {\"gridcolor\": \"white\", \"linecolor\": \"white\", \"ticks\": \"\"}}, \"title\": {\"x\": 0.05}, \"xaxis\": {\"automargin\": true, \"gridcolor\": \"white\", \"linecolor\": \"white\", \"ticks\": \"\", \"title\": {\"standoff\": 15}, \"zerolinecolor\": \"white\", \"zerolinewidth\": 2}, \"yaxis\": {\"automargin\": true, \"gridcolor\": \"white\", \"linecolor\": \"white\", \"ticks\": \"\", \"title\": {\"standoff\": 15}, \"zerolinecolor\": \"white\", \"zerolinewidth\": 2}}}, \"title\": {\"text\": \"Parallel Coordinate Plot\"}},\n",
       "                        {\"responsive\": true}\n",
       "                    ).then(function(){\n",
       "                            \n",
       "var gd = document.getElementById('86c0a82b-5404-438b-b1c8-2ab401c72667');\n",
       "var x = new MutationObserver(function (mutations, observer) {{\n",
       "        var display = window.getComputedStyle(gd).display;\n",
       "        if (!display || display === 'none') {{\n",
       "            console.log([gd, 'removed!']);\n",
       "            Plotly.purge(gd);\n",
       "            observer.disconnect();\n",
       "        }}\n",
       "}});\n",
       "\n",
       "// Listen for the removal of the full notebook cells\n",
       "var notebookContainer = gd.closest('#notebook-container');\n",
       "if (notebookContainer) {{\n",
       "    x.observe(notebookContainer, {childList: true});\n",
       "}}\n",
       "\n",
       "// Listen for the clearing of the current output cell\n",
       "var outputEl = gd.closest('.output');\n",
       "if (outputEl) {{\n",
       "    x.observe(outputEl, {childList: true});\n",
       "}}\n",
       "\n",
       "                        })\n",
       "                };\n",
       "                });\n",
       "            </script>\n",
       "        </div>"
      ]
     },
     "metadata": {},
     "output_type": "display_data"
    }
   ],
   "source": [
    "plot_parallel_coordinate(study, params=['lr_init', 'n_units_l0'])"
   ]
  },
  {
   "cell_type": "markdown",
   "metadata": {
    "colab_type": "text",
    "id": "2xes8EzPUoPX"
   },
   "source": [
    "## Visualizing Hyperparameter Relationships"
   ]
  },
  {
   "cell_type": "code",
   "execution_count": 11,
   "metadata": {
    "colab": {},
    "colab_type": "code",
    "id": "pCO5UdbIUoPY"
   },
   "outputs": [
    {
     "data": {
      "application/vnd.plotly.v1+json": {
       "config": {
        "plotlyServerURL": "https://plot.ly"
       },
       "data": [
        {
         "type": "scatter",
         "xaxis": "x",
         "yaxis": "y"
        },
        {
         "colorbar": {
          "title": {
           "text": "Objective Value"
          }
         },
         "colorscale": [
          [
           0,
           "rgb(5,10,172)"
          ],
          [
           0.35,
           "rgb(40,60,190)"
          ],
          [
           0.5,
           "rgb(70,100,245)"
          ],
          [
           0.6,
           "rgb(90,120,245)"
          ],
          [
           0.7,
           "rgb(106,137,247)"
          ],
          [
           1,
           "rgb(220,220,220)"
          ]
         ],
         "connectgaps": true,
         "contours": {
          "coloring": "heatmap"
         },
         "hoverinfo": "none",
         "line": {
          "smoothing": 1.3
         },
         "showscale": true,
         "type": "contour",
         "x": [
          4.150146894188187e-05,
          0.0006037049619939256,
          0.0008290383644298195,
          0.0016801561613554626,
          0.001934702484556159,
          0.0021667133974016873,
          0.002269914575227272,
          0.0022966733338897925,
          0.0023311988429061095,
          0.00247686650609683,
          0.0026023834468866763,
          0.0028223530220840426,
          0.0028366785551485136,
          0.0032877429116842777,
          0.003287877276090833,
          0.0033378478466296823,
          0.003453107696755918,
          0.003699357433253755,
          0.004146112094892482,
          0.0044025218905984695,
          0.004629038062214431,
          0.004734701866521968,
          0.005296695095678726,
          0.005959544128320366,
          0.00836510120287843,
          0.01742735341297762
         ],
         "xaxis": "x5",
         "y": [
          39,
          40,
          44,
          48,
          50,
          52,
          53,
          54,
          55,
          56,
          57,
          58,
          59,
          60,
          61,
          62,
          64
         ],
         "yaxis": "y5",
         "z": [
          [
           null,
           null,
           null,
           null,
           null,
           null,
           null,
           null,
           null,
           null,
           null,
           null,
           null,
           null,
           null,
           null,
           null,
           null,
           null,
           null,
           null,
           null,
           null,
           0.749,
           null,
           null
          ],
          [
           null,
           null,
           null,
           null,
           null,
           null,
           null,
           null,
           null,
           null,
           null,
           null,
           null,
           null,
           null,
           null,
           null,
           null,
           null,
           null,
           null,
           null,
           null,
           null,
           0.286,
           null
          ],
          [
           null,
           0.758,
           null,
           null,
           null,
           null,
           null,
           null,
           null,
           null,
           null,
           null,
           null,
           null,
           null,
           null,
           null,
           null,
           null,
           null,
           null,
           null,
           null,
           null,
           null,
           null
          ],
          [
           null,
           null,
           null,
           null,
           null,
           null,
           null,
           0.771,
           null,
           null,
           null,
           null,
           null,
           null,
           null,
           null,
           null,
           null,
           null,
           null,
           null,
           null,
           null,
           null,
           null,
           null
          ],
          [
           null,
           null,
           null,
           null,
           null,
           null,
           null,
           null,
           null,
           0.764,
           null,
           null,
           null,
           null,
           null,
           null,
           null,
           null,
           null,
           null,
           null,
           null,
           null,
           null,
           null,
           null
          ],
          [
           null,
           null,
           null,
           null,
           null,
           null,
           0.787,
           null,
           null,
           null,
           0.781,
           null,
           null,
           null,
           null,
           null,
           null,
           null,
           null,
           null,
           null,
           null,
           null,
           null,
           null,
           null
          ],
          [
           null,
           null,
           0.765,
           null,
           null,
           null,
           null,
           null,
           null,
           null,
           null,
           null,
           null,
           null,
           null,
           0.796,
           null,
           null,
           null,
           null,
           null,
           null,
           null,
           null,
           null,
           null
          ],
          [
           null,
           null,
           null,
           null,
           null,
           null,
           null,
           null,
           null,
           null,
           null,
           null,
           null,
           0.779,
           null,
           null,
           null,
           null,
           null,
           null,
           null,
           null,
           null,
           null,
           null,
           null
          ],
          [
           null,
           null,
           null,
           null,
           null,
           null,
           null,
           null,
           null,
           null,
           null,
           null,
           null,
           null,
           null,
           null,
           null,
           0.802,
           0.793,
           null,
           null,
           null,
           null,
           null,
           null,
           null
          ],
          [
           null,
           null,
           null,
           null,
           null,
           null,
           null,
           null,
           null,
           null,
           null,
           null,
           null,
           null,
           0.788,
           null,
           0.781,
           null,
           null,
           null,
           null,
           null,
           null,
           null,
           null,
           null
          ],
          [
           null,
           null,
           null,
           null,
           null,
           0.79,
           null,
           null,
           null,
           null,
           null,
           null,
           null,
           null,
           null,
           null,
           null,
           null,
           null,
           null,
           0.787,
           null,
           null,
           null,
           null,
           null
          ],
          [
           null,
           null,
           null,
           null,
           null,
           null,
           null,
           null,
           0.797,
           null,
           null,
           null,
           null,
           null,
           null,
           null,
           null,
           null,
           null,
           null,
           null,
           null,
           null,
           null,
           null,
           0.724
          ],
          [
           0.697,
           null,
           null,
           null,
           null,
           null,
           null,
           null,
           null,
           null,
           null,
           null,
           null,
           null,
           null,
           null,
           null,
           null,
           null,
           null,
           null,
           null,
           0.814,
           null,
           null,
           null
          ],
          [
           null,
           null,
           null,
           0.77,
           null,
           null,
           null,
           null,
           null,
           null,
           null,
           null,
           null,
           null,
           null,
           null,
           null,
           null,
           null,
           null,
           null,
           null,
           null,
           null,
           null,
           null
          ],
          [
           null,
           null,
           null,
           null,
           null,
           null,
           null,
           null,
           null,
           null,
           null,
           0.779,
           null,
           null,
           null,
           null,
           null,
           null,
           null,
           0.806,
           null,
           null,
           null,
           null,
           null,
           null
          ],
          [
           null,
           null,
           null,
           null,
           0.752,
           null,
           null,
           null,
           null,
           null,
           null,
           null,
           null,
           null,
           null,
           null,
           null,
           null,
           null,
           null,
           null,
           0.781,
           null,
           null,
           null,
           null
          ],
          [
           null,
           null,
           null,
           null,
           null,
           null,
           null,
           null,
           null,
           null,
           null,
           null,
           0.801,
           null,
           null,
           null,
           null,
           null,
           null,
           null,
           null,
           null,
           null,
           null,
           null,
           null
          ]
         ]
        },
        {
         "marker": {
          "color": "black"
         },
         "mode": "markers",
         "showlegend": false,
         "type": "scatter",
         "x": [
          0.0016801561613554626,
          4.150146894188187e-05,
          0.01742735341297762,
          0.00836510120287843,
          0.005959544128320366,
          0.0006037049619939256,
          0.003699357433253755,
          0.0008290383644298195,
          0.0028366785551485136,
          0.0033378478466296823,
          0.0026023834468866763,
          0.004734701866521968,
          0.0032877429116842777,
          0.0022966733338897925,
          0.001934702484556159,
          0.002269914575227272,
          0.005296695095678726,
          0.0021667133974016873,
          0.0044025218905984695,
          0.0023311988429061095,
          0.003287877276090833,
          0.003453107696755918,
          0.004146112094892482,
          0.004629038062214431,
          0.0028223530220840426,
          0.00247686650609683
         ],
         "xaxis": "x5",
         "y": [
          60,
          59,
          58,
          40,
          39,
          44,
          55,
          53,
          64,
          53,
          52,
          62,
          54,
          48,
          62,
          52,
          59,
          57,
          61,
          58,
          56,
          56,
          55,
          57,
          61,
          50
         ],
         "yaxis": "y5"
        },
        {
         "colorbar": {
          "title": {
           "text": "Objective Value"
          }
         },
         "colorscale": [
          [
           0,
           "rgb(5,10,172)"
          ],
          [
           0.35,
           "rgb(40,60,190)"
          ],
          [
           0.5,
           "rgb(70,100,245)"
          ],
          [
           0.6,
           "rgb(90,120,245)"
          ],
          [
           0.7,
           "rgb(106,137,247)"
          ],
          [
           1,
           "rgb(220,220,220)"
          ]
         ],
         "connectgaps": true,
         "contours": {
          "coloring": "heatmap"
         },
         "hoverinfo": "none",
         "line": {
          "smoothing": 1.3
         },
         "showscale": false,
         "type": "contour",
         "x": [
          4.150146894188187e-05,
          0.0006037049619939256,
          0.0008290383644298195,
          0.0016801561613554626,
          0.001934702484556159,
          0.0021667133974016873,
          0.002269914575227272,
          0.0022966733338897925,
          0.0023311988429061095,
          0.00247686650609683,
          0.0026023834468866763,
          0.0028223530220840426,
          0.0028366785551485136,
          0.0032877429116842777,
          0.003287877276090833,
          0.0033378478466296823,
          0.003453107696755918,
          0.003699357433253755,
          0.004146112094892482,
          0.0044025218905984695,
          0.004629038062214431,
          0.004734701866521968,
          0.005296695095678726,
          0.005959544128320366,
          0.00836510120287843,
          0.01742735341297762
         ],
         "xaxis": "x9",
         "y": [
          35,
          39,
          41,
          42,
          49,
          50,
          51,
          52,
          53,
          54,
          56,
          57,
          58,
          60,
          64
         ],
         "yaxis": "y9",
         "z": [
          [
           null,
           null,
           null,
           null,
           null,
           null,
           null,
           null,
           0.797,
           null,
           null,
           null,
           null,
           null,
           null,
           null,
           null,
           null,
           null,
           null,
           null,
           null,
           null,
           null,
           null,
           null
          ],
          [
           null,
           null,
           null,
           null,
           null,
           null,
           0.787,
           null,
           null,
           null,
           null,
           null,
           null,
           null,
           null,
           null,
           null,
           null,
           null,
           null,
           null,
           null,
           null,
           null,
           null,
           null
          ],
          [
           null,
           null,
           0.765,
           null,
           null,
           null,
           null,
           null,
           null,
           null,
           null,
           null,
           null,
           null,
           null,
           null,
           null,
           null,
           null,
           null,
           null,
           null,
           null,
           null,
           null,
           null
          ],
          [
           null,
           null,
           null,
           null,
           null,
           null,
           null,
           null,
           null,
           null,
           0.781,
           null,
           null,
           null,
           null,
           null,
           null,
           null,
           null,
           null,
           null,
           null,
           null,
           null,
           null,
           null
          ],
          [
           null,
           0.758,
           null,
           null,
           null,
           null,
           null,
           null,
           null,
           null,
           null,
           null,
           null,
           null,
           null,
           null,
           null,
           null,
           null,
           null,
           null,
           null,
           null,
           null,
           null,
           null
          ],
          [
           null,
           null,
           null,
           null,
           null,
           0.79,
           null,
           null,
           null,
           null,
           null,
           null,
           null,
           null,
           null,
           null,
           null,
           null,
           null,
           null,
           null,
           null,
           null,
           null,
           0.286,
           null
          ],
          [
           null,
           null,
           null,
           null,
           null,
           null,
           null,
           null,
           null,
           null,
           null,
           null,
           null,
           null,
           null,
           null,
           0.781,
           null,
           null,
           null,
           null,
           null,
           null,
           null,
           null,
           null
          ],
          [
           null,
           null,
           null,
           0.77,
           0.752,
           null,
           null,
           0.771,
           null,
           null,
           null,
           null,
           null,
           null,
           null,
           null,
           null,
           null,
           null,
           null,
           null,
           null,
           null,
           null,
           null,
           null
          ],
          [
           null,
           null,
           null,
           null,
           null,
           null,
           null,
           null,
           null,
           null,
           null,
           null,
           null,
           null,
           0.788,
           null,
           null,
           null,
           null,
           null,
           null,
           null,
           null,
           null,
           null,
           null
          ],
          [
           0.697,
           null,
           null,
           null,
           null,
           null,
           null,
           null,
           null,
           null,
           null,
           null,
           null,
           null,
           null,
           null,
           null,
           null,
           null,
           null,
           null,
           null,
           0.814,
           null,
           null,
           null
          ],
          [
           null,
           null,
           null,
           null,
           null,
           null,
           null,
           null,
           null,
           null,
           null,
           null,
           0.801,
           null,
           null,
           null,
           null,
           null,
           0.793,
           null,
           0.787,
           null,
           null,
           null,
           null,
           null
          ],
          [
           null,
           null,
           null,
           null,
           null,
           null,
           null,
           null,
           null,
           0.764,
           null,
           null,
           null,
           null,
           null,
           null,
           null,
           null,
           null,
           null,
           null,
           0.781,
           null,
           null,
           null,
           null
          ],
          [
           null,
           null,
           null,
           null,
           null,
           null,
           null,
           null,
           null,
           null,
           null,
           0.779,
           null,
           0.779,
           null,
           0.796,
           null,
           null,
           null,
           0.806,
           null,
           null,
           null,
           null,
           null,
           null
          ],
          [
           null,
           null,
           null,
           null,
           null,
           null,
           null,
           null,
           null,
           null,
           null,
           null,
           null,
           null,
           null,
           null,
           null,
           0.802,
           null,
           null,
           null,
           null,
           null,
           null,
           null,
           0.724
          ],
          [
           null,
           null,
           null,
           null,
           null,
           null,
           null,
           null,
           null,
           null,
           null,
           null,
           null,
           null,
           null,
           null,
           null,
           null,
           null,
           null,
           null,
           null,
           null,
           0.749,
           null,
           null
          ]
         ]
        },
        {
         "marker": {
          "color": "black"
         },
         "mode": "markers",
         "showlegend": false,
         "type": "scatter",
         "x": [
          0.0016801561613554626,
          4.150146894188187e-05,
          0.01742735341297762,
          0.00836510120287843,
          0.005959544128320366,
          0.0006037049619939256,
          0.003699357433253755,
          0.0008290383644298195,
          0.0028366785551485136,
          0.0033378478466296823,
          0.0026023834468866763,
          0.004734701866521968,
          0.0032877429116842777,
          0.0022966733338897925,
          0.001934702484556159,
          0.002269914575227272,
          0.005296695095678726,
          0.0021667133974016873,
          0.0044025218905984695,
          0.0023311988429061095,
          0.003287877276090833,
          0.003453107696755918,
          0.004146112094892482,
          0.004629038062214431,
          0.0028223530220840426,
          0.00247686650609683
         ],
         "xaxis": "x9",
         "y": [
          52,
          54,
          60,
          50,
          64,
          49,
          60,
          41,
          56,
          58,
          42,
          57,
          58,
          52,
          52,
          39,
          54,
          50,
          58,
          35,
          53,
          51,
          56,
          56,
          58,
          57
         ],
         "yaxis": "y9"
        },
        {
         "colorbar": {
          "title": {
           "text": "Objective Value"
          }
         },
         "colorscale": [
          [
           0,
           "rgb(5,10,172)"
          ],
          [
           0.35,
           "rgb(40,60,190)"
          ],
          [
           0.5,
           "rgb(70,100,245)"
          ],
          [
           0.6,
           "rgb(90,120,245)"
          ],
          [
           0.7,
           "rgb(106,137,247)"
          ],
          [
           1,
           "rgb(220,220,220)"
          ]
         ],
         "connectgaps": true,
         "contours": {
          "coloring": "heatmap"
         },
         "hoverinfo": "none",
         "line": {
          "smoothing": 1.3
         },
         "showscale": false,
         "type": "contour",
         "x": [
          4.150146894188187e-05,
          0.0006037049619939256,
          0.0008290383644298195,
          0.0016801561613554626,
          0.001934702484556159,
          0.0021667133974016873,
          0.002269914575227272,
          0.0022966733338897925,
          0.0023311988429061095,
          0.00247686650609683,
          0.0026023834468866763,
          0.0028223530220840426,
          0.0028366785551485136,
          0.0032877429116842777,
          0.003287877276090833,
          0.0033378478466296823,
          0.003453107696755918,
          0.003699357433253755,
          0.004146112094892482,
          0.0044025218905984695,
          0.004629038062214431,
          0.004734701866521968,
          0.005296695095678726,
          0.005959544128320366,
          0.00836510120287843,
          0.01742735341297762
         ],
         "xaxis": "x13",
         "y": [
          34,
          42,
          45,
          46,
          47,
          50,
          51,
          52,
          54,
          55,
          56,
          57,
          58,
          59,
          60,
          61,
          63
         ],
         "yaxis": "y13",
         "z": [
          [
           null,
           null,
           0.765,
           null,
           null,
           null,
           null,
           null,
           null,
           null,
           null,
           null,
           null,
           null,
           null,
           null,
           null,
           null,
           null,
           null,
           null,
           null,
           null,
           null,
           null,
           null
          ],
          [
           null,
           null,
           null,
           null,
           null,
           null,
           null,
           null,
           null,
           null,
           null,
           null,
           null,
           null,
           null,
           null,
           null,
           null,
           null,
           null,
           null,
           0.781,
           null,
           null,
           null,
           null
          ],
          [
           null,
           null,
           null,
           null,
           null,
           null,
           null,
           null,
           null,
           null,
           null,
           null,
           null,
           null,
           null,
           null,
           null,
           null,
           null,
           0.806,
           null,
           null,
           null,
           null,
           null,
           null
          ],
          [
           0.697,
           null,
           null,
           null,
           null,
           null,
           null,
           null,
           0.797,
           null,
           null,
           null,
           null,
           null,
           null,
           null,
           null,
           null,
           null,
           null,
           null,
           null,
           null,
           null,
           null,
           null
          ],
          [
           null,
           null,
           null,
           null,
           null,
           null,
           null,
           null,
           null,
           null,
           null,
           null,
           null,
           null,
           null,
           null,
           null,
           null,
           null,
           null,
           null,
           null,
           null,
           null,
           0.286,
           null
          ],
          [
           null,
           null,
           null,
           null,
           null,
           null,
           null,
           null,
           null,
           0.764,
           null,
           null,
           null,
           null,
           null,
           null,
           null,
           null,
           null,
           null,
           null,
           null,
           null,
           null,
           null,
           null
          ],
          [
           null,
           0.758,
           null,
           null,
           null,
           null,
           null,
           null,
           null,
           null,
           null,
           null,
           null,
           null,
           null,
           null,
           null,
           null,
           null,
           null,
           null,
           null,
           null,
           null,
           null,
           null
          ],
          [
           null,
           null,
           null,
           0.77,
           0.752,
           null,
           null,
           null,
           null,
           null,
           null,
           null,
           null,
           null,
           null,
           null,
           null,
           null,
           null,
           null,
           null,
           null,
           null,
           null,
           null,
           null
          ],
          [
           null,
           null,
           null,
           null,
           null,
           null,
           null,
           0.771,
           null,
           null,
           null,
           null,
           0.801,
           null,
           null,
           null,
           null,
           null,
           null,
           null,
           null,
           null,
           null,
           null,
           null,
           null
          ],
          [
           null,
           null,
           null,
           null,
           null,
           null,
           null,
           null,
           null,
           null,
           null,
           null,
           null,
           0.779,
           null,
           0.796,
           null,
           0.802,
           null,
           null,
           null,
           null,
           null,
           null,
           null,
           null
          ],
          [
           null,
           null,
           null,
           null,
           null,
           null,
           null,
           null,
           null,
           null,
           null,
           0.779,
           null,
           null,
           null,
           null,
           null,
           null,
           null,
           null,
           null,
           null,
           null,
           null,
           null,
           null
          ],
          [
           null,
           null,
           null,
           null,
           null,
           null,
           null,
           null,
           null,
           null,
           null,
           null,
           null,
           null,
           null,
           null,
           0.781,
           null,
           null,
           null,
           null,
           null,
           null,
           null,
           null,
           null
          ],
          [
           null,
           null,
           null,
           null,
           null,
           null,
           null,
           null,
           null,
           null,
           null,
           null,
           null,
           null,
           null,
           null,
           null,
           null,
           null,
           null,
           null,
           null,
           null,
           null,
           null,
           0.724
          ],
          [
           null,
           null,
           null,
           null,
           null,
           0.79,
           null,
           null,
           null,
           null,
           0.781,
           null,
           null,
           null,
           null,
           null,
           null,
           null,
           null,
           null,
           null,
           null,
           null,
           null,
           null,
           null
          ],
          [
           null,
           null,
           null,
           null,
           null,
           null,
           0.787,
           null,
           null,
           null,
           null,
           null,
           null,
           null,
           null,
           null,
           null,
           null,
           0.793,
           null,
           0.787,
           null,
           0.814,
           null,
           null,
           null
          ],
          [
           null,
           null,
           null,
           null,
           null,
           null,
           null,
           null,
           null,
           null,
           null,
           null,
           null,
           null,
           0.788,
           null,
           null,
           null,
           null,
           null,
           null,
           null,
           null,
           null,
           null,
           null
          ],
          [
           null,
           null,
           null,
           null,
           null,
           null,
           null,
           null,
           null,
           null,
           null,
           null,
           null,
           null,
           null,
           null,
           null,
           null,
           null,
           null,
           null,
           null,
           null,
           0.749,
           null,
           null
          ]
         ]
        },
        {
         "marker": {
          "color": "black"
         },
         "mode": "markers",
         "showlegend": false,
         "type": "scatter",
         "x": [
          0.0016801561613554626,
          4.150146894188187e-05,
          0.01742735341297762,
          0.00836510120287843,
          0.005959544128320366,
          0.0006037049619939256,
          0.003699357433253755,
          0.0008290383644298195,
          0.0028366785551485136,
          0.0033378478466296823,
          0.0026023834468866763,
          0.004734701866521968,
          0.0032877429116842777,
          0.0022966733338897925,
          0.001934702484556159,
          0.002269914575227272,
          0.005296695095678726,
          0.0021667133974016873,
          0.0044025218905984695,
          0.0023311988429061095,
          0.003287877276090833,
          0.003453107696755918,
          0.004146112094892482,
          0.004629038062214431,
          0.0028223530220840426,
          0.00247686650609683
         ],
         "xaxis": "x13",
         "y": [
          52,
          46,
          58,
          47,
          63,
          51,
          55,
          34,
          54,
          55,
          59,
          42,
          55,
          54,
          52,
          60,
          60,
          59,
          45,
          46,
          61,
          57,
          60,
          60,
          56,
          50
         ],
         "yaxis": "y13"
        },
        {
         "colorbar": {
          "title": {
           "text": "Objective Value"
          }
         },
         "colorscale": [
          [
           0,
           "rgb(5,10,172)"
          ],
          [
           0.35,
           "rgb(40,60,190)"
          ],
          [
           0.5,
           "rgb(70,100,245)"
          ],
          [
           0.6,
           "rgb(90,120,245)"
          ],
          [
           0.7,
           "rgb(106,137,247)"
          ],
          [
           1,
           "rgb(220,220,220)"
          ]
         ],
         "connectgaps": true,
         "contours": {
          "coloring": "heatmap"
         },
         "hoverinfo": "none",
         "line": {
          "smoothing": 1.3
         },
         "showscale": false,
         "type": "contour",
         "x": [
          39,
          40,
          44,
          48,
          50,
          52,
          53,
          54,
          55,
          56,
          57,
          58,
          59,
          60,
          61,
          62,
          64
         ],
         "xaxis": "x2",
         "y": [
          4.150146894188187e-05,
          0.0006037049619939256,
          0.0008290383644298195,
          0.0016801561613554626,
          0.001934702484556159,
          0.0021667133974016873,
          0.002269914575227272,
          0.0022966733338897925,
          0.0023311988429061095,
          0.00247686650609683,
          0.0026023834468866763,
          0.0028223530220840426,
          0.0028366785551485136,
          0.0032877429116842777,
          0.003287877276090833,
          0.0033378478466296823,
          0.003453107696755918,
          0.003699357433253755,
          0.004146112094892482,
          0.0044025218905984695,
          0.004629038062214431,
          0.004734701866521968,
          0.005296695095678726,
          0.005959544128320366,
          0.00836510120287843,
          0.01742735341297762
         ],
         "yaxis": "y2",
         "z": [
          [
           null,
           null,
           null,
           null,
           null,
           null,
           null,
           null,
           null,
           null,
           null,
           null,
           0.697,
           null,
           null,
           null,
           null
          ],
          [
           null,
           null,
           0.758,
           null,
           null,
           null,
           null,
           null,
           null,
           null,
           null,
           null,
           null,
           null,
           null,
           null,
           null
          ],
          [
           null,
           null,
           null,
           null,
           null,
           null,
           0.765,
           null,
           null,
           null,
           null,
           null,
           null,
           null,
           null,
           null,
           null
          ],
          [
           null,
           null,
           null,
           null,
           null,
           null,
           null,
           null,
           null,
           null,
           null,
           null,
           null,
           0.77,
           null,
           null,
           null
          ],
          [
           null,
           null,
           null,
           null,
           null,
           null,
           null,
           null,
           null,
           null,
           null,
           null,
           null,
           null,
           null,
           0.752,
           null
          ],
          [
           null,
           null,
           null,
           null,
           null,
           null,
           null,
           null,
           null,
           null,
           0.79,
           null,
           null,
           null,
           null,
           null,
           null
          ],
          [
           null,
           null,
           null,
           null,
           null,
           0.787,
           null,
           null,
           null,
           null,
           null,
           null,
           null,
           null,
           null,
           null,
           null
          ],
          [
           null,
           null,
           null,
           0.771,
           null,
           null,
           null,
           null,
           null,
           null,
           null,
           null,
           null,
           null,
           null,
           null,
           null
          ],
          [
           null,
           null,
           null,
           null,
           null,
           null,
           null,
           null,
           null,
           null,
           null,
           0.797,
           null,
           null,
           null,
           null,
           null
          ],
          [
           null,
           null,
           null,
           null,
           0.764,
           null,
           null,
           null,
           null,
           null,
           null,
           null,
           null,
           null,
           null,
           null,
           null
          ],
          [
           null,
           null,
           null,
           null,
           null,
           0.781,
           null,
           null,
           null,
           null,
           null,
           null,
           null,
           null,
           null,
           null,
           null
          ],
          [
           null,
           null,
           null,
           null,
           null,
           null,
           null,
           null,
           null,
           null,
           null,
           null,
           null,
           null,
           0.779,
           null,
           null
          ],
          [
           null,
           null,
           null,
           null,
           null,
           null,
           null,
           null,
           null,
           null,
           null,
           null,
           null,
           null,
           null,
           null,
           0.801
          ],
          [
           null,
           null,
           null,
           null,
           null,
           null,
           null,
           0.779,
           null,
           null,
           null,
           null,
           null,
           null,
           null,
           null,
           null
          ],
          [
           null,
           null,
           null,
           null,
           null,
           null,
           null,
           null,
           null,
           0.788,
           null,
           null,
           null,
           null,
           null,
           null,
           null
          ],
          [
           null,
           null,
           null,
           null,
           null,
           null,
           0.796,
           null,
           null,
           null,
           null,
           null,
           null,
           null,
           null,
           null,
           null
          ],
          [
           null,
           null,
           null,
           null,
           null,
           null,
           null,
           null,
           null,
           0.781,
           null,
           null,
           null,
           null,
           null,
           null,
           null
          ],
          [
           null,
           null,
           null,
           null,
           null,
           null,
           null,
           null,
           0.802,
           null,
           null,
           null,
           null,
           null,
           null,
           null,
           null
          ],
          [
           null,
           null,
           null,
           null,
           null,
           null,
           null,
           null,
           0.793,
           null,
           null,
           null,
           null,
           null,
           null,
           null,
           null
          ],
          [
           null,
           null,
           null,
           null,
           null,
           null,
           null,
           null,
           null,
           null,
           null,
           null,
           null,
           null,
           0.806,
           null,
           null
          ],
          [
           null,
           null,
           null,
           null,
           null,
           null,
           null,
           null,
           null,
           null,
           0.787,
           null,
           null,
           null,
           null,
           null,
           null
          ],
          [
           null,
           null,
           null,
           null,
           null,
           null,
           null,
           null,
           null,
           null,
           null,
           null,
           null,
           null,
           null,
           0.781,
           null
          ],
          [
           null,
           null,
           null,
           null,
           null,
           null,
           null,
           null,
           null,
           null,
           null,
           null,
           0.814,
           null,
           null,
           null,
           null
          ],
          [
           0.749,
           null,
           null,
           null,
           null,
           null,
           null,
           null,
           null,
           null,
           null,
           null,
           null,
           null,
           null,
           null,
           null
          ],
          [
           null,
           0.286,
           null,
           null,
           null,
           null,
           null,
           null,
           null,
           null,
           null,
           null,
           null,
           null,
           null,
           null,
           null
          ],
          [
           null,
           null,
           null,
           null,
           null,
           null,
           null,
           null,
           null,
           null,
           null,
           0.724,
           null,
           null,
           null,
           null,
           null
          ]
         ]
        },
        {
         "marker": {
          "color": "black"
         },
         "mode": "markers",
         "showlegend": false,
         "type": "scatter",
         "x": [
          60,
          59,
          58,
          40,
          39,
          44,
          55,
          53,
          64,
          53,
          52,
          62,
          54,
          48,
          62,
          52,
          59,
          57,
          61,
          58,
          56,
          56,
          55,
          57,
          61,
          50
         ],
         "xaxis": "x2",
         "y": [
          0.0016801561613554626,
          4.150146894188187e-05,
          0.01742735341297762,
          0.00836510120287843,
          0.005959544128320366,
          0.0006037049619939256,
          0.003699357433253755,
          0.0008290383644298195,
          0.0028366785551485136,
          0.0033378478466296823,
          0.0026023834468866763,
          0.004734701866521968,
          0.0032877429116842777,
          0.0022966733338897925,
          0.001934702484556159,
          0.002269914575227272,
          0.005296695095678726,
          0.0021667133974016873,
          0.0044025218905984695,
          0.0023311988429061095,
          0.003287877276090833,
          0.003453107696755918,
          0.004146112094892482,
          0.004629038062214431,
          0.0028223530220840426,
          0.00247686650609683
         ],
         "yaxis": "y2"
        },
        {
         "type": "scatter",
         "xaxis": "x6",
         "yaxis": "y6"
        },
        {
         "colorbar": {
          "title": {
           "text": "Objective Value"
          }
         },
         "colorscale": [
          [
           0,
           "rgb(5,10,172)"
          ],
          [
           0.35,
           "rgb(40,60,190)"
          ],
          [
           0.5,
           "rgb(70,100,245)"
          ],
          [
           0.6,
           "rgb(90,120,245)"
          ],
          [
           0.7,
           "rgb(106,137,247)"
          ],
          [
           1,
           "rgb(220,220,220)"
          ]
         ],
         "connectgaps": true,
         "contours": {
          "coloring": "heatmap"
         },
         "hoverinfo": "none",
         "line": {
          "smoothing": 1.3
         },
         "showscale": false,
         "type": "contour",
         "x": [
          39,
          40,
          44,
          48,
          50,
          52,
          53,
          54,
          55,
          56,
          57,
          58,
          59,
          60,
          61,
          62,
          64
         ],
         "xaxis": "x10",
         "y": [
          35,
          39,
          41,
          42,
          49,
          50,
          51,
          52,
          53,
          54,
          56,
          57,
          58,
          60,
          64
         ],
         "yaxis": "y10",
         "z": [
          [
           null,
           null,
           null,
           null,
           null,
           null,
           null,
           null,
           null,
           null,
           null,
           0.797,
           null,
           null,
           null,
           null,
           null
          ],
          [
           null,
           null,
           null,
           null,
           null,
           0.787,
           null,
           null,
           null,
           null,
           null,
           null,
           null,
           null,
           null,
           null,
           null
          ],
          [
           null,
           null,
           null,
           null,
           null,
           null,
           0.765,
           null,
           null,
           null,
           null,
           null,
           null,
           null,
           null,
           null,
           null
          ],
          [
           null,
           null,
           null,
           null,
           null,
           0.781,
           null,
           null,
           null,
           null,
           null,
           null,
           null,
           null,
           null,
           null,
           null
          ],
          [
           null,
           null,
           0.758,
           null,
           null,
           null,
           null,
           null,
           null,
           null,
           null,
           null,
           null,
           null,
           null,
           null,
           null
          ],
          [
           null,
           0.286,
           null,
           null,
           null,
           null,
           null,
           null,
           null,
           null,
           0.79,
           null,
           null,
           null,
           null,
           null,
           null
          ],
          [
           null,
           null,
           null,
           null,
           null,
           null,
           null,
           null,
           null,
           0.781,
           null,
           null,
           null,
           null,
           null,
           null,
           null
          ],
          [
           null,
           null,
           null,
           0.771,
           null,
           null,
           null,
           null,
           null,
           null,
           null,
           null,
           null,
           0.77,
           null,
           0.752,
           null
          ],
          [
           null,
           null,
           null,
           null,
           null,
           null,
           null,
           null,
           null,
           0.788,
           null,
           null,
           null,
           null,
           null,
           null,
           null
          ],
          [
           null,
           null,
           null,
           null,
           null,
           null,
           null,
           null,
           null,
           null,
           null,
           null,
           0.814,
           null,
           null,
           null,
           null
          ],
          [
           null,
           null,
           null,
           null,
           null,
           null,
           null,
           null,
           0.793,
           null,
           0.787,
           null,
           null,
           null,
           null,
           null,
           0.801
          ],
          [
           null,
           null,
           null,
           null,
           0.764,
           null,
           null,
           null,
           null,
           null,
           null,
           null,
           null,
           null,
           null,
           0.781,
           null
          ],
          [
           null,
           null,
           null,
           null,
           null,
           null,
           0.796,
           0.779,
           null,
           null,
           null,
           null,
           null,
           null,
           0.779,
           null,
           null
          ],
          [
           null,
           null,
           null,
           null,
           null,
           null,
           null,
           null,
           0.802,
           null,
           null,
           0.724,
           null,
           null,
           null,
           null,
           null
          ],
          [
           0.749,
           null,
           null,
           null,
           null,
           null,
           null,
           null,
           null,
           null,
           null,
           null,
           null,
           null,
           null,
           null,
           null
          ]
         ]
        },
        {
         "marker": {
          "color": "black"
         },
         "mode": "markers",
         "showlegend": false,
         "type": "scatter",
         "x": [
          60,
          59,
          58,
          40,
          39,
          44,
          55,
          53,
          64,
          53,
          52,
          62,
          54,
          48,
          62,
          52,
          59,
          57,
          61,
          58,
          56,
          56,
          55,
          57,
          61,
          50
         ],
         "xaxis": "x10",
         "y": [
          52,
          54,
          60,
          50,
          64,
          49,
          60,
          41,
          56,
          58,
          42,
          57,
          58,
          52,
          52,
          39,
          54,
          50,
          58,
          35,
          53,
          51,
          56,
          56,
          58,
          57
         ],
         "yaxis": "y10"
        },
        {
         "colorbar": {
          "title": {
           "text": "Objective Value"
          }
         },
         "colorscale": [
          [
           0,
           "rgb(5,10,172)"
          ],
          [
           0.35,
           "rgb(40,60,190)"
          ],
          [
           0.5,
           "rgb(70,100,245)"
          ],
          [
           0.6,
           "rgb(90,120,245)"
          ],
          [
           0.7,
           "rgb(106,137,247)"
          ],
          [
           1,
           "rgb(220,220,220)"
          ]
         ],
         "connectgaps": true,
         "contours": {
          "coloring": "heatmap"
         },
         "hoverinfo": "none",
         "line": {
          "smoothing": 1.3
         },
         "showscale": false,
         "type": "contour",
         "x": [
          39,
          40,
          44,
          48,
          50,
          52,
          53,
          54,
          55,
          56,
          57,
          58,
          59,
          60,
          61,
          62,
          64
         ],
         "xaxis": "x14",
         "y": [
          34,
          42,
          45,
          46,
          47,
          50,
          51,
          52,
          54,
          55,
          56,
          57,
          58,
          59,
          60,
          61,
          63
         ],
         "yaxis": "y14",
         "z": [
          [
           null,
           null,
           null,
           null,
           null,
           null,
           0.765,
           null,
           null,
           null,
           null,
           null,
           null,
           null,
           null,
           null,
           null
          ],
          [
           null,
           null,
           null,
           null,
           null,
           null,
           null,
           null,
           null,
           null,
           null,
           null,
           null,
           null,
           null,
           0.781,
           null
          ],
          [
           null,
           null,
           null,
           null,
           null,
           null,
           null,
           null,
           null,
           null,
           null,
           null,
           null,
           null,
           0.806,
           null,
           null
          ],
          [
           null,
           null,
           null,
           null,
           null,
           null,
           null,
           null,
           null,
           null,
           null,
           0.797,
           0.697,
           null,
           null,
           null,
           null
          ],
          [
           null,
           0.286,
           null,
           null,
           null,
           null,
           null,
           null,
           null,
           null,
           null,
           null,
           null,
           null,
           null,
           null,
           null
          ],
          [
           null,
           null,
           null,
           null,
           0.764,
           null,
           null,
           null,
           null,
           null,
           null,
           null,
           null,
           null,
           null,
           null,
           null
          ],
          [
           null,
           null,
           0.758,
           null,
           null,
           null,
           null,
           null,
           null,
           null,
           null,
           null,
           null,
           null,
           null,
           null,
           null
          ],
          [
           null,
           null,
           null,
           null,
           null,
           null,
           null,
           null,
           null,
           null,
           null,
           null,
           null,
           0.77,
           null,
           0.752,
           null
          ],
          [
           null,
           null,
           null,
           0.771,
           null,
           null,
           null,
           null,
           null,
           null,
           null,
           null,
           null,
           null,
           null,
           null,
           0.801
          ],
          [
           null,
           null,
           null,
           null,
           null,
           null,
           0.796,
           0.779,
           0.802,
           null,
           null,
           null,
           null,
           null,
           null,
           null,
           null
          ],
          [
           null,
           null,
           null,
           null,
           null,
           null,
           null,
           null,
           null,
           null,
           null,
           null,
           null,
           null,
           0.779,
           null,
           null
          ],
          [
           null,
           null,
           null,
           null,
           null,
           null,
           null,
           null,
           null,
           0.781,
           null,
           null,
           null,
           null,
           null,
           null,
           null
          ],
          [
           null,
           null,
           null,
           null,
           null,
           null,
           null,
           null,
           null,
           null,
           null,
           0.724,
           null,
           null,
           null,
           null,
           null
          ],
          [
           null,
           null,
           null,
           null,
           null,
           0.781,
           null,
           null,
           null,
           null,
           0.79,
           null,
           null,
           null,
           null,
           null,
           null
          ],
          [
           null,
           null,
           null,
           null,
           null,
           0.787,
           null,
           null,
           0.793,
           null,
           0.787,
           null,
           0.814,
           null,
           null,
           null,
           null
          ],
          [
           null,
           null,
           null,
           null,
           null,
           null,
           null,
           null,
           null,
           0.788,
           null,
           null,
           null,
           null,
           null,
           null,
           null
          ],
          [
           0.749,
           null,
           null,
           null,
           null,
           null,
           null,
           null,
           null,
           null,
           null,
           null,
           null,
           null,
           null,
           null,
           null
          ]
         ]
        },
        {
         "marker": {
          "color": "black"
         },
         "mode": "markers",
         "showlegend": false,
         "type": "scatter",
         "x": [
          60,
          59,
          58,
          40,
          39,
          44,
          55,
          53,
          64,
          53,
          52,
          62,
          54,
          48,
          62,
          52,
          59,
          57,
          61,
          58,
          56,
          56,
          55,
          57,
          61,
          50
         ],
         "xaxis": "x14",
         "y": [
          52,
          46,
          58,
          47,
          63,
          51,
          55,
          34,
          54,
          55,
          59,
          42,
          55,
          54,
          52,
          60,
          60,
          59,
          45,
          46,
          61,
          57,
          60,
          60,
          56,
          50
         ],
         "yaxis": "y14"
        },
        {
         "colorbar": {
          "title": {
           "text": "Objective Value"
          }
         },
         "colorscale": [
          [
           0,
           "rgb(5,10,172)"
          ],
          [
           0.35,
           "rgb(40,60,190)"
          ],
          [
           0.5,
           "rgb(70,100,245)"
          ],
          [
           0.6,
           "rgb(90,120,245)"
          ],
          [
           0.7,
           "rgb(106,137,247)"
          ],
          [
           1,
           "rgb(220,220,220)"
          ]
         ],
         "connectgaps": true,
         "contours": {
          "coloring": "heatmap"
         },
         "hoverinfo": "none",
         "line": {
          "smoothing": 1.3
         },
         "showscale": false,
         "type": "contour",
         "x": [
          35,
          39,
          41,
          42,
          49,
          50,
          51,
          52,
          53,
          54,
          56,
          57,
          58,
          60,
          64
         ],
         "xaxis": "x3",
         "y": [
          4.150146894188187e-05,
          0.0006037049619939256,
          0.0008290383644298195,
          0.0016801561613554626,
          0.001934702484556159,
          0.0021667133974016873,
          0.002269914575227272,
          0.0022966733338897925,
          0.0023311988429061095,
          0.00247686650609683,
          0.0026023834468866763,
          0.0028223530220840426,
          0.0028366785551485136,
          0.0032877429116842777,
          0.003287877276090833,
          0.0033378478466296823,
          0.003453107696755918,
          0.003699357433253755,
          0.004146112094892482,
          0.0044025218905984695,
          0.004629038062214431,
          0.004734701866521968,
          0.005296695095678726,
          0.005959544128320366,
          0.00836510120287843,
          0.01742735341297762
         ],
         "yaxis": "y3",
         "z": [
          [
           null,
           null,
           null,
           null,
           null,
           null,
           null,
           null,
           null,
           0.697,
           null,
           null,
           null,
           null,
           null
          ],
          [
           null,
           null,
           null,
           null,
           0.758,
           null,
           null,
           null,
           null,
           null,
           null,
           null,
           null,
           null,
           null
          ],
          [
           null,
           null,
           0.765,
           null,
           null,
           null,
           null,
           null,
           null,
           null,
           null,
           null,
           null,
           null,
           null
          ],
          [
           null,
           null,
           null,
           null,
           null,
           null,
           null,
           0.77,
           null,
           null,
           null,
           null,
           null,
           null,
           null
          ],
          [
           null,
           null,
           null,
           null,
           null,
           null,
           null,
           0.752,
           null,
           null,
           null,
           null,
           null,
           null,
           null
          ],
          [
           null,
           null,
           null,
           null,
           null,
           0.79,
           null,
           null,
           null,
           null,
           null,
           null,
           null,
           null,
           null
          ],
          [
           null,
           0.787,
           null,
           null,
           null,
           null,
           null,
           null,
           null,
           null,
           null,
           null,
           null,
           null,
           null
          ],
          [
           null,
           null,
           null,
           null,
           null,
           null,
           null,
           0.771,
           null,
           null,
           null,
           null,
           null,
           null,
           null
          ],
          [
           0.797,
           null,
           null,
           null,
           null,
           null,
           null,
           null,
           null,
           null,
           null,
           null,
           null,
           null,
           null
          ],
          [
           null,
           null,
           null,
           null,
           null,
           null,
           null,
           null,
           null,
           null,
           null,
           0.764,
           null,
           null,
           null
          ],
          [
           null,
           null,
           null,
           0.781,
           null,
           null,
           null,
           null,
           null,
           null,
           null,
           null,
           null,
           null,
           null
          ],
          [
           null,
           null,
           null,
           null,
           null,
           null,
           null,
           null,
           null,
           null,
           null,
           null,
           0.779,
           null,
           null
          ],
          [
           null,
           null,
           null,
           null,
           null,
           null,
           null,
           null,
           null,
           null,
           0.801,
           null,
           null,
           null,
           null
          ],
          [
           null,
           null,
           null,
           null,
           null,
           null,
           null,
           null,
           null,
           null,
           null,
           null,
           0.779,
           null,
           null
          ],
          [
           null,
           null,
           null,
           null,
           null,
           null,
           null,
           null,
           0.788,
           null,
           null,
           null,
           null,
           null,
           null
          ],
          [
           null,
           null,
           null,
           null,
           null,
           null,
           null,
           null,
           null,
           null,
           null,
           null,
           0.796,
           null,
           null
          ],
          [
           null,
           null,
           null,
           null,
           null,
           null,
           0.781,
           null,
           null,
           null,
           null,
           null,
           null,
           null,
           null
          ],
          [
           null,
           null,
           null,
           null,
           null,
           null,
           null,
           null,
           null,
           null,
           null,
           null,
           null,
           0.802,
           null
          ],
          [
           null,
           null,
           null,
           null,
           null,
           null,
           null,
           null,
           null,
           null,
           0.793,
           null,
           null,
           null,
           null
          ],
          [
           null,
           null,
           null,
           null,
           null,
           null,
           null,
           null,
           null,
           null,
           null,
           null,
           0.806,
           null,
           null
          ],
          [
           null,
           null,
           null,
           null,
           null,
           null,
           null,
           null,
           null,
           null,
           0.787,
           null,
           null,
           null,
           null
          ],
          [
           null,
           null,
           null,
           null,
           null,
           null,
           null,
           null,
           null,
           null,
           null,
           0.781,
           null,
           null,
           null
          ],
          [
           null,
           null,
           null,
           null,
           null,
           null,
           null,
           null,
           null,
           0.814,
           null,
           null,
           null,
           null,
           null
          ],
          [
           null,
           null,
           null,
           null,
           null,
           null,
           null,
           null,
           null,
           null,
           null,
           null,
           null,
           null,
           0.749
          ],
          [
           null,
           null,
           null,
           null,
           null,
           0.286,
           null,
           null,
           null,
           null,
           null,
           null,
           null,
           null,
           null
          ],
          [
           null,
           null,
           null,
           null,
           null,
           null,
           null,
           null,
           null,
           null,
           null,
           null,
           null,
           0.724,
           null
          ]
         ]
        },
        {
         "marker": {
          "color": "black"
         },
         "mode": "markers",
         "showlegend": false,
         "type": "scatter",
         "x": [
          52,
          54,
          60,
          50,
          64,
          49,
          60,
          41,
          56,
          58,
          42,
          57,
          58,
          52,
          52,
          39,
          54,
          50,
          58,
          35,
          53,
          51,
          56,
          56,
          58,
          57
         ],
         "xaxis": "x3",
         "y": [
          0.0016801561613554626,
          4.150146894188187e-05,
          0.01742735341297762,
          0.00836510120287843,
          0.005959544128320366,
          0.0006037049619939256,
          0.003699357433253755,
          0.0008290383644298195,
          0.0028366785551485136,
          0.0033378478466296823,
          0.0026023834468866763,
          0.004734701866521968,
          0.0032877429116842777,
          0.0022966733338897925,
          0.001934702484556159,
          0.002269914575227272,
          0.005296695095678726,
          0.0021667133974016873,
          0.0044025218905984695,
          0.0023311988429061095,
          0.003287877276090833,
          0.003453107696755918,
          0.004146112094892482,
          0.004629038062214431,
          0.0028223530220840426,
          0.00247686650609683
         ],
         "yaxis": "y3"
        },
        {
         "colorbar": {
          "title": {
           "text": "Objective Value"
          }
         },
         "colorscale": [
          [
           0,
           "rgb(5,10,172)"
          ],
          [
           0.35,
           "rgb(40,60,190)"
          ],
          [
           0.5,
           "rgb(70,100,245)"
          ],
          [
           0.6,
           "rgb(90,120,245)"
          ],
          [
           0.7,
           "rgb(106,137,247)"
          ],
          [
           1,
           "rgb(220,220,220)"
          ]
         ],
         "connectgaps": true,
         "contours": {
          "coloring": "heatmap"
         },
         "hoverinfo": "none",
         "line": {
          "smoothing": 1.3
         },
         "showscale": false,
         "type": "contour",
         "x": [
          35,
          39,
          41,
          42,
          49,
          50,
          51,
          52,
          53,
          54,
          56,
          57,
          58,
          60,
          64
         ],
         "xaxis": "x7",
         "y": [
          39,
          40,
          44,
          48,
          50,
          52,
          53,
          54,
          55,
          56,
          57,
          58,
          59,
          60,
          61,
          62,
          64
         ],
         "yaxis": "y7",
         "z": [
          [
           null,
           null,
           null,
           null,
           null,
           null,
           null,
           null,
           null,
           null,
           null,
           null,
           null,
           null,
           0.749
          ],
          [
           null,
           null,
           null,
           null,
           null,
           0.286,
           null,
           null,
           null,
           null,
           null,
           null,
           null,
           null,
           null
          ],
          [
           null,
           null,
           null,
           null,
           0.758,
           null,
           null,
           null,
           null,
           null,
           null,
           null,
           null,
           null,
           null
          ],
          [
           null,
           null,
           null,
           null,
           null,
           null,
           null,
           0.771,
           null,
           null,
           null,
           null,
           null,
           null,
           null
          ],
          [
           null,
           null,
           null,
           null,
           null,
           null,
           null,
           null,
           null,
           null,
           null,
           0.764,
           null,
           null,
           null
          ],
          [
           null,
           0.787,
           null,
           0.781,
           null,
           null,
           null,
           null,
           null,
           null,
           null,
           null,
           null,
           null,
           null
          ],
          [
           null,
           null,
           0.765,
           null,
           null,
           null,
           null,
           null,
           null,
           null,
           null,
           null,
           0.796,
           null,
           null
          ],
          [
           null,
           null,
           null,
           null,
           null,
           null,
           null,
           null,
           null,
           null,
           null,
           null,
           0.779,
           null,
           null
          ],
          [
           null,
           null,
           null,
           null,
           null,
           null,
           null,
           null,
           null,
           null,
           0.793,
           null,
           null,
           0.802,
           null
          ],
          [
           null,
           null,
           null,
           null,
           null,
           null,
           0.781,
           null,
           0.788,
           null,
           null,
           null,
           null,
           null,
           null
          ],
          [
           null,
           null,
           null,
           null,
           null,
           0.79,
           null,
           null,
           null,
           null,
           0.787,
           null,
           null,
           null,
           null
          ],
          [
           0.797,
           null,
           null,
           null,
           null,
           null,
           null,
           null,
           null,
           null,
           null,
           null,
           null,
           0.724,
           null
          ],
          [
           null,
           null,
           null,
           null,
           null,
           null,
           null,
           null,
           null,
           0.814,
           null,
           null,
           null,
           null,
           null
          ],
          [
           null,
           null,
           null,
           null,
           null,
           null,
           null,
           0.77,
           null,
           null,
           null,
           null,
           null,
           null,
           null
          ],
          [
           null,
           null,
           null,
           null,
           null,
           null,
           null,
           null,
           null,
           null,
           null,
           null,
           0.779,
           null,
           null
          ],
          [
           null,
           null,
           null,
           null,
           null,
           null,
           null,
           0.752,
           null,
           null,
           null,
           0.781,
           null,
           null,
           null
          ],
          [
           null,
           null,
           null,
           null,
           null,
           null,
           null,
           null,
           null,
           null,
           0.801,
           null,
           null,
           null,
           null
          ]
         ]
        },
        {
         "marker": {
          "color": "black"
         },
         "mode": "markers",
         "showlegend": false,
         "type": "scatter",
         "x": [
          52,
          54,
          60,
          50,
          64,
          49,
          60,
          41,
          56,
          58,
          42,
          57,
          58,
          52,
          52,
          39,
          54,
          50,
          58,
          35,
          53,
          51,
          56,
          56,
          58,
          57
         ],
         "xaxis": "x7",
         "y": [
          60,
          59,
          58,
          40,
          39,
          44,
          55,
          53,
          64,
          53,
          52,
          62,
          54,
          48,
          62,
          52,
          59,
          57,
          61,
          58,
          56,
          56,
          55,
          57,
          61,
          50
         ],
         "yaxis": "y7"
        },
        {
         "type": "scatter",
         "xaxis": "x11",
         "yaxis": "y11"
        },
        {
         "colorbar": {
          "title": {
           "text": "Objective Value"
          }
         },
         "colorscale": [
          [
           0,
           "rgb(5,10,172)"
          ],
          [
           0.35,
           "rgb(40,60,190)"
          ],
          [
           0.5,
           "rgb(70,100,245)"
          ],
          [
           0.6,
           "rgb(90,120,245)"
          ],
          [
           0.7,
           "rgb(106,137,247)"
          ],
          [
           1,
           "rgb(220,220,220)"
          ]
         ],
         "connectgaps": true,
         "contours": {
          "coloring": "heatmap"
         },
         "hoverinfo": "none",
         "line": {
          "smoothing": 1.3
         },
         "showscale": false,
         "type": "contour",
         "x": [
          35,
          39,
          41,
          42,
          49,
          50,
          51,
          52,
          53,
          54,
          56,
          57,
          58,
          60,
          64
         ],
         "xaxis": "x15",
         "y": [
          34,
          42,
          45,
          46,
          47,
          50,
          51,
          52,
          54,
          55,
          56,
          57,
          58,
          59,
          60,
          61,
          63
         ],
         "yaxis": "y15",
         "z": [
          [
           null,
           null,
           0.765,
           null,
           null,
           null,
           null,
           null,
           null,
           null,
           null,
           null,
           null,
           null,
           null
          ],
          [
           null,
           null,
           null,
           null,
           null,
           null,
           null,
           null,
           null,
           null,
           null,
           0.781,
           null,
           null,
           null
          ],
          [
           null,
           null,
           null,
           null,
           null,
           null,
           null,
           null,
           null,
           null,
           null,
           null,
           0.806,
           null,
           null
          ],
          [
           0.797,
           null,
           null,
           null,
           null,
           null,
           null,
           null,
           null,
           0.697,
           null,
           null,
           null,
           null,
           null
          ],
          [
           null,
           null,
           null,
           null,
           null,
           0.286,
           null,
           null,
           null,
           null,
           null,
           null,
           null,
           null,
           null
          ],
          [
           null,
           null,
           null,
           null,
           null,
           null,
           null,
           null,
           null,
           null,
           null,
           0.764,
           null,
           null,
           null
          ],
          [
           null,
           null,
           null,
           null,
           0.758,
           null,
           null,
           null,
           null,
           null,
           null,
           null,
           null,
           null,
           null
          ],
          [
           null,
           null,
           null,
           null,
           null,
           null,
           null,
           0.752,
           null,
           null,
           null,
           null,
           null,
           null,
           null
          ],
          [
           null,
           null,
           null,
           null,
           null,
           null,
           null,
           0.771,
           null,
           null,
           0.801,
           null,
           null,
           null,
           null
          ],
          [
           null,
           null,
           null,
           null,
           null,
           null,
           null,
           null,
           null,
           null,
           null,
           null,
           0.779,
           0.802,
           null
          ],
          [
           null,
           null,
           null,
           null,
           null,
           null,
           null,
           null,
           null,
           null,
           null,
           null,
           0.779,
           null,
           null
          ],
          [
           null,
           null,
           null,
           null,
           null,
           null,
           0.781,
           null,
           null,
           null,
           null,
           null,
           null,
           null,
           null
          ],
          [
           null,
           null,
           null,
           null,
           null,
           null,
           null,
           null,
           null,
           null,
           null,
           null,
           null,
           0.724,
           null
          ],
          [
           null,
           null,
           null,
           0.781,
           null,
           0.79,
           null,
           null,
           null,
           null,
           null,
           null,
           null,
           null,
           null
          ],
          [
           null,
           0.787,
           null,
           null,
           null,
           null,
           null,
           null,
           null,
           0.814,
           0.787,
           null,
           null,
           null,
           null
          ],
          [
           null,
           null,
           null,
           null,
           null,
           null,
           null,
           null,
           0.788,
           null,
           null,
           null,
           null,
           null,
           null
          ],
          [
           null,
           null,
           null,
           null,
           null,
           null,
           null,
           null,
           null,
           null,
           null,
           null,
           null,
           null,
           0.749
          ]
         ]
        },
        {
         "marker": {
          "color": "black"
         },
         "mode": "markers",
         "showlegend": false,
         "type": "scatter",
         "x": [
          52,
          54,
          60,
          50,
          64,
          49,
          60,
          41,
          56,
          58,
          42,
          57,
          58,
          52,
          52,
          39,
          54,
          50,
          58,
          35,
          53,
          51,
          56,
          56,
          58,
          57
         ],
         "xaxis": "x15",
         "y": [
          52,
          46,
          58,
          47,
          63,
          51,
          55,
          34,
          54,
          55,
          59,
          42,
          55,
          54,
          52,
          60,
          60,
          59,
          45,
          46,
          61,
          57,
          60,
          60,
          56,
          50
         ],
         "yaxis": "y15"
        },
        {
         "colorbar": {
          "title": {
           "text": "Objective Value"
          }
         },
         "colorscale": [
          [
           0,
           "rgb(5,10,172)"
          ],
          [
           0.35,
           "rgb(40,60,190)"
          ],
          [
           0.5,
           "rgb(70,100,245)"
          ],
          [
           0.6,
           "rgb(90,120,245)"
          ],
          [
           0.7,
           "rgb(106,137,247)"
          ],
          [
           1,
           "rgb(220,220,220)"
          ]
         ],
         "connectgaps": true,
         "contours": {
          "coloring": "heatmap"
         },
         "hoverinfo": "none",
         "line": {
          "smoothing": 1.3
         },
         "showscale": false,
         "type": "contour",
         "x": [
          34,
          42,
          45,
          46,
          47,
          50,
          51,
          52,
          54,
          55,
          56,
          57,
          58,
          59,
          60,
          61,
          63
         ],
         "xaxis": "x4",
         "y": [
          4.150146894188187e-05,
          0.0006037049619939256,
          0.0008290383644298195,
          0.0016801561613554626,
          0.001934702484556159,
          0.0021667133974016873,
          0.002269914575227272,
          0.0022966733338897925,
          0.0023311988429061095,
          0.00247686650609683,
          0.0026023834468866763,
          0.0028223530220840426,
          0.0028366785551485136,
          0.0032877429116842777,
          0.003287877276090833,
          0.0033378478466296823,
          0.003453107696755918,
          0.003699357433253755,
          0.004146112094892482,
          0.0044025218905984695,
          0.004629038062214431,
          0.004734701866521968,
          0.005296695095678726,
          0.005959544128320366,
          0.00836510120287843,
          0.01742735341297762
         ],
         "yaxis": "y4",
         "z": [
          [
           null,
           null,
           null,
           0.697,
           null,
           null,
           null,
           null,
           null,
           null,
           null,
           null,
           null,
           null,
           null,
           null,
           null
          ],
          [
           null,
           null,
           null,
           null,
           null,
           null,
           0.758,
           null,
           null,
           null,
           null,
           null,
           null,
           null,
           null,
           null,
           null
          ],
          [
           0.765,
           null,
           null,
           null,
           null,
           null,
           null,
           null,
           null,
           null,
           null,
           null,
           null,
           null,
           null,
           null,
           null
          ],
          [
           null,
           null,
           null,
           null,
           null,
           null,
           null,
           0.77,
           null,
           null,
           null,
           null,
           null,
           null,
           null,
           null,
           null
          ],
          [
           null,
           null,
           null,
           null,
           null,
           null,
           null,
           0.752,
           null,
           null,
           null,
           null,
           null,
           null,
           null,
           null,
           null
          ],
          [
           null,
           null,
           null,
           null,
           null,
           null,
           null,
           null,
           null,
           null,
           null,
           null,
           null,
           0.79,
           null,
           null,
           null
          ],
          [
           null,
           null,
           null,
           null,
           null,
           null,
           null,
           null,
           null,
           null,
           null,
           null,
           null,
           null,
           0.787,
           null,
           null
          ],
          [
           null,
           null,
           null,
           null,
           null,
           null,
           null,
           null,
           0.771,
           null,
           null,
           null,
           null,
           null,
           null,
           null,
           null
          ],
          [
           null,
           null,
           null,
           0.797,
           null,
           null,
           null,
           null,
           null,
           null,
           null,
           null,
           null,
           null,
           null,
           null,
           null
          ],
          [
           null,
           null,
           null,
           null,
           null,
           0.764,
           null,
           null,
           null,
           null,
           null,
           null,
           null,
           null,
           null,
           null,
           null
          ],
          [
           null,
           null,
           null,
           null,
           null,
           null,
           null,
           null,
           null,
           null,
           null,
           null,
           null,
           0.781,
           null,
           null,
           null
          ],
          [
           null,
           null,
           null,
           null,
           null,
           null,
           null,
           null,
           null,
           null,
           0.779,
           null,
           null,
           null,
           null,
           null,
           null
          ],
          [
           null,
           null,
           null,
           null,
           null,
           null,
           null,
           null,
           0.801,
           null,
           null,
           null,
           null,
           null,
           null,
           null,
           null
          ],
          [
           null,
           null,
           null,
           null,
           null,
           null,
           null,
           null,
           null,
           0.779,
           null,
           null,
           null,
           null,
           null,
           null,
           null
          ],
          [
           null,
           null,
           null,
           null,
           null,
           null,
           null,
           null,
           null,
           null,
           null,
           null,
           null,
           null,
           null,
           0.788,
           null
          ],
          [
           null,
           null,
           null,
           null,
           null,
           null,
           null,
           null,
           null,
           0.796,
           null,
           null,
           null,
           null,
           null,
           null,
           null
          ],
          [
           null,
           null,
           null,
           null,
           null,
           null,
           null,
           null,
           null,
           null,
           null,
           0.781,
           null,
           null,
           null,
           null,
           null
          ],
          [
           null,
           null,
           null,
           null,
           null,
           null,
           null,
           null,
           null,
           0.802,
           null,
           null,
           null,
           null,
           null,
           null,
           null
          ],
          [
           null,
           null,
           null,
           null,
           null,
           null,
           null,
           null,
           null,
           null,
           null,
           null,
           null,
           null,
           0.793,
           null,
           null
          ],
          [
           null,
           null,
           0.806,
           null,
           null,
           null,
           null,
           null,
           null,
           null,
           null,
           null,
           null,
           null,
           null,
           null,
           null
          ],
          [
           null,
           null,
           null,
           null,
           null,
           null,
           null,
           null,
           null,
           null,
           null,
           null,
           null,
           null,
           0.787,
           null,
           null
          ],
          [
           null,
           0.781,
           null,
           null,
           null,
           null,
           null,
           null,
           null,
           null,
           null,
           null,
           null,
           null,
           null,
           null,
           null
          ],
          [
           null,
           null,
           null,
           null,
           null,
           null,
           null,
           null,
           null,
           null,
           null,
           null,
           null,
           null,
           0.814,
           null,
           null
          ],
          [
           null,
           null,
           null,
           null,
           null,
           null,
           null,
           null,
           null,
           null,
           null,
           null,
           null,
           null,
           null,
           null,
           0.749
          ],
          [
           null,
           null,
           null,
           null,
           0.286,
           null,
           null,
           null,
           null,
           null,
           null,
           null,
           null,
           null,
           null,
           null,
           null
          ],
          [
           null,
           null,
           null,
           null,
           null,
           null,
           null,
           null,
           null,
           null,
           null,
           null,
           0.724,
           null,
           null,
           null,
           null
          ]
         ]
        },
        {
         "marker": {
          "color": "black"
         },
         "mode": "markers",
         "showlegend": false,
         "type": "scatter",
         "x": [
          52,
          46,
          58,
          47,
          63,
          51,
          55,
          34,
          54,
          55,
          59,
          42,
          55,
          54,
          52,
          60,
          60,
          59,
          45,
          46,
          61,
          57,
          60,
          60,
          56,
          50
         ],
         "xaxis": "x4",
         "y": [
          0.0016801561613554626,
          4.150146894188187e-05,
          0.01742735341297762,
          0.00836510120287843,
          0.005959544128320366,
          0.0006037049619939256,
          0.003699357433253755,
          0.0008290383644298195,
          0.0028366785551485136,
          0.0033378478466296823,
          0.0026023834468866763,
          0.004734701866521968,
          0.0032877429116842777,
          0.0022966733338897925,
          0.001934702484556159,
          0.002269914575227272,
          0.005296695095678726,
          0.0021667133974016873,
          0.0044025218905984695,
          0.0023311988429061095,
          0.003287877276090833,
          0.003453107696755918,
          0.004146112094892482,
          0.004629038062214431,
          0.0028223530220840426,
          0.00247686650609683
         ],
         "yaxis": "y4"
        },
        {
         "colorbar": {
          "title": {
           "text": "Objective Value"
          }
         },
         "colorscale": [
          [
           0,
           "rgb(5,10,172)"
          ],
          [
           0.35,
           "rgb(40,60,190)"
          ],
          [
           0.5,
           "rgb(70,100,245)"
          ],
          [
           0.6,
           "rgb(90,120,245)"
          ],
          [
           0.7,
           "rgb(106,137,247)"
          ],
          [
           1,
           "rgb(220,220,220)"
          ]
         ],
         "connectgaps": true,
         "contours": {
          "coloring": "heatmap"
         },
         "hoverinfo": "none",
         "line": {
          "smoothing": 1.3
         },
         "showscale": false,
         "type": "contour",
         "x": [
          34,
          42,
          45,
          46,
          47,
          50,
          51,
          52,
          54,
          55,
          56,
          57,
          58,
          59,
          60,
          61,
          63
         ],
         "xaxis": "x8",
         "y": [
          39,
          40,
          44,
          48,
          50,
          52,
          53,
          54,
          55,
          56,
          57,
          58,
          59,
          60,
          61,
          62,
          64
         ],
         "yaxis": "y8",
         "z": [
          [
           null,
           null,
           null,
           null,
           null,
           null,
           null,
           null,
           null,
           null,
           null,
           null,
           null,
           null,
           null,
           null,
           0.749
          ],
          [
           null,
           null,
           null,
           null,
           0.286,
           null,
           null,
           null,
           null,
           null,
           null,
           null,
           null,
           null,
           null,
           null,
           null
          ],
          [
           null,
           null,
           null,
           null,
           null,
           null,
           0.758,
           null,
           null,
           null,
           null,
           null,
           null,
           null,
           null,
           null,
           null
          ],
          [
           null,
           null,
           null,
           null,
           null,
           null,
           null,
           null,
           0.771,
           null,
           null,
           null,
           null,
           null,
           null,
           null,
           null
          ],
          [
           null,
           null,
           null,
           null,
           null,
           0.764,
           null,
           null,
           null,
           null,
           null,
           null,
           null,
           null,
           null,
           null,
           null
          ],
          [
           null,
           null,
           null,
           null,
           null,
           null,
           null,
           null,
           null,
           null,
           null,
           null,
           null,
           0.781,
           0.787,
           null,
           null
          ],
          [
           0.765,
           null,
           null,
           null,
           null,
           null,
           null,
           null,
           null,
           0.796,
           null,
           null,
           null,
           null,
           null,
           null,
           null
          ],
          [
           null,
           null,
           null,
           null,
           null,
           null,
           null,
           null,
           null,
           0.779,
           null,
           null,
           null,
           null,
           null,
           null,
           null
          ],
          [
           null,
           null,
           null,
           null,
           null,
           null,
           null,
           null,
           null,
           0.802,
           null,
           null,
           null,
           null,
           0.793,
           null,
           null
          ],
          [
           null,
           null,
           null,
           null,
           null,
           null,
           null,
           null,
           null,
           null,
           null,
           0.781,
           null,
           null,
           null,
           0.788,
           null
          ],
          [
           null,
           null,
           null,
           null,
           null,
           null,
           null,
           null,
           null,
           null,
           null,
           null,
           null,
           0.79,
           0.787,
           null,
           null
          ],
          [
           null,
           null,
           null,
           0.797,
           null,
           null,
           null,
           null,
           null,
           null,
           null,
           null,
           0.724,
           null,
           null,
           null,
           null
          ],
          [
           null,
           null,
           null,
           0.697,
           null,
           null,
           null,
           null,
           null,
           null,
           null,
           null,
           null,
           null,
           0.814,
           null,
           null
          ],
          [
           null,
           null,
           null,
           null,
           null,
           null,
           null,
           0.77,
           null,
           null,
           null,
           null,
           null,
           null,
           null,
           null,
           null
          ],
          [
           null,
           null,
           0.806,
           null,
           null,
           null,
           null,
           null,
           null,
           null,
           0.779,
           null,
           null,
           null,
           null,
           null,
           null
          ],
          [
           null,
           0.781,
           null,
           null,
           null,
           null,
           null,
           0.752,
           null,
           null,
           null,
           null,
           null,
           null,
           null,
           null,
           null
          ],
          [
           null,
           null,
           null,
           null,
           null,
           null,
           null,
           null,
           0.801,
           null,
           null,
           null,
           null,
           null,
           null,
           null,
           null
          ]
         ]
        },
        {
         "marker": {
          "color": "black"
         },
         "mode": "markers",
         "showlegend": false,
         "type": "scatter",
         "x": [
          52,
          46,
          58,
          47,
          63,
          51,
          55,
          34,
          54,
          55,
          59,
          42,
          55,
          54,
          52,
          60,
          60,
          59,
          45,
          46,
          61,
          57,
          60,
          60,
          56,
          50
         ],
         "xaxis": "x8",
         "y": [
          60,
          59,
          58,
          40,
          39,
          44,
          55,
          53,
          64,
          53,
          52,
          62,
          54,
          48,
          62,
          52,
          59,
          57,
          61,
          58,
          56,
          56,
          55,
          57,
          61,
          50
         ],
         "yaxis": "y8"
        },
        {
         "colorbar": {
          "title": {
           "text": "Objective Value"
          }
         },
         "colorscale": [
          [
           0,
           "rgb(5,10,172)"
          ],
          [
           0.35,
           "rgb(40,60,190)"
          ],
          [
           0.5,
           "rgb(70,100,245)"
          ],
          [
           0.6,
           "rgb(90,120,245)"
          ],
          [
           0.7,
           "rgb(106,137,247)"
          ],
          [
           1,
           "rgb(220,220,220)"
          ]
         ],
         "connectgaps": true,
         "contours": {
          "coloring": "heatmap"
         },
         "hoverinfo": "none",
         "line": {
          "smoothing": 1.3
         },
         "showscale": false,
         "type": "contour",
         "x": [
          34,
          42,
          45,
          46,
          47,
          50,
          51,
          52,
          54,
          55,
          56,
          57,
          58,
          59,
          60,
          61,
          63
         ],
         "xaxis": "x12",
         "y": [
          35,
          39,
          41,
          42,
          49,
          50,
          51,
          52,
          53,
          54,
          56,
          57,
          58,
          60,
          64
         ],
         "yaxis": "y12",
         "z": [
          [
           null,
           null,
           null,
           0.797,
           null,
           null,
           null,
           null,
           null,
           null,
           null,
           null,
           null,
           null,
           null,
           null,
           null
          ],
          [
           null,
           null,
           null,
           null,
           null,
           null,
           null,
           null,
           null,
           null,
           null,
           null,
           null,
           null,
           0.787,
           null,
           null
          ],
          [
           0.765,
           null,
           null,
           null,
           null,
           null,
           null,
           null,
           null,
           null,
           null,
           null,
           null,
           null,
           null,
           null,
           null
          ],
          [
           null,
           null,
           null,
           null,
           null,
           null,
           null,
           null,
           null,
           null,
           null,
           null,
           null,
           0.781,
           null,
           null,
           null
          ],
          [
           null,
           null,
           null,
           null,
           null,
           null,
           0.758,
           null,
           null,
           null,
           null,
           null,
           null,
           null,
           null,
           null,
           null
          ],
          [
           null,
           null,
           null,
           null,
           0.286,
           null,
           null,
           null,
           null,
           null,
           null,
           null,
           null,
           0.79,
           null,
           null,
           null
          ],
          [
           null,
           null,
           null,
           null,
           null,
           null,
           null,
           null,
           null,
           null,
           null,
           0.781,
           null,
           null,
           null,
           null,
           null
          ],
          [
           null,
           null,
           null,
           null,
           null,
           null,
           null,
           0.752,
           0.771,
           null,
           null,
           null,
           null,
           null,
           null,
           null,
           null
          ],
          [
           null,
           null,
           null,
           null,
           null,
           null,
           null,
           null,
           null,
           null,
           null,
           null,
           null,
           null,
           null,
           0.788,
           null
          ],
          [
           null,
           null,
           null,
           0.697,
           null,
           null,
           null,
           null,
           null,
           null,
           null,
           null,
           null,
           null,
           0.814,
           null,
           null
          ],
          [
           null,
           null,
           null,
           null,
           null,
           null,
           null,
           null,
           0.801,
           null,
           null,
           null,
           null,
           null,
           0.787,
           null,
           null
          ],
          [
           null,
           0.781,
           null,
           null,
           null,
           0.764,
           null,
           null,
           null,
           null,
           null,
           null,
           null,
           null,
           null,
           null,
           null
          ],
          [
           null,
           null,
           0.806,
           null,
           null,
           null,
           null,
           null,
           null,
           0.779,
           0.779,
           null,
           null,
           null,
           null,
           null,
           null
          ],
          [
           null,
           null,
           null,
           null,
           null,
           null,
           null,
           null,
           null,
           0.802,
           null,
           null,
           0.724,
           null,
           null,
           null,
           null
          ],
          [
           null,
           null,
           null,
           null,
           null,
           null,
           null,
           null,
           null,
           null,
           null,
           null,
           null,
           null,
           null,
           null,
           0.749
          ]
         ]
        },
        {
         "marker": {
          "color": "black"
         },
         "mode": "markers",
         "showlegend": false,
         "type": "scatter",
         "x": [
          52,
          46,
          58,
          47,
          63,
          51,
          55,
          34,
          54,
          55,
          59,
          42,
          55,
          54,
          52,
          60,
          60,
          59,
          45,
          46,
          61,
          57,
          60,
          60,
          56,
          50
         ],
         "xaxis": "x12",
         "y": [
          52,
          54,
          60,
          50,
          64,
          49,
          60,
          41,
          56,
          58,
          42,
          57,
          58,
          52,
          52,
          39,
          54,
          50,
          58,
          35,
          53,
          51,
          56,
          56,
          58,
          57
         ],
         "yaxis": "y12"
        },
        {
         "type": "scatter",
         "xaxis": "x16",
         "yaxis": "y16"
        }
       ],
       "layout": {
        "template": {
         "data": {
          "bar": [
           {
            "error_x": {
             "color": "#2a3f5f"
            },
            "error_y": {
             "color": "#2a3f5f"
            },
            "marker": {
             "line": {
              "color": "#E5ECF6",
              "width": 0.5
             }
            },
            "type": "bar"
           }
          ],
          "barpolar": [
           {
            "marker": {
             "line": {
              "color": "#E5ECF6",
              "width": 0.5
             }
            },
            "type": "barpolar"
           }
          ],
          "carpet": [
           {
            "aaxis": {
             "endlinecolor": "#2a3f5f",
             "gridcolor": "white",
             "linecolor": "white",
             "minorgridcolor": "white",
             "startlinecolor": "#2a3f5f"
            },
            "baxis": {
             "endlinecolor": "#2a3f5f",
             "gridcolor": "white",
             "linecolor": "white",
             "minorgridcolor": "white",
             "startlinecolor": "#2a3f5f"
            },
            "type": "carpet"
           }
          ],
          "choropleth": [
           {
            "colorbar": {
             "outlinewidth": 0,
             "ticks": ""
            },
            "type": "choropleth"
           }
          ],
          "contour": [
           {
            "colorbar": {
             "outlinewidth": 0,
             "ticks": ""
            },
            "colorscale": [
             [
              0,
              "#0d0887"
             ],
             [
              0.1111111111111111,
              "#46039f"
             ],
             [
              0.2222222222222222,
              "#7201a8"
             ],
             [
              0.3333333333333333,
              "#9c179e"
             ],
             [
              0.4444444444444444,
              "#bd3786"
             ],
             [
              0.5555555555555556,
              "#d8576b"
             ],
             [
              0.6666666666666666,
              "#ed7953"
             ],
             [
              0.7777777777777778,
              "#fb9f3a"
             ],
             [
              0.8888888888888888,
              "#fdca26"
             ],
             [
              1,
              "#f0f921"
             ]
            ],
            "type": "contour"
           }
          ],
          "contourcarpet": [
           {
            "colorbar": {
             "outlinewidth": 0,
             "ticks": ""
            },
            "type": "contourcarpet"
           }
          ],
          "heatmap": [
           {
            "colorbar": {
             "outlinewidth": 0,
             "ticks": ""
            },
            "colorscale": [
             [
              0,
              "#0d0887"
             ],
             [
              0.1111111111111111,
              "#46039f"
             ],
             [
              0.2222222222222222,
              "#7201a8"
             ],
             [
              0.3333333333333333,
              "#9c179e"
             ],
             [
              0.4444444444444444,
              "#bd3786"
             ],
             [
              0.5555555555555556,
              "#d8576b"
             ],
             [
              0.6666666666666666,
              "#ed7953"
             ],
             [
              0.7777777777777778,
              "#fb9f3a"
             ],
             [
              0.8888888888888888,
              "#fdca26"
             ],
             [
              1,
              "#f0f921"
             ]
            ],
            "type": "heatmap"
           }
          ],
          "heatmapgl": [
           {
            "colorbar": {
             "outlinewidth": 0,
             "ticks": ""
            },
            "colorscale": [
             [
              0,
              "#0d0887"
             ],
             [
              0.1111111111111111,
              "#46039f"
             ],
             [
              0.2222222222222222,
              "#7201a8"
             ],
             [
              0.3333333333333333,
              "#9c179e"
             ],
             [
              0.4444444444444444,
              "#bd3786"
             ],
             [
              0.5555555555555556,
              "#d8576b"
             ],
             [
              0.6666666666666666,
              "#ed7953"
             ],
             [
              0.7777777777777778,
              "#fb9f3a"
             ],
             [
              0.8888888888888888,
              "#fdca26"
             ],
             [
              1,
              "#f0f921"
             ]
            ],
            "type": "heatmapgl"
           }
          ],
          "histogram": [
           {
            "marker": {
             "colorbar": {
              "outlinewidth": 0,
              "ticks": ""
             }
            },
            "type": "histogram"
           }
          ],
          "histogram2d": [
           {
            "colorbar": {
             "outlinewidth": 0,
             "ticks": ""
            },
            "colorscale": [
             [
              0,
              "#0d0887"
             ],
             [
              0.1111111111111111,
              "#46039f"
             ],
             [
              0.2222222222222222,
              "#7201a8"
             ],
             [
              0.3333333333333333,
              "#9c179e"
             ],
             [
              0.4444444444444444,
              "#bd3786"
             ],
             [
              0.5555555555555556,
              "#d8576b"
             ],
             [
              0.6666666666666666,
              "#ed7953"
             ],
             [
              0.7777777777777778,
              "#fb9f3a"
             ],
             [
              0.8888888888888888,
              "#fdca26"
             ],
             [
              1,
              "#f0f921"
             ]
            ],
            "type": "histogram2d"
           }
          ],
          "histogram2dcontour": [
           {
            "colorbar": {
             "outlinewidth": 0,
             "ticks": ""
            },
            "colorscale": [
             [
              0,
              "#0d0887"
             ],
             [
              0.1111111111111111,
              "#46039f"
             ],
             [
              0.2222222222222222,
              "#7201a8"
             ],
             [
              0.3333333333333333,
              "#9c179e"
             ],
             [
              0.4444444444444444,
              "#bd3786"
             ],
             [
              0.5555555555555556,
              "#d8576b"
             ],
             [
              0.6666666666666666,
              "#ed7953"
             ],
             [
              0.7777777777777778,
              "#fb9f3a"
             ],
             [
              0.8888888888888888,
              "#fdca26"
             ],
             [
              1,
              "#f0f921"
             ]
            ],
            "type": "histogram2dcontour"
           }
          ],
          "mesh3d": [
           {
            "colorbar": {
             "outlinewidth": 0,
             "ticks": ""
            },
            "type": "mesh3d"
           }
          ],
          "parcoords": [
           {
            "line": {
             "colorbar": {
              "outlinewidth": 0,
              "ticks": ""
             }
            },
            "type": "parcoords"
           }
          ],
          "pie": [
           {
            "automargin": true,
            "type": "pie"
           }
          ],
          "scatter": [
           {
            "marker": {
             "colorbar": {
              "outlinewidth": 0,
              "ticks": ""
             }
            },
            "type": "scatter"
           }
          ],
          "scatter3d": [
           {
            "line": {
             "colorbar": {
              "outlinewidth": 0,
              "ticks": ""
             }
            },
            "marker": {
             "colorbar": {
              "outlinewidth": 0,
              "ticks": ""
             }
            },
            "type": "scatter3d"
           }
          ],
          "scattercarpet": [
           {
            "marker": {
             "colorbar": {
              "outlinewidth": 0,
              "ticks": ""
             }
            },
            "type": "scattercarpet"
           }
          ],
          "scattergeo": [
           {
            "marker": {
             "colorbar": {
              "outlinewidth": 0,
              "ticks": ""
             }
            },
            "type": "scattergeo"
           }
          ],
          "scattergl": [
           {
            "marker": {
             "colorbar": {
              "outlinewidth": 0,
              "ticks": ""
             }
            },
            "type": "scattergl"
           }
          ],
          "scattermapbox": [
           {
            "marker": {
             "colorbar": {
              "outlinewidth": 0,
              "ticks": ""
             }
            },
            "type": "scattermapbox"
           }
          ],
          "scatterpolar": [
           {
            "marker": {
             "colorbar": {
              "outlinewidth": 0,
              "ticks": ""
             }
            },
            "type": "scatterpolar"
           }
          ],
          "scatterpolargl": [
           {
            "marker": {
             "colorbar": {
              "outlinewidth": 0,
              "ticks": ""
             }
            },
            "type": "scatterpolargl"
           }
          ],
          "scatterternary": [
           {
            "marker": {
             "colorbar": {
              "outlinewidth": 0,
              "ticks": ""
             }
            },
            "type": "scatterternary"
           }
          ],
          "surface": [
           {
            "colorbar": {
             "outlinewidth": 0,
             "ticks": ""
            },
            "colorscale": [
             [
              0,
              "#0d0887"
             ],
             [
              0.1111111111111111,
              "#46039f"
             ],
             [
              0.2222222222222222,
              "#7201a8"
             ],
             [
              0.3333333333333333,
              "#9c179e"
             ],
             [
              0.4444444444444444,
              "#bd3786"
             ],
             [
              0.5555555555555556,
              "#d8576b"
             ],
             [
              0.6666666666666666,
              "#ed7953"
             ],
             [
              0.7777777777777778,
              "#fb9f3a"
             ],
             [
              0.8888888888888888,
              "#fdca26"
             ],
             [
              1,
              "#f0f921"
             ]
            ],
            "type": "surface"
           }
          ],
          "table": [
           {
            "cells": {
             "fill": {
              "color": "#EBF0F8"
             },
             "line": {
              "color": "white"
             }
            },
            "header": {
             "fill": {
              "color": "#C8D4E3"
             },
             "line": {
              "color": "white"
             }
            },
            "type": "table"
           }
          ]
         },
         "layout": {
          "annotationdefaults": {
           "arrowcolor": "#2a3f5f",
           "arrowhead": 0,
           "arrowwidth": 1
          },
          "coloraxis": {
           "colorbar": {
            "outlinewidth": 0,
            "ticks": ""
           }
          },
          "colorscale": {
           "diverging": [
            [
             0,
             "#8e0152"
            ],
            [
             0.1,
             "#c51b7d"
            ],
            [
             0.2,
             "#de77ae"
            ],
            [
             0.3,
             "#f1b6da"
            ],
            [
             0.4,
             "#fde0ef"
            ],
            [
             0.5,
             "#f7f7f7"
            ],
            [
             0.6,
             "#e6f5d0"
            ],
            [
             0.7,
             "#b8e186"
            ],
            [
             0.8,
             "#7fbc41"
            ],
            [
             0.9,
             "#4d9221"
            ],
            [
             1,
             "#276419"
            ]
           ],
           "sequential": [
            [
             0,
             "#0d0887"
            ],
            [
             0.1111111111111111,
             "#46039f"
            ],
            [
             0.2222222222222222,
             "#7201a8"
            ],
            [
             0.3333333333333333,
             "#9c179e"
            ],
            [
             0.4444444444444444,
             "#bd3786"
            ],
            [
             0.5555555555555556,
             "#d8576b"
            ],
            [
             0.6666666666666666,
             "#ed7953"
            ],
            [
             0.7777777777777778,
             "#fb9f3a"
            ],
            [
             0.8888888888888888,
             "#fdca26"
            ],
            [
             1,
             "#f0f921"
            ]
           ],
           "sequentialminus": [
            [
             0,
             "#0d0887"
            ],
            [
             0.1111111111111111,
             "#46039f"
            ],
            [
             0.2222222222222222,
             "#7201a8"
            ],
            [
             0.3333333333333333,
             "#9c179e"
            ],
            [
             0.4444444444444444,
             "#bd3786"
            ],
            [
             0.5555555555555556,
             "#d8576b"
            ],
            [
             0.6666666666666666,
             "#ed7953"
            ],
            [
             0.7777777777777778,
             "#fb9f3a"
            ],
            [
             0.8888888888888888,
             "#fdca26"
            ],
            [
             1,
             "#f0f921"
            ]
           ]
          },
          "colorway": [
           "#636efa",
           "#EF553B",
           "#00cc96",
           "#ab63fa",
           "#FFA15A",
           "#19d3f3",
           "#FF6692",
           "#B6E880",
           "#FF97FF",
           "#FECB52"
          ],
          "font": {
           "color": "#2a3f5f"
          },
          "geo": {
           "bgcolor": "white",
           "lakecolor": "white",
           "landcolor": "#E5ECF6",
           "showlakes": true,
           "showland": true,
           "subunitcolor": "white"
          },
          "hoverlabel": {
           "align": "left"
          },
          "hovermode": "closest",
          "mapbox": {
           "style": "light"
          },
          "paper_bgcolor": "white",
          "plot_bgcolor": "#E5ECF6",
          "polar": {
           "angularaxis": {
            "gridcolor": "white",
            "linecolor": "white",
            "ticks": ""
           },
           "bgcolor": "#E5ECF6",
           "radialaxis": {
            "gridcolor": "white",
            "linecolor": "white",
            "ticks": ""
           }
          },
          "scene": {
           "xaxis": {
            "backgroundcolor": "#E5ECF6",
            "gridcolor": "white",
            "gridwidth": 2,
            "linecolor": "white",
            "showbackground": true,
            "ticks": "",
            "zerolinecolor": "white"
           },
           "yaxis": {
            "backgroundcolor": "#E5ECF6",
            "gridcolor": "white",
            "gridwidth": 2,
            "linecolor": "white",
            "showbackground": true,
            "ticks": "",
            "zerolinecolor": "white"
           },
           "zaxis": {
            "backgroundcolor": "#E5ECF6",
            "gridcolor": "white",
            "gridwidth": 2,
            "linecolor": "white",
            "showbackground": true,
            "ticks": "",
            "zerolinecolor": "white"
           }
          },
          "shapedefaults": {
           "line": {
            "color": "#2a3f5f"
           }
          },
          "ternary": {
           "aaxis": {
            "gridcolor": "white",
            "linecolor": "white",
            "ticks": ""
           },
           "baxis": {
            "gridcolor": "white",
            "linecolor": "white",
            "ticks": ""
           },
           "bgcolor": "#E5ECF6",
           "caxis": {
            "gridcolor": "white",
            "linecolor": "white",
            "ticks": ""
           }
          },
          "title": {
           "x": 0.05
          },
          "xaxis": {
           "automargin": true,
           "gridcolor": "white",
           "linecolor": "white",
           "ticks": "",
           "title": {
            "standoff": 15
           },
           "zerolinecolor": "white",
           "zerolinewidth": 2
          },
          "yaxis": {
           "automargin": true,
           "gridcolor": "white",
           "linecolor": "white",
           "ticks": "",
           "title": {
            "standoff": 15
           },
           "zerolinecolor": "white",
           "zerolinewidth": 2
          }
         }
        },
        "xaxis": {
         "anchor": "y",
         "domain": [
          0,
          0.2125
         ],
         "matches": "x13",
         "range": [
          -4.381936531189998,
          -1.7587685615653572
         ],
         "showticklabels": false,
         "type": "log"
        },
        "xaxis10": {
         "anchor": "y10",
         "domain": [
          0.2625,
          0.475
         ],
         "matches": "x14",
         "range": [
          39,
          64
         ],
         "showticklabels": false
        },
        "xaxis11": {
         "anchor": "y11",
         "domain": [
          0.525,
          0.7375
         ],
         "matches": "x15",
         "range": [
          35,
          64
         ],
         "showticklabels": false
        },
        "xaxis12": {
         "anchor": "y12",
         "domain": [
          0.7875,
          1
         ],
         "matches": "x16",
         "range": [
          34,
          63
         ],
         "showticklabels": false
        },
        "xaxis13": {
         "anchor": "y13",
         "domain": [
          0,
          0.2125
         ],
         "range": [
          -4.381936531189998,
          -1.7587685615653572
         ],
         "title": {
          "text": "lr_init"
         },
         "type": "log"
        },
        "xaxis14": {
         "anchor": "y14",
         "domain": [
          0.2625,
          0.475
         ],
         "range": [
          39,
          64
         ],
         "title": {
          "text": "n_units_l0"
         }
        },
        "xaxis15": {
         "anchor": "y15",
         "domain": [
          0.525,
          0.7375
         ],
         "range": [
          35,
          64
         ],
         "title": {
          "text": "n_units_l1"
         }
        },
        "xaxis16": {
         "anchor": "y16",
         "domain": [
          0.7875,
          1
         ],
         "range": [
          34,
          63
         ],
         "title": {
          "text": "n_units_l2"
         }
        },
        "xaxis2": {
         "anchor": "y2",
         "domain": [
          0.2625,
          0.475
         ],
         "matches": "x14",
         "range": [
          39,
          64
         ],
         "showticklabels": false
        },
        "xaxis3": {
         "anchor": "y3",
         "domain": [
          0.525,
          0.7375
         ],
         "matches": "x15",
         "range": [
          35,
          64
         ],
         "showticklabels": false
        },
        "xaxis4": {
         "anchor": "y4",
         "domain": [
          0.7875,
          1
         ],
         "matches": "x16",
         "range": [
          34,
          63
         ],
         "showticklabels": false
        },
        "xaxis5": {
         "anchor": "y5",
         "domain": [
          0,
          0.2125
         ],
         "matches": "x13",
         "range": [
          -4.381936531189998,
          -1.7587685615653572
         ],
         "showticklabels": false,
         "type": "log"
        },
        "xaxis6": {
         "anchor": "y6",
         "domain": [
          0.2625,
          0.475
         ],
         "matches": "x14",
         "range": [
          39,
          64
         ],
         "showticklabels": false
        },
        "xaxis7": {
         "anchor": "y7",
         "domain": [
          0.525,
          0.7375
         ],
         "matches": "x15",
         "range": [
          35,
          64
         ],
         "showticklabels": false
        },
        "xaxis8": {
         "anchor": "y8",
         "domain": [
          0.7875,
          1
         ],
         "matches": "x16",
         "range": [
          34,
          63
         ],
         "showticklabels": false
        },
        "xaxis9": {
         "anchor": "y9",
         "domain": [
          0,
          0.2125
         ],
         "matches": "x13",
         "range": [
          -4.381936531189998,
          -1.7587685615653572
         ],
         "showticklabels": false,
         "type": "log"
        },
        "yaxis": {
         "anchor": "x",
         "domain": [
          0.80625,
          1
         ],
         "range": [
          -4.381936531189998,
          -1.7587685615653572
         ],
         "title": {
          "text": "lr_init"
         },
         "type": "log"
        },
        "yaxis10": {
         "anchor": "x10",
         "domain": [
          0.26875,
          0.4625
         ],
         "matches": "y9",
         "range": [
          35,
          64
         ],
         "showticklabels": false
        },
        "yaxis11": {
         "anchor": "x11",
         "domain": [
          0.26875,
          0.4625
         ],
         "matches": "y9",
         "range": [
          35,
          64
         ],
         "showticklabels": false
        },
        "yaxis12": {
         "anchor": "x12",
         "domain": [
          0.26875,
          0.4625
         ],
         "matches": "y9",
         "range": [
          35,
          64
         ],
         "showticklabels": false
        },
        "yaxis13": {
         "anchor": "x13",
         "domain": [
          0,
          0.19375
         ],
         "range": [
          34,
          63
         ],
         "title": {
          "text": "n_units_l2"
         }
        },
        "yaxis14": {
         "anchor": "x14",
         "domain": [
          0,
          0.19375
         ],
         "matches": "y13",
         "range": [
          34,
          63
         ],
         "showticklabels": false
        },
        "yaxis15": {
         "anchor": "x15",
         "domain": [
          0,
          0.19375
         ],
         "matches": "y13",
         "range": [
          34,
          63
         ],
         "showticklabels": false
        },
        "yaxis16": {
         "anchor": "x16",
         "domain": [
          0,
          0.19375
         ],
         "matches": "y13",
         "range": [
          34,
          63
         ],
         "showticklabels": false
        },
        "yaxis2": {
         "anchor": "x2",
         "domain": [
          0.80625,
          1
         ],
         "matches": "y",
         "range": [
          -4.381936531189998,
          -1.7587685615653572
         ],
         "showticklabels": false,
         "type": "log"
        },
        "yaxis3": {
         "anchor": "x3",
         "domain": [
          0.80625,
          1
         ],
         "matches": "y",
         "range": [
          -4.381936531189998,
          -1.7587685615653572
         ],
         "showticklabels": false,
         "type": "log"
        },
        "yaxis4": {
         "anchor": "x4",
         "domain": [
          0.80625,
          1
         ],
         "matches": "y",
         "range": [
          -4.381936531189998,
          -1.7587685615653572
         ],
         "showticklabels": false,
         "type": "log"
        },
        "yaxis5": {
         "anchor": "x5",
         "domain": [
          0.5375,
          0.73125
         ],
         "range": [
          39,
          64
         ],
         "title": {
          "text": "n_units_l0"
         }
        },
        "yaxis6": {
         "anchor": "x6",
         "domain": [
          0.5375,
          0.73125
         ],
         "matches": "y5",
         "range": [
          39,
          64
         ],
         "showticklabels": false
        },
        "yaxis7": {
         "anchor": "x7",
         "domain": [
          0.5375,
          0.73125
         ],
         "matches": "y5",
         "range": [
          39,
          64
         ],
         "showticklabels": false
        },
        "yaxis8": {
         "anchor": "x8",
         "domain": [
          0.5375,
          0.73125
         ],
         "matches": "y5",
         "range": [
          39,
          64
         ],
         "showticklabels": false
        },
        "yaxis9": {
         "anchor": "x9",
         "domain": [
          0.26875,
          0.4625
         ],
         "range": [
          35,
          64
         ],
         "title": {
          "text": "n_units_l1"
         }
        }
       }
      },
      "text/html": [
       "<div>\n",
       "        \n",
       "        \n",
       "            <div id=\"599eb4c4-7c92-4991-b35a-e1ffec966c37\" class=\"plotly-graph-div\" style=\"height:525px; width:100%;\"></div>\n",
       "            <script type=\"text/javascript\">\n",
       "                require([\"plotly\"], function(Plotly) {\n",
       "                    window.PLOTLYENV=window.PLOTLYENV || {};\n",
       "                    \n",
       "                if (document.getElementById(\"599eb4c4-7c92-4991-b35a-e1ffec966c37\")) {\n",
       "                    Plotly.newPlot(\n",
       "                        '599eb4c4-7c92-4991-b35a-e1ffec966c37',\n",
       "                        [{\"type\": \"scatter\", \"xaxis\": \"x\", \"yaxis\": \"y\"}, {\"colorbar\": {\"title\": {\"text\": \"Objective Value\"}}, \"colorscale\": [[0, \"rgb(5,10,172)\"], [0.35, \"rgb(40,60,190)\"], [0.5, \"rgb(70,100,245)\"], [0.6, \"rgb(90,120,245)\"], [0.7, \"rgb(106,137,247)\"], [1, \"rgb(220,220,220)\"]], \"connectgaps\": true, \"contours\": {\"coloring\": \"heatmap\"}, \"hoverinfo\": \"none\", \"line\": {\"smoothing\": 1.3}, \"showscale\": true, \"type\": \"contour\", \"x\": [4.150146894188187e-05, 0.0006037049619939256, 0.0008290383644298195, 0.0016801561613554626, 0.001934702484556159, 0.0021667133974016873, 0.002269914575227272, 0.0022966733338897925, 0.0023311988429061095, 0.00247686650609683, 0.0026023834468866763, 0.0028223530220840426, 0.0028366785551485136, 0.0032877429116842777, 0.003287877276090833, 0.0033378478466296823, 0.003453107696755918, 0.003699357433253755, 0.004146112094892482, 0.0044025218905984695, 0.004629038062214431, 0.004734701866521968, 0.005296695095678726, 0.005959544128320366, 0.00836510120287843, 0.01742735341297762], \"xaxis\": \"x5\", \"y\": [39, 40, 44, 48, 50, 52, 53, 54, 55, 56, 57, 58, 59, 60, 61, 62, 64], \"yaxis\": \"y5\", \"z\": [[null, null, null, null, null, null, null, null, null, null, null, null, null, null, null, null, null, null, null, null, null, null, null, 0.749, null, null], [null, null, null, null, null, null, null, null, null, null, null, null, null, null, null, null, null, null, null, null, null, null, null, null, 0.286, null], [null, 0.758, null, null, null, null, null, null, null, null, null, null, null, null, null, null, null, null, null, null, null, null, null, null, null, null], [null, null, null, null, null, null, null, 0.771, null, null, null, null, null, null, null, null, null, null, null, null, null, null, null, null, null, null], [null, null, null, null, null, null, null, null, null, 0.764, null, null, null, null, null, null, null, null, null, null, null, null, null, null, null, null], [null, null, null, null, null, null, 0.787, null, null, null, 0.781, null, null, null, null, null, null, null, null, null, null, null, null, null, null, null], [null, null, 0.765, null, null, null, null, null, null, null, null, null, null, null, null, 0.796, null, null, null, null, null, null, null, null, null, null], [null, null, null, null, null, null, null, null, null, null, null, null, null, 0.779, null, null, null, null, null, null, null, null, null, null, null, null], [null, null, null, null, null, null, null, null, null, null, null, null, null, null, null, null, null, 0.802, 0.793, null, null, null, null, null, null, null], [null, null, null, null, null, null, null, null, null, null, null, null, null, null, 0.788, null, 0.781, null, null, null, null, null, null, null, null, null], [null, null, null, null, null, 0.79, null, null, null, null, null, null, null, null, null, null, null, null, null, null, 0.787, null, null, null, null, null], [null, null, null, null, null, null, null, null, 0.797, null, null, null, null, null, null, null, null, null, null, null, null, null, null, null, null, 0.724], [0.697, null, null, null, null, null, null, null, null, null, null, null, null, null, null, null, null, null, null, null, null, null, 0.814, null, null, null], [null, null, null, 0.77, null, null, null, null, null, null, null, null, null, null, null, null, null, null, null, null, null, null, null, null, null, null], [null, null, null, null, null, null, null, null, null, null, null, 0.779, null, null, null, null, null, null, null, 0.806, null, null, null, null, null, null], [null, null, null, null, 0.752, null, null, null, null, null, null, null, null, null, null, null, null, null, null, null, null, 0.781, null, null, null, null], [null, null, null, null, null, null, null, null, null, null, null, null, 0.801, null, null, null, null, null, null, null, null, null, null, null, null, null]]}, {\"marker\": {\"color\": \"black\"}, \"mode\": \"markers\", \"showlegend\": false, \"type\": \"scatter\", \"x\": [0.0016801561613554626, 4.150146894188187e-05, 0.01742735341297762, 0.00836510120287843, 0.005959544128320366, 0.0006037049619939256, 0.003699357433253755, 0.0008290383644298195, 0.0028366785551485136, 0.0033378478466296823, 0.0026023834468866763, 0.004734701866521968, 0.0032877429116842777, 0.0022966733338897925, 0.001934702484556159, 0.002269914575227272, 0.005296695095678726, 0.0021667133974016873, 0.0044025218905984695, 0.0023311988429061095, 0.003287877276090833, 0.003453107696755918, 0.004146112094892482, 0.004629038062214431, 0.0028223530220840426, 0.00247686650609683], \"xaxis\": \"x5\", \"y\": [60, 59, 58, 40, 39, 44, 55, 53, 64, 53, 52, 62, 54, 48, 62, 52, 59, 57, 61, 58, 56, 56, 55, 57, 61, 50], \"yaxis\": \"y5\"}, {\"colorbar\": {\"title\": {\"text\": \"Objective Value\"}}, \"colorscale\": [[0, \"rgb(5,10,172)\"], [0.35, \"rgb(40,60,190)\"], [0.5, \"rgb(70,100,245)\"], [0.6, \"rgb(90,120,245)\"], [0.7, \"rgb(106,137,247)\"], [1, \"rgb(220,220,220)\"]], \"connectgaps\": true, \"contours\": {\"coloring\": \"heatmap\"}, \"hoverinfo\": \"none\", \"line\": {\"smoothing\": 1.3}, \"showscale\": false, \"type\": \"contour\", \"x\": [4.150146894188187e-05, 0.0006037049619939256, 0.0008290383644298195, 0.0016801561613554626, 0.001934702484556159, 0.0021667133974016873, 0.002269914575227272, 0.0022966733338897925, 0.0023311988429061095, 0.00247686650609683, 0.0026023834468866763, 0.0028223530220840426, 0.0028366785551485136, 0.0032877429116842777, 0.003287877276090833, 0.0033378478466296823, 0.003453107696755918, 0.003699357433253755, 0.004146112094892482, 0.0044025218905984695, 0.004629038062214431, 0.004734701866521968, 0.005296695095678726, 0.005959544128320366, 0.00836510120287843, 0.01742735341297762], \"xaxis\": \"x9\", \"y\": [35, 39, 41, 42, 49, 50, 51, 52, 53, 54, 56, 57, 58, 60, 64], \"yaxis\": \"y9\", \"z\": [[null, null, null, null, null, null, null, null, 0.797, null, null, null, null, null, null, null, null, null, null, null, null, null, null, null, null, null], [null, null, null, null, null, null, 0.787, null, null, null, null, null, null, null, null, null, null, null, null, null, null, null, null, null, null, null], [null, null, 0.765, null, null, null, null, null, null, null, null, null, null, null, null, null, null, null, null, null, null, null, null, null, null, null], [null, null, null, null, null, null, null, null, null, null, 0.781, null, null, null, null, null, null, null, null, null, null, null, null, null, null, null], [null, 0.758, null, null, null, null, null, null, null, null, null, null, null, null, null, null, null, null, null, null, null, null, null, null, null, null], [null, null, null, null, null, 0.79, null, null, null, null, null, null, null, null, null, null, null, null, null, null, null, null, null, null, 0.286, null], [null, null, null, null, null, null, null, null, null, null, null, null, null, null, null, null, 0.781, null, null, null, null, null, null, null, null, null], [null, null, null, 0.77, 0.752, null, null, 0.771, null, null, null, null, null, null, null, null, null, null, null, null, null, null, null, null, null, null], [null, null, null, null, null, null, null, null, null, null, null, null, null, null, 0.788, null, null, null, null, null, null, null, null, null, null, null], [0.697, null, null, null, null, null, null, null, null, null, null, null, null, null, null, null, null, null, null, null, null, null, 0.814, null, null, null], [null, null, null, null, null, null, null, null, null, null, null, null, 0.801, null, null, null, null, null, 0.793, null, 0.787, null, null, null, null, null], [null, null, null, null, null, null, null, null, null, 0.764, null, null, null, null, null, null, null, null, null, null, null, 0.781, null, null, null, null], [null, null, null, null, null, null, null, null, null, null, null, 0.779, null, 0.779, null, 0.796, null, null, null, 0.806, null, null, null, null, null, null], [null, null, null, null, null, null, null, null, null, null, null, null, null, null, null, null, null, 0.802, null, null, null, null, null, null, null, 0.724], [null, null, null, null, null, null, null, null, null, null, null, null, null, null, null, null, null, null, null, null, null, null, null, 0.749, null, null]]}, {\"marker\": {\"color\": \"black\"}, \"mode\": \"markers\", \"showlegend\": false, \"type\": \"scatter\", \"x\": [0.0016801561613554626, 4.150146894188187e-05, 0.01742735341297762, 0.00836510120287843, 0.005959544128320366, 0.0006037049619939256, 0.003699357433253755, 0.0008290383644298195, 0.0028366785551485136, 0.0033378478466296823, 0.0026023834468866763, 0.004734701866521968, 0.0032877429116842777, 0.0022966733338897925, 0.001934702484556159, 0.002269914575227272, 0.005296695095678726, 0.0021667133974016873, 0.0044025218905984695, 0.0023311988429061095, 0.003287877276090833, 0.003453107696755918, 0.004146112094892482, 0.004629038062214431, 0.0028223530220840426, 0.00247686650609683], \"xaxis\": \"x9\", \"y\": [52, 54, 60, 50, 64, 49, 60, 41, 56, 58, 42, 57, 58, 52, 52, 39, 54, 50, 58, 35, 53, 51, 56, 56, 58, 57], \"yaxis\": \"y9\"}, {\"colorbar\": {\"title\": {\"text\": \"Objective Value\"}}, \"colorscale\": [[0, \"rgb(5,10,172)\"], [0.35, \"rgb(40,60,190)\"], [0.5, \"rgb(70,100,245)\"], [0.6, \"rgb(90,120,245)\"], [0.7, \"rgb(106,137,247)\"], [1, \"rgb(220,220,220)\"]], \"connectgaps\": true, \"contours\": {\"coloring\": \"heatmap\"}, \"hoverinfo\": \"none\", \"line\": {\"smoothing\": 1.3}, \"showscale\": false, \"type\": \"contour\", \"x\": [4.150146894188187e-05, 0.0006037049619939256, 0.0008290383644298195, 0.0016801561613554626, 0.001934702484556159, 0.0021667133974016873, 0.002269914575227272, 0.0022966733338897925, 0.0023311988429061095, 0.00247686650609683, 0.0026023834468866763, 0.0028223530220840426, 0.0028366785551485136, 0.0032877429116842777, 0.003287877276090833, 0.0033378478466296823, 0.003453107696755918, 0.003699357433253755, 0.004146112094892482, 0.0044025218905984695, 0.004629038062214431, 0.004734701866521968, 0.005296695095678726, 0.005959544128320366, 0.00836510120287843, 0.01742735341297762], \"xaxis\": \"x13\", \"y\": [34, 42, 45, 46, 47, 50, 51, 52, 54, 55, 56, 57, 58, 59, 60, 61, 63], \"yaxis\": \"y13\", \"z\": [[null, null, 0.765, null, null, null, null, null, null, null, null, null, null, null, null, null, null, null, null, null, null, null, null, null, null, null], [null, null, null, null, null, null, null, null, null, null, null, null, null, null, null, null, null, null, null, null, null, 0.781, null, null, null, null], [null, null, null, null, null, null, null, null, null, null, null, null, null, null, null, null, null, null, null, 0.806, null, null, null, null, null, null], [0.697, null, null, null, null, null, null, null, 0.797, null, null, null, null, null, null, null, null, null, null, null, null, null, null, null, null, null], [null, null, null, null, null, null, null, null, null, null, null, null, null, null, null, null, null, null, null, null, null, null, null, null, 0.286, null], [null, null, null, null, null, null, null, null, null, 0.764, null, null, null, null, null, null, null, null, null, null, null, null, null, null, null, null], [null, 0.758, null, null, null, null, null, null, null, null, null, null, null, null, null, null, null, null, null, null, null, null, null, null, null, null], [null, null, null, 0.77, 0.752, null, null, null, null, null, null, null, null, null, null, null, null, null, null, null, null, null, null, null, null, null], [null, null, null, null, null, null, null, 0.771, null, null, null, null, 0.801, null, null, null, null, null, null, null, null, null, null, null, null, null], [null, null, null, null, null, null, null, null, null, null, null, null, null, 0.779, null, 0.796, null, 0.802, null, null, null, null, null, null, null, null], [null, null, null, null, null, null, null, null, null, null, null, 0.779, null, null, null, null, null, null, null, null, null, null, null, null, null, null], [null, null, null, null, null, null, null, null, null, null, null, null, null, null, null, null, 0.781, null, null, null, null, null, null, null, null, null], [null, null, null, null, null, null, null, null, null, null, null, null, null, null, null, null, null, null, null, null, null, null, null, null, null, 0.724], [null, null, null, null, null, 0.79, null, null, null, null, 0.781, null, null, null, null, null, null, null, null, null, null, null, null, null, null, null], [null, null, null, null, null, null, 0.787, null, null, null, null, null, null, null, null, null, null, null, 0.793, null, 0.787, null, 0.814, null, null, null], [null, null, null, null, null, null, null, null, null, null, null, null, null, null, 0.788, null, null, null, null, null, null, null, null, null, null, null], [null, null, null, null, null, null, null, null, null, null, null, null, null, null, null, null, null, null, null, null, null, null, null, 0.749, null, null]]}, {\"marker\": {\"color\": \"black\"}, \"mode\": \"markers\", \"showlegend\": false, \"type\": \"scatter\", \"x\": [0.0016801561613554626, 4.150146894188187e-05, 0.01742735341297762, 0.00836510120287843, 0.005959544128320366, 0.0006037049619939256, 0.003699357433253755, 0.0008290383644298195, 0.0028366785551485136, 0.0033378478466296823, 0.0026023834468866763, 0.004734701866521968, 0.0032877429116842777, 0.0022966733338897925, 0.001934702484556159, 0.002269914575227272, 0.005296695095678726, 0.0021667133974016873, 0.0044025218905984695, 0.0023311988429061095, 0.003287877276090833, 0.003453107696755918, 0.004146112094892482, 0.004629038062214431, 0.0028223530220840426, 0.00247686650609683], \"xaxis\": \"x13\", \"y\": [52, 46, 58, 47, 63, 51, 55, 34, 54, 55, 59, 42, 55, 54, 52, 60, 60, 59, 45, 46, 61, 57, 60, 60, 56, 50], \"yaxis\": \"y13\"}, {\"colorbar\": {\"title\": {\"text\": \"Objective Value\"}}, \"colorscale\": [[0, \"rgb(5,10,172)\"], [0.35, \"rgb(40,60,190)\"], [0.5, \"rgb(70,100,245)\"], [0.6, \"rgb(90,120,245)\"], [0.7, \"rgb(106,137,247)\"], [1, \"rgb(220,220,220)\"]], \"connectgaps\": true, \"contours\": {\"coloring\": \"heatmap\"}, \"hoverinfo\": \"none\", \"line\": {\"smoothing\": 1.3}, \"showscale\": false, \"type\": \"contour\", \"x\": [39, 40, 44, 48, 50, 52, 53, 54, 55, 56, 57, 58, 59, 60, 61, 62, 64], \"xaxis\": \"x2\", \"y\": [4.150146894188187e-05, 0.0006037049619939256, 0.0008290383644298195, 0.0016801561613554626, 0.001934702484556159, 0.0021667133974016873, 0.002269914575227272, 0.0022966733338897925, 0.0023311988429061095, 0.00247686650609683, 0.0026023834468866763, 0.0028223530220840426, 0.0028366785551485136, 0.0032877429116842777, 0.003287877276090833, 0.0033378478466296823, 0.003453107696755918, 0.003699357433253755, 0.004146112094892482, 0.0044025218905984695, 0.004629038062214431, 0.004734701866521968, 0.005296695095678726, 0.005959544128320366, 0.00836510120287843, 0.01742735341297762], \"yaxis\": \"y2\", \"z\": [[null, null, null, null, null, null, null, null, null, null, null, null, 0.697, null, null, null, null], [null, null, 0.758, null, null, null, null, null, null, null, null, null, null, null, null, null, null], [null, null, null, null, null, null, 0.765, null, null, null, null, null, null, null, null, null, null], [null, null, null, null, null, null, null, null, null, null, null, null, null, 0.77, null, null, null], [null, null, null, null, null, null, null, null, null, null, null, null, null, null, null, 0.752, null], [null, null, null, null, null, null, null, null, null, null, 0.79, null, null, null, null, null, null], [null, null, null, null, null, 0.787, null, null, null, null, null, null, null, null, null, null, null], [null, null, null, 0.771, null, null, null, null, null, null, null, null, null, null, null, null, null], [null, null, null, null, null, null, null, null, null, null, null, 0.797, null, null, null, null, null], [null, null, null, null, 0.764, null, null, null, null, null, null, null, null, null, null, null, null], [null, null, null, null, null, 0.781, null, null, null, null, null, null, null, null, null, null, null], [null, null, null, null, null, null, null, null, null, null, null, null, null, null, 0.779, null, null], [null, null, null, null, null, null, null, null, null, null, null, null, null, null, null, null, 0.801], [null, null, null, null, null, null, null, 0.779, null, null, null, null, null, null, null, null, null], [null, null, null, null, null, null, null, null, null, 0.788, null, null, null, null, null, null, null], [null, null, null, null, null, null, 0.796, null, null, null, null, null, null, null, null, null, null], [null, null, null, null, null, null, null, null, null, 0.781, null, null, null, null, null, null, null], [null, null, null, null, null, null, null, null, 0.802, null, null, null, null, null, null, null, null], [null, null, null, null, null, null, null, null, 0.793, null, null, null, null, null, null, null, null], [null, null, null, null, null, null, null, null, null, null, null, null, null, null, 0.806, null, null], [null, null, null, null, null, null, null, null, null, null, 0.787, null, null, null, null, null, null], [null, null, null, null, null, null, null, null, null, null, null, null, null, null, null, 0.781, null], [null, null, null, null, null, null, null, null, null, null, null, null, 0.814, null, null, null, null], [0.749, null, null, null, null, null, null, null, null, null, null, null, null, null, null, null, null], [null, 0.286, null, null, null, null, null, null, null, null, null, null, null, null, null, null, null], [null, null, null, null, null, null, null, null, null, null, null, 0.724, null, null, null, null, null]]}, {\"marker\": {\"color\": \"black\"}, \"mode\": \"markers\", \"showlegend\": false, \"type\": \"scatter\", \"x\": [60, 59, 58, 40, 39, 44, 55, 53, 64, 53, 52, 62, 54, 48, 62, 52, 59, 57, 61, 58, 56, 56, 55, 57, 61, 50], \"xaxis\": \"x2\", \"y\": [0.0016801561613554626, 4.150146894188187e-05, 0.01742735341297762, 0.00836510120287843, 0.005959544128320366, 0.0006037049619939256, 0.003699357433253755, 0.0008290383644298195, 0.0028366785551485136, 0.0033378478466296823, 0.0026023834468866763, 0.004734701866521968, 0.0032877429116842777, 0.0022966733338897925, 0.001934702484556159, 0.002269914575227272, 0.005296695095678726, 0.0021667133974016873, 0.0044025218905984695, 0.0023311988429061095, 0.003287877276090833, 0.003453107696755918, 0.004146112094892482, 0.004629038062214431, 0.0028223530220840426, 0.00247686650609683], \"yaxis\": \"y2\"}, {\"type\": \"scatter\", \"xaxis\": \"x6\", \"yaxis\": \"y6\"}, {\"colorbar\": {\"title\": {\"text\": \"Objective Value\"}}, \"colorscale\": [[0, \"rgb(5,10,172)\"], [0.35, \"rgb(40,60,190)\"], [0.5, \"rgb(70,100,245)\"], [0.6, \"rgb(90,120,245)\"], [0.7, \"rgb(106,137,247)\"], [1, \"rgb(220,220,220)\"]], \"connectgaps\": true, \"contours\": {\"coloring\": \"heatmap\"}, \"hoverinfo\": \"none\", \"line\": {\"smoothing\": 1.3}, \"showscale\": false, \"type\": \"contour\", \"x\": [39, 40, 44, 48, 50, 52, 53, 54, 55, 56, 57, 58, 59, 60, 61, 62, 64], \"xaxis\": \"x10\", \"y\": [35, 39, 41, 42, 49, 50, 51, 52, 53, 54, 56, 57, 58, 60, 64], \"yaxis\": \"y10\", \"z\": [[null, null, null, null, null, null, null, null, null, null, null, 0.797, null, null, null, null, null], [null, null, null, null, null, 0.787, null, null, null, null, null, null, null, null, null, null, null], [null, null, null, null, null, null, 0.765, null, null, null, null, null, null, null, null, null, null], [null, null, null, null, null, 0.781, null, null, null, null, null, null, null, null, null, null, null], [null, null, 0.758, null, null, null, null, null, null, null, null, null, null, null, null, null, null], [null, 0.286, null, null, null, null, null, null, null, null, 0.79, null, null, null, null, null, null], [null, null, null, null, null, null, null, null, null, 0.781, null, null, null, null, null, null, null], [null, null, null, 0.771, null, null, null, null, null, null, null, null, null, 0.77, null, 0.752, null], [null, null, null, null, null, null, null, null, null, 0.788, null, null, null, null, null, null, null], [null, null, null, null, null, null, null, null, null, null, null, null, 0.814, null, null, null, null], [null, null, null, null, null, null, null, null, 0.793, null, 0.787, null, null, null, null, null, 0.801], [null, null, null, null, 0.764, null, null, null, null, null, null, null, null, null, null, 0.781, null], [null, null, null, null, null, null, 0.796, 0.779, null, null, null, null, null, null, 0.779, null, null], [null, null, null, null, null, null, null, null, 0.802, null, null, 0.724, null, null, null, null, null], [0.749, null, null, null, null, null, null, null, null, null, null, null, null, null, null, null, null]]}, {\"marker\": {\"color\": \"black\"}, \"mode\": \"markers\", \"showlegend\": false, \"type\": \"scatter\", \"x\": [60, 59, 58, 40, 39, 44, 55, 53, 64, 53, 52, 62, 54, 48, 62, 52, 59, 57, 61, 58, 56, 56, 55, 57, 61, 50], \"xaxis\": \"x10\", \"y\": [52, 54, 60, 50, 64, 49, 60, 41, 56, 58, 42, 57, 58, 52, 52, 39, 54, 50, 58, 35, 53, 51, 56, 56, 58, 57], \"yaxis\": \"y10\"}, {\"colorbar\": {\"title\": {\"text\": \"Objective Value\"}}, \"colorscale\": [[0, \"rgb(5,10,172)\"], [0.35, \"rgb(40,60,190)\"], [0.5, \"rgb(70,100,245)\"], [0.6, \"rgb(90,120,245)\"], [0.7, \"rgb(106,137,247)\"], [1, \"rgb(220,220,220)\"]], \"connectgaps\": true, \"contours\": {\"coloring\": \"heatmap\"}, \"hoverinfo\": \"none\", \"line\": {\"smoothing\": 1.3}, \"showscale\": false, \"type\": \"contour\", \"x\": [39, 40, 44, 48, 50, 52, 53, 54, 55, 56, 57, 58, 59, 60, 61, 62, 64], \"xaxis\": \"x14\", \"y\": [34, 42, 45, 46, 47, 50, 51, 52, 54, 55, 56, 57, 58, 59, 60, 61, 63], \"yaxis\": \"y14\", \"z\": [[null, null, null, null, null, null, 0.765, null, null, null, null, null, null, null, null, null, null], [null, null, null, null, null, null, null, null, null, null, null, null, null, null, null, 0.781, null], [null, null, null, null, null, null, null, null, null, null, null, null, null, null, 0.806, null, null], [null, null, null, null, null, null, null, null, null, null, null, 0.797, 0.697, null, null, null, null], [null, 0.286, null, null, null, null, null, null, null, null, null, null, null, null, null, null, null], [null, null, null, null, 0.764, null, null, null, null, null, null, null, null, null, null, null, null], [null, null, 0.758, null, null, null, null, null, null, null, null, null, null, null, null, null, null], [null, null, null, null, null, null, null, null, null, null, null, null, null, 0.77, null, 0.752, null], [null, null, null, 0.771, null, null, null, null, null, null, null, null, null, null, null, null, 0.801], [null, null, null, null, null, null, 0.796, 0.779, 0.802, null, null, null, null, null, null, null, null], [null, null, null, null, null, null, null, null, null, null, null, null, null, null, 0.779, null, null], [null, null, null, null, null, null, null, null, null, 0.781, null, null, null, null, null, null, null], [null, null, null, null, null, null, null, null, null, null, null, 0.724, null, null, null, null, null], [null, null, null, null, null, 0.781, null, null, null, null, 0.79, null, null, null, null, null, null], [null, null, null, null, null, 0.787, null, null, 0.793, null, 0.787, null, 0.814, null, null, null, null], [null, null, null, null, null, null, null, null, null, 0.788, null, null, null, null, null, null, null], [0.749, null, null, null, null, null, null, null, null, null, null, null, null, null, null, null, null]]}, {\"marker\": {\"color\": \"black\"}, \"mode\": \"markers\", \"showlegend\": false, \"type\": \"scatter\", \"x\": [60, 59, 58, 40, 39, 44, 55, 53, 64, 53, 52, 62, 54, 48, 62, 52, 59, 57, 61, 58, 56, 56, 55, 57, 61, 50], \"xaxis\": \"x14\", \"y\": [52, 46, 58, 47, 63, 51, 55, 34, 54, 55, 59, 42, 55, 54, 52, 60, 60, 59, 45, 46, 61, 57, 60, 60, 56, 50], \"yaxis\": \"y14\"}, {\"colorbar\": {\"title\": {\"text\": \"Objective Value\"}}, \"colorscale\": [[0, \"rgb(5,10,172)\"], [0.35, \"rgb(40,60,190)\"], [0.5, \"rgb(70,100,245)\"], [0.6, \"rgb(90,120,245)\"], [0.7, \"rgb(106,137,247)\"], [1, \"rgb(220,220,220)\"]], \"connectgaps\": true, \"contours\": {\"coloring\": \"heatmap\"}, \"hoverinfo\": \"none\", \"line\": {\"smoothing\": 1.3}, \"showscale\": false, \"type\": \"contour\", \"x\": [35, 39, 41, 42, 49, 50, 51, 52, 53, 54, 56, 57, 58, 60, 64], \"xaxis\": \"x3\", \"y\": [4.150146894188187e-05, 0.0006037049619939256, 0.0008290383644298195, 0.0016801561613554626, 0.001934702484556159, 0.0021667133974016873, 0.002269914575227272, 0.0022966733338897925, 0.0023311988429061095, 0.00247686650609683, 0.0026023834468866763, 0.0028223530220840426, 0.0028366785551485136, 0.0032877429116842777, 0.003287877276090833, 0.0033378478466296823, 0.003453107696755918, 0.003699357433253755, 0.004146112094892482, 0.0044025218905984695, 0.004629038062214431, 0.004734701866521968, 0.005296695095678726, 0.005959544128320366, 0.00836510120287843, 0.01742735341297762], \"yaxis\": \"y3\", \"z\": [[null, null, null, null, null, null, null, null, null, 0.697, null, null, null, null, null], [null, null, null, null, 0.758, null, null, null, null, null, null, null, null, null, null], [null, null, 0.765, null, null, null, null, null, null, null, null, null, null, null, null], [null, null, null, null, null, null, null, 0.77, null, null, null, null, null, null, null], [null, null, null, null, null, null, null, 0.752, null, null, null, null, null, null, null], [null, null, null, null, null, 0.79, null, null, null, null, null, null, null, null, null], [null, 0.787, null, null, null, null, null, null, null, null, null, null, null, null, null], [null, null, null, null, null, null, null, 0.771, null, null, null, null, null, null, null], [0.797, null, null, null, null, null, null, null, null, null, null, null, null, null, null], [null, null, null, null, null, null, null, null, null, null, null, 0.764, null, null, null], [null, null, null, 0.781, null, null, null, null, null, null, null, null, null, null, null], [null, null, null, null, null, null, null, null, null, null, null, null, 0.779, null, null], [null, null, null, null, null, null, null, null, null, null, 0.801, null, null, null, null], [null, null, null, null, null, null, null, null, null, null, null, null, 0.779, null, null], [null, null, null, null, null, null, null, null, 0.788, null, null, null, null, null, null], [null, null, null, null, null, null, null, null, null, null, null, null, 0.796, null, null], [null, null, null, null, null, null, 0.781, null, null, null, null, null, null, null, null], [null, null, null, null, null, null, null, null, null, null, null, null, null, 0.802, null], [null, null, null, null, null, null, null, null, null, null, 0.793, null, null, null, null], [null, null, null, null, null, null, null, null, null, null, null, null, 0.806, null, null], [null, null, null, null, null, null, null, null, null, null, 0.787, null, null, null, null], [null, null, null, null, null, null, null, null, null, null, null, 0.781, null, null, null], [null, null, null, null, null, null, null, null, null, 0.814, null, null, null, null, null], [null, null, null, null, null, null, null, null, null, null, null, null, null, null, 0.749], [null, null, null, null, null, 0.286, null, null, null, null, null, null, null, null, null], [null, null, null, null, null, null, null, null, null, null, null, null, null, 0.724, null]]}, {\"marker\": {\"color\": \"black\"}, \"mode\": \"markers\", \"showlegend\": false, \"type\": \"scatter\", \"x\": [52, 54, 60, 50, 64, 49, 60, 41, 56, 58, 42, 57, 58, 52, 52, 39, 54, 50, 58, 35, 53, 51, 56, 56, 58, 57], \"xaxis\": \"x3\", \"y\": [0.0016801561613554626, 4.150146894188187e-05, 0.01742735341297762, 0.00836510120287843, 0.005959544128320366, 0.0006037049619939256, 0.003699357433253755, 0.0008290383644298195, 0.0028366785551485136, 0.0033378478466296823, 0.0026023834468866763, 0.004734701866521968, 0.0032877429116842777, 0.0022966733338897925, 0.001934702484556159, 0.002269914575227272, 0.005296695095678726, 0.0021667133974016873, 0.0044025218905984695, 0.0023311988429061095, 0.003287877276090833, 0.003453107696755918, 0.004146112094892482, 0.004629038062214431, 0.0028223530220840426, 0.00247686650609683], \"yaxis\": \"y3\"}, {\"colorbar\": {\"title\": {\"text\": \"Objective Value\"}}, \"colorscale\": [[0, \"rgb(5,10,172)\"], [0.35, \"rgb(40,60,190)\"], [0.5, \"rgb(70,100,245)\"], [0.6, \"rgb(90,120,245)\"], [0.7, \"rgb(106,137,247)\"], [1, \"rgb(220,220,220)\"]], \"connectgaps\": true, \"contours\": {\"coloring\": \"heatmap\"}, \"hoverinfo\": \"none\", \"line\": {\"smoothing\": 1.3}, \"showscale\": false, \"type\": \"contour\", \"x\": [35, 39, 41, 42, 49, 50, 51, 52, 53, 54, 56, 57, 58, 60, 64], \"xaxis\": \"x7\", \"y\": [39, 40, 44, 48, 50, 52, 53, 54, 55, 56, 57, 58, 59, 60, 61, 62, 64], \"yaxis\": \"y7\", \"z\": [[null, null, null, null, null, null, null, null, null, null, null, null, null, null, 0.749], [null, null, null, null, null, 0.286, null, null, null, null, null, null, null, null, null], [null, null, null, null, 0.758, null, null, null, null, null, null, null, null, null, null], [null, null, null, null, null, null, null, 0.771, null, null, null, null, null, null, null], [null, null, null, null, null, null, null, null, null, null, null, 0.764, null, null, null], [null, 0.787, null, 0.781, null, null, null, null, null, null, null, null, null, null, null], [null, null, 0.765, null, null, null, null, null, null, null, null, null, 0.796, null, null], [null, null, null, null, null, null, null, null, null, null, null, null, 0.779, null, null], [null, null, null, null, null, null, null, null, null, null, 0.793, null, null, 0.802, null], [null, null, null, null, null, null, 0.781, null, 0.788, null, null, null, null, null, null], [null, null, null, null, null, 0.79, null, null, null, null, 0.787, null, null, null, null], [0.797, null, null, null, null, null, null, null, null, null, null, null, null, 0.724, null], [null, null, null, null, null, null, null, null, null, 0.814, null, null, null, null, null], [null, null, null, null, null, null, null, 0.77, null, null, null, null, null, null, null], [null, null, null, null, null, null, null, null, null, null, null, null, 0.779, null, null], [null, null, null, null, null, null, null, 0.752, null, null, null, 0.781, null, null, null], [null, null, null, null, null, null, null, null, null, null, 0.801, null, null, null, null]]}, {\"marker\": {\"color\": \"black\"}, \"mode\": \"markers\", \"showlegend\": false, \"type\": \"scatter\", \"x\": [52, 54, 60, 50, 64, 49, 60, 41, 56, 58, 42, 57, 58, 52, 52, 39, 54, 50, 58, 35, 53, 51, 56, 56, 58, 57], \"xaxis\": \"x7\", \"y\": [60, 59, 58, 40, 39, 44, 55, 53, 64, 53, 52, 62, 54, 48, 62, 52, 59, 57, 61, 58, 56, 56, 55, 57, 61, 50], \"yaxis\": \"y7\"}, {\"type\": \"scatter\", \"xaxis\": \"x11\", \"yaxis\": \"y11\"}, {\"colorbar\": {\"title\": {\"text\": \"Objective Value\"}}, \"colorscale\": [[0, \"rgb(5,10,172)\"], [0.35, \"rgb(40,60,190)\"], [0.5, \"rgb(70,100,245)\"], [0.6, \"rgb(90,120,245)\"], [0.7, \"rgb(106,137,247)\"], [1, \"rgb(220,220,220)\"]], \"connectgaps\": true, \"contours\": {\"coloring\": \"heatmap\"}, \"hoverinfo\": \"none\", \"line\": {\"smoothing\": 1.3}, \"showscale\": false, \"type\": \"contour\", \"x\": [35, 39, 41, 42, 49, 50, 51, 52, 53, 54, 56, 57, 58, 60, 64], \"xaxis\": \"x15\", \"y\": [34, 42, 45, 46, 47, 50, 51, 52, 54, 55, 56, 57, 58, 59, 60, 61, 63], \"yaxis\": \"y15\", \"z\": [[null, null, 0.765, null, null, null, null, null, null, null, null, null, null, null, null], [null, null, null, null, null, null, null, null, null, null, null, 0.781, null, null, null], [null, null, null, null, null, null, null, null, null, null, null, null, 0.806, null, null], [0.797, null, null, null, null, null, null, null, null, 0.697, null, null, null, null, null], [null, null, null, null, null, 0.286, null, null, null, null, null, null, null, null, null], [null, null, null, null, null, null, null, null, null, null, null, 0.764, null, null, null], [null, null, null, null, 0.758, null, null, null, null, null, null, null, null, null, null], [null, null, null, null, null, null, null, 0.752, null, null, null, null, null, null, null], [null, null, null, null, null, null, null, 0.771, null, null, 0.801, null, null, null, null], [null, null, null, null, null, null, null, null, null, null, null, null, 0.779, 0.802, null], [null, null, null, null, null, null, null, null, null, null, null, null, 0.779, null, null], [null, null, null, null, null, null, 0.781, null, null, null, null, null, null, null, null], [null, null, null, null, null, null, null, null, null, null, null, null, null, 0.724, null], [null, null, null, 0.781, null, 0.79, null, null, null, null, null, null, null, null, null], [null, 0.787, null, null, null, null, null, null, null, 0.814, 0.787, null, null, null, null], [null, null, null, null, null, null, null, null, 0.788, null, null, null, null, null, null], [null, null, null, null, null, null, null, null, null, null, null, null, null, null, 0.749]]}, {\"marker\": {\"color\": \"black\"}, \"mode\": \"markers\", \"showlegend\": false, \"type\": \"scatter\", \"x\": [52, 54, 60, 50, 64, 49, 60, 41, 56, 58, 42, 57, 58, 52, 52, 39, 54, 50, 58, 35, 53, 51, 56, 56, 58, 57], \"xaxis\": \"x15\", \"y\": [52, 46, 58, 47, 63, 51, 55, 34, 54, 55, 59, 42, 55, 54, 52, 60, 60, 59, 45, 46, 61, 57, 60, 60, 56, 50], \"yaxis\": \"y15\"}, {\"colorbar\": {\"title\": {\"text\": \"Objective Value\"}}, \"colorscale\": [[0, \"rgb(5,10,172)\"], [0.35, \"rgb(40,60,190)\"], [0.5, \"rgb(70,100,245)\"], [0.6, \"rgb(90,120,245)\"], [0.7, \"rgb(106,137,247)\"], [1, \"rgb(220,220,220)\"]], \"connectgaps\": true, \"contours\": {\"coloring\": \"heatmap\"}, \"hoverinfo\": \"none\", \"line\": {\"smoothing\": 1.3}, \"showscale\": false, \"type\": \"contour\", \"x\": [34, 42, 45, 46, 47, 50, 51, 52, 54, 55, 56, 57, 58, 59, 60, 61, 63], \"xaxis\": \"x4\", \"y\": [4.150146894188187e-05, 0.0006037049619939256, 0.0008290383644298195, 0.0016801561613554626, 0.001934702484556159, 0.0021667133974016873, 0.002269914575227272, 0.0022966733338897925, 0.0023311988429061095, 0.00247686650609683, 0.0026023834468866763, 0.0028223530220840426, 0.0028366785551485136, 0.0032877429116842777, 0.003287877276090833, 0.0033378478466296823, 0.003453107696755918, 0.003699357433253755, 0.004146112094892482, 0.0044025218905984695, 0.004629038062214431, 0.004734701866521968, 0.005296695095678726, 0.005959544128320366, 0.00836510120287843, 0.01742735341297762], \"yaxis\": \"y4\", \"z\": [[null, null, null, 0.697, null, null, null, null, null, null, null, null, null, null, null, null, null], [null, null, null, null, null, null, 0.758, null, null, null, null, null, null, null, null, null, null], [0.765, null, null, null, null, null, null, null, null, null, null, null, null, null, null, null, null], [null, null, null, null, null, null, null, 0.77, null, null, null, null, null, null, null, null, null], [null, null, null, null, null, null, null, 0.752, null, null, null, null, null, null, null, null, null], [null, null, null, null, null, null, null, null, null, null, null, null, null, 0.79, null, null, null], [null, null, null, null, null, null, null, null, null, null, null, null, null, null, 0.787, null, null], [null, null, null, null, null, null, null, null, 0.771, null, null, null, null, null, null, null, null], [null, null, null, 0.797, null, null, null, null, null, null, null, null, null, null, null, null, null], [null, null, null, null, null, 0.764, null, null, null, null, null, null, null, null, null, null, null], [null, null, null, null, null, null, null, null, null, null, null, null, null, 0.781, null, null, null], [null, null, null, null, null, null, null, null, null, null, 0.779, null, null, null, null, null, null], [null, null, null, null, null, null, null, null, 0.801, null, null, null, null, null, null, null, null], [null, null, null, null, null, null, null, null, null, 0.779, null, null, null, null, null, null, null], [null, null, null, null, null, null, null, null, null, null, null, null, null, null, null, 0.788, null], [null, null, null, null, null, null, null, null, null, 0.796, null, null, null, null, null, null, null], [null, null, null, null, null, null, null, null, null, null, null, 0.781, null, null, null, null, null], [null, null, null, null, null, null, null, null, null, 0.802, null, null, null, null, null, null, null], [null, null, null, null, null, null, null, null, null, null, null, null, null, null, 0.793, null, null], [null, null, 0.806, null, null, null, null, null, null, null, null, null, null, null, null, null, null], [null, null, null, null, null, null, null, null, null, null, null, null, null, null, 0.787, null, null], [null, 0.781, null, null, null, null, null, null, null, null, null, null, null, null, null, null, null], [null, null, null, null, null, null, null, null, null, null, null, null, null, null, 0.814, null, null], [null, null, null, null, null, null, null, null, null, null, null, null, null, null, null, null, 0.749], [null, null, null, null, 0.286, null, null, null, null, null, null, null, null, null, null, null, null], [null, null, null, null, null, null, null, null, null, null, null, null, 0.724, null, null, null, null]]}, {\"marker\": {\"color\": \"black\"}, \"mode\": \"markers\", \"showlegend\": false, \"type\": \"scatter\", \"x\": [52, 46, 58, 47, 63, 51, 55, 34, 54, 55, 59, 42, 55, 54, 52, 60, 60, 59, 45, 46, 61, 57, 60, 60, 56, 50], \"xaxis\": \"x4\", \"y\": [0.0016801561613554626, 4.150146894188187e-05, 0.01742735341297762, 0.00836510120287843, 0.005959544128320366, 0.0006037049619939256, 0.003699357433253755, 0.0008290383644298195, 0.0028366785551485136, 0.0033378478466296823, 0.0026023834468866763, 0.004734701866521968, 0.0032877429116842777, 0.0022966733338897925, 0.001934702484556159, 0.002269914575227272, 0.005296695095678726, 0.0021667133974016873, 0.0044025218905984695, 0.0023311988429061095, 0.003287877276090833, 0.003453107696755918, 0.004146112094892482, 0.004629038062214431, 0.0028223530220840426, 0.00247686650609683], \"yaxis\": \"y4\"}, {\"colorbar\": {\"title\": {\"text\": \"Objective Value\"}}, \"colorscale\": [[0, \"rgb(5,10,172)\"], [0.35, \"rgb(40,60,190)\"], [0.5, \"rgb(70,100,245)\"], [0.6, \"rgb(90,120,245)\"], [0.7, \"rgb(106,137,247)\"], [1, \"rgb(220,220,220)\"]], \"connectgaps\": true, \"contours\": {\"coloring\": \"heatmap\"}, \"hoverinfo\": \"none\", \"line\": {\"smoothing\": 1.3}, \"showscale\": false, \"type\": \"contour\", \"x\": [34, 42, 45, 46, 47, 50, 51, 52, 54, 55, 56, 57, 58, 59, 60, 61, 63], \"xaxis\": \"x8\", \"y\": [39, 40, 44, 48, 50, 52, 53, 54, 55, 56, 57, 58, 59, 60, 61, 62, 64], \"yaxis\": \"y8\", \"z\": [[null, null, null, null, null, null, null, null, null, null, null, null, null, null, null, null, 0.749], [null, null, null, null, 0.286, null, null, null, null, null, null, null, null, null, null, null, null], [null, null, null, null, null, null, 0.758, null, null, null, null, null, null, null, null, null, null], [null, null, null, null, null, null, null, null, 0.771, null, null, null, null, null, null, null, null], [null, null, null, null, null, 0.764, null, null, null, null, null, null, null, null, null, null, null], [null, null, null, null, null, null, null, null, null, null, null, null, null, 0.781, 0.787, null, null], [0.765, null, null, null, null, null, null, null, null, 0.796, null, null, null, null, null, null, null], [null, null, null, null, null, null, null, null, null, 0.779, null, null, null, null, null, null, null], [null, null, null, null, null, null, null, null, null, 0.802, null, null, null, null, 0.793, null, null], [null, null, null, null, null, null, null, null, null, null, null, 0.781, null, null, null, 0.788, null], [null, null, null, null, null, null, null, null, null, null, null, null, null, 0.79, 0.787, null, null], [null, null, null, 0.797, null, null, null, null, null, null, null, null, 0.724, null, null, null, null], [null, null, null, 0.697, null, null, null, null, null, null, null, null, null, null, 0.814, null, null], [null, null, null, null, null, null, null, 0.77, null, null, null, null, null, null, null, null, null], [null, null, 0.806, null, null, null, null, null, null, null, 0.779, null, null, null, null, null, null], [null, 0.781, null, null, null, null, null, 0.752, null, null, null, null, null, null, null, null, null], [null, null, null, null, null, null, null, null, 0.801, null, null, null, null, null, null, null, null]]}, {\"marker\": {\"color\": \"black\"}, \"mode\": \"markers\", \"showlegend\": false, \"type\": \"scatter\", \"x\": [52, 46, 58, 47, 63, 51, 55, 34, 54, 55, 59, 42, 55, 54, 52, 60, 60, 59, 45, 46, 61, 57, 60, 60, 56, 50], \"xaxis\": \"x8\", \"y\": [60, 59, 58, 40, 39, 44, 55, 53, 64, 53, 52, 62, 54, 48, 62, 52, 59, 57, 61, 58, 56, 56, 55, 57, 61, 50], \"yaxis\": \"y8\"}, {\"colorbar\": {\"title\": {\"text\": \"Objective Value\"}}, \"colorscale\": [[0, \"rgb(5,10,172)\"], [0.35, \"rgb(40,60,190)\"], [0.5, \"rgb(70,100,245)\"], [0.6, \"rgb(90,120,245)\"], [0.7, \"rgb(106,137,247)\"], [1, \"rgb(220,220,220)\"]], \"connectgaps\": true, \"contours\": {\"coloring\": \"heatmap\"}, \"hoverinfo\": \"none\", \"line\": {\"smoothing\": 1.3}, \"showscale\": false, \"type\": \"contour\", \"x\": [34, 42, 45, 46, 47, 50, 51, 52, 54, 55, 56, 57, 58, 59, 60, 61, 63], \"xaxis\": \"x12\", \"y\": [35, 39, 41, 42, 49, 50, 51, 52, 53, 54, 56, 57, 58, 60, 64], \"yaxis\": \"y12\", \"z\": [[null, null, null, 0.797, null, null, null, null, null, null, null, null, null, null, null, null, null], [null, null, null, null, null, null, null, null, null, null, null, null, null, null, 0.787, null, null], [0.765, null, null, null, null, null, null, null, null, null, null, null, null, null, null, null, null], [null, null, null, null, null, null, null, null, null, null, null, null, null, 0.781, null, null, null], [null, null, null, null, null, null, 0.758, null, null, null, null, null, null, null, null, null, null], [null, null, null, null, 0.286, null, null, null, null, null, null, null, null, 0.79, null, null, null], [null, null, null, null, null, null, null, null, null, null, null, 0.781, null, null, null, null, null], [null, null, null, null, null, null, null, 0.752, 0.771, null, null, null, null, null, null, null, null], [null, null, null, null, null, null, null, null, null, null, null, null, null, null, null, 0.788, null], [null, null, null, 0.697, null, null, null, null, null, null, null, null, null, null, 0.814, null, null], [null, null, null, null, null, null, null, null, 0.801, null, null, null, null, null, 0.787, null, null], [null, 0.781, null, null, null, 0.764, null, null, null, null, null, null, null, null, null, null, null], [null, null, 0.806, null, null, null, null, null, null, 0.779, 0.779, null, null, null, null, null, null], [null, null, null, null, null, null, null, null, null, 0.802, null, null, 0.724, null, null, null, null], [null, null, null, null, null, null, null, null, null, null, null, null, null, null, null, null, 0.749]]}, {\"marker\": {\"color\": \"black\"}, \"mode\": \"markers\", \"showlegend\": false, \"type\": \"scatter\", \"x\": [52, 46, 58, 47, 63, 51, 55, 34, 54, 55, 59, 42, 55, 54, 52, 60, 60, 59, 45, 46, 61, 57, 60, 60, 56, 50], \"xaxis\": \"x12\", \"y\": [52, 54, 60, 50, 64, 49, 60, 41, 56, 58, 42, 57, 58, 52, 52, 39, 54, 50, 58, 35, 53, 51, 56, 56, 58, 57], \"yaxis\": \"y12\"}, {\"type\": \"scatter\", \"xaxis\": \"x16\", \"yaxis\": \"y16\"}],\n",
       "                        {\"template\": {\"data\": {\"bar\": [{\"error_x\": {\"color\": \"#2a3f5f\"}, \"error_y\": {\"color\": \"#2a3f5f\"}, \"marker\": {\"line\": {\"color\": \"#E5ECF6\", \"width\": 0.5}}, \"type\": \"bar\"}], \"barpolar\": [{\"marker\": {\"line\": {\"color\": \"#E5ECF6\", \"width\": 0.5}}, \"type\": \"barpolar\"}], \"carpet\": [{\"aaxis\": {\"endlinecolor\": \"#2a3f5f\", \"gridcolor\": \"white\", \"linecolor\": \"white\", \"minorgridcolor\": \"white\", \"startlinecolor\": \"#2a3f5f\"}, \"baxis\": {\"endlinecolor\": \"#2a3f5f\", \"gridcolor\": \"white\", \"linecolor\": \"white\", \"minorgridcolor\": \"white\", \"startlinecolor\": \"#2a3f5f\"}, \"type\": \"carpet\"}], \"choropleth\": [{\"colorbar\": {\"outlinewidth\": 0, \"ticks\": \"\"}, \"type\": \"choropleth\"}], \"contour\": [{\"colorbar\": {\"outlinewidth\": 0, \"ticks\": \"\"}, \"colorscale\": [[0.0, \"#0d0887\"], [0.1111111111111111, \"#46039f\"], [0.2222222222222222, \"#7201a8\"], [0.3333333333333333, \"#9c179e\"], [0.4444444444444444, \"#bd3786\"], [0.5555555555555556, \"#d8576b\"], [0.6666666666666666, \"#ed7953\"], [0.7777777777777778, \"#fb9f3a\"], [0.8888888888888888, \"#fdca26\"], [1.0, \"#f0f921\"]], \"type\": \"contour\"}], \"contourcarpet\": [{\"colorbar\": {\"outlinewidth\": 0, \"ticks\": \"\"}, \"type\": \"contourcarpet\"}], \"heatmap\": [{\"colorbar\": {\"outlinewidth\": 0, \"ticks\": \"\"}, \"colorscale\": [[0.0, \"#0d0887\"], [0.1111111111111111, \"#46039f\"], [0.2222222222222222, \"#7201a8\"], [0.3333333333333333, \"#9c179e\"], [0.4444444444444444, \"#bd3786\"], [0.5555555555555556, \"#d8576b\"], [0.6666666666666666, \"#ed7953\"], [0.7777777777777778, \"#fb9f3a\"], [0.8888888888888888, \"#fdca26\"], [1.0, \"#f0f921\"]], \"type\": \"heatmap\"}], \"heatmapgl\": [{\"colorbar\": {\"outlinewidth\": 0, \"ticks\": \"\"}, \"colorscale\": [[0.0, \"#0d0887\"], [0.1111111111111111, \"#46039f\"], [0.2222222222222222, \"#7201a8\"], [0.3333333333333333, \"#9c179e\"], [0.4444444444444444, \"#bd3786\"], [0.5555555555555556, \"#d8576b\"], [0.6666666666666666, \"#ed7953\"], [0.7777777777777778, \"#fb9f3a\"], [0.8888888888888888, \"#fdca26\"], [1.0, \"#f0f921\"]], \"type\": \"heatmapgl\"}], \"histogram\": [{\"marker\": {\"colorbar\": {\"outlinewidth\": 0, \"ticks\": \"\"}}, \"type\": \"histogram\"}], \"histogram2d\": [{\"colorbar\": {\"outlinewidth\": 0, \"ticks\": \"\"}, \"colorscale\": [[0.0, \"#0d0887\"], [0.1111111111111111, \"#46039f\"], [0.2222222222222222, \"#7201a8\"], [0.3333333333333333, \"#9c179e\"], [0.4444444444444444, \"#bd3786\"], [0.5555555555555556, \"#d8576b\"], [0.6666666666666666, \"#ed7953\"], [0.7777777777777778, \"#fb9f3a\"], [0.8888888888888888, \"#fdca26\"], [1.0, \"#f0f921\"]], \"type\": \"histogram2d\"}], \"histogram2dcontour\": [{\"colorbar\": {\"outlinewidth\": 0, \"ticks\": \"\"}, \"colorscale\": [[0.0, \"#0d0887\"], [0.1111111111111111, \"#46039f\"], [0.2222222222222222, \"#7201a8\"], [0.3333333333333333, \"#9c179e\"], [0.4444444444444444, \"#bd3786\"], [0.5555555555555556, \"#d8576b\"], [0.6666666666666666, \"#ed7953\"], [0.7777777777777778, \"#fb9f3a\"], [0.8888888888888888, \"#fdca26\"], [1.0, \"#f0f921\"]], \"type\": \"histogram2dcontour\"}], \"mesh3d\": [{\"colorbar\": {\"outlinewidth\": 0, \"ticks\": \"\"}, \"type\": \"mesh3d\"}], \"parcoords\": [{\"line\": {\"colorbar\": {\"outlinewidth\": 0, \"ticks\": \"\"}}, \"type\": \"parcoords\"}], \"pie\": [{\"automargin\": true, \"type\": \"pie\"}], \"scatter\": [{\"marker\": {\"colorbar\": {\"outlinewidth\": 0, \"ticks\": \"\"}}, \"type\": \"scatter\"}], \"scatter3d\": [{\"line\": {\"colorbar\": {\"outlinewidth\": 0, \"ticks\": \"\"}}, \"marker\": {\"colorbar\": {\"outlinewidth\": 0, \"ticks\": \"\"}}, \"type\": \"scatter3d\"}], \"scattercarpet\": [{\"marker\": {\"colorbar\": {\"outlinewidth\": 0, \"ticks\": \"\"}}, \"type\": \"scattercarpet\"}], \"scattergeo\": [{\"marker\": {\"colorbar\": {\"outlinewidth\": 0, \"ticks\": \"\"}}, \"type\": \"scattergeo\"}], \"scattergl\": [{\"marker\": {\"colorbar\": {\"outlinewidth\": 0, \"ticks\": \"\"}}, \"type\": \"scattergl\"}], \"scattermapbox\": [{\"marker\": {\"colorbar\": {\"outlinewidth\": 0, \"ticks\": \"\"}}, \"type\": \"scattermapbox\"}], \"scatterpolar\": [{\"marker\": {\"colorbar\": {\"outlinewidth\": 0, \"ticks\": \"\"}}, \"type\": \"scatterpolar\"}], \"scatterpolargl\": [{\"marker\": {\"colorbar\": {\"outlinewidth\": 0, \"ticks\": \"\"}}, \"type\": \"scatterpolargl\"}], \"scatterternary\": [{\"marker\": {\"colorbar\": {\"outlinewidth\": 0, \"ticks\": \"\"}}, \"type\": \"scatterternary\"}], \"surface\": [{\"colorbar\": {\"outlinewidth\": 0, \"ticks\": \"\"}, \"colorscale\": [[0.0, \"#0d0887\"], [0.1111111111111111, \"#46039f\"], [0.2222222222222222, \"#7201a8\"], [0.3333333333333333, \"#9c179e\"], [0.4444444444444444, \"#bd3786\"], [0.5555555555555556, \"#d8576b\"], [0.6666666666666666, \"#ed7953\"], [0.7777777777777778, \"#fb9f3a\"], [0.8888888888888888, \"#fdca26\"], [1.0, \"#f0f921\"]], \"type\": \"surface\"}], \"table\": [{\"cells\": {\"fill\": {\"color\": \"#EBF0F8\"}, \"line\": {\"color\": \"white\"}}, \"header\": {\"fill\": {\"color\": \"#C8D4E3\"}, \"line\": {\"color\": \"white\"}}, \"type\": \"table\"}]}, \"layout\": {\"annotationdefaults\": {\"arrowcolor\": \"#2a3f5f\", \"arrowhead\": 0, \"arrowwidth\": 1}, \"coloraxis\": {\"colorbar\": {\"outlinewidth\": 0, \"ticks\": \"\"}}, \"colorscale\": {\"diverging\": [[0, \"#8e0152\"], [0.1, \"#c51b7d\"], [0.2, \"#de77ae\"], [0.3, \"#f1b6da\"], [0.4, \"#fde0ef\"], [0.5, \"#f7f7f7\"], [0.6, \"#e6f5d0\"], [0.7, \"#b8e186\"], [0.8, \"#7fbc41\"], [0.9, \"#4d9221\"], [1, \"#276419\"]], \"sequential\": [[0.0, \"#0d0887\"], [0.1111111111111111, \"#46039f\"], [0.2222222222222222, \"#7201a8\"], [0.3333333333333333, \"#9c179e\"], [0.4444444444444444, \"#bd3786\"], [0.5555555555555556, \"#d8576b\"], [0.6666666666666666, \"#ed7953\"], [0.7777777777777778, \"#fb9f3a\"], [0.8888888888888888, \"#fdca26\"], [1.0, \"#f0f921\"]], \"sequentialminus\": [[0.0, \"#0d0887\"], [0.1111111111111111, \"#46039f\"], [0.2222222222222222, \"#7201a8\"], [0.3333333333333333, \"#9c179e\"], [0.4444444444444444, \"#bd3786\"], [0.5555555555555556, \"#d8576b\"], [0.6666666666666666, \"#ed7953\"], [0.7777777777777778, \"#fb9f3a\"], [0.8888888888888888, \"#fdca26\"], [1.0, \"#f0f921\"]]}, \"colorway\": [\"#636efa\", \"#EF553B\", \"#00cc96\", \"#ab63fa\", \"#FFA15A\", \"#19d3f3\", \"#FF6692\", \"#B6E880\", \"#FF97FF\", \"#FECB52\"], \"font\": {\"color\": \"#2a3f5f\"}, \"geo\": {\"bgcolor\": \"white\", \"lakecolor\": \"white\", \"landcolor\": \"#E5ECF6\", \"showlakes\": true, \"showland\": true, \"subunitcolor\": \"white\"}, \"hoverlabel\": {\"align\": \"left\"}, \"hovermode\": \"closest\", \"mapbox\": {\"style\": \"light\"}, \"paper_bgcolor\": \"white\", \"plot_bgcolor\": \"#E5ECF6\", \"polar\": {\"angularaxis\": {\"gridcolor\": \"white\", \"linecolor\": \"white\", \"ticks\": \"\"}, \"bgcolor\": \"#E5ECF6\", \"radialaxis\": {\"gridcolor\": \"white\", \"linecolor\": \"white\", \"ticks\": \"\"}}, \"scene\": {\"xaxis\": {\"backgroundcolor\": \"#E5ECF6\", \"gridcolor\": \"white\", \"gridwidth\": 2, \"linecolor\": \"white\", \"showbackground\": true, \"ticks\": \"\", \"zerolinecolor\": \"white\"}, \"yaxis\": {\"backgroundcolor\": \"#E5ECF6\", \"gridcolor\": \"white\", \"gridwidth\": 2, \"linecolor\": \"white\", \"showbackground\": true, \"ticks\": \"\", \"zerolinecolor\": \"white\"}, \"zaxis\": {\"backgroundcolor\": \"#E5ECF6\", \"gridcolor\": \"white\", \"gridwidth\": 2, \"linecolor\": \"white\", \"showbackground\": true, \"ticks\": \"\", \"zerolinecolor\": \"white\"}}, \"shapedefaults\": {\"line\": {\"color\": \"#2a3f5f\"}}, \"ternary\": {\"aaxis\": {\"gridcolor\": \"white\", \"linecolor\": \"white\", \"ticks\": \"\"}, \"baxis\": {\"gridcolor\": \"white\", \"linecolor\": \"white\", \"ticks\": \"\"}, \"bgcolor\": \"#E5ECF6\", \"caxis\": {\"gridcolor\": \"white\", \"linecolor\": \"white\", \"ticks\": \"\"}}, \"title\": {\"x\": 0.05}, \"xaxis\": {\"automargin\": true, \"gridcolor\": \"white\", \"linecolor\": \"white\", \"ticks\": \"\", \"title\": {\"standoff\": 15}, \"zerolinecolor\": \"white\", \"zerolinewidth\": 2}, \"yaxis\": {\"automargin\": true, \"gridcolor\": \"white\", \"linecolor\": \"white\", \"ticks\": \"\", \"title\": {\"standoff\": 15}, \"zerolinecolor\": \"white\", \"zerolinewidth\": 2}}}, \"xaxis\": {\"anchor\": \"y\", \"domain\": [0.0, 0.2125], \"matches\": \"x13\", \"range\": [-4.381936531189998, -1.7587685615653572], \"showticklabels\": false, \"type\": \"log\"}, \"xaxis10\": {\"anchor\": \"y10\", \"domain\": [0.2625, 0.475], \"matches\": \"x14\", \"range\": [39, 64], \"showticklabels\": false}, \"xaxis11\": {\"anchor\": \"y11\", \"domain\": [0.525, 0.7375], \"matches\": \"x15\", \"range\": [35, 64], \"showticklabels\": false}, \"xaxis12\": {\"anchor\": \"y12\", \"domain\": [0.7875, 1.0], \"matches\": \"x16\", \"range\": [34, 63], \"showticklabels\": false}, \"xaxis13\": {\"anchor\": \"y13\", \"domain\": [0.0, 0.2125], \"range\": [-4.381936531189998, -1.7587685615653572], \"title\": {\"text\": \"lr_init\"}, \"type\": \"log\"}, \"xaxis14\": {\"anchor\": \"y14\", \"domain\": [0.2625, 0.475], \"range\": [39, 64], \"title\": {\"text\": \"n_units_l0\"}}, \"xaxis15\": {\"anchor\": \"y15\", \"domain\": [0.525, 0.7375], \"range\": [35, 64], \"title\": {\"text\": \"n_units_l1\"}}, \"xaxis16\": {\"anchor\": \"y16\", \"domain\": [0.7875, 1.0], \"range\": [34, 63], \"title\": {\"text\": \"n_units_l2\"}}, \"xaxis2\": {\"anchor\": \"y2\", \"domain\": [0.2625, 0.475], \"matches\": \"x14\", \"range\": [39, 64], \"showticklabels\": false}, \"xaxis3\": {\"anchor\": \"y3\", \"domain\": [0.525, 0.7375], \"matches\": \"x15\", \"range\": [35, 64], \"showticklabels\": false}, \"xaxis4\": {\"anchor\": \"y4\", \"domain\": [0.7875, 1.0], \"matches\": \"x16\", \"range\": [34, 63], \"showticklabels\": false}, \"xaxis5\": {\"anchor\": \"y5\", \"domain\": [0.0, 0.2125], \"matches\": \"x13\", \"range\": [-4.381936531189998, -1.7587685615653572], \"showticklabels\": false, \"type\": \"log\"}, \"xaxis6\": {\"anchor\": \"y6\", \"domain\": [0.2625, 0.475], \"matches\": \"x14\", \"range\": [39, 64], \"showticklabels\": false}, \"xaxis7\": {\"anchor\": \"y7\", \"domain\": [0.525, 0.7375], \"matches\": \"x15\", \"range\": [35, 64], \"showticklabels\": false}, \"xaxis8\": {\"anchor\": \"y8\", \"domain\": [0.7875, 1.0], \"matches\": \"x16\", \"range\": [34, 63], \"showticklabels\": false}, \"xaxis9\": {\"anchor\": \"y9\", \"domain\": [0.0, 0.2125], \"matches\": \"x13\", \"range\": [-4.381936531189998, -1.7587685615653572], \"showticklabels\": false, \"type\": \"log\"}, \"yaxis\": {\"anchor\": \"x\", \"domain\": [0.80625, 1.0], \"range\": [-4.381936531189998, -1.7587685615653572], \"title\": {\"text\": \"lr_init\"}, \"type\": \"log\"}, \"yaxis10\": {\"anchor\": \"x10\", \"domain\": [0.26875, 0.4625], \"matches\": \"y9\", \"range\": [35, 64], \"showticklabels\": false}, \"yaxis11\": {\"anchor\": \"x11\", \"domain\": [0.26875, 0.4625], \"matches\": \"y9\", \"range\": [35, 64], \"showticklabels\": false}, \"yaxis12\": {\"anchor\": \"x12\", \"domain\": [0.26875, 0.4625], \"matches\": \"y9\", \"range\": [35, 64], \"showticklabels\": false}, \"yaxis13\": {\"anchor\": \"x13\", \"domain\": [0.0, 0.19375], \"range\": [34, 63], \"title\": {\"text\": \"n_units_l2\"}}, \"yaxis14\": {\"anchor\": \"x14\", \"domain\": [0.0, 0.19375], \"matches\": \"y13\", \"range\": [34, 63], \"showticklabels\": false}, \"yaxis15\": {\"anchor\": \"x15\", \"domain\": [0.0, 0.19375], \"matches\": \"y13\", \"range\": [34, 63], \"showticklabels\": false}, \"yaxis16\": {\"anchor\": \"x16\", \"domain\": [0.0, 0.19375], \"matches\": \"y13\", \"range\": [34, 63], \"showticklabels\": false}, \"yaxis2\": {\"anchor\": \"x2\", \"domain\": [0.80625, 1.0], \"matches\": \"y\", \"range\": [-4.381936531189998, -1.7587685615653572], \"showticklabels\": false, \"type\": \"log\"}, \"yaxis3\": {\"anchor\": \"x3\", \"domain\": [0.80625, 1.0], \"matches\": \"y\", \"range\": [-4.381936531189998, -1.7587685615653572], \"showticklabels\": false, \"type\": \"log\"}, \"yaxis4\": {\"anchor\": \"x4\", \"domain\": [0.80625, 1.0], \"matches\": \"y\", \"range\": [-4.381936531189998, -1.7587685615653572], \"showticklabels\": false, \"type\": \"log\"}, \"yaxis5\": {\"anchor\": \"x5\", \"domain\": [0.5375, 0.73125], \"range\": [39, 64], \"title\": {\"text\": \"n_units_l0\"}}, \"yaxis6\": {\"anchor\": \"x6\", \"domain\": [0.5375, 0.73125], \"matches\": \"y5\", \"range\": [39, 64], \"showticklabels\": false}, \"yaxis7\": {\"anchor\": \"x7\", \"domain\": [0.5375, 0.73125], \"matches\": \"y5\", \"range\": [39, 64], \"showticklabels\": false}, \"yaxis8\": {\"anchor\": \"x8\", \"domain\": [0.5375, 0.73125], \"matches\": \"y5\", \"range\": [39, 64], \"showticklabels\": false}, \"yaxis9\": {\"anchor\": \"x9\", \"domain\": [0.26875, 0.4625], \"range\": [35, 64], \"title\": {\"text\": \"n_units_l1\"}}},\n",
       "                        {\"responsive\": true}\n",
       "                    ).then(function(){\n",
       "                            \n",
       "var gd = document.getElementById('599eb4c4-7c92-4991-b35a-e1ffec966c37');\n",
       "var x = new MutationObserver(function (mutations, observer) {{\n",
       "        var display = window.getComputedStyle(gd).display;\n",
       "        if (!display || display === 'none') {{\n",
       "            console.log([gd, 'removed!']);\n",
       "            Plotly.purge(gd);\n",
       "            observer.disconnect();\n",
       "        }}\n",
       "}});\n",
       "\n",
       "// Listen for the removal of the full notebook cells\n",
       "var notebookContainer = gd.closest('#notebook-container');\n",
       "if (notebookContainer) {{\n",
       "    x.observe(notebookContainer, {childList: true});\n",
       "}}\n",
       "\n",
       "// Listen for the clearing of the current output cell\n",
       "var outputEl = gd.closest('.output');\n",
       "if (outputEl) {{\n",
       "    x.observe(outputEl, {childList: true});\n",
       "}}\n",
       "\n",
       "                        })\n",
       "                };\n",
       "                });\n",
       "            </script>\n",
       "        </div>"
      ]
     },
     "metadata": {},
     "output_type": "display_data"
    }
   ],
   "source": [
    "from optuna.visualization import plot_contour\n",
    "\n",
    "plot_contour(study)"
   ]
  },
  {
   "cell_type": "markdown",
   "metadata": {
    "colab_type": "text",
    "id": "v9_Y6HybUoPZ"
   },
   "source": [
    "### Selecting Parameters to Visualize"
   ]
  },
  {
   "cell_type": "code",
   "execution_count": 12,
   "metadata": {
    "colab": {},
    "colab_type": "code",
    "id": "VP5xtXPUUoPa"
   },
   "outputs": [
    {
     "data": {
      "application/vnd.plotly.v1+json": {
       "config": {
        "plotlyServerURL": "https://plot.ly"
       },
       "data": [
        {
         "colorbar": {
          "title": {
           "text": "Objective Value"
          }
         },
         "colorscale": [
          [
           0,
           "rgb(5,10,172)"
          ],
          [
           0.35,
           "rgb(40,60,190)"
          ],
          [
           0.5,
           "rgb(70,100,245)"
          ],
          [
           0.6,
           "rgb(90,120,245)"
          ],
          [
           0.7,
           "rgb(106,137,247)"
          ],
          [
           1,
           "rgb(220,220,220)"
          ]
         ],
         "connectgaps": true,
         "contours": {
          "coloring": "heatmap"
         },
         "hoverinfo": "none",
         "line": {
          "smoothing": 1.3
         },
         "type": "contour",
         "x": [
          39,
          40,
          44,
          48,
          50,
          52,
          53,
          54,
          55,
          56,
          57,
          58,
          59,
          60,
          61,
          62,
          64
         ],
         "y": [
          35,
          39,
          41,
          42,
          49,
          50,
          51,
          52,
          53,
          54,
          56,
          57,
          58,
          60,
          64
         ],
         "z": [
          [
           null,
           null,
           null,
           null,
           null,
           null,
           null,
           null,
           null,
           null,
           null,
           0.797,
           null,
           null,
           null,
           null,
           null
          ],
          [
           null,
           null,
           null,
           null,
           null,
           0.787,
           null,
           null,
           null,
           null,
           null,
           null,
           null,
           null,
           null,
           null,
           null
          ],
          [
           null,
           null,
           null,
           null,
           null,
           null,
           0.765,
           null,
           null,
           null,
           null,
           null,
           null,
           null,
           null,
           null,
           null
          ],
          [
           null,
           null,
           null,
           null,
           null,
           0.781,
           null,
           null,
           null,
           null,
           null,
           null,
           null,
           null,
           null,
           null,
           null
          ],
          [
           null,
           null,
           0.758,
           null,
           null,
           null,
           null,
           null,
           null,
           null,
           null,
           null,
           null,
           null,
           null,
           null,
           null
          ],
          [
           null,
           0.286,
           null,
           null,
           null,
           null,
           null,
           null,
           null,
           null,
           0.79,
           null,
           null,
           null,
           null,
           null,
           null
          ],
          [
           null,
           null,
           null,
           null,
           null,
           null,
           null,
           null,
           null,
           0.781,
           null,
           null,
           null,
           null,
           null,
           null,
           null
          ],
          [
           null,
           null,
           null,
           0.771,
           null,
           null,
           null,
           null,
           null,
           null,
           null,
           null,
           null,
           0.77,
           null,
           0.752,
           null
          ],
          [
           null,
           null,
           null,
           null,
           null,
           null,
           null,
           null,
           null,
           0.788,
           null,
           null,
           null,
           null,
           null,
           null,
           null
          ],
          [
           null,
           null,
           null,
           null,
           null,
           null,
           null,
           null,
           null,
           null,
           null,
           null,
           0.814,
           null,
           null,
           null,
           null
          ],
          [
           null,
           null,
           null,
           null,
           null,
           null,
           null,
           null,
           0.793,
           null,
           0.787,
           null,
           null,
           null,
           null,
           null,
           0.801
          ],
          [
           null,
           null,
           null,
           null,
           0.764,
           null,
           null,
           null,
           null,
           null,
           null,
           null,
           null,
           null,
           null,
           0.781,
           null
          ],
          [
           null,
           null,
           null,
           null,
           null,
           null,
           0.796,
           0.779,
           null,
           null,
           null,
           null,
           null,
           null,
           0.779,
           null,
           null
          ],
          [
           null,
           null,
           null,
           null,
           null,
           null,
           null,
           null,
           0.802,
           null,
           null,
           0.724,
           null,
           null,
           null,
           null,
           null
          ],
          [
           0.749,
           null,
           null,
           null,
           null,
           null,
           null,
           null,
           null,
           null,
           null,
           null,
           null,
           null,
           null,
           null,
           null
          ]
         ]
        },
        {
         "marker": {
          "color": "black"
         },
         "mode": "markers",
         "showlegend": false,
         "type": "scatter",
         "x": [
          60,
          59,
          58,
          40,
          39,
          44,
          55,
          53,
          64,
          53,
          52,
          62,
          54,
          48,
          62,
          52,
          59,
          57,
          61,
          58,
          56,
          56,
          55,
          57,
          61,
          50
         ],
         "y": [
          52,
          54,
          60,
          50,
          64,
          49,
          60,
          41,
          56,
          58,
          42,
          57,
          58,
          52,
          52,
          39,
          54,
          50,
          58,
          35,
          53,
          51,
          56,
          56,
          58,
          57
         ]
        }
       ],
       "layout": {
        "template": {
         "data": {
          "bar": [
           {
            "error_x": {
             "color": "#2a3f5f"
            },
            "error_y": {
             "color": "#2a3f5f"
            },
            "marker": {
             "line": {
              "color": "#E5ECF6",
              "width": 0.5
             }
            },
            "type": "bar"
           }
          ],
          "barpolar": [
           {
            "marker": {
             "line": {
              "color": "#E5ECF6",
              "width": 0.5
             }
            },
            "type": "barpolar"
           }
          ],
          "carpet": [
           {
            "aaxis": {
             "endlinecolor": "#2a3f5f",
             "gridcolor": "white",
             "linecolor": "white",
             "minorgridcolor": "white",
             "startlinecolor": "#2a3f5f"
            },
            "baxis": {
             "endlinecolor": "#2a3f5f",
             "gridcolor": "white",
             "linecolor": "white",
             "minorgridcolor": "white",
             "startlinecolor": "#2a3f5f"
            },
            "type": "carpet"
           }
          ],
          "choropleth": [
           {
            "colorbar": {
             "outlinewidth": 0,
             "ticks": ""
            },
            "type": "choropleth"
           }
          ],
          "contour": [
           {
            "colorbar": {
             "outlinewidth": 0,
             "ticks": ""
            },
            "colorscale": [
             [
              0,
              "#0d0887"
             ],
             [
              0.1111111111111111,
              "#46039f"
             ],
             [
              0.2222222222222222,
              "#7201a8"
             ],
             [
              0.3333333333333333,
              "#9c179e"
             ],
             [
              0.4444444444444444,
              "#bd3786"
             ],
             [
              0.5555555555555556,
              "#d8576b"
             ],
             [
              0.6666666666666666,
              "#ed7953"
             ],
             [
              0.7777777777777778,
              "#fb9f3a"
             ],
             [
              0.8888888888888888,
              "#fdca26"
             ],
             [
              1,
              "#f0f921"
             ]
            ],
            "type": "contour"
           }
          ],
          "contourcarpet": [
           {
            "colorbar": {
             "outlinewidth": 0,
             "ticks": ""
            },
            "type": "contourcarpet"
           }
          ],
          "heatmap": [
           {
            "colorbar": {
             "outlinewidth": 0,
             "ticks": ""
            },
            "colorscale": [
             [
              0,
              "#0d0887"
             ],
             [
              0.1111111111111111,
              "#46039f"
             ],
             [
              0.2222222222222222,
              "#7201a8"
             ],
             [
              0.3333333333333333,
              "#9c179e"
             ],
             [
              0.4444444444444444,
              "#bd3786"
             ],
             [
              0.5555555555555556,
              "#d8576b"
             ],
             [
              0.6666666666666666,
              "#ed7953"
             ],
             [
              0.7777777777777778,
              "#fb9f3a"
             ],
             [
              0.8888888888888888,
              "#fdca26"
             ],
             [
              1,
              "#f0f921"
             ]
            ],
            "type": "heatmap"
           }
          ],
          "heatmapgl": [
           {
            "colorbar": {
             "outlinewidth": 0,
             "ticks": ""
            },
            "colorscale": [
             [
              0,
              "#0d0887"
             ],
             [
              0.1111111111111111,
              "#46039f"
             ],
             [
              0.2222222222222222,
              "#7201a8"
             ],
             [
              0.3333333333333333,
              "#9c179e"
             ],
             [
              0.4444444444444444,
              "#bd3786"
             ],
             [
              0.5555555555555556,
              "#d8576b"
             ],
             [
              0.6666666666666666,
              "#ed7953"
             ],
             [
              0.7777777777777778,
              "#fb9f3a"
             ],
             [
              0.8888888888888888,
              "#fdca26"
             ],
             [
              1,
              "#f0f921"
             ]
            ],
            "type": "heatmapgl"
           }
          ],
          "histogram": [
           {
            "marker": {
             "colorbar": {
              "outlinewidth": 0,
              "ticks": ""
             }
            },
            "type": "histogram"
           }
          ],
          "histogram2d": [
           {
            "colorbar": {
             "outlinewidth": 0,
             "ticks": ""
            },
            "colorscale": [
             [
              0,
              "#0d0887"
             ],
             [
              0.1111111111111111,
              "#46039f"
             ],
             [
              0.2222222222222222,
              "#7201a8"
             ],
             [
              0.3333333333333333,
              "#9c179e"
             ],
             [
              0.4444444444444444,
              "#bd3786"
             ],
             [
              0.5555555555555556,
              "#d8576b"
             ],
             [
              0.6666666666666666,
              "#ed7953"
             ],
             [
              0.7777777777777778,
              "#fb9f3a"
             ],
             [
              0.8888888888888888,
              "#fdca26"
             ],
             [
              1,
              "#f0f921"
             ]
            ],
            "type": "histogram2d"
           }
          ],
          "histogram2dcontour": [
           {
            "colorbar": {
             "outlinewidth": 0,
             "ticks": ""
            },
            "colorscale": [
             [
              0,
              "#0d0887"
             ],
             [
              0.1111111111111111,
              "#46039f"
             ],
             [
              0.2222222222222222,
              "#7201a8"
             ],
             [
              0.3333333333333333,
              "#9c179e"
             ],
             [
              0.4444444444444444,
              "#bd3786"
             ],
             [
              0.5555555555555556,
              "#d8576b"
             ],
             [
              0.6666666666666666,
              "#ed7953"
             ],
             [
              0.7777777777777778,
              "#fb9f3a"
             ],
             [
              0.8888888888888888,
              "#fdca26"
             ],
             [
              1,
              "#f0f921"
             ]
            ],
            "type": "histogram2dcontour"
           }
          ],
          "mesh3d": [
           {
            "colorbar": {
             "outlinewidth": 0,
             "ticks": ""
            },
            "type": "mesh3d"
           }
          ],
          "parcoords": [
           {
            "line": {
             "colorbar": {
              "outlinewidth": 0,
              "ticks": ""
             }
            },
            "type": "parcoords"
           }
          ],
          "pie": [
           {
            "automargin": true,
            "type": "pie"
           }
          ],
          "scatter": [
           {
            "marker": {
             "colorbar": {
              "outlinewidth": 0,
              "ticks": ""
             }
            },
            "type": "scatter"
           }
          ],
          "scatter3d": [
           {
            "line": {
             "colorbar": {
              "outlinewidth": 0,
              "ticks": ""
             }
            },
            "marker": {
             "colorbar": {
              "outlinewidth": 0,
              "ticks": ""
             }
            },
            "type": "scatter3d"
           }
          ],
          "scattercarpet": [
           {
            "marker": {
             "colorbar": {
              "outlinewidth": 0,
              "ticks": ""
             }
            },
            "type": "scattercarpet"
           }
          ],
          "scattergeo": [
           {
            "marker": {
             "colorbar": {
              "outlinewidth": 0,
              "ticks": ""
             }
            },
            "type": "scattergeo"
           }
          ],
          "scattergl": [
           {
            "marker": {
             "colorbar": {
              "outlinewidth": 0,
              "ticks": ""
             }
            },
            "type": "scattergl"
           }
          ],
          "scattermapbox": [
           {
            "marker": {
             "colorbar": {
              "outlinewidth": 0,
              "ticks": ""
             }
            },
            "type": "scattermapbox"
           }
          ],
          "scatterpolar": [
           {
            "marker": {
             "colorbar": {
              "outlinewidth": 0,
              "ticks": ""
             }
            },
            "type": "scatterpolar"
           }
          ],
          "scatterpolargl": [
           {
            "marker": {
             "colorbar": {
              "outlinewidth": 0,
              "ticks": ""
             }
            },
            "type": "scatterpolargl"
           }
          ],
          "scatterternary": [
           {
            "marker": {
             "colorbar": {
              "outlinewidth": 0,
              "ticks": ""
             }
            },
            "type": "scatterternary"
           }
          ],
          "surface": [
           {
            "colorbar": {
             "outlinewidth": 0,
             "ticks": ""
            },
            "colorscale": [
             [
              0,
              "#0d0887"
             ],
             [
              0.1111111111111111,
              "#46039f"
             ],
             [
              0.2222222222222222,
              "#7201a8"
             ],
             [
              0.3333333333333333,
              "#9c179e"
             ],
             [
              0.4444444444444444,
              "#bd3786"
             ],
             [
              0.5555555555555556,
              "#d8576b"
             ],
             [
              0.6666666666666666,
              "#ed7953"
             ],
             [
              0.7777777777777778,
              "#fb9f3a"
             ],
             [
              0.8888888888888888,
              "#fdca26"
             ],
             [
              1,
              "#f0f921"
             ]
            ],
            "type": "surface"
           }
          ],
          "table": [
           {
            "cells": {
             "fill": {
              "color": "#EBF0F8"
             },
             "line": {
              "color": "white"
             }
            },
            "header": {
             "fill": {
              "color": "#C8D4E3"
             },
             "line": {
              "color": "white"
             }
            },
            "type": "table"
           }
          ]
         },
         "layout": {
          "annotationdefaults": {
           "arrowcolor": "#2a3f5f",
           "arrowhead": 0,
           "arrowwidth": 1
          },
          "coloraxis": {
           "colorbar": {
            "outlinewidth": 0,
            "ticks": ""
           }
          },
          "colorscale": {
           "diverging": [
            [
             0,
             "#8e0152"
            ],
            [
             0.1,
             "#c51b7d"
            ],
            [
             0.2,
             "#de77ae"
            ],
            [
             0.3,
             "#f1b6da"
            ],
            [
             0.4,
             "#fde0ef"
            ],
            [
             0.5,
             "#f7f7f7"
            ],
            [
             0.6,
             "#e6f5d0"
            ],
            [
             0.7,
             "#b8e186"
            ],
            [
             0.8,
             "#7fbc41"
            ],
            [
             0.9,
             "#4d9221"
            ],
            [
             1,
             "#276419"
            ]
           ],
           "sequential": [
            [
             0,
             "#0d0887"
            ],
            [
             0.1111111111111111,
             "#46039f"
            ],
            [
             0.2222222222222222,
             "#7201a8"
            ],
            [
             0.3333333333333333,
             "#9c179e"
            ],
            [
             0.4444444444444444,
             "#bd3786"
            ],
            [
             0.5555555555555556,
             "#d8576b"
            ],
            [
             0.6666666666666666,
             "#ed7953"
            ],
            [
             0.7777777777777778,
             "#fb9f3a"
            ],
            [
             0.8888888888888888,
             "#fdca26"
            ],
            [
             1,
             "#f0f921"
            ]
           ],
           "sequentialminus": [
            [
             0,
             "#0d0887"
            ],
            [
             0.1111111111111111,
             "#46039f"
            ],
            [
             0.2222222222222222,
             "#7201a8"
            ],
            [
             0.3333333333333333,
             "#9c179e"
            ],
            [
             0.4444444444444444,
             "#bd3786"
            ],
            [
             0.5555555555555556,
             "#d8576b"
            ],
            [
             0.6666666666666666,
             "#ed7953"
            ],
            [
             0.7777777777777778,
             "#fb9f3a"
            ],
            [
             0.8888888888888888,
             "#fdca26"
            ],
            [
             1,
             "#f0f921"
            ]
           ]
          },
          "colorway": [
           "#636efa",
           "#EF553B",
           "#00cc96",
           "#ab63fa",
           "#FFA15A",
           "#19d3f3",
           "#FF6692",
           "#B6E880",
           "#FF97FF",
           "#FECB52"
          ],
          "font": {
           "color": "#2a3f5f"
          },
          "geo": {
           "bgcolor": "white",
           "lakecolor": "white",
           "landcolor": "#E5ECF6",
           "showlakes": true,
           "showland": true,
           "subunitcolor": "white"
          },
          "hoverlabel": {
           "align": "left"
          },
          "hovermode": "closest",
          "mapbox": {
           "style": "light"
          },
          "paper_bgcolor": "white",
          "plot_bgcolor": "#E5ECF6",
          "polar": {
           "angularaxis": {
            "gridcolor": "white",
            "linecolor": "white",
            "ticks": ""
           },
           "bgcolor": "#E5ECF6",
           "radialaxis": {
            "gridcolor": "white",
            "linecolor": "white",
            "ticks": ""
           }
          },
          "scene": {
           "xaxis": {
            "backgroundcolor": "#E5ECF6",
            "gridcolor": "white",
            "gridwidth": 2,
            "linecolor": "white",
            "showbackground": true,
            "ticks": "",
            "zerolinecolor": "white"
           },
           "yaxis": {
            "backgroundcolor": "#E5ECF6",
            "gridcolor": "white",
            "gridwidth": 2,
            "linecolor": "white",
            "showbackground": true,
            "ticks": "",
            "zerolinecolor": "white"
           },
           "zaxis": {
            "backgroundcolor": "#E5ECF6",
            "gridcolor": "white",
            "gridwidth": 2,
            "linecolor": "white",
            "showbackground": true,
            "ticks": "",
            "zerolinecolor": "white"
           }
          },
          "shapedefaults": {
           "line": {
            "color": "#2a3f5f"
           }
          },
          "ternary": {
           "aaxis": {
            "gridcolor": "white",
            "linecolor": "white",
            "ticks": ""
           },
           "baxis": {
            "gridcolor": "white",
            "linecolor": "white",
            "ticks": ""
           },
           "bgcolor": "#E5ECF6",
           "caxis": {
            "gridcolor": "white",
            "linecolor": "white",
            "ticks": ""
           }
          },
          "title": {
           "x": 0.05
          },
          "xaxis": {
           "automargin": true,
           "gridcolor": "white",
           "linecolor": "white",
           "ticks": "",
           "title": {
            "standoff": 15
           },
           "zerolinecolor": "white",
           "zerolinewidth": 2
          },
          "yaxis": {
           "automargin": true,
           "gridcolor": "white",
           "linecolor": "white",
           "ticks": "",
           "title": {
            "standoff": 15
           },
           "zerolinecolor": "white",
           "zerolinewidth": 2
          }
         }
        },
        "xaxis": {
         "range": [
          39,
          64
         ],
         "title": {
          "text": "n_units_l0"
         }
        },
        "yaxis": {
         "range": [
          35,
          64
         ],
         "title": {
          "text": "n_units_l1"
         }
        }
       }
      },
      "text/html": [
       "<div>\n",
       "        \n",
       "        \n",
       "            <div id=\"b8736660-ad20-4238-8203-aae46746de7a\" class=\"plotly-graph-div\" style=\"height:525px; width:100%;\"></div>\n",
       "            <script type=\"text/javascript\">\n",
       "                require([\"plotly\"], function(Plotly) {\n",
       "                    window.PLOTLYENV=window.PLOTLYENV || {};\n",
       "                    \n",
       "                if (document.getElementById(\"b8736660-ad20-4238-8203-aae46746de7a\")) {\n",
       "                    Plotly.newPlot(\n",
       "                        'b8736660-ad20-4238-8203-aae46746de7a',\n",
       "                        [{\"colorbar\": {\"title\": {\"text\": \"Objective Value\"}}, \"colorscale\": [[0, \"rgb(5,10,172)\"], [0.35, \"rgb(40,60,190)\"], [0.5, \"rgb(70,100,245)\"], [0.6, \"rgb(90,120,245)\"], [0.7, \"rgb(106,137,247)\"], [1, \"rgb(220,220,220)\"]], \"connectgaps\": true, \"contours\": {\"coloring\": \"heatmap\"}, \"hoverinfo\": \"none\", \"line\": {\"smoothing\": 1.3}, \"type\": \"contour\", \"x\": [39, 40, 44, 48, 50, 52, 53, 54, 55, 56, 57, 58, 59, 60, 61, 62, 64], \"y\": [35, 39, 41, 42, 49, 50, 51, 52, 53, 54, 56, 57, 58, 60, 64], \"z\": [[null, null, null, null, null, null, null, null, null, null, null, 0.797, null, null, null, null, null], [null, null, null, null, null, 0.787, null, null, null, null, null, null, null, null, null, null, null], [null, null, null, null, null, null, 0.765, null, null, null, null, null, null, null, null, null, null], [null, null, null, null, null, 0.781, null, null, null, null, null, null, null, null, null, null, null], [null, null, 0.758, null, null, null, null, null, null, null, null, null, null, null, null, null, null], [null, 0.286, null, null, null, null, null, null, null, null, 0.79, null, null, null, null, null, null], [null, null, null, null, null, null, null, null, null, 0.781, null, null, null, null, null, null, null], [null, null, null, 0.771, null, null, null, null, null, null, null, null, null, 0.77, null, 0.752, null], [null, null, null, null, null, null, null, null, null, 0.788, null, null, null, null, null, null, null], [null, null, null, null, null, null, null, null, null, null, null, null, 0.814, null, null, null, null], [null, null, null, null, null, null, null, null, 0.793, null, 0.787, null, null, null, null, null, 0.801], [null, null, null, null, 0.764, null, null, null, null, null, null, null, null, null, null, 0.781, null], [null, null, null, null, null, null, 0.796, 0.779, null, null, null, null, null, null, 0.779, null, null], [null, null, null, null, null, null, null, null, 0.802, null, null, 0.724, null, null, null, null, null], [0.749, null, null, null, null, null, null, null, null, null, null, null, null, null, null, null, null]]}, {\"marker\": {\"color\": \"black\"}, \"mode\": \"markers\", \"showlegend\": false, \"type\": \"scatter\", \"x\": [60, 59, 58, 40, 39, 44, 55, 53, 64, 53, 52, 62, 54, 48, 62, 52, 59, 57, 61, 58, 56, 56, 55, 57, 61, 50], \"y\": [52, 54, 60, 50, 64, 49, 60, 41, 56, 58, 42, 57, 58, 52, 52, 39, 54, 50, 58, 35, 53, 51, 56, 56, 58, 57]}],\n",
       "                        {\"template\": {\"data\": {\"bar\": [{\"error_x\": {\"color\": \"#2a3f5f\"}, \"error_y\": {\"color\": \"#2a3f5f\"}, \"marker\": {\"line\": {\"color\": \"#E5ECF6\", \"width\": 0.5}}, \"type\": \"bar\"}], \"barpolar\": [{\"marker\": {\"line\": {\"color\": \"#E5ECF6\", \"width\": 0.5}}, \"type\": \"barpolar\"}], \"carpet\": [{\"aaxis\": {\"endlinecolor\": \"#2a3f5f\", \"gridcolor\": \"white\", \"linecolor\": \"white\", \"minorgridcolor\": \"white\", \"startlinecolor\": \"#2a3f5f\"}, \"baxis\": {\"endlinecolor\": \"#2a3f5f\", \"gridcolor\": \"white\", \"linecolor\": \"white\", \"minorgridcolor\": \"white\", \"startlinecolor\": \"#2a3f5f\"}, \"type\": \"carpet\"}], \"choropleth\": [{\"colorbar\": {\"outlinewidth\": 0, \"ticks\": \"\"}, \"type\": \"choropleth\"}], \"contour\": [{\"colorbar\": {\"outlinewidth\": 0, \"ticks\": \"\"}, \"colorscale\": [[0.0, \"#0d0887\"], [0.1111111111111111, \"#46039f\"], [0.2222222222222222, \"#7201a8\"], [0.3333333333333333, \"#9c179e\"], [0.4444444444444444, \"#bd3786\"], [0.5555555555555556, \"#d8576b\"], [0.6666666666666666, \"#ed7953\"], [0.7777777777777778, \"#fb9f3a\"], [0.8888888888888888, \"#fdca26\"], [1.0, \"#f0f921\"]], \"type\": \"contour\"}], \"contourcarpet\": [{\"colorbar\": {\"outlinewidth\": 0, \"ticks\": \"\"}, \"type\": \"contourcarpet\"}], \"heatmap\": [{\"colorbar\": {\"outlinewidth\": 0, \"ticks\": \"\"}, \"colorscale\": [[0.0, \"#0d0887\"], [0.1111111111111111, \"#46039f\"], [0.2222222222222222, \"#7201a8\"], [0.3333333333333333, \"#9c179e\"], [0.4444444444444444, \"#bd3786\"], [0.5555555555555556, \"#d8576b\"], [0.6666666666666666, \"#ed7953\"], [0.7777777777777778, \"#fb9f3a\"], [0.8888888888888888, \"#fdca26\"], [1.0, \"#f0f921\"]], \"type\": \"heatmap\"}], \"heatmapgl\": [{\"colorbar\": {\"outlinewidth\": 0, \"ticks\": \"\"}, \"colorscale\": [[0.0, \"#0d0887\"], [0.1111111111111111, \"#46039f\"], [0.2222222222222222, \"#7201a8\"], [0.3333333333333333, \"#9c179e\"], [0.4444444444444444, \"#bd3786\"], [0.5555555555555556, \"#d8576b\"], [0.6666666666666666, \"#ed7953\"], [0.7777777777777778, \"#fb9f3a\"], [0.8888888888888888, \"#fdca26\"], [1.0, \"#f0f921\"]], \"type\": \"heatmapgl\"}], \"histogram\": [{\"marker\": {\"colorbar\": {\"outlinewidth\": 0, \"ticks\": \"\"}}, \"type\": \"histogram\"}], \"histogram2d\": [{\"colorbar\": {\"outlinewidth\": 0, \"ticks\": \"\"}, \"colorscale\": [[0.0, \"#0d0887\"], [0.1111111111111111, \"#46039f\"], [0.2222222222222222, \"#7201a8\"], [0.3333333333333333, \"#9c179e\"], [0.4444444444444444, \"#bd3786\"], [0.5555555555555556, \"#d8576b\"], [0.6666666666666666, \"#ed7953\"], [0.7777777777777778, \"#fb9f3a\"], [0.8888888888888888, \"#fdca26\"], [1.0, \"#f0f921\"]], \"type\": \"histogram2d\"}], \"histogram2dcontour\": [{\"colorbar\": {\"outlinewidth\": 0, \"ticks\": \"\"}, \"colorscale\": [[0.0, \"#0d0887\"], [0.1111111111111111, \"#46039f\"], [0.2222222222222222, \"#7201a8\"], [0.3333333333333333, \"#9c179e\"], [0.4444444444444444, \"#bd3786\"], [0.5555555555555556, \"#d8576b\"], [0.6666666666666666, \"#ed7953\"], [0.7777777777777778, \"#fb9f3a\"], [0.8888888888888888, \"#fdca26\"], [1.0, \"#f0f921\"]], \"type\": \"histogram2dcontour\"}], \"mesh3d\": [{\"colorbar\": {\"outlinewidth\": 0, \"ticks\": \"\"}, \"type\": \"mesh3d\"}], \"parcoords\": [{\"line\": {\"colorbar\": {\"outlinewidth\": 0, \"ticks\": \"\"}}, \"type\": \"parcoords\"}], \"pie\": [{\"automargin\": true, \"type\": \"pie\"}], \"scatter\": [{\"marker\": {\"colorbar\": {\"outlinewidth\": 0, \"ticks\": \"\"}}, \"type\": \"scatter\"}], \"scatter3d\": [{\"line\": {\"colorbar\": {\"outlinewidth\": 0, \"ticks\": \"\"}}, \"marker\": {\"colorbar\": {\"outlinewidth\": 0, \"ticks\": \"\"}}, \"type\": \"scatter3d\"}], \"scattercarpet\": [{\"marker\": {\"colorbar\": {\"outlinewidth\": 0, \"ticks\": \"\"}}, \"type\": \"scattercarpet\"}], \"scattergeo\": [{\"marker\": {\"colorbar\": {\"outlinewidth\": 0, \"ticks\": \"\"}}, \"type\": \"scattergeo\"}], \"scattergl\": [{\"marker\": {\"colorbar\": {\"outlinewidth\": 0, \"ticks\": \"\"}}, \"type\": \"scattergl\"}], \"scattermapbox\": [{\"marker\": {\"colorbar\": {\"outlinewidth\": 0, \"ticks\": \"\"}}, \"type\": \"scattermapbox\"}], \"scatterpolar\": [{\"marker\": {\"colorbar\": {\"outlinewidth\": 0, \"ticks\": \"\"}}, \"type\": \"scatterpolar\"}], \"scatterpolargl\": [{\"marker\": {\"colorbar\": {\"outlinewidth\": 0, \"ticks\": \"\"}}, \"type\": \"scatterpolargl\"}], \"scatterternary\": [{\"marker\": {\"colorbar\": {\"outlinewidth\": 0, \"ticks\": \"\"}}, \"type\": \"scatterternary\"}], \"surface\": [{\"colorbar\": {\"outlinewidth\": 0, \"ticks\": \"\"}, \"colorscale\": [[0.0, \"#0d0887\"], [0.1111111111111111, \"#46039f\"], [0.2222222222222222, \"#7201a8\"], [0.3333333333333333, \"#9c179e\"], [0.4444444444444444, \"#bd3786\"], [0.5555555555555556, \"#d8576b\"], [0.6666666666666666, \"#ed7953\"], [0.7777777777777778, \"#fb9f3a\"], [0.8888888888888888, \"#fdca26\"], [1.0, \"#f0f921\"]], \"type\": \"surface\"}], \"table\": [{\"cells\": {\"fill\": {\"color\": \"#EBF0F8\"}, \"line\": {\"color\": \"white\"}}, \"header\": {\"fill\": {\"color\": \"#C8D4E3\"}, \"line\": {\"color\": \"white\"}}, \"type\": \"table\"}]}, \"layout\": {\"annotationdefaults\": {\"arrowcolor\": \"#2a3f5f\", \"arrowhead\": 0, \"arrowwidth\": 1}, \"coloraxis\": {\"colorbar\": {\"outlinewidth\": 0, \"ticks\": \"\"}}, \"colorscale\": {\"diverging\": [[0, \"#8e0152\"], [0.1, \"#c51b7d\"], [0.2, \"#de77ae\"], [0.3, \"#f1b6da\"], [0.4, \"#fde0ef\"], [0.5, \"#f7f7f7\"], [0.6, \"#e6f5d0\"], [0.7, \"#b8e186\"], [0.8, \"#7fbc41\"], [0.9, \"#4d9221\"], [1, \"#276419\"]], \"sequential\": [[0.0, \"#0d0887\"], [0.1111111111111111, \"#46039f\"], [0.2222222222222222, \"#7201a8\"], [0.3333333333333333, \"#9c179e\"], [0.4444444444444444, \"#bd3786\"], [0.5555555555555556, \"#d8576b\"], [0.6666666666666666, \"#ed7953\"], [0.7777777777777778, \"#fb9f3a\"], [0.8888888888888888, \"#fdca26\"], [1.0, \"#f0f921\"]], \"sequentialminus\": [[0.0, \"#0d0887\"], [0.1111111111111111, \"#46039f\"], [0.2222222222222222, \"#7201a8\"], [0.3333333333333333, \"#9c179e\"], [0.4444444444444444, \"#bd3786\"], [0.5555555555555556, \"#d8576b\"], [0.6666666666666666, \"#ed7953\"], [0.7777777777777778, \"#fb9f3a\"], [0.8888888888888888, \"#fdca26\"], [1.0, \"#f0f921\"]]}, \"colorway\": [\"#636efa\", \"#EF553B\", \"#00cc96\", \"#ab63fa\", \"#FFA15A\", \"#19d3f3\", \"#FF6692\", \"#B6E880\", \"#FF97FF\", \"#FECB52\"], \"font\": {\"color\": \"#2a3f5f\"}, \"geo\": {\"bgcolor\": \"white\", \"lakecolor\": \"white\", \"landcolor\": \"#E5ECF6\", \"showlakes\": true, \"showland\": true, \"subunitcolor\": \"white\"}, \"hoverlabel\": {\"align\": \"left\"}, \"hovermode\": \"closest\", \"mapbox\": {\"style\": \"light\"}, \"paper_bgcolor\": \"white\", \"plot_bgcolor\": \"#E5ECF6\", \"polar\": {\"angularaxis\": {\"gridcolor\": \"white\", \"linecolor\": \"white\", \"ticks\": \"\"}, \"bgcolor\": \"#E5ECF6\", \"radialaxis\": {\"gridcolor\": \"white\", \"linecolor\": \"white\", \"ticks\": \"\"}}, \"scene\": {\"xaxis\": {\"backgroundcolor\": \"#E5ECF6\", \"gridcolor\": \"white\", \"gridwidth\": 2, \"linecolor\": \"white\", \"showbackground\": true, \"ticks\": \"\", \"zerolinecolor\": \"white\"}, \"yaxis\": {\"backgroundcolor\": \"#E5ECF6\", \"gridcolor\": \"white\", \"gridwidth\": 2, \"linecolor\": \"white\", \"showbackground\": true, \"ticks\": \"\", \"zerolinecolor\": \"white\"}, \"zaxis\": {\"backgroundcolor\": \"#E5ECF6\", \"gridcolor\": \"white\", \"gridwidth\": 2, \"linecolor\": \"white\", \"showbackground\": true, \"ticks\": \"\", \"zerolinecolor\": \"white\"}}, \"shapedefaults\": {\"line\": {\"color\": \"#2a3f5f\"}}, \"ternary\": {\"aaxis\": {\"gridcolor\": \"white\", \"linecolor\": \"white\", \"ticks\": \"\"}, \"baxis\": {\"gridcolor\": \"white\", \"linecolor\": \"white\", \"ticks\": \"\"}, \"bgcolor\": \"#E5ECF6\", \"caxis\": {\"gridcolor\": \"white\", \"linecolor\": \"white\", \"ticks\": \"\"}}, \"title\": {\"x\": 0.05}, \"xaxis\": {\"automargin\": true, \"gridcolor\": \"white\", \"linecolor\": \"white\", \"ticks\": \"\", \"title\": {\"standoff\": 15}, \"zerolinecolor\": \"white\", \"zerolinewidth\": 2}, \"yaxis\": {\"automargin\": true, \"gridcolor\": \"white\", \"linecolor\": \"white\", \"ticks\": \"\", \"title\": {\"standoff\": 15}, \"zerolinecolor\": \"white\", \"zerolinewidth\": 2}}}, \"xaxis\": {\"range\": [39, 64], \"title\": {\"text\": \"n_units_l0\"}}, \"yaxis\": {\"range\": [35, 64], \"title\": {\"text\": \"n_units_l1\"}}},\n",
       "                        {\"responsive\": true}\n",
       "                    ).then(function(){\n",
       "                            \n",
       "var gd = document.getElementById('b8736660-ad20-4238-8203-aae46746de7a');\n",
       "var x = new MutationObserver(function (mutations, observer) {{\n",
       "        var display = window.getComputedStyle(gd).display;\n",
       "        if (!display || display === 'none') {{\n",
       "            console.log([gd, 'removed!']);\n",
       "            Plotly.purge(gd);\n",
       "            observer.disconnect();\n",
       "        }}\n",
       "}});\n",
       "\n",
       "// Listen for the removal of the full notebook cells\n",
       "var notebookContainer = gd.closest('#notebook-container');\n",
       "if (notebookContainer) {{\n",
       "    x.observe(notebookContainer, {childList: true});\n",
       "}}\n",
       "\n",
       "// Listen for the clearing of the current output cell\n",
       "var outputEl = gd.closest('.output');\n",
       "if (outputEl) {{\n",
       "    x.observe(outputEl, {childList: true});\n",
       "}}\n",
       "\n",
       "                        })\n",
       "                };\n",
       "                });\n",
       "            </script>\n",
       "        </div>"
      ]
     },
     "metadata": {},
     "output_type": "display_data"
    }
   ],
   "source": [
    "plot_contour(study, params=['n_units_l0', 'n_units_l1'])"
   ]
  },
  {
   "cell_type": "markdown",
   "metadata": {
    "colab_type": "text",
    "id": "MN_DaQN7UoPb"
   },
   "source": [
    "## Visualizing Individual Hyperparameters"
   ]
  },
  {
   "cell_type": "code",
   "execution_count": 13,
   "metadata": {
    "colab": {},
    "colab_type": "code",
    "id": "joZlYv6QUoPb"
   },
   "outputs": [
    {
     "data": {
      "application/vnd.plotly.v1+json": {
       "config": {
        "plotlyServerURL": "https://plot.ly"
       },
       "data": [
        {
         "marker": {
          "color": [
           0,
           1,
           2,
           3,
           4,
           6,
           8,
           9,
           11,
           12,
           15,
           20,
           21,
           22,
           29,
           31,
           35,
           43,
           65,
           68,
           77,
           81,
           84,
           85,
           86,
           96
          ],
          "colorbar": {
           "title": {
            "text": "#Trials"
           },
           "x": 1,
           "xpad": 40
          },
          "colorscale": [
           [
            0,
            "rgb(247,251,255)"
           ],
           [
            0.125,
            "rgb(222,235,247)"
           ],
           [
            0.25,
            "rgb(198,219,239)"
           ],
           [
            0.375,
            "rgb(158,202,225)"
           ],
           [
            0.5,
            "rgb(107,174,214)"
           ],
           [
            0.625,
            "rgb(66,146,198)"
           ],
           [
            0.75,
            "rgb(33,113,181)"
           ],
           [
            0.875,
            "rgb(8,81,156)"
           ],
           [
            1,
            "rgb(8,48,107)"
           ]
          ],
          "line": {
           "color": "Grey",
           "width": 0.5
          },
          "showscale": true
         },
         "mode": "markers",
         "showlegend": false,
         "type": "scatter",
         "x": [
          0.0016801561613554626,
          4.150146894188187e-05,
          0.01742735341297762,
          0.00836510120287843,
          0.005959544128320366,
          0.0006037049619939256,
          0.003699357433253755,
          0.0008290383644298195,
          0.0028366785551485136,
          0.0033378478466296823,
          0.0026023834468866763,
          0.004734701866521968,
          0.0032877429116842777,
          0.0022966733338897925,
          0.001934702484556159,
          0.002269914575227272,
          0.005296695095678726,
          0.0021667133974016873,
          0.0044025218905984695,
          0.0023311988429061095,
          0.003287877276090833,
          0.003453107696755918,
          0.004146112094892482,
          0.004629038062214431,
          0.0028223530220840426,
          0.00247686650609683
         ],
         "xaxis": "x",
         "y": [
          0.77,
          0.697,
          0.724,
          0.286,
          0.749,
          0.758,
          0.802,
          0.765,
          0.801,
          0.796,
          0.781,
          0.781,
          0.779,
          0.771,
          0.752,
          0.787,
          0.814,
          0.79,
          0.806,
          0.797,
          0.788,
          0.781,
          0.793,
          0.787,
          0.779,
          0.764
         ],
         "yaxis": "y"
        },
        {
         "marker": {
          "color": [
           0,
           1,
           2,
           3,
           4,
           6,
           8,
           9,
           11,
           12,
           15,
           20,
           21,
           22,
           29,
           31,
           35,
           43,
           65,
           68,
           77,
           81,
           84,
           85,
           86,
           96
          ],
          "colorbar": {
           "title": {
            "text": "#Trials"
           },
           "x": 1,
           "xpad": 40
          },
          "colorscale": [
           [
            0,
            "rgb(247,251,255)"
           ],
           [
            0.125,
            "rgb(222,235,247)"
           ],
           [
            0.25,
            "rgb(198,219,239)"
           ],
           [
            0.375,
            "rgb(158,202,225)"
           ],
           [
            0.5,
            "rgb(107,174,214)"
           ],
           [
            0.625,
            "rgb(66,146,198)"
           ],
           [
            0.75,
            "rgb(33,113,181)"
           ],
           [
            0.875,
            "rgb(8,81,156)"
           ],
           [
            1,
            "rgb(8,48,107)"
           ]
          ],
          "line": {
           "color": "Grey",
           "width": 0.5
          },
          "showscale": false
         },
         "mode": "markers",
         "showlegend": false,
         "type": "scatter",
         "x": [
          60,
          59,
          58,
          40,
          39,
          44,
          55,
          53,
          64,
          53,
          52,
          62,
          54,
          48,
          62,
          52,
          59,
          57,
          61,
          58,
          56,
          56,
          55,
          57,
          61,
          50
         ],
         "xaxis": "x2",
         "y": [
          0.77,
          0.697,
          0.724,
          0.286,
          0.749,
          0.758,
          0.802,
          0.765,
          0.801,
          0.796,
          0.781,
          0.781,
          0.779,
          0.771,
          0.752,
          0.787,
          0.814,
          0.79,
          0.806,
          0.797,
          0.788,
          0.781,
          0.793,
          0.787,
          0.779,
          0.764
         ],
         "yaxis": "y2"
        },
        {
         "marker": {
          "color": [
           0,
           1,
           2,
           3,
           4,
           6,
           8,
           9,
           11,
           12,
           15,
           20,
           21,
           22,
           29,
           31,
           35,
           43,
           65,
           68,
           77,
           81,
           84,
           85,
           86,
           96
          ],
          "colorbar": {
           "title": {
            "text": "#Trials"
           },
           "x": 1,
           "xpad": 40
          },
          "colorscale": [
           [
            0,
            "rgb(247,251,255)"
           ],
           [
            0.125,
            "rgb(222,235,247)"
           ],
           [
            0.25,
            "rgb(198,219,239)"
           ],
           [
            0.375,
            "rgb(158,202,225)"
           ],
           [
            0.5,
            "rgb(107,174,214)"
           ],
           [
            0.625,
            "rgb(66,146,198)"
           ],
           [
            0.75,
            "rgb(33,113,181)"
           ],
           [
            0.875,
            "rgb(8,81,156)"
           ],
           [
            1,
            "rgb(8,48,107)"
           ]
          ],
          "line": {
           "color": "Grey",
           "width": 0.5
          },
          "showscale": false
         },
         "mode": "markers",
         "showlegend": false,
         "type": "scatter",
         "x": [
          52,
          54,
          60,
          50,
          64,
          49,
          60,
          41,
          56,
          58,
          42,
          57,
          58,
          52,
          52,
          39,
          54,
          50,
          58,
          35,
          53,
          51,
          56,
          56,
          58,
          57
         ],
         "xaxis": "x3",
         "y": [
          0.77,
          0.697,
          0.724,
          0.286,
          0.749,
          0.758,
          0.802,
          0.765,
          0.801,
          0.796,
          0.781,
          0.781,
          0.779,
          0.771,
          0.752,
          0.787,
          0.814,
          0.79,
          0.806,
          0.797,
          0.788,
          0.781,
          0.793,
          0.787,
          0.779,
          0.764
         ],
         "yaxis": "y3"
        },
        {
         "marker": {
          "color": [
           0,
           1,
           2,
           3,
           4,
           6,
           8,
           9,
           11,
           12,
           15,
           20,
           21,
           22,
           29,
           31,
           35,
           43,
           65,
           68,
           77,
           81,
           84,
           85,
           86,
           96
          ],
          "colorbar": {
           "title": {
            "text": "#Trials"
           },
           "x": 1,
           "xpad": 40
          },
          "colorscale": [
           [
            0,
            "rgb(247,251,255)"
           ],
           [
            0.125,
            "rgb(222,235,247)"
           ],
           [
            0.25,
            "rgb(198,219,239)"
           ],
           [
            0.375,
            "rgb(158,202,225)"
           ],
           [
            0.5,
            "rgb(107,174,214)"
           ],
           [
            0.625,
            "rgb(66,146,198)"
           ],
           [
            0.75,
            "rgb(33,113,181)"
           ],
           [
            0.875,
            "rgb(8,81,156)"
           ],
           [
            1,
            "rgb(8,48,107)"
           ]
          ],
          "line": {
           "color": "Grey",
           "width": 0.5
          },
          "showscale": false
         },
         "mode": "markers",
         "showlegend": false,
         "type": "scatter",
         "x": [
          52,
          46,
          58,
          47,
          63,
          51,
          55,
          34,
          54,
          55,
          59,
          42,
          55,
          54,
          52,
          60,
          60,
          59,
          45,
          46,
          61,
          57,
          60,
          60,
          56,
          50
         ],
         "xaxis": "x4",
         "y": [
          0.77,
          0.697,
          0.724,
          0.286,
          0.749,
          0.758,
          0.802,
          0.765,
          0.801,
          0.796,
          0.781,
          0.781,
          0.779,
          0.771,
          0.752,
          0.787,
          0.814,
          0.79,
          0.806,
          0.797,
          0.788,
          0.781,
          0.793,
          0.787,
          0.779,
          0.764
         ],
         "yaxis": "y4"
        }
       ],
       "layout": {
        "template": {
         "data": {
          "bar": [
           {
            "error_x": {
             "color": "#2a3f5f"
            },
            "error_y": {
             "color": "#2a3f5f"
            },
            "marker": {
             "line": {
              "color": "#E5ECF6",
              "width": 0.5
             }
            },
            "type": "bar"
           }
          ],
          "barpolar": [
           {
            "marker": {
             "line": {
              "color": "#E5ECF6",
              "width": 0.5
             }
            },
            "type": "barpolar"
           }
          ],
          "carpet": [
           {
            "aaxis": {
             "endlinecolor": "#2a3f5f",
             "gridcolor": "white",
             "linecolor": "white",
             "minorgridcolor": "white",
             "startlinecolor": "#2a3f5f"
            },
            "baxis": {
             "endlinecolor": "#2a3f5f",
             "gridcolor": "white",
             "linecolor": "white",
             "minorgridcolor": "white",
             "startlinecolor": "#2a3f5f"
            },
            "type": "carpet"
           }
          ],
          "choropleth": [
           {
            "colorbar": {
             "outlinewidth": 0,
             "ticks": ""
            },
            "type": "choropleth"
           }
          ],
          "contour": [
           {
            "colorbar": {
             "outlinewidth": 0,
             "ticks": ""
            },
            "colorscale": [
             [
              0,
              "#0d0887"
             ],
             [
              0.1111111111111111,
              "#46039f"
             ],
             [
              0.2222222222222222,
              "#7201a8"
             ],
             [
              0.3333333333333333,
              "#9c179e"
             ],
             [
              0.4444444444444444,
              "#bd3786"
             ],
             [
              0.5555555555555556,
              "#d8576b"
             ],
             [
              0.6666666666666666,
              "#ed7953"
             ],
             [
              0.7777777777777778,
              "#fb9f3a"
             ],
             [
              0.8888888888888888,
              "#fdca26"
             ],
             [
              1,
              "#f0f921"
             ]
            ],
            "type": "contour"
           }
          ],
          "contourcarpet": [
           {
            "colorbar": {
             "outlinewidth": 0,
             "ticks": ""
            },
            "type": "contourcarpet"
           }
          ],
          "heatmap": [
           {
            "colorbar": {
             "outlinewidth": 0,
             "ticks": ""
            },
            "colorscale": [
             [
              0,
              "#0d0887"
             ],
             [
              0.1111111111111111,
              "#46039f"
             ],
             [
              0.2222222222222222,
              "#7201a8"
             ],
             [
              0.3333333333333333,
              "#9c179e"
             ],
             [
              0.4444444444444444,
              "#bd3786"
             ],
             [
              0.5555555555555556,
              "#d8576b"
             ],
             [
              0.6666666666666666,
              "#ed7953"
             ],
             [
              0.7777777777777778,
              "#fb9f3a"
             ],
             [
              0.8888888888888888,
              "#fdca26"
             ],
             [
              1,
              "#f0f921"
             ]
            ],
            "type": "heatmap"
           }
          ],
          "heatmapgl": [
           {
            "colorbar": {
             "outlinewidth": 0,
             "ticks": ""
            },
            "colorscale": [
             [
              0,
              "#0d0887"
             ],
             [
              0.1111111111111111,
              "#46039f"
             ],
             [
              0.2222222222222222,
              "#7201a8"
             ],
             [
              0.3333333333333333,
              "#9c179e"
             ],
             [
              0.4444444444444444,
              "#bd3786"
             ],
             [
              0.5555555555555556,
              "#d8576b"
             ],
             [
              0.6666666666666666,
              "#ed7953"
             ],
             [
              0.7777777777777778,
              "#fb9f3a"
             ],
             [
              0.8888888888888888,
              "#fdca26"
             ],
             [
              1,
              "#f0f921"
             ]
            ],
            "type": "heatmapgl"
           }
          ],
          "histogram": [
           {
            "marker": {
             "colorbar": {
              "outlinewidth": 0,
              "ticks": ""
             }
            },
            "type": "histogram"
           }
          ],
          "histogram2d": [
           {
            "colorbar": {
             "outlinewidth": 0,
             "ticks": ""
            },
            "colorscale": [
             [
              0,
              "#0d0887"
             ],
             [
              0.1111111111111111,
              "#46039f"
             ],
             [
              0.2222222222222222,
              "#7201a8"
             ],
             [
              0.3333333333333333,
              "#9c179e"
             ],
             [
              0.4444444444444444,
              "#bd3786"
             ],
             [
              0.5555555555555556,
              "#d8576b"
             ],
             [
              0.6666666666666666,
              "#ed7953"
             ],
             [
              0.7777777777777778,
              "#fb9f3a"
             ],
             [
              0.8888888888888888,
              "#fdca26"
             ],
             [
              1,
              "#f0f921"
             ]
            ],
            "type": "histogram2d"
           }
          ],
          "histogram2dcontour": [
           {
            "colorbar": {
             "outlinewidth": 0,
             "ticks": ""
            },
            "colorscale": [
             [
              0,
              "#0d0887"
             ],
             [
              0.1111111111111111,
              "#46039f"
             ],
             [
              0.2222222222222222,
              "#7201a8"
             ],
             [
              0.3333333333333333,
              "#9c179e"
             ],
             [
              0.4444444444444444,
              "#bd3786"
             ],
             [
              0.5555555555555556,
              "#d8576b"
             ],
             [
              0.6666666666666666,
              "#ed7953"
             ],
             [
              0.7777777777777778,
              "#fb9f3a"
             ],
             [
              0.8888888888888888,
              "#fdca26"
             ],
             [
              1,
              "#f0f921"
             ]
            ],
            "type": "histogram2dcontour"
           }
          ],
          "mesh3d": [
           {
            "colorbar": {
             "outlinewidth": 0,
             "ticks": ""
            },
            "type": "mesh3d"
           }
          ],
          "parcoords": [
           {
            "line": {
             "colorbar": {
              "outlinewidth": 0,
              "ticks": ""
             }
            },
            "type": "parcoords"
           }
          ],
          "pie": [
           {
            "automargin": true,
            "type": "pie"
           }
          ],
          "scatter": [
           {
            "marker": {
             "colorbar": {
              "outlinewidth": 0,
              "ticks": ""
             }
            },
            "type": "scatter"
           }
          ],
          "scatter3d": [
           {
            "line": {
             "colorbar": {
              "outlinewidth": 0,
              "ticks": ""
             }
            },
            "marker": {
             "colorbar": {
              "outlinewidth": 0,
              "ticks": ""
             }
            },
            "type": "scatter3d"
           }
          ],
          "scattercarpet": [
           {
            "marker": {
             "colorbar": {
              "outlinewidth": 0,
              "ticks": ""
             }
            },
            "type": "scattercarpet"
           }
          ],
          "scattergeo": [
           {
            "marker": {
             "colorbar": {
              "outlinewidth": 0,
              "ticks": ""
             }
            },
            "type": "scattergeo"
           }
          ],
          "scattergl": [
           {
            "marker": {
             "colorbar": {
              "outlinewidth": 0,
              "ticks": ""
             }
            },
            "type": "scattergl"
           }
          ],
          "scattermapbox": [
           {
            "marker": {
             "colorbar": {
              "outlinewidth": 0,
              "ticks": ""
             }
            },
            "type": "scattermapbox"
           }
          ],
          "scatterpolar": [
           {
            "marker": {
             "colorbar": {
              "outlinewidth": 0,
              "ticks": ""
             }
            },
            "type": "scatterpolar"
           }
          ],
          "scatterpolargl": [
           {
            "marker": {
             "colorbar": {
              "outlinewidth": 0,
              "ticks": ""
             }
            },
            "type": "scatterpolargl"
           }
          ],
          "scatterternary": [
           {
            "marker": {
             "colorbar": {
              "outlinewidth": 0,
              "ticks": ""
             }
            },
            "type": "scatterternary"
           }
          ],
          "surface": [
           {
            "colorbar": {
             "outlinewidth": 0,
             "ticks": ""
            },
            "colorscale": [
             [
              0,
              "#0d0887"
             ],
             [
              0.1111111111111111,
              "#46039f"
             ],
             [
              0.2222222222222222,
              "#7201a8"
             ],
             [
              0.3333333333333333,
              "#9c179e"
             ],
             [
              0.4444444444444444,
              "#bd3786"
             ],
             [
              0.5555555555555556,
              "#d8576b"
             ],
             [
              0.6666666666666666,
              "#ed7953"
             ],
             [
              0.7777777777777778,
              "#fb9f3a"
             ],
             [
              0.8888888888888888,
              "#fdca26"
             ],
             [
              1,
              "#f0f921"
             ]
            ],
            "type": "surface"
           }
          ],
          "table": [
           {
            "cells": {
             "fill": {
              "color": "#EBF0F8"
             },
             "line": {
              "color": "white"
             }
            },
            "header": {
             "fill": {
              "color": "#C8D4E3"
             },
             "line": {
              "color": "white"
             }
            },
            "type": "table"
           }
          ]
         },
         "layout": {
          "annotationdefaults": {
           "arrowcolor": "#2a3f5f",
           "arrowhead": 0,
           "arrowwidth": 1
          },
          "coloraxis": {
           "colorbar": {
            "outlinewidth": 0,
            "ticks": ""
           }
          },
          "colorscale": {
           "diverging": [
            [
             0,
             "#8e0152"
            ],
            [
             0.1,
             "#c51b7d"
            ],
            [
             0.2,
             "#de77ae"
            ],
            [
             0.3,
             "#f1b6da"
            ],
            [
             0.4,
             "#fde0ef"
            ],
            [
             0.5,
             "#f7f7f7"
            ],
            [
             0.6,
             "#e6f5d0"
            ],
            [
             0.7,
             "#b8e186"
            ],
            [
             0.8,
             "#7fbc41"
            ],
            [
             0.9,
             "#4d9221"
            ],
            [
             1,
             "#276419"
            ]
           ],
           "sequential": [
            [
             0,
             "#0d0887"
            ],
            [
             0.1111111111111111,
             "#46039f"
            ],
            [
             0.2222222222222222,
             "#7201a8"
            ],
            [
             0.3333333333333333,
             "#9c179e"
            ],
            [
             0.4444444444444444,
             "#bd3786"
            ],
            [
             0.5555555555555556,
             "#d8576b"
            ],
            [
             0.6666666666666666,
             "#ed7953"
            ],
            [
             0.7777777777777778,
             "#fb9f3a"
            ],
            [
             0.8888888888888888,
             "#fdca26"
            ],
            [
             1,
             "#f0f921"
            ]
           ],
           "sequentialminus": [
            [
             0,
             "#0d0887"
            ],
            [
             0.1111111111111111,
             "#46039f"
            ],
            [
             0.2222222222222222,
             "#7201a8"
            ],
            [
             0.3333333333333333,
             "#9c179e"
            ],
            [
             0.4444444444444444,
             "#bd3786"
            ],
            [
             0.5555555555555556,
             "#d8576b"
            ],
            [
             0.6666666666666666,
             "#ed7953"
            ],
            [
             0.7777777777777778,
             "#fb9f3a"
            ],
            [
             0.8888888888888888,
             "#fdca26"
            ],
            [
             1,
             "#f0f921"
            ]
           ]
          },
          "colorway": [
           "#636efa",
           "#EF553B",
           "#00cc96",
           "#ab63fa",
           "#FFA15A",
           "#19d3f3",
           "#FF6692",
           "#B6E880",
           "#FF97FF",
           "#FECB52"
          ],
          "font": {
           "color": "#2a3f5f"
          },
          "geo": {
           "bgcolor": "white",
           "lakecolor": "white",
           "landcolor": "#E5ECF6",
           "showlakes": true,
           "showland": true,
           "subunitcolor": "white"
          },
          "hoverlabel": {
           "align": "left"
          },
          "hovermode": "closest",
          "mapbox": {
           "style": "light"
          },
          "paper_bgcolor": "white",
          "plot_bgcolor": "#E5ECF6",
          "polar": {
           "angularaxis": {
            "gridcolor": "white",
            "linecolor": "white",
            "ticks": ""
           },
           "bgcolor": "#E5ECF6",
           "radialaxis": {
            "gridcolor": "white",
            "linecolor": "white",
            "ticks": ""
           }
          },
          "scene": {
           "xaxis": {
            "backgroundcolor": "#E5ECF6",
            "gridcolor": "white",
            "gridwidth": 2,
            "linecolor": "white",
            "showbackground": true,
            "ticks": "",
            "zerolinecolor": "white"
           },
           "yaxis": {
            "backgroundcolor": "#E5ECF6",
            "gridcolor": "white",
            "gridwidth": 2,
            "linecolor": "white",
            "showbackground": true,
            "ticks": "",
            "zerolinecolor": "white"
           },
           "zaxis": {
            "backgroundcolor": "#E5ECF6",
            "gridcolor": "white",
            "gridwidth": 2,
            "linecolor": "white",
            "showbackground": true,
            "ticks": "",
            "zerolinecolor": "white"
           }
          },
          "shapedefaults": {
           "line": {
            "color": "#2a3f5f"
           }
          },
          "ternary": {
           "aaxis": {
            "gridcolor": "white",
            "linecolor": "white",
            "ticks": ""
           },
           "baxis": {
            "gridcolor": "white",
            "linecolor": "white",
            "ticks": ""
           },
           "bgcolor": "#E5ECF6",
           "caxis": {
            "gridcolor": "white",
            "linecolor": "white",
            "ticks": ""
           }
          },
          "title": {
           "x": 0.05
          },
          "xaxis": {
           "automargin": true,
           "gridcolor": "white",
           "linecolor": "white",
           "ticks": "",
           "title": {
            "standoff": 15
           },
           "zerolinecolor": "white",
           "zerolinewidth": 2
          },
          "yaxis": {
           "automargin": true,
           "gridcolor": "white",
           "linecolor": "white",
           "ticks": "",
           "title": {
            "standoff": 15
           },
           "zerolinecolor": "white",
           "zerolinewidth": 2
          }
         }
        },
        "title": {
         "text": "Slice Plot"
        },
        "width": 1200,
        "xaxis": {
         "anchor": "y",
         "domain": [
          0,
          0.2125
         ],
         "title": {
          "text": "lr_init"
         },
         "type": "log"
        },
        "xaxis2": {
         "anchor": "y2",
         "domain": [
          0.2625,
          0.475
         ],
         "title": {
          "text": "n_units_l0"
         }
        },
        "xaxis3": {
         "anchor": "y3",
         "domain": [
          0.525,
          0.7375
         ],
         "title": {
          "text": "n_units_l1"
         }
        },
        "xaxis4": {
         "anchor": "y4",
         "domain": [
          0.7875,
          1
         ],
         "title": {
          "text": "n_units_l2"
         }
        },
        "yaxis": {
         "anchor": "x",
         "domain": [
          0,
          1
         ],
         "title": {
          "text": "Objective Value"
         }
        },
        "yaxis2": {
         "anchor": "x2",
         "domain": [
          0,
          1
         ],
         "matches": "y",
         "showticklabels": false
        },
        "yaxis3": {
         "anchor": "x3",
         "domain": [
          0,
          1
         ],
         "matches": "y",
         "showticklabels": false
        },
        "yaxis4": {
         "anchor": "x4",
         "domain": [
          0,
          1
         ],
         "matches": "y",
         "showticklabels": false
        }
       }
      },
      "text/html": [
       "<div>\n",
       "        \n",
       "        \n",
       "            <div id=\"b6a0fa54-f076-4c9b-8a61-cf1c4b034ee0\" class=\"plotly-graph-div\" style=\"height:525px; width:1200px;\"></div>\n",
       "            <script type=\"text/javascript\">\n",
       "                require([\"plotly\"], function(Plotly) {\n",
       "                    window.PLOTLYENV=window.PLOTLYENV || {};\n",
       "                    \n",
       "                if (document.getElementById(\"b6a0fa54-f076-4c9b-8a61-cf1c4b034ee0\")) {\n",
       "                    Plotly.newPlot(\n",
       "                        'b6a0fa54-f076-4c9b-8a61-cf1c4b034ee0',\n",
       "                        [{\"marker\": {\"color\": [0, 1, 2, 3, 4, 6, 8, 9, 11, 12, 15, 20, 21, 22, 29, 31, 35, 43, 65, 68, 77, 81, 84, 85, 86, 96], \"colorbar\": {\"title\": {\"text\": \"#Trials\"}, \"x\": 1.0, \"xpad\": 40}, \"colorscale\": [[0.0, \"rgb(247,251,255)\"], [0.125, \"rgb(222,235,247)\"], [0.25, \"rgb(198,219,239)\"], [0.375, \"rgb(158,202,225)\"], [0.5, \"rgb(107,174,214)\"], [0.625, \"rgb(66,146,198)\"], [0.75, \"rgb(33,113,181)\"], [0.875, \"rgb(8,81,156)\"], [1.0, \"rgb(8,48,107)\"]], \"line\": {\"color\": \"Grey\", \"width\": 0.5}, \"showscale\": true}, \"mode\": \"markers\", \"showlegend\": false, \"type\": \"scatter\", \"x\": [0.0016801561613554626, 4.150146894188187e-05, 0.01742735341297762, 0.00836510120287843, 0.005959544128320366, 0.0006037049619939256, 0.003699357433253755, 0.0008290383644298195, 0.0028366785551485136, 0.0033378478466296823, 0.0026023834468866763, 0.004734701866521968, 0.0032877429116842777, 0.0022966733338897925, 0.001934702484556159, 0.002269914575227272, 0.005296695095678726, 0.0021667133974016873, 0.0044025218905984695, 0.0023311988429061095, 0.003287877276090833, 0.003453107696755918, 0.004146112094892482, 0.004629038062214431, 0.0028223530220840426, 0.00247686650609683], \"xaxis\": \"x\", \"y\": [0.77, 0.697, 0.724, 0.286, 0.749, 0.758, 0.802, 0.765, 0.801, 0.796, 0.781, 0.781, 0.779, 0.771, 0.752, 0.787, 0.814, 0.79, 0.806, 0.797, 0.788, 0.781, 0.793, 0.787, 0.779, 0.764], \"yaxis\": \"y\"}, {\"marker\": {\"color\": [0, 1, 2, 3, 4, 6, 8, 9, 11, 12, 15, 20, 21, 22, 29, 31, 35, 43, 65, 68, 77, 81, 84, 85, 86, 96], \"colorbar\": {\"title\": {\"text\": \"#Trials\"}, \"x\": 1.0, \"xpad\": 40}, \"colorscale\": [[0.0, \"rgb(247,251,255)\"], [0.125, \"rgb(222,235,247)\"], [0.25, \"rgb(198,219,239)\"], [0.375, \"rgb(158,202,225)\"], [0.5, \"rgb(107,174,214)\"], [0.625, \"rgb(66,146,198)\"], [0.75, \"rgb(33,113,181)\"], [0.875, \"rgb(8,81,156)\"], [1.0, \"rgb(8,48,107)\"]], \"line\": {\"color\": \"Grey\", \"width\": 0.5}, \"showscale\": false}, \"mode\": \"markers\", \"showlegend\": false, \"type\": \"scatter\", \"x\": [60, 59, 58, 40, 39, 44, 55, 53, 64, 53, 52, 62, 54, 48, 62, 52, 59, 57, 61, 58, 56, 56, 55, 57, 61, 50], \"xaxis\": \"x2\", \"y\": [0.77, 0.697, 0.724, 0.286, 0.749, 0.758, 0.802, 0.765, 0.801, 0.796, 0.781, 0.781, 0.779, 0.771, 0.752, 0.787, 0.814, 0.79, 0.806, 0.797, 0.788, 0.781, 0.793, 0.787, 0.779, 0.764], \"yaxis\": \"y2\"}, {\"marker\": {\"color\": [0, 1, 2, 3, 4, 6, 8, 9, 11, 12, 15, 20, 21, 22, 29, 31, 35, 43, 65, 68, 77, 81, 84, 85, 86, 96], \"colorbar\": {\"title\": {\"text\": \"#Trials\"}, \"x\": 1.0, \"xpad\": 40}, \"colorscale\": [[0.0, \"rgb(247,251,255)\"], [0.125, \"rgb(222,235,247)\"], [0.25, \"rgb(198,219,239)\"], [0.375, \"rgb(158,202,225)\"], [0.5, \"rgb(107,174,214)\"], [0.625, \"rgb(66,146,198)\"], [0.75, \"rgb(33,113,181)\"], [0.875, \"rgb(8,81,156)\"], [1.0, \"rgb(8,48,107)\"]], \"line\": {\"color\": \"Grey\", \"width\": 0.5}, \"showscale\": false}, \"mode\": \"markers\", \"showlegend\": false, \"type\": \"scatter\", \"x\": [52, 54, 60, 50, 64, 49, 60, 41, 56, 58, 42, 57, 58, 52, 52, 39, 54, 50, 58, 35, 53, 51, 56, 56, 58, 57], \"xaxis\": \"x3\", \"y\": [0.77, 0.697, 0.724, 0.286, 0.749, 0.758, 0.802, 0.765, 0.801, 0.796, 0.781, 0.781, 0.779, 0.771, 0.752, 0.787, 0.814, 0.79, 0.806, 0.797, 0.788, 0.781, 0.793, 0.787, 0.779, 0.764], \"yaxis\": \"y3\"}, {\"marker\": {\"color\": [0, 1, 2, 3, 4, 6, 8, 9, 11, 12, 15, 20, 21, 22, 29, 31, 35, 43, 65, 68, 77, 81, 84, 85, 86, 96], \"colorbar\": {\"title\": {\"text\": \"#Trials\"}, \"x\": 1.0, \"xpad\": 40}, \"colorscale\": [[0.0, \"rgb(247,251,255)\"], [0.125, \"rgb(222,235,247)\"], [0.25, \"rgb(198,219,239)\"], [0.375, \"rgb(158,202,225)\"], [0.5, \"rgb(107,174,214)\"], [0.625, \"rgb(66,146,198)\"], [0.75, \"rgb(33,113,181)\"], [0.875, \"rgb(8,81,156)\"], [1.0, \"rgb(8,48,107)\"]], \"line\": {\"color\": \"Grey\", \"width\": 0.5}, \"showscale\": false}, \"mode\": \"markers\", \"showlegend\": false, \"type\": \"scatter\", \"x\": [52, 46, 58, 47, 63, 51, 55, 34, 54, 55, 59, 42, 55, 54, 52, 60, 60, 59, 45, 46, 61, 57, 60, 60, 56, 50], \"xaxis\": \"x4\", \"y\": [0.77, 0.697, 0.724, 0.286, 0.749, 0.758, 0.802, 0.765, 0.801, 0.796, 0.781, 0.781, 0.779, 0.771, 0.752, 0.787, 0.814, 0.79, 0.806, 0.797, 0.788, 0.781, 0.793, 0.787, 0.779, 0.764], \"yaxis\": \"y4\"}],\n",
       "                        {\"template\": {\"data\": {\"bar\": [{\"error_x\": {\"color\": \"#2a3f5f\"}, \"error_y\": {\"color\": \"#2a3f5f\"}, \"marker\": {\"line\": {\"color\": \"#E5ECF6\", \"width\": 0.5}}, \"type\": \"bar\"}], \"barpolar\": [{\"marker\": {\"line\": {\"color\": \"#E5ECF6\", \"width\": 0.5}}, \"type\": \"barpolar\"}], \"carpet\": [{\"aaxis\": {\"endlinecolor\": \"#2a3f5f\", \"gridcolor\": \"white\", \"linecolor\": \"white\", \"minorgridcolor\": \"white\", \"startlinecolor\": \"#2a3f5f\"}, \"baxis\": {\"endlinecolor\": \"#2a3f5f\", \"gridcolor\": \"white\", \"linecolor\": \"white\", \"minorgridcolor\": \"white\", \"startlinecolor\": \"#2a3f5f\"}, \"type\": \"carpet\"}], \"choropleth\": [{\"colorbar\": {\"outlinewidth\": 0, \"ticks\": \"\"}, \"type\": \"choropleth\"}], \"contour\": [{\"colorbar\": {\"outlinewidth\": 0, \"ticks\": \"\"}, \"colorscale\": [[0.0, \"#0d0887\"], [0.1111111111111111, \"#46039f\"], [0.2222222222222222, \"#7201a8\"], [0.3333333333333333, \"#9c179e\"], [0.4444444444444444, \"#bd3786\"], [0.5555555555555556, \"#d8576b\"], [0.6666666666666666, \"#ed7953\"], [0.7777777777777778, \"#fb9f3a\"], [0.8888888888888888, \"#fdca26\"], [1.0, \"#f0f921\"]], \"type\": \"contour\"}], \"contourcarpet\": [{\"colorbar\": {\"outlinewidth\": 0, \"ticks\": \"\"}, \"type\": \"contourcarpet\"}], \"heatmap\": [{\"colorbar\": {\"outlinewidth\": 0, \"ticks\": \"\"}, \"colorscale\": [[0.0, \"#0d0887\"], [0.1111111111111111, \"#46039f\"], [0.2222222222222222, \"#7201a8\"], [0.3333333333333333, \"#9c179e\"], [0.4444444444444444, \"#bd3786\"], [0.5555555555555556, \"#d8576b\"], [0.6666666666666666, \"#ed7953\"], [0.7777777777777778, \"#fb9f3a\"], [0.8888888888888888, \"#fdca26\"], [1.0, \"#f0f921\"]], \"type\": \"heatmap\"}], \"heatmapgl\": [{\"colorbar\": {\"outlinewidth\": 0, \"ticks\": \"\"}, \"colorscale\": [[0.0, \"#0d0887\"], [0.1111111111111111, \"#46039f\"], [0.2222222222222222, \"#7201a8\"], [0.3333333333333333, \"#9c179e\"], [0.4444444444444444, \"#bd3786\"], [0.5555555555555556, \"#d8576b\"], [0.6666666666666666, \"#ed7953\"], [0.7777777777777778, \"#fb9f3a\"], [0.8888888888888888, \"#fdca26\"], [1.0, \"#f0f921\"]], \"type\": \"heatmapgl\"}], \"histogram\": [{\"marker\": {\"colorbar\": {\"outlinewidth\": 0, \"ticks\": \"\"}}, \"type\": \"histogram\"}], \"histogram2d\": [{\"colorbar\": {\"outlinewidth\": 0, \"ticks\": \"\"}, \"colorscale\": [[0.0, \"#0d0887\"], [0.1111111111111111, \"#46039f\"], [0.2222222222222222, \"#7201a8\"], [0.3333333333333333, \"#9c179e\"], [0.4444444444444444, \"#bd3786\"], [0.5555555555555556, \"#d8576b\"], [0.6666666666666666, \"#ed7953\"], [0.7777777777777778, \"#fb9f3a\"], [0.8888888888888888, \"#fdca26\"], [1.0, \"#f0f921\"]], \"type\": \"histogram2d\"}], \"histogram2dcontour\": [{\"colorbar\": {\"outlinewidth\": 0, \"ticks\": \"\"}, \"colorscale\": [[0.0, \"#0d0887\"], [0.1111111111111111, \"#46039f\"], [0.2222222222222222, \"#7201a8\"], [0.3333333333333333, \"#9c179e\"], [0.4444444444444444, \"#bd3786\"], [0.5555555555555556, \"#d8576b\"], [0.6666666666666666, \"#ed7953\"], [0.7777777777777778, \"#fb9f3a\"], [0.8888888888888888, \"#fdca26\"], [1.0, \"#f0f921\"]], \"type\": \"histogram2dcontour\"}], \"mesh3d\": [{\"colorbar\": {\"outlinewidth\": 0, \"ticks\": \"\"}, \"type\": \"mesh3d\"}], \"parcoords\": [{\"line\": {\"colorbar\": {\"outlinewidth\": 0, \"ticks\": \"\"}}, \"type\": \"parcoords\"}], \"pie\": [{\"automargin\": true, \"type\": \"pie\"}], \"scatter\": [{\"marker\": {\"colorbar\": {\"outlinewidth\": 0, \"ticks\": \"\"}}, \"type\": \"scatter\"}], \"scatter3d\": [{\"line\": {\"colorbar\": {\"outlinewidth\": 0, \"ticks\": \"\"}}, \"marker\": {\"colorbar\": {\"outlinewidth\": 0, \"ticks\": \"\"}}, \"type\": \"scatter3d\"}], \"scattercarpet\": [{\"marker\": {\"colorbar\": {\"outlinewidth\": 0, \"ticks\": \"\"}}, \"type\": \"scattercarpet\"}], \"scattergeo\": [{\"marker\": {\"colorbar\": {\"outlinewidth\": 0, \"ticks\": \"\"}}, \"type\": \"scattergeo\"}], \"scattergl\": [{\"marker\": {\"colorbar\": {\"outlinewidth\": 0, \"ticks\": \"\"}}, \"type\": \"scattergl\"}], \"scattermapbox\": [{\"marker\": {\"colorbar\": {\"outlinewidth\": 0, \"ticks\": \"\"}}, \"type\": \"scattermapbox\"}], \"scatterpolar\": [{\"marker\": {\"colorbar\": {\"outlinewidth\": 0, \"ticks\": \"\"}}, \"type\": \"scatterpolar\"}], \"scatterpolargl\": [{\"marker\": {\"colorbar\": {\"outlinewidth\": 0, \"ticks\": \"\"}}, \"type\": \"scatterpolargl\"}], \"scatterternary\": [{\"marker\": {\"colorbar\": {\"outlinewidth\": 0, \"ticks\": \"\"}}, \"type\": \"scatterternary\"}], \"surface\": [{\"colorbar\": {\"outlinewidth\": 0, \"ticks\": \"\"}, \"colorscale\": [[0.0, \"#0d0887\"], [0.1111111111111111, \"#46039f\"], [0.2222222222222222, \"#7201a8\"], [0.3333333333333333, \"#9c179e\"], [0.4444444444444444, \"#bd3786\"], [0.5555555555555556, \"#d8576b\"], [0.6666666666666666, \"#ed7953\"], [0.7777777777777778, \"#fb9f3a\"], [0.8888888888888888, \"#fdca26\"], [1.0, \"#f0f921\"]], \"type\": \"surface\"}], \"table\": [{\"cells\": {\"fill\": {\"color\": \"#EBF0F8\"}, \"line\": {\"color\": \"white\"}}, \"header\": {\"fill\": {\"color\": \"#C8D4E3\"}, \"line\": {\"color\": \"white\"}}, \"type\": \"table\"}]}, \"layout\": {\"annotationdefaults\": {\"arrowcolor\": \"#2a3f5f\", \"arrowhead\": 0, \"arrowwidth\": 1}, \"coloraxis\": {\"colorbar\": {\"outlinewidth\": 0, \"ticks\": \"\"}}, \"colorscale\": {\"diverging\": [[0, \"#8e0152\"], [0.1, \"#c51b7d\"], [0.2, \"#de77ae\"], [0.3, \"#f1b6da\"], [0.4, \"#fde0ef\"], [0.5, \"#f7f7f7\"], [0.6, \"#e6f5d0\"], [0.7, \"#b8e186\"], [0.8, \"#7fbc41\"], [0.9, \"#4d9221\"], [1, \"#276419\"]], \"sequential\": [[0.0, \"#0d0887\"], [0.1111111111111111, \"#46039f\"], [0.2222222222222222, \"#7201a8\"], [0.3333333333333333, \"#9c179e\"], [0.4444444444444444, \"#bd3786\"], [0.5555555555555556, \"#d8576b\"], [0.6666666666666666, \"#ed7953\"], [0.7777777777777778, \"#fb9f3a\"], [0.8888888888888888, \"#fdca26\"], [1.0, \"#f0f921\"]], \"sequentialminus\": [[0.0, \"#0d0887\"], [0.1111111111111111, \"#46039f\"], [0.2222222222222222, \"#7201a8\"], [0.3333333333333333, \"#9c179e\"], [0.4444444444444444, \"#bd3786\"], [0.5555555555555556, \"#d8576b\"], [0.6666666666666666, \"#ed7953\"], [0.7777777777777778, \"#fb9f3a\"], [0.8888888888888888, \"#fdca26\"], [1.0, \"#f0f921\"]]}, \"colorway\": [\"#636efa\", \"#EF553B\", \"#00cc96\", \"#ab63fa\", \"#FFA15A\", \"#19d3f3\", \"#FF6692\", \"#B6E880\", \"#FF97FF\", \"#FECB52\"], \"font\": {\"color\": \"#2a3f5f\"}, \"geo\": {\"bgcolor\": \"white\", \"lakecolor\": \"white\", \"landcolor\": \"#E5ECF6\", \"showlakes\": true, \"showland\": true, \"subunitcolor\": \"white\"}, \"hoverlabel\": {\"align\": \"left\"}, \"hovermode\": \"closest\", \"mapbox\": {\"style\": \"light\"}, \"paper_bgcolor\": \"white\", \"plot_bgcolor\": \"#E5ECF6\", \"polar\": {\"angularaxis\": {\"gridcolor\": \"white\", \"linecolor\": \"white\", \"ticks\": \"\"}, \"bgcolor\": \"#E5ECF6\", \"radialaxis\": {\"gridcolor\": \"white\", \"linecolor\": \"white\", \"ticks\": \"\"}}, \"scene\": {\"xaxis\": {\"backgroundcolor\": \"#E5ECF6\", \"gridcolor\": \"white\", \"gridwidth\": 2, \"linecolor\": \"white\", \"showbackground\": true, \"ticks\": \"\", \"zerolinecolor\": \"white\"}, \"yaxis\": {\"backgroundcolor\": \"#E5ECF6\", \"gridcolor\": \"white\", \"gridwidth\": 2, \"linecolor\": \"white\", \"showbackground\": true, \"ticks\": \"\", \"zerolinecolor\": \"white\"}, \"zaxis\": {\"backgroundcolor\": \"#E5ECF6\", \"gridcolor\": \"white\", \"gridwidth\": 2, \"linecolor\": \"white\", \"showbackground\": true, \"ticks\": \"\", \"zerolinecolor\": \"white\"}}, \"shapedefaults\": {\"line\": {\"color\": \"#2a3f5f\"}}, \"ternary\": {\"aaxis\": {\"gridcolor\": \"white\", \"linecolor\": \"white\", \"ticks\": \"\"}, \"baxis\": {\"gridcolor\": \"white\", \"linecolor\": \"white\", \"ticks\": \"\"}, \"bgcolor\": \"#E5ECF6\", \"caxis\": {\"gridcolor\": \"white\", \"linecolor\": \"white\", \"ticks\": \"\"}}, \"title\": {\"x\": 0.05}, \"xaxis\": {\"automargin\": true, \"gridcolor\": \"white\", \"linecolor\": \"white\", \"ticks\": \"\", \"title\": {\"standoff\": 15}, \"zerolinecolor\": \"white\", \"zerolinewidth\": 2}, \"yaxis\": {\"automargin\": true, \"gridcolor\": \"white\", \"linecolor\": \"white\", \"ticks\": \"\", \"title\": {\"standoff\": 15}, \"zerolinecolor\": \"white\", \"zerolinewidth\": 2}}}, \"title\": {\"text\": \"Slice Plot\"}, \"width\": 1200, \"xaxis\": {\"anchor\": \"y\", \"domain\": [0.0, 0.2125], \"title\": {\"text\": \"lr_init\"}, \"type\": \"log\"}, \"xaxis2\": {\"anchor\": \"y2\", \"domain\": [0.2625, 0.475], \"title\": {\"text\": \"n_units_l0\"}}, \"xaxis3\": {\"anchor\": \"y3\", \"domain\": [0.525, 0.7375], \"title\": {\"text\": \"n_units_l1\"}}, \"xaxis4\": {\"anchor\": \"y4\", \"domain\": [0.7875, 1.0], \"title\": {\"text\": \"n_units_l2\"}}, \"yaxis\": {\"anchor\": \"x\", \"domain\": [0.0, 1.0], \"title\": {\"text\": \"Objective Value\"}}, \"yaxis2\": {\"anchor\": \"x2\", \"domain\": [0.0, 1.0], \"matches\": \"y\", \"showticklabels\": false}, \"yaxis3\": {\"anchor\": \"x3\", \"domain\": [0.0, 1.0], \"matches\": \"y\", \"showticklabels\": false}, \"yaxis4\": {\"anchor\": \"x4\", \"domain\": [0.0, 1.0], \"matches\": \"y\", \"showticklabels\": false}},\n",
       "                        {\"responsive\": true}\n",
       "                    ).then(function(){\n",
       "                            \n",
       "var gd = document.getElementById('b6a0fa54-f076-4c9b-8a61-cf1c4b034ee0');\n",
       "var x = new MutationObserver(function (mutations, observer) {{\n",
       "        var display = window.getComputedStyle(gd).display;\n",
       "        if (!display || display === 'none') {{\n",
       "            console.log([gd, 'removed!']);\n",
       "            Plotly.purge(gd);\n",
       "            observer.disconnect();\n",
       "        }}\n",
       "}});\n",
       "\n",
       "// Listen for the removal of the full notebook cells\n",
       "var notebookContainer = gd.closest('#notebook-container');\n",
       "if (notebookContainer) {{\n",
       "    x.observe(notebookContainer, {childList: true});\n",
       "}}\n",
       "\n",
       "// Listen for the clearing of the current output cell\n",
       "var outputEl = gd.closest('.output');\n",
       "if (outputEl) {{\n",
       "    x.observe(outputEl, {childList: true});\n",
       "}}\n",
       "\n",
       "                        })\n",
       "                };\n",
       "                });\n",
       "            </script>\n",
       "        </div>"
      ]
     },
     "metadata": {},
     "output_type": "display_data"
    }
   ],
   "source": [
    "from optuna.visualization import plot_slice\n",
    "\n",
    "plot_slice(study)"
   ]
  },
  {
   "cell_type": "markdown",
   "metadata": {
    "colab_type": "text",
    "id": "sqsM_Z3gUoPd"
   },
   "source": [
    "### Selecting Parameters to Visualize"
   ]
  },
  {
   "cell_type": "code",
   "execution_count": 14,
   "metadata": {
    "colab": {},
    "colab_type": "code",
    "id": "dFHizY0nUoPd"
   },
   "outputs": [
    {
     "data": {
      "application/vnd.plotly.v1+json": {
       "config": {
        "plotlyServerURL": "https://plot.ly"
       },
       "data": [
        {
         "marker": {
          "color": [
           0,
           1,
           2,
           3,
           4,
           6,
           8,
           9,
           11,
           12,
           15,
           20,
           21,
           22,
           29,
           31,
           35,
           43,
           65,
           68,
           77,
           81,
           84,
           85,
           86,
           96
          ],
          "colorbar": {
           "title": {
            "text": "#Trials"
           },
           "x": 1,
           "xpad": 40
          },
          "colorscale": [
           [
            0,
            "rgb(247,251,255)"
           ],
           [
            0.125,
            "rgb(222,235,247)"
           ],
           [
            0.25,
            "rgb(198,219,239)"
           ],
           [
            0.375,
            "rgb(158,202,225)"
           ],
           [
            0.5,
            "rgb(107,174,214)"
           ],
           [
            0.625,
            "rgb(66,146,198)"
           ],
           [
            0.75,
            "rgb(33,113,181)"
           ],
           [
            0.875,
            "rgb(8,81,156)"
           ],
           [
            1,
            "rgb(8,48,107)"
           ]
          ],
          "line": {
           "color": "Grey",
           "width": 0.5
          },
          "showscale": true
         },
         "mode": "markers",
         "showlegend": false,
         "type": "scatter",
         "x": [
          60,
          59,
          58,
          40,
          39,
          44,
          55,
          53,
          64,
          53,
          52,
          62,
          54,
          48,
          62,
          52,
          59,
          57,
          61,
          58,
          56,
          56,
          55,
          57,
          61,
          50
         ],
         "xaxis": "x",
         "y": [
          0.77,
          0.697,
          0.724,
          0.286,
          0.749,
          0.758,
          0.802,
          0.765,
          0.801,
          0.796,
          0.781,
          0.781,
          0.779,
          0.771,
          0.752,
          0.787,
          0.814,
          0.79,
          0.806,
          0.797,
          0.788,
          0.781,
          0.793,
          0.787,
          0.779,
          0.764
         ],
         "yaxis": "y"
        },
        {
         "marker": {
          "color": [
           0,
           1,
           2,
           3,
           4,
           6,
           8,
           9,
           11,
           12,
           15,
           20,
           21,
           22,
           29,
           31,
           35,
           43,
           65,
           68,
           77,
           81,
           84,
           85,
           86,
           96
          ],
          "colorbar": {
           "title": {
            "text": "#Trials"
           },
           "x": 1,
           "xpad": 40
          },
          "colorscale": [
           [
            0,
            "rgb(247,251,255)"
           ],
           [
            0.125,
            "rgb(222,235,247)"
           ],
           [
            0.25,
            "rgb(198,219,239)"
           ],
           [
            0.375,
            "rgb(158,202,225)"
           ],
           [
            0.5,
            "rgb(107,174,214)"
           ],
           [
            0.625,
            "rgb(66,146,198)"
           ],
           [
            0.75,
            "rgb(33,113,181)"
           ],
           [
            0.875,
            "rgb(8,81,156)"
           ],
           [
            1,
            "rgb(8,48,107)"
           ]
          ],
          "line": {
           "color": "Grey",
           "width": 0.5
          },
          "showscale": false
         },
         "mode": "markers",
         "showlegend": false,
         "type": "scatter",
         "x": [
          52,
          54,
          60,
          50,
          64,
          49,
          60,
          41,
          56,
          58,
          42,
          57,
          58,
          52,
          52,
          39,
          54,
          50,
          58,
          35,
          53,
          51,
          56,
          56,
          58,
          57
         ],
         "xaxis": "x2",
         "y": [
          0.77,
          0.697,
          0.724,
          0.286,
          0.749,
          0.758,
          0.802,
          0.765,
          0.801,
          0.796,
          0.781,
          0.781,
          0.779,
          0.771,
          0.752,
          0.787,
          0.814,
          0.79,
          0.806,
          0.797,
          0.788,
          0.781,
          0.793,
          0.787,
          0.779,
          0.764
         ],
         "yaxis": "y2"
        }
       ],
       "layout": {
        "template": {
         "data": {
          "bar": [
           {
            "error_x": {
             "color": "#2a3f5f"
            },
            "error_y": {
             "color": "#2a3f5f"
            },
            "marker": {
             "line": {
              "color": "#E5ECF6",
              "width": 0.5
             }
            },
            "type": "bar"
           }
          ],
          "barpolar": [
           {
            "marker": {
             "line": {
              "color": "#E5ECF6",
              "width": 0.5
             }
            },
            "type": "barpolar"
           }
          ],
          "carpet": [
           {
            "aaxis": {
             "endlinecolor": "#2a3f5f",
             "gridcolor": "white",
             "linecolor": "white",
             "minorgridcolor": "white",
             "startlinecolor": "#2a3f5f"
            },
            "baxis": {
             "endlinecolor": "#2a3f5f",
             "gridcolor": "white",
             "linecolor": "white",
             "minorgridcolor": "white",
             "startlinecolor": "#2a3f5f"
            },
            "type": "carpet"
           }
          ],
          "choropleth": [
           {
            "colorbar": {
             "outlinewidth": 0,
             "ticks": ""
            },
            "type": "choropleth"
           }
          ],
          "contour": [
           {
            "colorbar": {
             "outlinewidth": 0,
             "ticks": ""
            },
            "colorscale": [
             [
              0,
              "#0d0887"
             ],
             [
              0.1111111111111111,
              "#46039f"
             ],
             [
              0.2222222222222222,
              "#7201a8"
             ],
             [
              0.3333333333333333,
              "#9c179e"
             ],
             [
              0.4444444444444444,
              "#bd3786"
             ],
             [
              0.5555555555555556,
              "#d8576b"
             ],
             [
              0.6666666666666666,
              "#ed7953"
             ],
             [
              0.7777777777777778,
              "#fb9f3a"
             ],
             [
              0.8888888888888888,
              "#fdca26"
             ],
             [
              1,
              "#f0f921"
             ]
            ],
            "type": "contour"
           }
          ],
          "contourcarpet": [
           {
            "colorbar": {
             "outlinewidth": 0,
             "ticks": ""
            },
            "type": "contourcarpet"
           }
          ],
          "heatmap": [
           {
            "colorbar": {
             "outlinewidth": 0,
             "ticks": ""
            },
            "colorscale": [
             [
              0,
              "#0d0887"
             ],
             [
              0.1111111111111111,
              "#46039f"
             ],
             [
              0.2222222222222222,
              "#7201a8"
             ],
             [
              0.3333333333333333,
              "#9c179e"
             ],
             [
              0.4444444444444444,
              "#bd3786"
             ],
             [
              0.5555555555555556,
              "#d8576b"
             ],
             [
              0.6666666666666666,
              "#ed7953"
             ],
             [
              0.7777777777777778,
              "#fb9f3a"
             ],
             [
              0.8888888888888888,
              "#fdca26"
             ],
             [
              1,
              "#f0f921"
             ]
            ],
            "type": "heatmap"
           }
          ],
          "heatmapgl": [
           {
            "colorbar": {
             "outlinewidth": 0,
             "ticks": ""
            },
            "colorscale": [
             [
              0,
              "#0d0887"
             ],
             [
              0.1111111111111111,
              "#46039f"
             ],
             [
              0.2222222222222222,
              "#7201a8"
             ],
             [
              0.3333333333333333,
              "#9c179e"
             ],
             [
              0.4444444444444444,
              "#bd3786"
             ],
             [
              0.5555555555555556,
              "#d8576b"
             ],
             [
              0.6666666666666666,
              "#ed7953"
             ],
             [
              0.7777777777777778,
              "#fb9f3a"
             ],
             [
              0.8888888888888888,
              "#fdca26"
             ],
             [
              1,
              "#f0f921"
             ]
            ],
            "type": "heatmapgl"
           }
          ],
          "histogram": [
           {
            "marker": {
             "colorbar": {
              "outlinewidth": 0,
              "ticks": ""
             }
            },
            "type": "histogram"
           }
          ],
          "histogram2d": [
           {
            "colorbar": {
             "outlinewidth": 0,
             "ticks": ""
            },
            "colorscale": [
             [
              0,
              "#0d0887"
             ],
             [
              0.1111111111111111,
              "#46039f"
             ],
             [
              0.2222222222222222,
              "#7201a8"
             ],
             [
              0.3333333333333333,
              "#9c179e"
             ],
             [
              0.4444444444444444,
              "#bd3786"
             ],
             [
              0.5555555555555556,
              "#d8576b"
             ],
             [
              0.6666666666666666,
              "#ed7953"
             ],
             [
              0.7777777777777778,
              "#fb9f3a"
             ],
             [
              0.8888888888888888,
              "#fdca26"
             ],
             [
              1,
              "#f0f921"
             ]
            ],
            "type": "histogram2d"
           }
          ],
          "histogram2dcontour": [
           {
            "colorbar": {
             "outlinewidth": 0,
             "ticks": ""
            },
            "colorscale": [
             [
              0,
              "#0d0887"
             ],
             [
              0.1111111111111111,
              "#46039f"
             ],
             [
              0.2222222222222222,
              "#7201a8"
             ],
             [
              0.3333333333333333,
              "#9c179e"
             ],
             [
              0.4444444444444444,
              "#bd3786"
             ],
             [
              0.5555555555555556,
              "#d8576b"
             ],
             [
              0.6666666666666666,
              "#ed7953"
             ],
             [
              0.7777777777777778,
              "#fb9f3a"
             ],
             [
              0.8888888888888888,
              "#fdca26"
             ],
             [
              1,
              "#f0f921"
             ]
            ],
            "type": "histogram2dcontour"
           }
          ],
          "mesh3d": [
           {
            "colorbar": {
             "outlinewidth": 0,
             "ticks": ""
            },
            "type": "mesh3d"
           }
          ],
          "parcoords": [
           {
            "line": {
             "colorbar": {
              "outlinewidth": 0,
              "ticks": ""
             }
            },
            "type": "parcoords"
           }
          ],
          "pie": [
           {
            "automargin": true,
            "type": "pie"
           }
          ],
          "scatter": [
           {
            "marker": {
             "colorbar": {
              "outlinewidth": 0,
              "ticks": ""
             }
            },
            "type": "scatter"
           }
          ],
          "scatter3d": [
           {
            "line": {
             "colorbar": {
              "outlinewidth": 0,
              "ticks": ""
             }
            },
            "marker": {
             "colorbar": {
              "outlinewidth": 0,
              "ticks": ""
             }
            },
            "type": "scatter3d"
           }
          ],
          "scattercarpet": [
           {
            "marker": {
             "colorbar": {
              "outlinewidth": 0,
              "ticks": ""
             }
            },
            "type": "scattercarpet"
           }
          ],
          "scattergeo": [
           {
            "marker": {
             "colorbar": {
              "outlinewidth": 0,
              "ticks": ""
             }
            },
            "type": "scattergeo"
           }
          ],
          "scattergl": [
           {
            "marker": {
             "colorbar": {
              "outlinewidth": 0,
              "ticks": ""
             }
            },
            "type": "scattergl"
           }
          ],
          "scattermapbox": [
           {
            "marker": {
             "colorbar": {
              "outlinewidth": 0,
              "ticks": ""
             }
            },
            "type": "scattermapbox"
           }
          ],
          "scatterpolar": [
           {
            "marker": {
             "colorbar": {
              "outlinewidth": 0,
              "ticks": ""
             }
            },
            "type": "scatterpolar"
           }
          ],
          "scatterpolargl": [
           {
            "marker": {
             "colorbar": {
              "outlinewidth": 0,
              "ticks": ""
             }
            },
            "type": "scatterpolargl"
           }
          ],
          "scatterternary": [
           {
            "marker": {
             "colorbar": {
              "outlinewidth": 0,
              "ticks": ""
             }
            },
            "type": "scatterternary"
           }
          ],
          "surface": [
           {
            "colorbar": {
             "outlinewidth": 0,
             "ticks": ""
            },
            "colorscale": [
             [
              0,
              "#0d0887"
             ],
             [
              0.1111111111111111,
              "#46039f"
             ],
             [
              0.2222222222222222,
              "#7201a8"
             ],
             [
              0.3333333333333333,
              "#9c179e"
             ],
             [
              0.4444444444444444,
              "#bd3786"
             ],
             [
              0.5555555555555556,
              "#d8576b"
             ],
             [
              0.6666666666666666,
              "#ed7953"
             ],
             [
              0.7777777777777778,
              "#fb9f3a"
             ],
             [
              0.8888888888888888,
              "#fdca26"
             ],
             [
              1,
              "#f0f921"
             ]
            ],
            "type": "surface"
           }
          ],
          "table": [
           {
            "cells": {
             "fill": {
              "color": "#EBF0F8"
             },
             "line": {
              "color": "white"
             }
            },
            "header": {
             "fill": {
              "color": "#C8D4E3"
             },
             "line": {
              "color": "white"
             }
            },
            "type": "table"
           }
          ]
         },
         "layout": {
          "annotationdefaults": {
           "arrowcolor": "#2a3f5f",
           "arrowhead": 0,
           "arrowwidth": 1
          },
          "coloraxis": {
           "colorbar": {
            "outlinewidth": 0,
            "ticks": ""
           }
          },
          "colorscale": {
           "diverging": [
            [
             0,
             "#8e0152"
            ],
            [
             0.1,
             "#c51b7d"
            ],
            [
             0.2,
             "#de77ae"
            ],
            [
             0.3,
             "#f1b6da"
            ],
            [
             0.4,
             "#fde0ef"
            ],
            [
             0.5,
             "#f7f7f7"
            ],
            [
             0.6,
             "#e6f5d0"
            ],
            [
             0.7,
             "#b8e186"
            ],
            [
             0.8,
             "#7fbc41"
            ],
            [
             0.9,
             "#4d9221"
            ],
            [
             1,
             "#276419"
            ]
           ],
           "sequential": [
            [
             0,
             "#0d0887"
            ],
            [
             0.1111111111111111,
             "#46039f"
            ],
            [
             0.2222222222222222,
             "#7201a8"
            ],
            [
             0.3333333333333333,
             "#9c179e"
            ],
            [
             0.4444444444444444,
             "#bd3786"
            ],
            [
             0.5555555555555556,
             "#d8576b"
            ],
            [
             0.6666666666666666,
             "#ed7953"
            ],
            [
             0.7777777777777778,
             "#fb9f3a"
            ],
            [
             0.8888888888888888,
             "#fdca26"
            ],
            [
             1,
             "#f0f921"
            ]
           ],
           "sequentialminus": [
            [
             0,
             "#0d0887"
            ],
            [
             0.1111111111111111,
             "#46039f"
            ],
            [
             0.2222222222222222,
             "#7201a8"
            ],
            [
             0.3333333333333333,
             "#9c179e"
            ],
            [
             0.4444444444444444,
             "#bd3786"
            ],
            [
             0.5555555555555556,
             "#d8576b"
            ],
            [
             0.6666666666666666,
             "#ed7953"
            ],
            [
             0.7777777777777778,
             "#fb9f3a"
            ],
            [
             0.8888888888888888,
             "#fdca26"
            ],
            [
             1,
             "#f0f921"
            ]
           ]
          },
          "colorway": [
           "#636efa",
           "#EF553B",
           "#00cc96",
           "#ab63fa",
           "#FFA15A",
           "#19d3f3",
           "#FF6692",
           "#B6E880",
           "#FF97FF",
           "#FECB52"
          ],
          "font": {
           "color": "#2a3f5f"
          },
          "geo": {
           "bgcolor": "white",
           "lakecolor": "white",
           "landcolor": "#E5ECF6",
           "showlakes": true,
           "showland": true,
           "subunitcolor": "white"
          },
          "hoverlabel": {
           "align": "left"
          },
          "hovermode": "closest",
          "mapbox": {
           "style": "light"
          },
          "paper_bgcolor": "white",
          "plot_bgcolor": "#E5ECF6",
          "polar": {
           "angularaxis": {
            "gridcolor": "white",
            "linecolor": "white",
            "ticks": ""
           },
           "bgcolor": "#E5ECF6",
           "radialaxis": {
            "gridcolor": "white",
            "linecolor": "white",
            "ticks": ""
           }
          },
          "scene": {
           "xaxis": {
            "backgroundcolor": "#E5ECF6",
            "gridcolor": "white",
            "gridwidth": 2,
            "linecolor": "white",
            "showbackground": true,
            "ticks": "",
            "zerolinecolor": "white"
           },
           "yaxis": {
            "backgroundcolor": "#E5ECF6",
            "gridcolor": "white",
            "gridwidth": 2,
            "linecolor": "white",
            "showbackground": true,
            "ticks": "",
            "zerolinecolor": "white"
           },
           "zaxis": {
            "backgroundcolor": "#E5ECF6",
            "gridcolor": "white",
            "gridwidth": 2,
            "linecolor": "white",
            "showbackground": true,
            "ticks": "",
            "zerolinecolor": "white"
           }
          },
          "shapedefaults": {
           "line": {
            "color": "#2a3f5f"
           }
          },
          "ternary": {
           "aaxis": {
            "gridcolor": "white",
            "linecolor": "white",
            "ticks": ""
           },
           "baxis": {
            "gridcolor": "white",
            "linecolor": "white",
            "ticks": ""
           },
           "bgcolor": "#E5ECF6",
           "caxis": {
            "gridcolor": "white",
            "linecolor": "white",
            "ticks": ""
           }
          },
          "title": {
           "x": 0.05
          },
          "xaxis": {
           "automargin": true,
           "gridcolor": "white",
           "linecolor": "white",
           "ticks": "",
           "title": {
            "standoff": 15
           },
           "zerolinecolor": "white",
           "zerolinewidth": 2
          },
          "yaxis": {
           "automargin": true,
           "gridcolor": "white",
           "linecolor": "white",
           "ticks": "",
           "title": {
            "standoff": 15
           },
           "zerolinecolor": "white",
           "zerolinewidth": 2
          }
         }
        },
        "title": {
         "text": "Slice Plot"
        },
        "xaxis": {
         "anchor": "y",
         "domain": [
          0,
          0.45
         ],
         "title": {
          "text": "n_units_l0"
         }
        },
        "xaxis2": {
         "anchor": "y2",
         "domain": [
          0.55,
          1
         ],
         "title": {
          "text": "n_units_l1"
         }
        },
        "yaxis": {
         "anchor": "x",
         "domain": [
          0,
          1
         ],
         "title": {
          "text": "Objective Value"
         }
        },
        "yaxis2": {
         "anchor": "x2",
         "domain": [
          0,
          1
         ],
         "matches": "y",
         "showticklabels": false
        }
       }
      },
      "text/html": [
       "<div>\n",
       "        \n",
       "        \n",
       "            <div id=\"09947d7e-9de9-4ace-8a43-a58a5c5c8066\" class=\"plotly-graph-div\" style=\"height:525px; width:100%;\"></div>\n",
       "            <script type=\"text/javascript\">\n",
       "                require([\"plotly\"], function(Plotly) {\n",
       "                    window.PLOTLYENV=window.PLOTLYENV || {};\n",
       "                    \n",
       "                if (document.getElementById(\"09947d7e-9de9-4ace-8a43-a58a5c5c8066\")) {\n",
       "                    Plotly.newPlot(\n",
       "                        '09947d7e-9de9-4ace-8a43-a58a5c5c8066',\n",
       "                        [{\"marker\": {\"color\": [0, 1, 2, 3, 4, 6, 8, 9, 11, 12, 15, 20, 21, 22, 29, 31, 35, 43, 65, 68, 77, 81, 84, 85, 86, 96], \"colorbar\": {\"title\": {\"text\": \"#Trials\"}, \"x\": 1.0, \"xpad\": 40}, \"colorscale\": [[0.0, \"rgb(247,251,255)\"], [0.125, \"rgb(222,235,247)\"], [0.25, \"rgb(198,219,239)\"], [0.375, \"rgb(158,202,225)\"], [0.5, \"rgb(107,174,214)\"], [0.625, \"rgb(66,146,198)\"], [0.75, \"rgb(33,113,181)\"], [0.875, \"rgb(8,81,156)\"], [1.0, \"rgb(8,48,107)\"]], \"line\": {\"color\": \"Grey\", \"width\": 0.5}, \"showscale\": true}, \"mode\": \"markers\", \"showlegend\": false, \"type\": \"scatter\", \"x\": [60, 59, 58, 40, 39, 44, 55, 53, 64, 53, 52, 62, 54, 48, 62, 52, 59, 57, 61, 58, 56, 56, 55, 57, 61, 50], \"xaxis\": \"x\", \"y\": [0.77, 0.697, 0.724, 0.286, 0.749, 0.758, 0.802, 0.765, 0.801, 0.796, 0.781, 0.781, 0.779, 0.771, 0.752, 0.787, 0.814, 0.79, 0.806, 0.797, 0.788, 0.781, 0.793, 0.787, 0.779, 0.764], \"yaxis\": \"y\"}, {\"marker\": {\"color\": [0, 1, 2, 3, 4, 6, 8, 9, 11, 12, 15, 20, 21, 22, 29, 31, 35, 43, 65, 68, 77, 81, 84, 85, 86, 96], \"colorbar\": {\"title\": {\"text\": \"#Trials\"}, \"x\": 1.0, \"xpad\": 40}, \"colorscale\": [[0.0, \"rgb(247,251,255)\"], [0.125, \"rgb(222,235,247)\"], [0.25, \"rgb(198,219,239)\"], [0.375, \"rgb(158,202,225)\"], [0.5, \"rgb(107,174,214)\"], [0.625, \"rgb(66,146,198)\"], [0.75, \"rgb(33,113,181)\"], [0.875, \"rgb(8,81,156)\"], [1.0, \"rgb(8,48,107)\"]], \"line\": {\"color\": \"Grey\", \"width\": 0.5}, \"showscale\": false}, \"mode\": \"markers\", \"showlegend\": false, \"type\": \"scatter\", \"x\": [52, 54, 60, 50, 64, 49, 60, 41, 56, 58, 42, 57, 58, 52, 52, 39, 54, 50, 58, 35, 53, 51, 56, 56, 58, 57], \"xaxis\": \"x2\", \"y\": [0.77, 0.697, 0.724, 0.286, 0.749, 0.758, 0.802, 0.765, 0.801, 0.796, 0.781, 0.781, 0.779, 0.771, 0.752, 0.787, 0.814, 0.79, 0.806, 0.797, 0.788, 0.781, 0.793, 0.787, 0.779, 0.764], \"yaxis\": \"y2\"}],\n",
       "                        {\"template\": {\"data\": {\"bar\": [{\"error_x\": {\"color\": \"#2a3f5f\"}, \"error_y\": {\"color\": \"#2a3f5f\"}, \"marker\": {\"line\": {\"color\": \"#E5ECF6\", \"width\": 0.5}}, \"type\": \"bar\"}], \"barpolar\": [{\"marker\": {\"line\": {\"color\": \"#E5ECF6\", \"width\": 0.5}}, \"type\": \"barpolar\"}], \"carpet\": [{\"aaxis\": {\"endlinecolor\": \"#2a3f5f\", \"gridcolor\": \"white\", \"linecolor\": \"white\", \"minorgridcolor\": \"white\", \"startlinecolor\": \"#2a3f5f\"}, \"baxis\": {\"endlinecolor\": \"#2a3f5f\", \"gridcolor\": \"white\", \"linecolor\": \"white\", \"minorgridcolor\": \"white\", \"startlinecolor\": \"#2a3f5f\"}, \"type\": \"carpet\"}], \"choropleth\": [{\"colorbar\": {\"outlinewidth\": 0, \"ticks\": \"\"}, \"type\": \"choropleth\"}], \"contour\": [{\"colorbar\": {\"outlinewidth\": 0, \"ticks\": \"\"}, \"colorscale\": [[0.0, \"#0d0887\"], [0.1111111111111111, \"#46039f\"], [0.2222222222222222, \"#7201a8\"], [0.3333333333333333, \"#9c179e\"], [0.4444444444444444, \"#bd3786\"], [0.5555555555555556, \"#d8576b\"], [0.6666666666666666, \"#ed7953\"], [0.7777777777777778, \"#fb9f3a\"], [0.8888888888888888, \"#fdca26\"], [1.0, \"#f0f921\"]], \"type\": \"contour\"}], \"contourcarpet\": [{\"colorbar\": {\"outlinewidth\": 0, \"ticks\": \"\"}, \"type\": \"contourcarpet\"}], \"heatmap\": [{\"colorbar\": {\"outlinewidth\": 0, \"ticks\": \"\"}, \"colorscale\": [[0.0, \"#0d0887\"], [0.1111111111111111, \"#46039f\"], [0.2222222222222222, \"#7201a8\"], [0.3333333333333333, \"#9c179e\"], [0.4444444444444444, \"#bd3786\"], [0.5555555555555556, \"#d8576b\"], [0.6666666666666666, \"#ed7953\"], [0.7777777777777778, \"#fb9f3a\"], [0.8888888888888888, \"#fdca26\"], [1.0, \"#f0f921\"]], \"type\": \"heatmap\"}], \"heatmapgl\": [{\"colorbar\": {\"outlinewidth\": 0, \"ticks\": \"\"}, \"colorscale\": [[0.0, \"#0d0887\"], [0.1111111111111111, \"#46039f\"], [0.2222222222222222, \"#7201a8\"], [0.3333333333333333, \"#9c179e\"], [0.4444444444444444, \"#bd3786\"], [0.5555555555555556, \"#d8576b\"], [0.6666666666666666, \"#ed7953\"], [0.7777777777777778, \"#fb9f3a\"], [0.8888888888888888, \"#fdca26\"], [1.0, \"#f0f921\"]], \"type\": \"heatmapgl\"}], \"histogram\": [{\"marker\": {\"colorbar\": {\"outlinewidth\": 0, \"ticks\": \"\"}}, \"type\": \"histogram\"}], \"histogram2d\": [{\"colorbar\": {\"outlinewidth\": 0, \"ticks\": \"\"}, \"colorscale\": [[0.0, \"#0d0887\"], [0.1111111111111111, \"#46039f\"], [0.2222222222222222, \"#7201a8\"], [0.3333333333333333, \"#9c179e\"], [0.4444444444444444, \"#bd3786\"], [0.5555555555555556, \"#d8576b\"], [0.6666666666666666, \"#ed7953\"], [0.7777777777777778, \"#fb9f3a\"], [0.8888888888888888, \"#fdca26\"], [1.0, \"#f0f921\"]], \"type\": \"histogram2d\"}], \"histogram2dcontour\": [{\"colorbar\": {\"outlinewidth\": 0, \"ticks\": \"\"}, \"colorscale\": [[0.0, \"#0d0887\"], [0.1111111111111111, \"#46039f\"], [0.2222222222222222, \"#7201a8\"], [0.3333333333333333, \"#9c179e\"], [0.4444444444444444, \"#bd3786\"], [0.5555555555555556, \"#d8576b\"], [0.6666666666666666, \"#ed7953\"], [0.7777777777777778, \"#fb9f3a\"], [0.8888888888888888, \"#fdca26\"], [1.0, \"#f0f921\"]], \"type\": \"histogram2dcontour\"}], \"mesh3d\": [{\"colorbar\": {\"outlinewidth\": 0, \"ticks\": \"\"}, \"type\": \"mesh3d\"}], \"parcoords\": [{\"line\": {\"colorbar\": {\"outlinewidth\": 0, \"ticks\": \"\"}}, \"type\": \"parcoords\"}], \"pie\": [{\"automargin\": true, \"type\": \"pie\"}], \"scatter\": [{\"marker\": {\"colorbar\": {\"outlinewidth\": 0, \"ticks\": \"\"}}, \"type\": \"scatter\"}], \"scatter3d\": [{\"line\": {\"colorbar\": {\"outlinewidth\": 0, \"ticks\": \"\"}}, \"marker\": {\"colorbar\": {\"outlinewidth\": 0, \"ticks\": \"\"}}, \"type\": \"scatter3d\"}], \"scattercarpet\": [{\"marker\": {\"colorbar\": {\"outlinewidth\": 0, \"ticks\": \"\"}}, \"type\": \"scattercarpet\"}], \"scattergeo\": [{\"marker\": {\"colorbar\": {\"outlinewidth\": 0, \"ticks\": \"\"}}, \"type\": \"scattergeo\"}], \"scattergl\": [{\"marker\": {\"colorbar\": {\"outlinewidth\": 0, \"ticks\": \"\"}}, \"type\": \"scattergl\"}], \"scattermapbox\": [{\"marker\": {\"colorbar\": {\"outlinewidth\": 0, \"ticks\": \"\"}}, \"type\": \"scattermapbox\"}], \"scatterpolar\": [{\"marker\": {\"colorbar\": {\"outlinewidth\": 0, \"ticks\": \"\"}}, \"type\": \"scatterpolar\"}], \"scatterpolargl\": [{\"marker\": {\"colorbar\": {\"outlinewidth\": 0, \"ticks\": \"\"}}, \"type\": \"scatterpolargl\"}], \"scatterternary\": [{\"marker\": {\"colorbar\": {\"outlinewidth\": 0, \"ticks\": \"\"}}, \"type\": \"scatterternary\"}], \"surface\": [{\"colorbar\": {\"outlinewidth\": 0, \"ticks\": \"\"}, \"colorscale\": [[0.0, \"#0d0887\"], [0.1111111111111111, \"#46039f\"], [0.2222222222222222, \"#7201a8\"], [0.3333333333333333, \"#9c179e\"], [0.4444444444444444, \"#bd3786\"], [0.5555555555555556, \"#d8576b\"], [0.6666666666666666, \"#ed7953\"], [0.7777777777777778, \"#fb9f3a\"], [0.8888888888888888, \"#fdca26\"], [1.0, \"#f0f921\"]], \"type\": \"surface\"}], \"table\": [{\"cells\": {\"fill\": {\"color\": \"#EBF0F8\"}, \"line\": {\"color\": \"white\"}}, \"header\": {\"fill\": {\"color\": \"#C8D4E3\"}, \"line\": {\"color\": \"white\"}}, \"type\": \"table\"}]}, \"layout\": {\"annotationdefaults\": {\"arrowcolor\": \"#2a3f5f\", \"arrowhead\": 0, \"arrowwidth\": 1}, \"coloraxis\": {\"colorbar\": {\"outlinewidth\": 0, \"ticks\": \"\"}}, \"colorscale\": {\"diverging\": [[0, \"#8e0152\"], [0.1, \"#c51b7d\"], [0.2, \"#de77ae\"], [0.3, \"#f1b6da\"], [0.4, \"#fde0ef\"], [0.5, \"#f7f7f7\"], [0.6, \"#e6f5d0\"], [0.7, \"#b8e186\"], [0.8, \"#7fbc41\"], [0.9, \"#4d9221\"], [1, \"#276419\"]], \"sequential\": [[0.0, \"#0d0887\"], [0.1111111111111111, \"#46039f\"], [0.2222222222222222, \"#7201a8\"], [0.3333333333333333, \"#9c179e\"], [0.4444444444444444, \"#bd3786\"], [0.5555555555555556, \"#d8576b\"], [0.6666666666666666, \"#ed7953\"], [0.7777777777777778, \"#fb9f3a\"], [0.8888888888888888, \"#fdca26\"], [1.0, \"#f0f921\"]], \"sequentialminus\": [[0.0, \"#0d0887\"], [0.1111111111111111, \"#46039f\"], [0.2222222222222222, \"#7201a8\"], [0.3333333333333333, \"#9c179e\"], [0.4444444444444444, \"#bd3786\"], [0.5555555555555556, \"#d8576b\"], [0.6666666666666666, \"#ed7953\"], [0.7777777777777778, \"#fb9f3a\"], [0.8888888888888888, \"#fdca26\"], [1.0, \"#f0f921\"]]}, \"colorway\": [\"#636efa\", \"#EF553B\", \"#00cc96\", \"#ab63fa\", \"#FFA15A\", \"#19d3f3\", \"#FF6692\", \"#B6E880\", \"#FF97FF\", \"#FECB52\"], \"font\": {\"color\": \"#2a3f5f\"}, \"geo\": {\"bgcolor\": \"white\", \"lakecolor\": \"white\", \"landcolor\": \"#E5ECF6\", \"showlakes\": true, \"showland\": true, \"subunitcolor\": \"white\"}, \"hoverlabel\": {\"align\": \"left\"}, \"hovermode\": \"closest\", \"mapbox\": {\"style\": \"light\"}, \"paper_bgcolor\": \"white\", \"plot_bgcolor\": \"#E5ECF6\", \"polar\": {\"angularaxis\": {\"gridcolor\": \"white\", \"linecolor\": \"white\", \"ticks\": \"\"}, \"bgcolor\": \"#E5ECF6\", \"radialaxis\": {\"gridcolor\": \"white\", \"linecolor\": \"white\", \"ticks\": \"\"}}, \"scene\": {\"xaxis\": {\"backgroundcolor\": \"#E5ECF6\", \"gridcolor\": \"white\", \"gridwidth\": 2, \"linecolor\": \"white\", \"showbackground\": true, \"ticks\": \"\", \"zerolinecolor\": \"white\"}, \"yaxis\": {\"backgroundcolor\": \"#E5ECF6\", \"gridcolor\": \"white\", \"gridwidth\": 2, \"linecolor\": \"white\", \"showbackground\": true, \"ticks\": \"\", \"zerolinecolor\": \"white\"}, \"zaxis\": {\"backgroundcolor\": \"#E5ECF6\", \"gridcolor\": \"white\", \"gridwidth\": 2, \"linecolor\": \"white\", \"showbackground\": true, \"ticks\": \"\", \"zerolinecolor\": \"white\"}}, \"shapedefaults\": {\"line\": {\"color\": \"#2a3f5f\"}}, \"ternary\": {\"aaxis\": {\"gridcolor\": \"white\", \"linecolor\": \"white\", \"ticks\": \"\"}, \"baxis\": {\"gridcolor\": \"white\", \"linecolor\": \"white\", \"ticks\": \"\"}, \"bgcolor\": \"#E5ECF6\", \"caxis\": {\"gridcolor\": \"white\", \"linecolor\": \"white\", \"ticks\": \"\"}}, \"title\": {\"x\": 0.05}, \"xaxis\": {\"automargin\": true, \"gridcolor\": \"white\", \"linecolor\": \"white\", \"ticks\": \"\", \"title\": {\"standoff\": 15}, \"zerolinecolor\": \"white\", \"zerolinewidth\": 2}, \"yaxis\": {\"automargin\": true, \"gridcolor\": \"white\", \"linecolor\": \"white\", \"ticks\": \"\", \"title\": {\"standoff\": 15}, \"zerolinecolor\": \"white\", \"zerolinewidth\": 2}}}, \"title\": {\"text\": \"Slice Plot\"}, \"xaxis\": {\"anchor\": \"y\", \"domain\": [0.0, 0.45], \"title\": {\"text\": \"n_units_l0\"}}, \"xaxis2\": {\"anchor\": \"y2\", \"domain\": [0.55, 1.0], \"title\": {\"text\": \"n_units_l1\"}}, \"yaxis\": {\"anchor\": \"x\", \"domain\": [0.0, 1.0], \"title\": {\"text\": \"Objective Value\"}}, \"yaxis2\": {\"anchor\": \"x2\", \"domain\": [0.0, 1.0], \"matches\": \"y\", \"showticklabels\": false}},\n",
       "                        {\"responsive\": true}\n",
       "                    ).then(function(){\n",
       "                            \n",
       "var gd = document.getElementById('09947d7e-9de9-4ace-8a43-a58a5c5c8066');\n",
       "var x = new MutationObserver(function (mutations, observer) {{\n",
       "        var display = window.getComputedStyle(gd).display;\n",
       "        if (!display || display === 'none') {{\n",
       "            console.log([gd, 'removed!']);\n",
       "            Plotly.purge(gd);\n",
       "            observer.disconnect();\n",
       "        }}\n",
       "}});\n",
       "\n",
       "// Listen for the removal of the full notebook cells\n",
       "var notebookContainer = gd.closest('#notebook-container');\n",
       "if (notebookContainer) {{\n",
       "    x.observe(notebookContainer, {childList: true});\n",
       "}}\n",
       "\n",
       "// Listen for the clearing of the current output cell\n",
       "var outputEl = gd.closest('.output');\n",
       "if (outputEl) {{\n",
       "    x.observe(outputEl, {childList: true});\n",
       "}}\n",
       "\n",
       "                        })\n",
       "                };\n",
       "                });\n",
       "            </script>\n",
       "        </div>"
      ]
     },
     "metadata": {},
     "output_type": "display_data"
    }
   ],
   "source": [
    "plot_slice(study, params=['n_units_l0', 'n_units_l1'])"
   ]
  },
  {
   "cell_type": "code",
   "execution_count": null,
   "metadata": {},
   "outputs": [],
   "source": []
  }
 ],
 "metadata": {
  "colab": {
   "include_colab_link": true,
   "name": "plot_study.ipynb",
   "provenance": []
  },
  "kernelspec": {
   "display_name": "Python 3",
   "language": "python",
   "name": "python3"
  },
  "language_info": {
   "codemirror_mode": {
    "name": "ipython",
    "version": 3
   },
   "file_extension": ".py",
   "mimetype": "text/x-python",
   "name": "python",
   "nbconvert_exporter": "python",
   "pygments_lexer": "ipython3",
   "version": "3.7.3"
  },
  "toc": {
   "base_numbering": 1,
   "nav_menu": {},
   "number_sections": true,
   "sideBar": true,
   "skip_h1_title": false,
   "title_cell": "Table of Contents",
   "title_sidebar": "Contents",
   "toc_cell": false,
   "toc_position": {},
   "toc_section_display": true,
   "toc_window_display": false
  }
 },
 "nbformat": 4,
 "nbformat_minor": 4
}
