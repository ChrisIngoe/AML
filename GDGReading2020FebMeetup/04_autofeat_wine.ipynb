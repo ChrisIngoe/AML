{
 "cells": [
  {
   "cell_type": "markdown",
   "metadata": {},
   "source": [
    "# Autofeat \n",
    "\n",
    "## Automated Feature Engineering and Selection using penalised regression"
   ]
  },
  {
   "cell_type": "code",
   "execution_count": 18,
   "metadata": {},
   "outputs": [
    {
     "name": "stdout",
     "output_type": "stream",
     "text": [
      "Collecting autofeat\n",
      "  Downloading https://files.pythonhosted.org/packages/d0/64/c2945c9af39530b09275a0a825c1fe532eca133a673c1768274eff5899a6/autofeat-1.0.0-py3-none-any.whl\n",
      "Requirement already satisfied: joblib in c:\\users\\dean_\\anaconda3\\lib\\site-packages (from autofeat) (0.13.2)\n",
      "Requirement already satisfied: pandas>=0.24.0 in c:\\users\\dean_\\anaconda3\\lib\\site-packages (from autofeat) (0.25.1)\n",
      "Requirement already satisfied: scikit-learn in c:\\users\\dean_\\anaconda3\\lib\\site-packages (from autofeat) (0.22.1)\n",
      "Requirement already satisfied: sympy in c:\\users\\dean_\\anaconda3\\lib\\site-packages (from autofeat) (1.5)\n",
      "Collecting pint\n",
      "  Downloading https://files.pythonhosted.org/packages/9d/db/7a2204b03c22069839958df5723eb2718d50c33052e0da84c9a83de14ea4/Pint-0.11-py2.py3-none-any.whl (186kB)\n",
      "Requirement already satisfied: numpy in c:\\users\\dean_\\anaconda3\\lib\\site-packages (from autofeat) (1.17.4)\n",
      "Requirement already satisfied: future in c:\\users\\dean_\\anaconda3\\lib\\site-packages (from autofeat) (0.18.2)\n",
      "Requirement already satisfied: python-dateutil>=2.6.1 in c:\\users\\dean_\\anaconda3\\lib\\site-packages (from pandas>=0.24.0->autofeat) (2.8.0)\n",
      "Requirement already satisfied: pytz>=2017.2 in c:\\users\\dean_\\anaconda3\\lib\\site-packages (from pandas>=0.24.0->autofeat) (2019.3)\n",
      "Requirement already satisfied: scipy>=0.17.0 in c:\\users\\dean_\\anaconda3\\lib\\site-packages (from scikit-learn->autofeat) (1.4.1)\n",
      "Requirement already satisfied: mpmath>=0.19 in c:\\users\\dean_\\anaconda3\\lib\\site-packages (from sympy->autofeat) (1.1.0)\n",
      "Requirement already satisfied: setuptools in c:\\users\\dean_\\anaconda3\\lib\\site-packages (from pint->autofeat) (42.0.2.post20191203)\n",
      "Requirement already satisfied: six>=1.5 in c:\\users\\dean_\\anaconda3\\lib\\site-packages (from python-dateutil>=2.6.1->pandas>=0.24.0->autofeat) (1.13.0)\n",
      "Installing collected packages: pint, autofeat\n",
      "Successfully installed autofeat-1.0.0 pint-0.11\n"
     ]
    }
   ],
   "source": [
    "!pip install autofeat"
   ]
  },
  {
   "cell_type": "code",
   "execution_count": 31,
   "metadata": {},
   "outputs": [
    {
     "name": "stdout",
     "output_type": "stream",
     "text": [
      "The autoreload extension is already loaded. To reload it, use:\n",
      "  %reload_ext autoreload\n"
     ]
    }
   ],
   "source": [
    "import os\n",
    "import sys\n",
    "import warnings\n",
    "import matplotlib.pyplot as plt\n",
    "import numpy as np\n",
    "import pandas as pd\n",
    "from sklearn.datasets import load_iris, load_wine, load_breast_cancer\n",
    "from sklearn.model_selection import train_test_split, GridSearchCV\n",
    "from sklearn.metrics import accuracy_score\n",
    "from sklearn.preprocessing import StandardScaler\n",
    "from sklearn.linear_model import LogisticRegression\n",
    "from sklearn.svm import SVC\n",
    "from sklearn.ensemble import RandomForestClassifier\n",
    "\n",
    "from autofeat import AutoFeatClassifier\n",
    "\n",
    "%matplotlib inline\n",
    "%load_ext autoreload\n",
    "%autoreload 2"
   ]
  },
  {
   "cell_type": "code",
   "execution_count": 1,
   "metadata": {},
   "outputs": [],
   "source": [
    "from sklearn.datasets import load_wine\n",
    "from dabl import plot\n",
    "from dabl.utils import data_df_from_bunch"
   ]
  },
  {
   "cell_type": "code",
   "execution_count": 26,
   "metadata": {},
   "outputs": [],
   "source": [
    "datasets = [\"wine\"]"
   ]
  },
  {
   "cell_type": "code",
   "execution_count": 28,
   "metadata": {},
   "outputs": [],
   "source": [
    "def load_classification_dataset(name):\n",
    "    \n",
    "    wine_bunch = load_wine()\n",
    "    wine_df = data_df_from_bunch(wine_bunch)\n",
    "    \n",
    "    # load one of the datasets as X and y (and possibly units)\n",
    "    units = {}\n",
    "    \n",
    "    if name == \"wine\":\n",
    "        # sklearn wine dataset\n",
    "        X, y = load_wine(True)\n",
    "        \n",
    "    else:\n",
    "       raise RuntimeError(\"Unknown dataset %r\" % name)\n",
    "                   \n",
    "    return np.array(X, dtype=float), np.array(y, dtype=float), units"
   ]
  },
  {
   "cell_type": "code",
   "execution_count": 44,
   "metadata": {},
   "outputs": [],
   "source": [
    "def test_model(dataset, model, param_grid):\n",
    "    \n",
    "    # load data\n",
    "    X, y, _ = load_classification_dataset(dataset)\n",
    "    \n",
    "    # split in training and test parts\n",
    "    X_train, X_test, y_train, y_test = train_test_split(X, y, test_size=0.2, random_state=12)\n",
    "    \n",
    "    # DA change to standardize if not RF rather than just for SVC\n",
    "    \n",
    "    if not (model.__class__.__name__ == \"rforest\"):\n",
    "        sscaler = StandardScaler()\n",
    "        X_train = sscaler.fit_transform(X_train)\n",
    "        X_test = sscaler.transform(X_test)\n",
    "    \n",
    "    # train model on train split incl cross-validation for parameter selection\n",
    "    gsmodel = GridSearchCV(model, param_grid, scoring='neg_mean_squared_error', cv=5, iid=False)\n",
    "    gsmodel.fit(X_train, y_train)\n",
    "    \n",
    "    print(\"best params:\", gsmodel.best_params_)\n",
    "    print(\"best score:\", gsmodel.best_score_)\n",
    "    print(\"Acc. on training data:\", accuracy_score(y_train, gsmodel.predict(X_train)))\n",
    "    print(\"Acc. on test data:\", accuracy_score(y_test, gsmodel.predict(X_test)))\n",
    "    \n",
    "    return gsmodel.best_estimator_"
   ]
  },
  {
   "cell_type": "code",
   "execution_count": 45,
   "metadata": {},
   "outputs": [],
   "source": [
    "def test_autofeat(dataset, feateng_steps=2):\n",
    "    \n",
    "    # load data\n",
    "    X, y, units = load_classification_dataset(dataset)\n",
    "    \n",
    "    # split in training and test parts\n",
    "    X_train, X_test, y_train, y_test = train_test_split(X, y, test_size=0.2, random_state=12)\n",
    "    \n",
    "    # run autofeat\n",
    "    afreg = AutoFeatClassifier(verbose=1, feateng_steps=feateng_steps, units=units)\n",
    "    \n",
    "    # fit autofeat on less data, otherwise reg model with xval will overfit on new features\n",
    "    X_train_tr = afreg.fit_transform(X_train, y_train)\n",
    "    X_test_tr = afreg.transform(X_test)\n",
    "    \n",
    "    print(\"autofeat new features:\", len(afreg.new_feat_cols_))\n",
    "    print(\"autofeat Acc. on training data:\", accuracy_score(y_train, afreg.predict(X_train_tr)))\n",
    "    print(\"autofeat Acc. on test data:\", accuracy_score(y_test, afreg.predict(X_test_tr)))\n",
    "          \n",
    "    # train logistic regression on transformed train split incl cross-validation for parameter selection\n",
    "        \n",
    "    print(\"# Logistic Regression\")\n",
    "    lreg = LogisticRegression(class_weight=\"balanced\")\n",
    "    param_grid = {\"C\": np.logspace(-4, 4, 10)}\n",
    "    with warnings.catch_warnings():\n",
    "        warnings.simplefilter(\"ignore\")\n",
    "        gsmodel = GridSearchCV(lreg, param_grid, cv=5)\n",
    "        gsmodel.fit(X_train_tr, y_train)        \n",
    "    \n",
    "    print(\"best params:\", gsmodel.best_params_)\n",
    "    print(\"best score:\", gsmodel.best_score_)\n",
    "    print(\"Acc. on training data:\", accuracy_score(y_train, gsmodel.predict(X_train_tr)))\n",
    "    print(\"Acc. on test data:\", accuracy_score(y_test, gsmodel.predict(X_test_tr)))\n",
    "    \n",
    "     # train random forest on transformed train split incl cross-validation for parameter selection\n",
    "    \n",
    "    print(\"# Random Forest\")\n",
    "    rforest = RandomForestRegressor(n_estimators=100, random_state=13)\n",
    "    param_grid = {\"min_samples_leaf\": [0.0001, 0.001, 0.01, 0.05, 0.1, 0.2]}\n",
    "    gsmodel = GridSearchCV(rforest, param_grid, scoring='neg_mean_squared_error', cv=5, iid=False)\n",
    "    gsmodel.fit(X_train_tr, y_train)\n",
    "    \n",
    "    print(\"best params:\", gsmodel.best_params_)\n",
    "    print(\"best score:\", gsmodel.best_score_)\n",
    "    print(\"Acc. on training data:\", accuracy_score(y_train, gsmodel.predict(X_train_tr)))\n",
    "    print(\"Acc. on test data:\", accuracy_score(y_test, gsmodel.predict(X_test_tr)))"
   ]
  },
  {
   "cell_type": "code",
   "execution_count": 29,
   "metadata": {},
   "outputs": [
    {
     "name": "stdout",
     "output_type": "stream",
     "text": [
      "#### wine\n",
      "(178, 13)\n"
     ]
    }
   ],
   "source": [
    "for dsname in datasets:\n",
    "    print(\"####\", dsname)\n",
    "    X, y, _ = load_classification_dataset(dsname)\n",
    "    print(X.shape)"
   ]
  },
  {
   "cell_type": "code",
   "execution_count": 37,
   "metadata": {},
   "outputs": [
    {
     "name": "stdout",
     "output_type": "stream",
     "text": [
      "#### wine\n",
      "best params: {'C': 0.3593813663804626}\n",
      "best score: -0.02142857142857143\n",
      "MSE on training data: 0.0\n",
      "MSE on test data: 0.027777777777777776\n",
      "R^2 on training data: 1.0\n",
      "R^2 on test data: 0.9595959595959596\n"
     ]
    },
    {
     "name": "stderr",
     "output_type": "stream",
     "text": [
      "C:\\Users\\dean_\\Anaconda3\\lib\\site-packages\\sklearn\\model_selection\\_search.py:823: FutureWarning: The parameter 'iid' is deprecated in 0.22 and will be removed in 0.24.\n",
      "  \"removed in 0.24.\", FutureWarning\n"
     ]
    }
   ],
   "source": [
    "for dsname in datasets:\n",
    "    print(\"####\", dsname)\n",
    "    lreg = LogisticRegression(class_weight=\"balanced\")\n",
    "    params = {\"C\": np.logspace(-4, 4, 10)}\n",
    "    lreg = test_model(dsname, lreg, params)"
   ]
  },
  {
   "cell_type": "code",
   "execution_count": 38,
   "metadata": {},
   "outputs": [
    {
     "name": "stdout",
     "output_type": "stream",
     "text": [
      "#### wine\n",
      "best params: {'C': 10.0}\n",
      "best score: -0.02142857142857143\n",
      "MSE on training data: 0.0\n",
      "MSE on test data: 0.027777777777777776\n",
      "R^2 on training data: 1.0\n",
      "R^2 on test data: 0.9595959595959596\n"
     ]
    },
    {
     "name": "stderr",
     "output_type": "stream",
     "text": [
      "C:\\Users\\dean_\\Anaconda3\\lib\\site-packages\\sklearn\\model_selection\\_search.py:823: FutureWarning: The parameter 'iid' is deprecated in 0.22 and will be removed in 0.24.\n",
      "  \"removed in 0.24.\", FutureWarning\n"
     ]
    }
   ],
   "source": [
    "for dsname in datasets:\n",
    "    print(\"####\", dsname)\n",
    "    svc = SVC(gamma=\"scale\", class_weight=\"balanced\")\n",
    "    params = {\"C\": [1., 10., 25., 50., 100., 250.]}\n",
    "    svc = test_model(dsname, svc, params)"
   ]
  },
  {
   "cell_type": "code",
   "execution_count": 39,
   "metadata": {},
   "outputs": [
    {
     "name": "stdout",
     "output_type": "stream",
     "text": [
      "#### wine\n"
     ]
    },
    {
     "name": "stderr",
     "output_type": "stream",
     "text": [
      "C:\\Users\\dean_\\Anaconda3\\lib\\site-packages\\sklearn\\model_selection\\_search.py:823: FutureWarning: The parameter 'iid' is deprecated in 0.22 and will be removed in 0.24.\n",
      "  \"removed in 0.24.\", FutureWarning\n"
     ]
    },
    {
     "name": "stdout",
     "output_type": "stream",
     "text": [
      "best params: {'min_samples_leaf': 0.0001}\n",
      "best score: -0.04227036945812808\n",
      "MSE on training data: 0.005019014084507043\n",
      "MSE on test data: 0.05403333333333333\n",
      "R^2 on training data: 0.9912605008635579\n",
      "R^2 on test data: 0.9214060606060607\n"
     ]
    }
   ],
   "source": [
    "for dsname in datasets:\n",
    "    print(\"####\", dsname)\n",
    "    rforest = RandomForestRegressor(n_estimators=100, random_state=13)\n",
    "    params = {\"min_samples_leaf\": [0.0001, 0.001, 0.01, 0.05, 0.1, 0.2]}\n",
    "    rforest = test_model(dsname, rforest, params)"
   ]
  },
  {
   "cell_type": "code",
   "execution_count": 42,
   "metadata": {},
   "outputs": [
    {
     "name": "stdout",
     "output_type": "stream",
     "text": [
      "#### wine\n",
      "[AutoFeat] The 1 step feature engineering process could generate up to 91 features.\n",
      "[AutoFeat] With 142 data points this new feature matrix would use about 0.00 gb of space.\n",
      "[feateng] Step 1: transformation of original features\n",
      "[feateng] Generated 73 transformed features from 13 original features - done.\n",
      "[feateng] Removing correlated features, as well as additions at the highest level\n",
      "[feateng] Generated a total of 17 additional features\n",
      "[featsel] Scaling data...done.\n",
      "[featsel] Feature selection run 1/5\n",
      "[featsel] Feature selection run 2/5\n",
      "[featsel] Feature selection run 3/5\n",
      "[featsel] Feature selection run 4/5\n",
      "[featsel] Feature selection run 5/5\n",
      "[featsel] 10 features after 5 feature selection runs\n",
      "[featsel] 10 features after noise filtering\n",
      "[AutoFeat] Computing 3 new features.\n",
      "[AutoFeat]     3/    3 new features ...done.\n",
      "[AutoFeat] Final dataframe with 16 feature columns (3 new).\n",
      "[AutoFeat] Training final classification model.\n",
      "[AutoFeat] Trained model: largest coefficients:\n",
      "[-9.4479403   8.20786782  1.24007247]\n",
      "3.921757 * x011\n",
      "3.705889 * 1/x001\n",
      "3.036614 * x002\n",
      "2.913069 * x010\n",
      "2.426842 * x006\n",
      "2.308621 * 1/x009\n",
      "1.816451 * 1/x006\n",
      "0.775573 * x000\n",
      "0.570739 * x003\n",
      "0.009549 * x012\n",
      "[AutoFeat] Final score: 1.0000\n",
      "[AutoFeat] Computing 3 new features.\n",
      "[AutoFeat]     3/    3 new features ...done.\n",
      "autofeat new features: 3\n",
      "autofeat MSE on training data: 0.0\n",
      "autofeat MSE on test data: 0.0\n",
      "autofeat R^2 on training data: 1.0\n",
      "autofeat R^2 on test data: 1.0\n",
      "# Logistic Regression\n",
      "best params: {'C': 0.3593813663804626}\n",
      "best score: 0.9295566502463053\n",
      "MSE on training data: 0.04225352112676056\n",
      "MSE on test data: 0.027777777777777776\n",
      "R^2 on training data: 0.9264248704663213\n",
      "R^2 on test data: 0.9595959595959596\n",
      "# Random Forest\n"
     ]
    },
    {
     "name": "stderr",
     "output_type": "stream",
     "text": [
      "C:\\Users\\dean_\\Anaconda3\\lib\\site-packages\\sklearn\\model_selection\\_search.py:823: FutureWarning: The parameter 'iid' is deprecated in 0.22 and will be removed in 0.24.\n",
      "  \"removed in 0.24.\", FutureWarning\n"
     ]
    },
    {
     "name": "stdout",
     "output_type": "stream",
     "text": [
      "best params: {'min_samples_leaf': 0.0001}\n",
      "best score: -0.041212487684729064\n",
      "MSE on training data: 0.0048429577464788745\n",
      "MSE on test data: 0.05978888888888889\n",
      "R^2 on training data: 0.9915670639032815\n",
      "R^2 on test data: 0.9130343434343434\n"
     ]
    }
   ],
   "source": [
    "for dsname in datasets:\n",
    "    print(\"####\", dsname)\n",
    "    test_autofeat(dsname, feateng_steps=1)"
   ]
  },
  {
   "cell_type": "code",
   "execution_count": null,
   "metadata": {},
   "outputs": [],
   "source": [
    "for dsname in datasets:\n",
    "    print(\"####\", dsname)\n",
    "    test_autofeat(dsname, feateng_steps=2)"
   ]
  },
  {
   "cell_type": "code",
   "execution_count": null,
   "metadata": {},
   "outputs": [],
   "source": [
    "# use feature selector method to extract features..."
   ]
  }
 ],
 "metadata": {
  "kernelspec": {
   "display_name": "Python 3",
   "language": "python",
   "name": "python3"
  },
  "language_info": {
   "codemirror_mode": {
    "name": "ipython",
    "version": 3
   },
   "file_extension": ".py",
   "mimetype": "text/x-python",
   "name": "python",
   "nbconvert_exporter": "python",
   "pygments_lexer": "ipython3",
   "version": "3.7.3"
  }
 },
 "nbformat": 4,
 "nbformat_minor": 4
}
